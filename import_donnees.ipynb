{
 "cells": [
  {
   "cell_type": "code",
   "execution_count": 2,
   "metadata": {},
   "outputs": [],
   "source": [
    "import requests\n",
    "from kafka import KafkaProducer\n",
    "import json\n",
    "from datetime import datetime\n",
    "\n",
    "DATE_FORMAT = \"%Y-%m-%d %H:%M:%S\"\n",
    "\n",
    "def send_json_data_from_url_to_kafka(topic, url, fields={}, addRequestDatetime=False):\n",
    "\n",
    "    # Kafka configuration\n",
    "    kafka_config = {\n",
    "        'bootstrap_servers': 'kafka1:9092',  # Update with your Kafka broker\n",
    "    }\n",
    "\n",
    "    # Initialize Kafka Producer\n",
    "    producer = KafkaProducer(\n",
    "        bootstrap_servers=kafka_config['bootstrap_servers'],\n",
    "        value_serializer=lambda v: json.dumps(v).encode('utf-8')\n",
    "    )\n",
    "    \n",
    "    requestDatetime = datetime.now().strftime(DATE_FORMAT)\n",
    "    response = requests.get(url)\n",
    "\n",
    "    if response.status_code == 200:\n",
    "        data = response.json()\n",
    "\n",
    "        # Iterate over each item in the list\n",
    "        for item in data:\n",
    "            # Extract the required fields\n",
    "            message = {field: item.get(field) for field in fields}\n",
    "            if addRequestDatetime:\n",
    "                message[\"HeureRequete\"] = requestDatetime\n",
    "                \n",
    "            \n",
    "            # Send the message to Kafka\n",
    "            producer.send(topic, message)\n",
    "            print(f\"Sent message: {message}\")\n",
    "\n",
    "        # Ensure all messages are sent\n",
    "        producer.flush()\n",
    "        print(f\"Sent {len(data)} records.\")\n",
    "        producer.close()\n",
    "    else:\n",
    "        print(f\"Failed to fetch data: {response.status_code}\")\n"
   ]
  },
  {
   "cell_type": "code",
   "execution_count": 9,
   "metadata": {},
   "outputs": [],
   "source": [
    "# https://open.tan.fr/doc/openapi#tag/Arrets/operation/getArretsHorairesTheoriques : \n",
    "arrets_fields = [\"codeLieu\", \"libelle\", \"distance\", \"ligne\"]\n",
    "\n",
    "arrets_url = \"https://open.tan.fr/ewp/arrets.json\"\n",
    "\n",
    "attente_fields = [\n",
    "    'sens',\n",
    "    'terminus',\n",
    "    'infotrafic',\n",
    "    'temps',\n",
    "    'dernierDepart',\n",
    "    'tempsReel',\n",
    "    'ligne',\n",
    "    'arret'\n",
    "]\n",
    "\n",
    "attente_url = \"https://open.tan.fr/ewp/tempsattente.json/{}\""
   ]
  },
  {
   "cell_type": "code",
   "execution_count": null,
   "metadata": {},
   "outputs": [],
   "source": [
    "send_json_data_from_url_to_kafka(\"arrets\", arrets_url, arrets_fields)"
   ]
  },
  {
   "cell_type": "code",
   "execution_count": null,
   "metadata": {},
   "outputs": [],
   "source": [
    "# Fetch the list of stops\n",
    "response = requests.get(arrets_url)\n",
    "\n",
    "# Iterate over each stop and send the waiting times to Kafka\n",
    "for item in response.json():\n",
    "    arret_code = item['codeLieu']\n",
    "    send_json_data_from_url_to_kafka(\"attente\", attente_url.format(arret_code), attente_fields, True)"
   ]
  }
 ],
 "metadata": {
  "kernelspec": {
   "display_name": "Python 3 (ipykernel)",
   "language": "python",
   "name": "python3"
  },
  "language_info": {
   "codemirror_mode": {
    "name": "ipython",
    "version": 3
   },
   "file_extension": ".py",
   "mimetype": "text/x-python",
   "name": "python",
   "nbconvert_exporter": "python",
   "pygments_lexer": "ipython3",
   "version": "3.12.8"
  }
 },
 "nbformat": 4,
 "nbformat_minor": 2
}
