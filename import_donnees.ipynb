{
 "cells": [
  {
   "cell_type": "code",
   "execution_count": 1,
   "metadata": {},
   "outputs": [],
   "source": [
    "import requests\n",
    "from kafka import KafkaProducer\n",
    "import json\n",
    "\n",
    "def send_data_from_url_to_kafka(topic, url, fields={}):\n",
    "\n",
    "    # Kafka configuration\n",
    "    kafka_config = {\n",
    "        'bootstrap_servers': 'kafka1:9092',  # Update with your Kafka broker\n",
    "    }\n",
    "\n",
    "    # Initialize Kafka Producer\n",
    "    producer = KafkaProducer(\n",
    "        bootstrap_servers=kafka_config['bootstrap_servers'],\n",
    "        value_serializer=lambda v: json.dumps(v).encode('utf-8')\n",
    "    )\n",
    "    \n",
    "    response = requests.get(url)\n",
    "\n",
    "    if response.status_code == 200:\n",
    "        data = response.json()\n",
    "        feeds = data.get(\"feeds\", [])\n",
    "\n",
    "        # Publish each entry to Kafka\n",
    "        for feed in feeds:\n",
    "            for field in fields:\n",
    "                feed[fields[field]] = feed.pop(field)\n",
    "            producer.send(topic, value=feed)\n",
    "            #print(f\"Sent: {feed}\")\n",
    "\n",
    "        # Ensure all messages are sent\n",
    "        producer.flush()\n",
    "        print(f\"Sent {len(feeds)} records.\")\n",
    "    else:\n",
    "        print(f\"Failed to fetch data: {response.status_code}\")"
   ]
  },
  {
   "cell_type": "code",
   "execution_count": null,
   "metadata": {},
   "outputs": [],
   "source": [
    "# https://open.tan.fr/doc/openapi#tag/Arrets/operation/getArretsHorairesTheoriques : \n",
    "fields = {\n",
    "    \"field1\": \"codeArret\",\n",
    "    \"field2\": \"numLigne\",\n",
    "    \"field3\": \"sens\",\n",
    "}\n",
    "\n",
    "api_url = \"https://openv2-preprod.tan.fr/ewp/horairesarret.json/{codeArret}/{numLigne}/{sens}\"\n",
    "\n",
    "# Code Arret \n",
    "codeArret = \"HBLI2\"\n",
    "\n",
    "# Num Ligne\n",
    "numLigne = \"C5\"\n",
    "\n",
    "# Sens\n",
    "sens = 1"
   ]
  },
  {
   "cell_type": "code",
   "execution_count": 5,
   "metadata": {},
   "outputs": [
    {
     "name": "stdout",
     "output_type": "stream",
     "text": [
      "Failed to fetch data: 500\n"
     ]
    }
   ],
   "source": [
    "send_data_from_url_to_kafka(\"test_topic\", api_url.format(codeArret=codeArret, numLigne=numLigne, sens=sens), fields)"
   ]
  }
 ],
 "metadata": {
  "kernelspec": {
   "display_name": "Python 3 (ipykernel)",
   "language": "python",
   "name": "python3"
  },
  "language_info": {
   "codemirror_mode": {
    "name": "ipython",
    "version": 3
   },
   "file_extension": ".py",
   "mimetype": "text/x-python",
   "name": "python",
   "nbconvert_exporter": "python",
   "pygments_lexer": "ipython3",
   "version": "3.12.8"
  }
 },
 "nbformat": 4,
 "nbformat_minor": 2
}
