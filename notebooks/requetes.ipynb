{
 "cells": [
  {
   "cell_type": "markdown",
   "metadata": {},
   "source": [
    "## Imports"
   ]
  },
  {
   "cell_type": "code",
   "execution_count": 1,
   "metadata": {},
   "outputs": [],
   "source": [
    "from pyspark import SparkContext, SparkConf\n",
    "from pyspark.sql import SQLContext\n",
    "from pyspark.sql.functions import from_json, col, count, window, avg, to_timestamp, min, max, last, to_json, struct\n",
    "from pyspark.sql.types import StructType, StructField, StringType, FloatType, IntegerType, DoubleType\n",
    "import seaborn as sns\n",
    "import matplotlib.pyplot as plt\n",
    "import matplotlib.dates as mdates\n",
    "import socket"
   ]
  },
  {
   "cell_type": "markdown",
   "metadata": {},
   "source": [
    "## Configuration Spark"
   ]
  },
  {
   "cell_type": "code",
   "execution_count": null,
   "metadata": {},
   "outputs": [
    {
     "name": "stdout",
     "output_type": "stream",
     "text": [
      "Connexion réussie à kafka1:9092\n"
     ]
    }
   ],
   "source": [
    "def check_port(host, port):\n",
    "    sock = socket.socket(socket.AF_INET, socket.SOCK_STREAM)\n",
    "    sock.settimeout(5)  # Timeout de 5 secondes\n",
    "    result = sock.connect_ex((host, port))\n",
    "    if result == 0:\n",
    "        print(f\"Connexion réussie à {host}:{port}\")\n",
    "    else:\n",
    "        print(f\"Impossible de se connecter à {host}:{port}\")\n",
    "    sock.close()\n",
    "\n",
    "check_port(\"kafka1\", 9092)\n"
   ]
  },
  {
   "cell_type": "code",
   "execution_count": 3,
   "metadata": {},
   "outputs": [
    {
     "name": "stdout",
     "output_type": "stream",
     "text": [
      ":: loading settings :: url = jar:file:/opt/conda/lib/python3.12/site-packages/pyspark/jars/ivy-2.5.1.jar!/org/apache/ivy/core/settings/ivysettings.xml\n"
     ]
    },
    {
     "name": "stderr",
     "output_type": "stream",
     "text": [
      "Ivy Default Cache set to: /home/jovyan/.ivy2/cache\n",
      "The jars for the packages stored in: /home/jovyan/.ivy2/jars\n",
      "org.apache.hadoop#hadoop-aws added as a dependency\n",
      "org.apache.spark#spark-sql-kafka-0-10_2.12 added as a dependency\n",
      ":: resolving dependencies :: org.apache.spark#spark-submit-parent-d5c125ff-21e9-490d-a9d9-f17688c0d2ca;1.0\n",
      "\tconfs: [default]\n",
      "\tfound org.apache.hadoop#hadoop-aws;3.3.4 in central\n",
      "\tfound com.amazonaws#aws-java-sdk-bundle;1.12.262 in central\n",
      "\tfound org.wildfly.openssl#wildfly-openssl;1.0.7.Final in central\n",
      "\tfound org.apache.spark#spark-sql-kafka-0-10_2.12;3.5.3 in central\n",
      "\tfound org.apache.spark#spark-token-provider-kafka-0-10_2.12;3.5.3 in central\n",
      "\tfound org.apache.kafka#kafka-clients;3.4.1 in central\n",
      "\tfound org.lz4#lz4-java;1.8.0 in central\n",
      "\tfound org.xerial.snappy#snappy-java;1.1.10.5 in central\n",
      "\tfound org.slf4j#slf4j-api;2.0.7 in central\n",
      "\tfound org.apache.hadoop#hadoop-client-runtime;3.3.4 in central\n",
      "\tfound org.apache.hadoop#hadoop-client-api;3.3.4 in central\n",
      "\tfound commons-logging#commons-logging;1.1.3 in central\n",
      "\tfound com.google.code.findbugs#jsr305;3.0.0 in central\n",
      "\tfound org.apache.commons#commons-pool2;2.11.1 in central\n",
      "downloading https://repo1.maven.org/maven2/org/apache/hadoop/hadoop-aws/3.3.4/hadoop-aws-3.3.4.jar ...\n",
      "\t[SUCCESSFUL ] org.apache.hadoop#hadoop-aws;3.3.4!hadoop-aws.jar (123ms)\n",
      "downloading https://repo1.maven.org/maven2/org/apache/spark/spark-sql-kafka-0-10_2.12/3.5.3/spark-sql-kafka-0-10_2.12-3.5.3.jar ...\n",
      "\t[SUCCESSFUL ] org.apache.spark#spark-sql-kafka-0-10_2.12;3.5.3!spark-sql-kafka-0-10_2.12.jar (105ms)\n",
      "downloading https://repo1.maven.org/maven2/com/amazonaws/aws-java-sdk-bundle/1.12.262/aws-java-sdk-bundle-1.12.262.jar ...\n",
      "\t[SUCCESSFUL ] com.amazonaws#aws-java-sdk-bundle;1.12.262!aws-java-sdk-bundle.jar (13827ms)\n",
      "downloading https://repo1.maven.org/maven2/org/wildfly/openssl/wildfly-openssl/1.0.7.Final/wildfly-openssl-1.0.7.Final.jar ...\n",
      "\t[SUCCESSFUL ] org.wildfly.openssl#wildfly-openssl;1.0.7.Final!wildfly-openssl.jar (111ms)\n",
      "downloading https://repo1.maven.org/maven2/org/apache/spark/spark-token-provider-kafka-0-10_2.12/3.5.3/spark-token-provider-kafka-0-10_2.12-3.5.3.jar ...\n",
      "\t[SUCCESSFUL ] org.apache.spark#spark-token-provider-kafka-0-10_2.12;3.5.3!spark-token-provider-kafka-0-10_2.12.jar (76ms)\n",
      "downloading https://repo1.maven.org/maven2/org/apache/kafka/kafka-clients/3.4.1/kafka-clients-3.4.1.jar ...\n",
      "\t[SUCCESSFUL ] org.apache.kafka#kafka-clients;3.4.1!kafka-clients.jar (277ms)\n",
      "downloading https://repo1.maven.org/maven2/com/google/code/findbugs/jsr305/3.0.0/jsr305-3.0.0.jar ...\n",
      "\t[SUCCESSFUL ] com.google.code.findbugs#jsr305;3.0.0!jsr305.jar (72ms)\n",
      "downloading https://repo1.maven.org/maven2/org/apache/commons/commons-pool2/2.11.1/commons-pool2-2.11.1.jar ...\n",
      "\t[SUCCESSFUL ] org.apache.commons#commons-pool2;2.11.1!commons-pool2.jar (64ms)\n",
      "downloading https://repo1.maven.org/maven2/org/apache/hadoop/hadoop-client-runtime/3.3.4/hadoop-client-runtime-3.3.4.jar ...\n",
      "\t[SUCCESSFUL ] org.apache.hadoop#hadoop-client-runtime;3.3.4!hadoop-client-runtime.jar (1301ms)\n",
      "downloading https://repo1.maven.org/maven2/org/lz4/lz4-java/1.8.0/lz4-java-1.8.0.jar ...\n",
      "\t[SUCCESSFUL ] org.lz4#lz4-java;1.8.0!lz4-java.jar (88ms)\n",
      "downloading https://repo1.maven.org/maven2/org/xerial/snappy/snappy-java/1.1.10.5/snappy-java-1.1.10.5.jar ...\n",
      "\t[SUCCESSFUL ] org.xerial.snappy#snappy-java;1.1.10.5!snappy-java.jar(bundle) (152ms)\n",
      "downloading https://repo1.maven.org/maven2/org/slf4j/slf4j-api/2.0.7/slf4j-api-2.0.7.jar ...\n",
      "\t[SUCCESSFUL ] org.slf4j#slf4j-api;2.0.7!slf4j-api.jar (56ms)\n",
      "downloading https://repo1.maven.org/maven2/org/apache/hadoop/hadoop-client-api/3.3.4/hadoop-client-api-3.3.4.jar ...\n",
      "\t[SUCCESSFUL ] org.apache.hadoop#hadoop-client-api;3.3.4!hadoop-client-api.jar (930ms)\n",
      "downloading https://repo1.maven.org/maven2/commons-logging/commons-logging/1.1.3/commons-logging-1.1.3.jar ...\n",
      "\t[SUCCESSFUL ] commons-logging#commons-logging;1.1.3!commons-logging.jar (53ms)\n",
      ":: resolution report :: resolve 11436ms :: artifacts dl 17298ms\n",
      "\t:: modules in use:\n",
      "\tcom.amazonaws#aws-java-sdk-bundle;1.12.262 from central in [default]\n",
      "\tcom.google.code.findbugs#jsr305;3.0.0 from central in [default]\n",
      "\tcommons-logging#commons-logging;1.1.3 from central in [default]\n",
      "\torg.apache.commons#commons-pool2;2.11.1 from central in [default]\n",
      "\torg.apache.hadoop#hadoop-aws;3.3.4 from central in [default]\n",
      "\torg.apache.hadoop#hadoop-client-api;3.3.4 from central in [default]\n",
      "\torg.apache.hadoop#hadoop-client-runtime;3.3.4 from central in [default]\n",
      "\torg.apache.kafka#kafka-clients;3.4.1 from central in [default]\n",
      "\torg.apache.spark#spark-sql-kafka-0-10_2.12;3.5.3 from central in [default]\n",
      "\torg.apache.spark#spark-token-provider-kafka-0-10_2.12;3.5.3 from central in [default]\n",
      "\torg.lz4#lz4-java;1.8.0 from central in [default]\n",
      "\torg.slf4j#slf4j-api;2.0.7 from central in [default]\n",
      "\torg.wildfly.openssl#wildfly-openssl;1.0.7.Final from central in [default]\n",
      "\torg.xerial.snappy#snappy-java;1.1.10.5 from central in [default]\n",
      "\t---------------------------------------------------------------------\n",
      "\t|                  |            modules            ||   artifacts   |\n",
      "\t|       conf       | number| search|dwnlded|evicted|| number|dwnlded|\n",
      "\t---------------------------------------------------------------------\n",
      "\t|      default     |   14  |   14  |   14  |   0   ||   14  |   14  |\n",
      "\t---------------------------------------------------------------------\n",
      ":: retrieving :: org.apache.spark#spark-submit-parent-d5c125ff-21e9-490d-a9d9-f17688c0d2ca\n",
      "\tconfs: [default]\n",
      "\t14 artifacts copied, 0 already retrieved (332424kB/1324ms)\n",
      "25/02/21 11:37:28 WARN NativeCodeLoader: Unable to load native-hadoop library for your platform... using builtin-java classes where applicable\n",
      "Setting default log level to \"WARN\".\n",
      "To adjust logging level use sc.setLogLevel(newLevel). For SparkR, use setLogLevel(newLevel).\n",
      "/opt/conda/lib/python3.12/site-packages/pyspark/sql/context.py:113: FutureWarning: Deprecated in 3.0.0. Use SparkSession.builder.getOrCreate() instead.\n",
      "  warnings.warn(\n"
     ]
    }
   ],
   "source": [
    "conf = SparkConf() \\\n",
    "    .setAppName('SparkApp') \\\n",
    "    .setMaster('spark://spark:7077') \\\n",
    "    .set(\"spark.jars.packages\", \"org.apache.hadoop:hadoop-aws:3.3.4,org.apache.spark:spark-sql-kafka-0-10_2.12:3.5.3\") \\\n",
    "    .set(\"spark.sql.shuffle.partitions\", \"10\")\n",
    " \n",
    "\n",
    "sc = SparkContext.getOrCreate(conf=conf)\n",
    "\n",
    "\n",
    "# Créer un SQLContext pour les opérations SQL\n",
    "sql_context = SQLContext(sc)"
   ]
  },
  {
   "cell_type": "markdown",
   "metadata": {},
   "source": [
    "## Schémas et Topics\n"
   ]
  },
  {
   "cell_type": "code",
   "execution_count": null,
   "metadata": {},
   "outputs": [],
   "source": [
    "kafka_broker = \"kafka1:9092\"\n",
    "arrets_topic = \"arrets\"\n",
    "velos_topic = \"velos\"\n",
    "relais_topic = \"relais\"\n",
    "\n",
    "# Définition du schéma pour le topic \"arrets\"\n",
    "schema_arrets = StructType([\n",
    "    StructField(\"codeLieu\", StringType()),\n",
    "    StructField(\"libelle\", StringType()),\n",
    "    StructField(\"distance\", FloatType()),\n",
    "    StructField(\"ligne\", StringType())\n",
    "])\n",
    "\n",
    "# Définition du schéma pour le champ \"position\"\n",
    "position_schema = StructType([\n",
    "    StructField(\"lon\", DoubleType()),\n",
    "    StructField(\"lat\", DoubleType())\n",
    "])\n",
    "\n",
    "# Définition du schéma pour le topic \"velos\"\n",
    "schema_velos = StructType([\n",
    "    StructField(\"number\", StringType()),\n",
    "    StructField(\"name\", StringType()),\n",
    "    StructField(\"address\", StringType()),\n",
    "    StructField(\"position\", position_schema),\n",
    "    StructField(\"banking\", StringType()),\n",
    "    StructField(\"bonus\", StringType()),\n",
    "    StructField(\"status\", StringType()),\n",
    "    StructField(\"contract_name\", StringType()),\n",
    "    StructField(\"bike_stands\", IntegerType()),\n",
    "    StructField(\"available_bike_stands\", IntegerType()),\n",
    "    StructField(\"available_bikes\", IntegerType()),\n",
    "    StructField(\"last_update\", StringType())\n",
    "])\n",
    "\n",
    "# Définition du schéma pour le topic \"relais\"\n",
    "schema_relais = StructType([\n",
    "    StructField(\"grp_identifiant\", StringType()),\n",
    "    StructField(\"grp_nom\", StringType()),\n",
    "    StructField(\"grp_statut\", IntegerType()),\n",
    "    StructField(\"grp_disponible\", IntegerType()),\n",
    "    StructField(\"grp_exploitation\", IntegerType()),\n",
    "    StructField(\"grp_complet\", IntegerType()),\n",
    "    StructField(\"grp_horodatage\", StringType()),\n",
    "    StructField(\"idobj\", StringType()),\n",
    "    StructField(\"location\", StructType([\n",
    "        StructField(\"lon\", DoubleType()),\n",
    "        StructField(\"lat\", DoubleType())\n",
    "    ])),\n",
    "    StructField(\"disponibilite\", DoubleType())\n",
    "])\n"
   ]
  },
  {
   "cell_type": "markdown",
   "metadata": {},
   "source": [
    "## Requête Batch sans fenêtre"
   ]
  },
  {
   "cell_type": "markdown",
   "metadata": {},
   "source": [
    "Comptage des arrêts par ligne à partir du topic « arrets »"
   ]
  },
  {
   "cell_type": "code",
   "execution_count": 5,
   "metadata": {},
   "outputs": [
    {
     "name": "stderr",
     "output_type": "stream",
     "text": [
      "25/02/21 11:38:03 WARN AdminClientConfig: These configurations '[key.deserializer, value.deserializer, enable.auto.commit, max.poll.records, auto.offset.reset]' were supplied but are not used yet.\n",
      "                                                                                \r"
     ]
    },
    {
     "name": "stdout",
     "output_type": "stream",
     "text": [
      "+--------------------+---------+\n",
      "|               ligne|nb_arrets|\n",
      "+--------------------+---------+\n",
      "| [{\"numLigne\":\"79\"}]|       12|\n",
      "|[{\"numLigne\":\"119...|       14|\n",
      "|[{\"numLigne\":\"127...|        4|\n",
      "|[{\"numLigne\":\"10\"...|        2|\n",
      "|[{\"numLigne\":\"107...|        6|\n",
      "| [{\"numLigne\":\"91\"}]|       28|\n",
      "|[{\"numLigne\":\"172...|        4|\n",
      "|[{\"numLigne\":\"75\"...|       12|\n",
      "|[{\"numLigne\":\"50\"...|        8|\n",
      "| [{\"numLigne\":\"C3\"}]|       24|\n",
      "|[{\"numLigne\":\"101...|        4|\n",
      "| [{\"numLigne\":\"80\"}]|       20|\n",
      "| [{\"numLigne\":\"30\"}]|       24|\n",
      "|[{\"numLigne\":\"2B\"...|        2|\n",
      "|[{\"numLigne\":\"152...|        2|\n",
      "|[{\"numLigne\":\"1\"}...|        2|\n",
      "|[{\"numLigne\":\"59\"...|        6|\n",
      "|[{\"numLigne\":\"30\"...|       14|\n",
      "|[{\"numLigne\":\"109...|        2|\n",
      "|[{\"numLigne\":\"104...|        2|\n",
      "+--------------------+---------+\n",
      "only showing top 20 rows\n",
      "\n"
     ]
    },
    {
     "name": "stderr",
     "output_type": "stream",
     "text": [
      "25/02/21 11:39:33 WARN AdminClientConfig: These configurations '[key.deserializer, value.deserializer, enable.auto.commit, max.poll.records, auto.offset.reset]' were supplied but are not used yet.\n",
      "[Stage 8:>                                                          (0 + 1) / 1]\r"
     ]
    },
    {
     "name": "stdout",
     "output_type": "stream",
     "text": [
      "+-------+--------------------+-----------------+\n",
      "|summary|               ligne|        nb_arrets|\n",
      "+-------+--------------------+-----------------+\n",
      "|  count|                 434|              434|\n",
      "|   mean|                NULL|5.373271889400922|\n",
      "| stddev|                NULL|6.449936883862745|\n",
      "|    min|                  []|                2|\n",
      "|    max|[{\"numLigne\":\"NBI\"}]|               56|\n",
      "+-------+--------------------+-----------------+\n",
      "\n"
     ]
    },
    {
     "name": "stderr",
     "output_type": "stream",
     "text": [
      "                                                                                \r"
     ]
    }
   ],
   "source": [
    "# Lecture brute des messages Kafka\n",
    "df_kafka = sql_context.read \\\n",
    "    .format(\"kafka\") \\\n",
    "    .option(\"kafka.bootstrap.servers\", kafka_broker) \\\n",
    "    .option(\"subscribe\", arrets_topic) \\\n",
    "    .option(\"startingOffsets\", \"earliest\") \\\n",
    "    .load()\n",
    "\n",
    "# Conversion du champ \"value\" (encodé en JSON) en colonnes structurées\n",
    "df_arrets = df_kafka.selectExpr(\"CAST(value AS STRING) AS message\") \\\n",
    "    .select(from_json(col(\"message\"), schema_arrets).alias(\"data\")) \\\n",
    "    .select(\"data.*\")\n",
    "\n",
    "# Agrégation : compter le nombre d'arrêts par \"ligne\"\n",
    "result = df_arrets.groupBy(\"ligne\").agg(count(\"*\").alias(\"nb_arrets\"))\n",
    "\n",
    "# Affichage du résultat\n",
    "result.show()\n",
    "result.describe().show()"
   ]
  },
  {
   "cell_type": "markdown",
   "metadata": {},
   "source": [
    "## Requête Batch avec fenêtre\n",
    "\n",
    "Vélos disponibles par contrat sur des fenêtres temporelles à partir du topic « velos »."
   ]
  },
  {
   "cell_type": "code",
   "execution_count": 6,
   "metadata": {},
   "outputs": [
    {
     "name": "stderr",
     "output_type": "stream",
     "text": [
      "25/02/21 11:39:44 WARN AdminClientConfig: These configurations '[key.deserializer, value.deserializer, enable.auto.commit, max.poll.records, auto.offset.reset]' were supplied but are not used yet.\n",
      "                                                                                \r"
     ]
    },
    {
     "name": "stdout",
     "output_type": "stream",
     "text": [
      "+--------------------+------+-------------+----------+----------------------+\n",
      "|              window|number|contract_name|nb_updates|latest_available_bikes|\n",
      "+--------------------+------+-------------+----------+----------------------+\n",
      "|{2025-02-21 08:00...|    84|       nantes|        11|                     1|\n",
      "|{2025-02-21 08:00...|   120|       nantes|        11|                    11|\n",
      "|{2022-05-23 14:30...|  1011|       nantes|       104|                     0|\n",
      "|{2025-02-21 08:00...|    76|       nantes|         4|                    10|\n",
      "|{2025-02-21 08:00...|    91|       nantes|         4|                    12|\n",
      "|{2025-02-21 08:00...|    27|       nantes|         4|                    11|\n",
      "|{2025-02-21 08:30...|    91|       nantes|        22|                    12|\n",
      "|{2025-02-21 08:30...|    81|       nantes|        22|                     3|\n",
      "|{2025-02-21 08:30...|     8|       nantes|        22|                    12|\n",
      "|{2025-02-21 08:30...|    32|       nantes|        22|                     9|\n",
      "|{2025-02-21 08:30...|   115|       nantes|        22|                     6|\n",
      "|{2025-02-21 08:00...|    70|       nantes|        11|                    26|\n",
      "|{2025-02-21 08:30...|    76|       nantes|        22|                    11|\n",
      "|{2025-02-21 08:30...|    82|       nantes|        22|                     8|\n",
      "|{2025-02-21 08:30...|   114|       nantes|        18|                    12|\n",
      "|{2025-02-21 08:30...|    75|       nantes|        15|                     7|\n",
      "|{2025-02-21 08:30...|    20|       nantes|        15|                     3|\n",
      "|{2025-02-21 08:30...|   111|       nantes|         4|                    13|\n",
      "|{2025-02-21 08:30...|    72|       nantes|         7|                     9|\n",
      "|{2025-02-21 08:30...|    30|       nantes|         3|                     3|\n",
      "+--------------------+------+-------------+----------+----------------------+\n",
      "only showing top 20 rows\n",
      "\n"
     ]
    }
   ],
   "source": [
    "# Lecture brute des messages Kafka\n",
    "df_kafka = sql_context.read \\\n",
    "    .format(\"kafka\") \\\n",
    "    .option(\"kafka.bootstrap.servers\", kafka_broker) \\\n",
    "    .option(\"subscribe\", velos_topic) \\\n",
    "    .option(\"startingOffsets\", \"earliest\") \\\n",
    "    .load()\n",
    "\n",
    "# Conversion du champ \"value\" en JSON\n",
    "df_velos = df_kafka.selectExpr(\"CAST(value AS STRING) AS message\") \\\n",
    "    .select(from_json(col(\"message\"), schema_velos).alias(\"data\")) \\\n",
    "    .select(\"data.*\")\n",
    "\n",
    "# Conversion de \"last_update\" en timestamp (format ISO 8601)\n",
    "df_velos = df_velos.withColumn(\"last_update_ts\", \n",
    "                               to_timestamp(col(\"last_update\"), \"yyyy-MM-dd'T'HH:mm:ssXXX\"))\n",
    "\n",
    "# Agrégation par fenêtre (ici, on allonge la fenêtre à 30 minutes pour accumuler plusieurs mises à jour) et par station\n",
    "result_window = df_velos.groupBy(\n",
    "    window(col(\"last_update_ts\"), \"30 minutes\"), \n",
    "    col(\"number\"),\n",
    "    col(\"contract_name\")\n",
    ").agg(\n",
    "    count(\"*\").alias(\"nb_updates\"),\n",
    "    last(\"available_bikes\", ignorenulls=True).alias(\"latest_available_bikes\")\n",
    ")\n",
    "\n",
    "result_window.show()"
   ]
  },
  {
   "cell_type": "markdown",
   "metadata": {},
   "source": [
    "### Batch et visualisation graphique"
   ]
  },
  {
   "cell_type": "code",
   "execution_count": 7,
   "metadata": {},
   "outputs": [
    {
     "name": "stderr",
     "output_type": "stream",
     "text": [
      "25/02/21 11:39:59 WARN AdminClientConfig: These configurations '[key.deserializer, value.deserializer, enable.auto.commit, max.poll.records, auto.offset.reset]' were supplied but are not used yet.\n",
      "                                                                                \r"
     ]
    },
    {
     "data": {
      "image/png": "[encoded data removed]",
      "text/plain": [
       "<Figure size 1200x600 with 1 Axes>"
      ]
     },
     "metadata": {},
     "output_type": "display_data"
    }
   ],
   "source": [
    "# Lecture batch depuis Kafka\n",
    "df_kafka = sql_context.read \\\n",
    "    .format(\"kafka\") \\\n",
    "    .option(\"kafka.bootstrap.servers\", kafka_broker) \\\n",
    "    .option(\"subscribe\", relais_topic) \\\n",
    "    .option(\"startingOffsets\", \"earliest\") \\\n",
    "    .load()\n",
    "\n",
    "# Conversion du JSON\n",
    "df_relais = df_kafka.selectExpr(\"CAST(value AS STRING) AS message\") \\\n",
    "    .select(from_json(col(\"message\"), schema_relais).alias(\"data\")) \\\n",
    "    .select(\"data.*\")\n",
    "\n",
    "# Conversion du champ de date en timestamp (format ISO 8601)\n",
    "df_relais = df_relais.withColumn(\"horodatage_ts\", \n",
    "                                  to_timestamp(col(\"grp_horodatage\"), \"yyyy-MM-dd'T'HH:mm:ssXXX\"))\n",
    "\n",
    "# Agrégation : calcul de la disponibilité moyenne par parking sur une fenêtre d'1 jour\n",
    "result = df_relais.groupBy(\n",
    "    window(col(\"horodatage_ts\"), \"1 hour\"),\n",
    "    col(\"grp_identifiant\"),\n",
    "    col(\"grp_nom\")\n",
    ").agg(\n",
    "    avg(\"disponibilite\").alias(\"avg_disponibilite\")\n",
    ")\n",
    "\n",
    "# Extraire la date de début de la fenêtre pour le graphique\n",
    "result = result.withColumn(\"window_start\", col(\"window.start\")).drop(\"window\")\n",
    "\n",
    "# Conversion du résultat en DataFrame Pandas\n",
    "pandas_df = result.toPandas()\n",
    "\n",
    "# Tri des données par date et par parking\n",
    "pandas_df.sort_values(by=[\"window_start\", \"grp_identifiant\"], inplace=True)\n",
    "\n",
    "# Visualisation avec Seaborn : une ligne par parking (grp_nom)\n",
    "plt.figure(figsize=(12, 6))\n",
    "sns.lineplot(data=pandas_df, x=\"window_start\", y=\"avg_disponibilite\", hue=\"grp_nom\", marker=\"o\")\n",
    "plt.title(\"Disponibilité moyenne journalière des parkings relais\")\n",
    "plt.xlabel(\"Date\")\n",
    "plt.ylabel(\"Disponibilité moyenne\")\n",
    "plt.gca().xaxis.set_major_formatter(mdates.DateFormatter('%Y-%m-%d'))\n",
    "plt.xticks(rotation=45)\n",
    "plt.tight_layout()\n",
    "plt.show()"
   ]
  },
  {
   "cell_type": "markdown",
   "metadata": {},
   "source": [
    "### Variation de vélos disponibles par station sur une fenêtre de 30 minutes"
   ]
  },
  {
   "cell_type": "code",
   "execution_count": 9,
   "metadata": {},
   "outputs": [
    {
     "name": "stderr",
     "output_type": "stream",
     "text": [
      "25/02/21 12:03:14 WARN AdminClientConfig: These configurations '[key.deserializer, value.deserializer, enable.auto.commit, max.poll.records, auto.offset.reset]' were supplied but are not used yet.\n",
      "[Stage 19:>                                                         (0 + 1) / 1]\r"
     ]
    },
    {
     "name": "stdout",
     "output_type": "stream",
     "text": [
      "+--------------------+--------------------+-------------------+-------------------+---------+\n",
      "|              window|                name|min_available_bikes|max_available_bikes|variation|\n",
      "+--------------------+--------------------+-------------------+-------------------+---------+\n",
      "|{2025-01-26 05:00...| 028-CARRIÈRE MISERY|                  8|                  8|        0|\n",
      "|{2025-02-21 08:00...|           090-PROCÉ|                  6|                  6|        0|\n",
      "|{2025-02-21 08:00...|120-ROND-POINT DE...|                 11|                 11|        0|\n",
      "|{2025-02-21 08:00...|      099-ST JACQUES|                  9|                  9|        0|\n",
      "|{2025-02-21 08:00...|          081-MANGIN|                  5|                  5|        0|\n",
      "|{2025-02-21 08:00...|      007-BARILLERIE|                  9|                  9|        0|\n",
      "|{2025-02-21 08:00...|      110-AUDITORIUM|                  7|                  7|        0|\n",
      "|{2025-02-21 08:30...|        123-TRARIEUX|                  7|                  8|        1|\n",
      "|{2025-02-21 08:00...|        055-MAGELLAN|                  8|                  8|        0|\n",
      "|{2025-02-21 08:00...|102-GARE DE PONT ...|                 16|                 16|        0|\n",
      "|{2025-02-21 08:00...|       053-OLIVETTES|                  1|                  1|        0|\n",
      "|{2025-02-21 08:00...|       100-GRÉNERAIE|                 11|                 11|        0|\n",
      "|{2025-02-21 08:30...|   064-SAINT CLÉMENT|                 10|                 10|        0|\n",
      "|{2025-02-21 08:30...|     061-LIEU UNIQUE|                  9|                  9|        0|\n",
      "|{2025-02-21 08:30...|   124-PAS ENCHANTÉS|                  9|                  9|        0|\n",
      "|{2025-02-21 08:30...|072-BELLAMY-GUÉ M...|                  9|                  9|        0|\n",
      "|{2025-02-21 08:30...|   039-QUAI MONCOUSU|                 13|                 13|        0|\n",
      "|{2025-02-21 10:00...|         020-BOUFFAY|                  9|                  9|        0|\n",
      "|{2025-02-21 10:00...|        073-SARRADIN|                 11|                 11|        0|\n",
      "|{2025-02-21 10:00...|          048-VERDUN|                  4|                  4|        0|\n",
      "+--------------------+--------------------+-------------------+-------------------+---------+\n",
      "only showing top 20 rows\n",
      "\n"
     ]
    },
    {
     "name": "stderr",
     "output_type": "stream",
     "text": [
      "                                                                                \r"
     ]
    }
   ],
   "source": [
    "result_variation = df_velos.groupBy(\n",
    "    window(col(\"last_update_ts\"), \"30 minutes\"),\n",
    "    col(\"name\")\n",
    ").agg(\n",
    "    min(\"available_bikes\").alias(\"min_available_bikes\"),\n",
    "    max(\"available_bikes\").alias(\"max_available_bikes\")\n",
    ")\n",
    "\n",
    "# Calcul de la variation : différence entre le nombre maximum et le nombre minimum de vélos disponibles\n",
    "result_variation = result_variation.withColumn(\"variation\", col(\"max_available_bikes\") - col(\"min_available_bikes\"))\n",
    "\n",
    "result_variation.show()"
   ]
  },
  {
   "cell_type": "markdown",
   "metadata": {},
   "source": [
    "## Requêtes Streaming"
   ]
  },
  {
   "cell_type": "markdown",
   "metadata": {},
   "source": [
    "### Récuperer la moyenne des disponiblités des parkings relais sur une fenêtre glissante."
   ]
  },
  {
   "cell_type": "code",
   "execution_count": 8,
   "metadata": {},
   "outputs": [
    {
     "name": "stderr",
     "output_type": "stream",
     "text": [
      "25/02/21 11:40:06 WARN ResolveWriteToStream: Temporary checkpoint location created which is deleted normally when the query didn't fail: /tmp/temporary-7387753d-13bc-40a3-8412-f4c1b4b3e47f. If it's required to delete it under any circumstances, please set spark.sql.streaming.forceDeleteTempCheckpointLocation to true. Important to know deleting temp checkpoint folder is best effort.\n",
      "25/02/21 11:40:06 WARN ResolveWriteToStream: spark.sql.adaptive.enabled is not supported in streaming DataFrames/Datasets and will be disabled.\n",
      "25/02/21 11:40:07 WARN AdminClientConfig: These configurations '[key.deserializer, value.deserializer, enable.auto.commit, max.poll.records, auto.offset.reset]' were supplied but are not used yet.\n",
      "                                                                                \r"
     ]
    },
    {
     "name": "stdout",
     "output_type": "stream",
     "text": [
      "-------------------------------------------\n",
      "Batch: 0\n",
      "-------------------------------------------\n",
      "+------+---------------+-----------------+\n",
      "|window|grp_identifiant|avg_disponibilite|\n",
      "+------+---------------+-----------------+\n",
      "+------+---------------+-----------------+\n",
      "\n"
     ]
    },
    {
     "name": "stderr",
     "output_type": "stream",
     "text": [
      "ERROR:root:KeyboardInterrupt while sending command.\n",
      "Traceback (most recent call last):\n",
      "  File \"/opt/conda/lib/python3.12/site-packages/py4j/java_gateway.py\", line 1038, in send_command\n",
      "    response = connection.send_command(command)\n",
      "               ^^^^^^^^^^^^^^^^^^^^^^^^^^^^^^^^\n",
      "  File \"/opt/conda/lib/python3.12/site-packages/py4j/clientserver.py\", line 511, in send_command\n",
      "    answer = smart_decode(self.stream.readline()[:-1])\n",
      "                          ^^^^^^^^^^^^^^^^^^^^^^\n",
      "  File \"/opt/conda/lib/python3.12/socket.py\", line 720, in readinto\n",
      "    return self._sock.recv_into(b)\n",
      "           ^^^^^^^^^^^^^^^^^^^^^^^\n",
      "KeyboardInterrupt\n"
     ]
    },
    {
     "ename": "KeyboardInterrupt",
     "evalue": "",
     "output_type": "error",
     "traceback": [
      "\u001b[0;31m---------------------------------------------------------------------------\u001b[0m",
      "\u001b[0;31mKeyboardInterrupt\u001b[0m                         Traceback (most recent call last)",
      "Cell \u001b[0;32mIn[8], line 38\u001b[0m\n\u001b[1;32m     31\u001b[0m \u001b[38;5;66;03m# Écriture du résultat en streaming vers la console (mode \"update\")\u001b[39;00m\n\u001b[1;32m     32\u001b[0m query \u001b[38;5;241m=\u001b[39m result_stream\u001b[38;5;241m.\u001b[39mwriteStream \\\n\u001b[1;32m     33\u001b[0m     \u001b[38;5;241m.\u001b[39moutputMode(\u001b[38;5;124m\"\u001b[39m\u001b[38;5;124mupdate\u001b[39m\u001b[38;5;124m\"\u001b[39m) \\\n\u001b[1;32m     34\u001b[0m     \u001b[38;5;241m.\u001b[39mformat(\u001b[38;5;124m\"\u001b[39m\u001b[38;5;124mconsole\u001b[39m\u001b[38;5;124m\"\u001b[39m) \\\n\u001b[1;32m     35\u001b[0m     \u001b[38;5;241m.\u001b[39moption(\u001b[38;5;124m\"\u001b[39m\u001b[38;5;124mtruncate\u001b[39m\u001b[38;5;124m\"\u001b[39m, \u001b[38;5;124m\"\u001b[39m\u001b[38;5;124mfalse\u001b[39m\u001b[38;5;124m\"\u001b[39m) \\\n\u001b[1;32m     36\u001b[0m     \u001b[38;5;241m.\u001b[39mstart()\n\u001b[0;32m---> 38\u001b[0m \u001b[43mquery\u001b[49m\u001b[38;5;241;43m.\u001b[39;49m\u001b[43mawaitTermination\u001b[49m\u001b[43m(\u001b[49m\u001b[43m)\u001b[49m\n",
      "File \u001b[0;32m/opt/conda/lib/python3.12/site-packages/pyspark/sql/streaming/query.py:221\u001b[0m, in \u001b[0;36mStreamingQuery.awaitTermination\u001b[0;34m(self, timeout)\u001b[0m\n\u001b[1;32m    219\u001b[0m     \u001b[38;5;28;01mreturn\u001b[39;00m \u001b[38;5;28mself\u001b[39m\u001b[38;5;241m.\u001b[39m_jsq\u001b[38;5;241m.\u001b[39mawaitTermination(\u001b[38;5;28mint\u001b[39m(timeout \u001b[38;5;241m*\u001b[39m \u001b[38;5;241m1000\u001b[39m))\n\u001b[1;32m    220\u001b[0m \u001b[38;5;28;01melse\u001b[39;00m:\n\u001b[0;32m--> 221\u001b[0m     \u001b[38;5;28;01mreturn\u001b[39;00m \u001b[38;5;28;43mself\u001b[39;49m\u001b[38;5;241;43m.\u001b[39;49m\u001b[43m_jsq\u001b[49m\u001b[38;5;241;43m.\u001b[39;49m\u001b[43mawaitTermination\u001b[49m\u001b[43m(\u001b[49m\u001b[43m)\u001b[49m\n",
      "File \u001b[0;32m/opt/conda/lib/python3.12/site-packages/py4j/java_gateway.py:1321\u001b[0m, in \u001b[0;36mJavaMember.__call__\u001b[0;34m(self, *args)\u001b[0m\n\u001b[1;32m   1314\u001b[0m args_command, temp_args \u001b[38;5;241m=\u001b[39m \u001b[38;5;28mself\u001b[39m\u001b[38;5;241m.\u001b[39m_build_args(\u001b[38;5;241m*\u001b[39margs)\n\u001b[1;32m   1316\u001b[0m command \u001b[38;5;241m=\u001b[39m proto\u001b[38;5;241m.\u001b[39mCALL_COMMAND_NAME \u001b[38;5;241m+\u001b[39m\\\n\u001b[1;32m   1317\u001b[0m     \u001b[38;5;28mself\u001b[39m\u001b[38;5;241m.\u001b[39mcommand_header \u001b[38;5;241m+\u001b[39m\\\n\u001b[1;32m   1318\u001b[0m     args_command \u001b[38;5;241m+\u001b[39m\\\n\u001b[1;32m   1319\u001b[0m     proto\u001b[38;5;241m.\u001b[39mEND_COMMAND_PART\n\u001b[0;32m-> 1321\u001b[0m answer \u001b[38;5;241m=\u001b[39m \u001b[38;5;28;43mself\u001b[39;49m\u001b[38;5;241;43m.\u001b[39;49m\u001b[43mgateway_client\u001b[49m\u001b[38;5;241;43m.\u001b[39;49m\u001b[43msend_command\u001b[49m\u001b[43m(\u001b[49m\u001b[43mcommand\u001b[49m\u001b[43m)\u001b[49m\n\u001b[1;32m   1322\u001b[0m return_value \u001b[38;5;241m=\u001b[39m get_return_value(\n\u001b[1;32m   1323\u001b[0m     answer, \u001b[38;5;28mself\u001b[39m\u001b[38;5;241m.\u001b[39mgateway_client, \u001b[38;5;28mself\u001b[39m\u001b[38;5;241m.\u001b[39mtarget_id, \u001b[38;5;28mself\u001b[39m\u001b[38;5;241m.\u001b[39mname)\n\u001b[1;32m   1325\u001b[0m \u001b[38;5;28;01mfor\u001b[39;00m temp_arg \u001b[38;5;129;01min\u001b[39;00m temp_args:\n",
      "File \u001b[0;32m/opt/conda/lib/python3.12/site-packages/py4j/java_gateway.py:1038\u001b[0m, in \u001b[0;36mGatewayClient.send_command\u001b[0;34m(self, command, retry, binary)\u001b[0m\n\u001b[1;32m   1036\u001b[0m connection \u001b[38;5;241m=\u001b[39m \u001b[38;5;28mself\u001b[39m\u001b[38;5;241m.\u001b[39m_get_connection()\n\u001b[1;32m   1037\u001b[0m \u001b[38;5;28;01mtry\u001b[39;00m:\n\u001b[0;32m-> 1038\u001b[0m     response \u001b[38;5;241m=\u001b[39m \u001b[43mconnection\u001b[49m\u001b[38;5;241;43m.\u001b[39;49m\u001b[43msend_command\u001b[49m\u001b[43m(\u001b[49m\u001b[43mcommand\u001b[49m\u001b[43m)\u001b[49m\n\u001b[1;32m   1039\u001b[0m     \u001b[38;5;28;01mif\u001b[39;00m binary:\n\u001b[1;32m   1040\u001b[0m         \u001b[38;5;28;01mreturn\u001b[39;00m response, \u001b[38;5;28mself\u001b[39m\u001b[38;5;241m.\u001b[39m_create_connection_guard(connection)\n",
      "File \u001b[0;32m/opt/conda/lib/python3.12/site-packages/py4j/clientserver.py:511\u001b[0m, in \u001b[0;36mClientServerConnection.send_command\u001b[0;34m(self, command)\u001b[0m\n\u001b[1;32m    509\u001b[0m \u001b[38;5;28;01mtry\u001b[39;00m:\n\u001b[1;32m    510\u001b[0m     \u001b[38;5;28;01mwhile\u001b[39;00m \u001b[38;5;28;01mTrue\u001b[39;00m:\n\u001b[0;32m--> 511\u001b[0m         answer \u001b[38;5;241m=\u001b[39m smart_decode(\u001b[38;5;28;43mself\u001b[39;49m\u001b[38;5;241;43m.\u001b[39;49m\u001b[43mstream\u001b[49m\u001b[38;5;241;43m.\u001b[39;49m\u001b[43mreadline\u001b[49m\u001b[43m(\u001b[49m\u001b[43m)\u001b[49m[:\u001b[38;5;241m-\u001b[39m\u001b[38;5;241m1\u001b[39m])\n\u001b[1;32m    512\u001b[0m         logger\u001b[38;5;241m.\u001b[39mdebug(\u001b[38;5;124m\"\u001b[39m\u001b[38;5;124mAnswer received: \u001b[39m\u001b[38;5;132;01m{0}\u001b[39;00m\u001b[38;5;124m\"\u001b[39m\u001b[38;5;241m.\u001b[39mformat(answer))\n\u001b[1;32m    513\u001b[0m         \u001b[38;5;66;03m# Happens when a the other end is dead. There might be an empty\u001b[39;00m\n\u001b[1;32m    514\u001b[0m         \u001b[38;5;66;03m# answer before the socket raises an error.\u001b[39;00m\n",
      "File \u001b[0;32m/opt/conda/lib/python3.12/socket.py:720\u001b[0m, in \u001b[0;36mSocketIO.readinto\u001b[0;34m(self, b)\u001b[0m\n\u001b[1;32m    718\u001b[0m \u001b[38;5;28;01mwhile\u001b[39;00m \u001b[38;5;28;01mTrue\u001b[39;00m:\n\u001b[1;32m    719\u001b[0m     \u001b[38;5;28;01mtry\u001b[39;00m:\n\u001b[0;32m--> 720\u001b[0m         \u001b[38;5;28;01mreturn\u001b[39;00m \u001b[38;5;28;43mself\u001b[39;49m\u001b[38;5;241;43m.\u001b[39;49m\u001b[43m_sock\u001b[49m\u001b[38;5;241;43m.\u001b[39;49m\u001b[43mrecv_into\u001b[49m\u001b[43m(\u001b[49m\u001b[43mb\u001b[49m\u001b[43m)\u001b[49m\n\u001b[1;32m    721\u001b[0m     \u001b[38;5;28;01mexcept\u001b[39;00m timeout:\n\u001b[1;32m    722\u001b[0m         \u001b[38;5;28mself\u001b[39m\u001b[38;5;241m.\u001b[39m_timeout_occurred \u001b[38;5;241m=\u001b[39m \u001b[38;5;28;01mTrue\u001b[39;00m\n",
      "\u001b[0;31mKeyboardInterrupt\u001b[0m: "
     ]
    }
   ],
   "source": [
    "# Lecture en streaming depuis Kafka\n",
    "df_kafka = sql_context.readStream \\\n",
    "    .format(\"kafka\") \\\n",
    "    .option(\"kafka.bootstrap.servers\", kafka_broker) \\\n",
    "    .option(\"subscribe\", relais_topic) \\\n",
    "    .option(\"startingOffsets\", \"latest\") \\\n",
    "    .load()\n",
    "\n",
    "# Conversion du champ \"value\" (JSON) en colonnes structurées\n",
    "df_relais = df_kafka.selectExpr(\"CAST(value AS STRING) AS message\") \\\n",
    "    .select(from_json(col(\"message\"), schema_relais).alias(\"data\")) \\\n",
    "    .select(\"data.*\")\n",
    "\n",
    "# Conversion du champ \"grp_horodatage\" en timestamp\n",
    "# Le format ISO 8601 est utilisé : \"yyyy-MM-dd'T'HH:mm:ssXXX\"\n",
    "df_relais = df_relais.withColumn(\"horodatage_ts\", \n",
    "                                  to_timestamp(col(\"grp_horodatage\"), \"yyyy-MM-dd'T'HH:mm:ssXXX\"))\n",
    "\n",
    "# Définition d'un watermark de 5 minutes pour gérer les retards éventuels\n",
    "df_relais = df_relais.withWatermark(\"horodatage_ts\", \"5 minutes\")\n",
    "\n",
    "# Agrégation : calcul de la moyenne des disponibilités sur une fenêtre glissante\n",
    "# Ici, la fenêtre est de 5 minutes et on agrège par \"grp_identifiant\"\n",
    "result_stream = df_relais.groupBy(\n",
    "    window(col(\"horodatage_ts\"), \"5 minutes\"),\n",
    "    col(\"grp_identifiant\"),\n",
    ").agg(\n",
    "    avg(\"disponibilite\").alias(\"avg_disponibilite\")\n",
    ")\n",
    "\n",
    "# Écriture du résultat en streaming vers la console (mode \"update\")\n",
    "query = result_stream.writeStream \\\n",
    "    .outputMode(\"update\") \\\n",
    "    .format(\"console\") \\\n",
    "    .option(\"truncate\", \"false\") \\\n",
    "    .start()\n",
    "\n",
    "query.awaitTermination()"
   ]
  },
  {
   "cell_type": "code",
   "execution_count": null,
   "metadata": {},
   "outputs": [],
   "source": [
    "query.stop()"
   ]
  },
  {
   "cell_type": "markdown",
   "metadata": {},
   "source": [
    "### Récuperer la moyenne des vélos disponibles par parking sur une fenêtre glissante."
   ]
  },
  {
   "cell_type": "code",
   "execution_count": null,
   "metadata": {},
   "outputs": [],
   "source": [
    "# Lecture en streaming depuis Kafka\n",
    "df_kafka_velos = sql_context.readStream \\\n",
    "    .format(\"kafka\") \\\n",
    "    .option(\"kafka.bootstrap.servers\", kafka_broker) \\\n",
    "    .option(\"subscribe\", velos_topic) \\\n",
    "    .option(\"startingOffsets\", \"latest\") \\\n",
    "    .load()\n",
    "\n",
    "# Conversion du champ \"value\" (JSON) en colonnes structurées\n",
    "df_velos = df_kafka_velos.selectExpr(\"CAST(value AS STRING) AS message\") \\\n",
    "    .select(from_json(col(\"message\"), schema_velos).alias(\"data\")) \\\n",
    "    .select(\"data.*\")\n",
    "\n",
    "# Conversion du champ \"last_update\" en timestamp (format ISO 8601)\n",
    "df_velos = df_velos.withColumn(\"last_update_ts\", \n",
    "                               to_timestamp(col(\"last_update\"), \"yyyy-MM-dd'T'HH:mm:ssXXX\"))\n",
    "\n",
    "# Application d'un watermark de 5 minutes pour gérer les retards\n",
    "df_velos = df_velos.withWatermark(\"last_update_ts\", \"5 minutes\")\n",
    "\n",
    "# Agrégation sur une fenêtre de 5 minutes : calcul du total des places disponibles\n",
    "result_velos = df_velos.groupBy(\n",
    "    window(col(\"last_update_ts\"), \"5 minutes\"),\n",
    "    col(\"name\")\n",
    ").agg(\n",
    "    avg(\"available_bikes\").alias(\"moyenne_velos_disponibles\")\n",
    ")\n",
    "\n",
    "# Écriture du résultat en streaming vers la console (mode \"update\")\n",
    "query_velos = result_velos.writeStream \\\n",
    "    .outputMode(\"update\") \\\n",
    "    .format(\"console\") \\\n",
    "    .option(\"truncate\", \"false\") \\\n",
    "    .start()\n",
    "\n",
    "query_velos.awaitTermination()"
   ]
  },
  {
   "cell_type": "code",
   "execution_count": null,
   "metadata": {},
   "outputs": [],
   "source": [
    "query_velos.stop()"
   ]
  },
  {
   "cell_type": "markdown",
   "metadata": {},
   "source": [
    "## Streaming vers le dashboard"
   ]
  },
  {
   "cell_type": "markdown",
   "metadata": {},
   "source": [
    "### Velos disponibles"
   ]
  },
  {
   "cell_type": "code",
   "execution_count": null,
   "metadata": {},
   "outputs": [],
   "source": [
    "# Lecture en streaming depuis Kafka\n",
    "df_kafka_velos = sql_context.readStream \\\n",
    "    .format(\"kafka\") \\\n",
    "    .option(\"kafka.bootstrap.servers\", kafka_broker) \\\n",
    "    .option(\"subscribe\", velos_topic) \\\n",
    "    .option(\"startingOffsets\", \"latest\") \\\n",
    "    .load()\n",
    "\n",
    "# Conversion du champ \"value\" (JSON) en colonnes structurées\n",
    "df_velos = df_kafka_velos.selectExpr(\"CAST(value AS STRING) AS message\") \\\n",
    "    .select(from_json(col(\"message\"), schema_velos).alias(\"data\")) \\\n",
    "    .select(\"data.*\")\n",
    "\n",
    "# Conversion du champ \"last_update\" en timestamp (format ISO 8601)\n",
    "df_velos = df_velos.withColumn(\"last_update_ts\", \n",
    "                               to_timestamp(col(\"last_update\"), \"yyyy-MM-dd'T'HH:mm:ssXXX\"))\n",
    "\n",
    "# Application d'un watermark de 5 minutes pour gérer les retards\n",
    "df_velos = df_velos.withWatermark(\"last_update_ts\", \"5 minutes\")\n",
    "\n",
    "# Agrégation sur une fenêtre de 5 minutes : calcul du total des places disponibles\n",
    "result_velos = df_velos.groupBy(\n",
    "    window(col(\"last_update_ts\"), \"5 minutes\"),\n",
    "    col(\"name\")\n",
    ").agg(\n",
    "    avg(\"available_bikes\").alias(\"moyenne_velos_disponibles\")\n",
    ")\n",
    "\n",
    "# Préparation des données pour l'écriture dans Kafka\n",
    "dashboard_df = result_velos.select(\n",
    "    col(\"name\").cast(\"string\").alias(\"key\"),\n",
    "    to_json(struct(\n",
    "        col(\"window.start\").alias(\"window_start\"),\n",
    "        col(\"window.end\").alias(\"window_end\"),\n",
    "        col(\"name\"),\n",
    "        col(\"moyenne_velos_disponibles\")\n",
    "    )).alias(\"value\")\n",
    ")\n",
    "\n",
    "# Écriture du résultat en streaming vers le topic Kafka \"velos_dashboard\"\n",
    "query_velos = dashboard_df.writeStream \\\n",
    "    .format(\"kafka\") \\\n",
    "    .option(\"kafka.bootstrap.servers\", kafka_broker) \\\n",
    "    .option(\"topic\", \"dashvelos\") \\\n",
    "    .option(\"checkpointLocation\", \"/tmp/checkpoint_velos\") \\\n",
    "    .outputMode(\"update\") \\\n",
    "    .start()\n",
    "\n",
    "query_velos.awaitTermination()"
   ]
  },
  {
   "cell_type": "code",
   "execution_count": null,
   "metadata": {},
   "outputs": [],
   "source": [
    "query_velos.stop()"
   ]
  },
  {
   "cell_type": "markdown",
   "metadata": {},
   "source": [
    "### Relais"
   ]
  },
  {
   "cell_type": "code",
   "execution_count": null,
   "metadata": {},
   "outputs": [
    {
     "name": "stderr",
     "output_type": "stream",
     "text": [
      "25/02/20 14:08:51 WARN ResolveWriteToStream: spark.sql.adaptive.enabled is not supported in streaming DataFrames/Datasets and will be disabled.\n",
      "25/02/20 14:08:52 WARN AdminClientConfig: These configurations '[key.deserializer, value.deserializer, enable.auto.commit, max.poll.records, auto.offset.reset]' were supplied but are not used yet.\n",
      "                                                                                \r"
     ]
    }
   ],
   "source": [
    "# Lecture en streaming depuis Kafka pour le topic relais\n",
    "df_kafka = sql_context.readStream \\\n",
    "    .format(\"kafka\") \\\n",
    "    .option(\"kafka.bootstrap.servers\", kafka_broker) \\\n",
    "    .option(\"subscribe\", relais_topic) \\\n",
    "    .option(\"startingOffsets\", \"latest\") \\\n",
    "    .load()\n",
    "\n",
    "# Conversion du champ \"value\" (JSON) en colonnes structurées\n",
    "df_relais = df_kafka.selectExpr(\"CAST(value AS STRING) AS message\") \\\n",
    "    .select(from_json(col(\"message\"), schema_relais).alias(\"data\")) \\\n",
    "    .select(\"data.*\")\n",
    "\n",
    "# Conversion du champ \"grp_horodatage\" en timestamp\n",
    "df_relais = df_relais.withColumn(\"horodatage_ts\", \n",
    "                                  to_timestamp(col(\"grp_horodatage\"), \"yyyy-MM-dd'T'HH:mm:ssXXX\"))\n",
    "\n",
    "# Définition d'un watermark de 5 minutes pour gérer les retards éventuels\n",
    "df_relais = df_relais.withWatermark(\"horodatage_ts\", \"5 minutes\")\n",
    "\n",
    "# Agrégation sur une fenêtre de 5 minutes par identifiant : calcul de la moyenne des disponibilités\n",
    "result_stream = df_relais.groupBy(\n",
    "    window(col(\"horodatage_ts\"), \"5 minutes\"),\n",
    "    col(\"grp_identifiant\")\n",
    ").agg(\n",
    "    avg(\"disponibilite\").alias(\"avg_disponibilite\")\n",
    ")\n",
    "\n",
    "# Préparation des données pour l'écriture dans Kafka :\n",
    "# On crée une colonne \"key\" avec grp_identifiant et une colonne \"value\" contenant un JSON.\n",
    "dashboard_relais_df = result_stream.select(\n",
    "    col(\"grp_identifiant\").cast(\"string\").alias(\"key\"),\n",
    "    to_json(struct(\n",
    "        col(\"window.start\").alias(\"window_start\"),\n",
    "        col(\"window.end\").alias(\"window_end\"),\n",
    "        col(\"grp_identifiant\"),\n",
    "        col(\"avg_disponibilite\")\n",
    "    )).alias(\"value\")\n",
    ")\n",
    "\n",
    "# Écriture du résultat en streaming vers le topic Kafka \"dashrelais\"\n",
    "query_relais = dashboard_relais_df.writeStream \\\n",
    "    .format(\"kafka\") \\\n",
    "    .option(\"kafka.bootstrap.servers\", kafka_broker) \\\n",
    "    .option(\"topic\", \"dashrelais\") \\\n",
    "    .option(\"checkpointLocation\", \"/tmp/checkpoint_relais\") \\\n",
    "    .outputMode(\"update\") \\\n",
    "    .start()\n",
    "\n",
    "query_relais.awaitTermination()"
   ]
  },
  {
   "cell_type": "code",
   "execution_count": null,
   "metadata": {},
   "outputs": [],
   "source": [
    "query_relais.stop()"
   ]
  }
 ],
 "metadata": {
  "kernelspec": {
   "display_name": "Python 3 (ipykernel)",
   "language": "python",
   "name": "python3"
  },
  "language_info": {
   "codemirror_mode": {
    "name": "ipython",
    "version": 3
   },
   "file_extension": ".py",
   "mimetype": "text/x-python",
   "name": "python",
   "nbconvert_exporter": "python",
   "pygments_lexer": "ipython3",
   "version": "3.12.8"
  }
 },
 "nbformat": 4,
 "nbformat_minor": 2
}
