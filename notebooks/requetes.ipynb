{
 "cells": [
  {
   "cell_type": "code",
   "execution_count": 1,
   "metadata": {},
   "outputs": [
    {
     "name": "stdout",
     "output_type": "stream",
     "text": [
      "Connexion réussie à kafka1:9092\n"
     ]
    }
   ],
   "source": [
    "import socket\n",
    "\n",
    "def check_port(host, port):\n",
    "    sock = socket.socket(socket.AF_INET, socket.SOCK_STREAM)\n",
    "    sock.settimeout(5)  # Timeout de 5 secondes\n",
    "    result = sock.connect_ex((host, port))\n",
    "    if result == 0:\n",
    "        print(f\"Connexion réussie à {host}:{port}\")\n",
    "    else:\n",
    "        print(f\"Impossible de se connecter à {host}:{port}\")\n",
    "    sock.close()\n",
    "\n",
    "check_port(\"kafka1\", 9092)\n"
   ]
  },
  {
   "cell_type": "code",
   "execution_count": 1,
   "metadata": {},
   "outputs": [
    {
     "name": "stdout",
     "output_type": "stream",
     "text": [
      ":: loading settings :: url = jar:file:/opt/conda/lib/python3.12/site-packages/pyspark/jars/ivy-2.5.1.jar!/org/apache/ivy/core/settings/ivysettings.xml\n"
     ]
    },
    {
     "name": "stderr",
     "output_type": "stream",
     "text": [
      "Ivy Default Cache set to: /home/jovyan/.ivy2/cache\n",
      "The jars for the packages stored in: /home/jovyan/.ivy2/jars\n",
      "org.apache.hadoop#hadoop-aws added as a dependency\n",
      "org.apache.spark#spark-sql-kafka-0-10_2.12 added as a dependency\n",
      ":: resolving dependencies :: org.apache.spark#spark-submit-parent-1ac147ce-b9d2-4a70-92dd-b132009b63dc;1.0\n",
      "\tconfs: [default]\n",
      "\tfound org.apache.hadoop#hadoop-aws;3.3.4 in central\n",
      "\tfound com.amazonaws#aws-java-sdk-bundle;1.12.262 in central\n",
      "\tfound org.wildfly.openssl#wildfly-openssl;1.0.7.Final in central\n",
      "\tfound org.apache.spark#spark-sql-kafka-0-10_2.12;3.5.3 in central\n",
      "\tfound org.apache.spark#spark-token-provider-kafka-0-10_2.12;3.5.3 in central\n",
      "\tfound org.apache.kafka#kafka-clients;3.4.1 in central\n",
      "\tfound org.lz4#lz4-java;1.8.0 in central\n",
      "\tfound org.xerial.snappy#snappy-java;1.1.10.5 in central\n",
      "\tfound org.slf4j#slf4j-api;2.0.7 in central\n",
      "\tfound org.apache.hadoop#hadoop-client-runtime;3.3.4 in central\n",
      "\tfound org.apache.hadoop#hadoop-client-api;3.3.4 in central\n",
      "\tfound commons-logging#commons-logging;1.1.3 in central\n",
      "\tfound com.google.code.findbugs#jsr305;3.0.0 in central\n",
      "\tfound org.apache.commons#commons-pool2;2.11.1 in central\n",
      ":: resolution report :: resolve 720ms :: artifacts dl 40ms\n",
      "\t:: modules in use:\n",
      "\tcom.amazonaws#aws-java-sdk-bundle;1.12.262 from central in [default]\n",
      "\tcom.google.code.findbugs#jsr305;3.0.0 from central in [default]\n",
      "\tcommons-logging#commons-logging;1.1.3 from central in [default]\n",
      "\torg.apache.commons#commons-pool2;2.11.1 from central in [default]\n",
      "\torg.apache.hadoop#hadoop-aws;3.3.4 from central in [default]\n",
      "\torg.apache.hadoop#hadoop-client-api;3.3.4 from central in [default]\n",
      "\torg.apache.hadoop#hadoop-client-runtime;3.3.4 from central in [default]\n",
      "\torg.apache.kafka#kafka-clients;3.4.1 from central in [default]\n",
      "\torg.apache.spark#spark-sql-kafka-0-10_2.12;3.5.3 from central in [default]\n",
      "\torg.apache.spark#spark-token-provider-kafka-0-10_2.12;3.5.3 from central in [default]\n",
      "\torg.lz4#lz4-java;1.8.0 from central in [default]\n",
      "\torg.slf4j#slf4j-api;2.0.7 from central in [default]\n",
      "\torg.wildfly.openssl#wildfly-openssl;1.0.7.Final from central in [default]\n",
      "\torg.xerial.snappy#snappy-java;1.1.10.5 from central in [default]\n",
      "\t---------------------------------------------------------------------\n",
      "\t|                  |            modules            ||   artifacts   |\n",
      "\t|       conf       | number| search|dwnlded|evicted|| number|dwnlded|\n",
      "\t---------------------------------------------------------------------\n",
      "\t|      default     |   14  |   0   |   0   |   0   ||   14  |   0   |\n",
      "\t---------------------------------------------------------------------\n",
      ":: retrieving :: org.apache.spark#spark-submit-parent-1ac147ce-b9d2-4a70-92dd-b132009b63dc\n",
      "\tconfs: [default]\n",
      "\t0 artifacts copied, 14 already retrieved (0kB/28ms)\n",
      "25/02/16 16:54:23 WARN NativeCodeLoader: Unable to load native-hadoop library for your platform... using builtin-java classes where applicable\n",
      "Setting default log level to \"WARN\".\n",
      "To adjust logging level use sc.setLogLevel(newLevel). For SparkR, use setLogLevel(newLevel).\n",
      "/opt/conda/lib/python3.12/site-packages/pyspark/sql/context.py:113: FutureWarning: Deprecated in 3.0.0. Use SparkSession.builder.getOrCreate() instead.\n",
      "  warnings.warn(\n"
     ]
    }
   ],
   "source": [
    "from pyspark.sql import SparkSession\n",
    "from pyspark import SparkContext, SparkConf\n",
    "from pyspark.sql import SQLContext\n",
    "\n",
    "conf = SparkConf() \\\n",
    "    .setAppName('SparkApp') \\\n",
    "    .setMaster('spark://spark:7077') \\\n",
    "    .set(\"spark.jars.packages\", \"org.apache.hadoop:hadoop-aws:3.3.4,org.apache.spark:spark-sql-kafka-0-10_2.12:3.5.3\") \\\n",
    "    .set(\"spark.sql.shuffle.partitions\", \"10\")\n",
    " \n",
    "\n",
    "sc = SparkContext.getOrCreate(conf=conf)\n",
    "\n",
    "\n",
    "# Créer un SQLContext pour les opérations SQL\n",
    "sql_context = SQLContext(sc)"
   ]
  },
  {
   "cell_type": "markdown",
   "metadata": {},
   "source": [
    "## 1. Requête Batch sans fenêtre"
   ]
  },
  {
   "cell_type": "markdown",
   "metadata": {},
   "source": [
    "Comptage des arrêts par ligne à partir du topic « arrets »"
   ]
  },
  {
   "cell_type": "code",
   "execution_count": 4,
   "metadata": {},
   "outputs": [
    {
     "name": "stderr",
     "output_type": "stream",
     "text": [
      "25/02/16 16:37:33 WARN AdminClientConfig: These configurations '[key.deserializer, value.deserializer, enable.auto.commit, max.poll.records, auto.offset.reset]' were supplied but are not used yet.\n",
      "25/02/16 16:37:34 WARN AdminClientConfig: These configurations '[key.deserializer, value.deserializer, enable.auto.commit, max.poll.records, auto.offset.reset]' were supplied but are not used yet.\n"
     ]
    },
    {
     "name": "stdout",
     "output_type": "stream",
     "text": [
      "+--------------------+---------+\n",
      "|               ligne|nb_arrets|\n",
      "+--------------------+---------+\n",
      "| [{\"numLigne\":\"79\"}]|        6|\n",
      "|[{\"numLigne\":\"127...|        2|\n",
      "|[{\"numLigne\":\"119...|        7|\n",
      "| [{\"numLigne\":\"80\"}]|       10|\n",
      "|[{\"numLigne\":\"172...|        2|\n",
      "|[{\"numLigne\":\"75\"...|        6|\n",
      "|[{\"numLigne\":\"30\"...|        7|\n",
      "| [{\"numLigne\":\"91\"}]|       14|\n",
      "|[{\"numLigne\":\"11\"...|        4|\n",
      "| [{\"numLigne\":\"C3\"}]|       12|\n",
      "|[{\"numLigne\":\"101...|        2|\n",
      "| [{\"numLigne\":\"30\"}]|       12|\n",
      "|[{\"numLigne\":\"112...|        1|\n",
      "|[{\"numLigne\":\"1\"}...|        1|\n",
      "|[{\"numLigne\":\"179...|        2|\n",
      "|[{\"numLigne\":\"107...|        3|\n",
      "|[{\"numLigne\":\"1\"}...|        1|\n",
      "|[{\"numLigne\":\"127...|        2|\n",
      "|[{\"numLigne\":\"50\"...|        4|\n",
      "|[{\"numLigne\":\"105...|        4|\n",
      "+--------------------+---------+\n",
      "only showing top 20 rows\n",
      "\n"
     ]
    },
    {
     "name": "stderr",
     "output_type": "stream",
     "text": [
      "[Stage 12:=============================>                            (1 + 1) / 2]\r"
     ]
    },
    {
     "name": "stdout",
     "output_type": "stream",
     "text": [
      "+-------+--------------------+-----------------+\n",
      "|summary|               ligne|        nb_arrets|\n",
      "+-------+--------------------+-----------------+\n",
      "|  count|                 434|              434|\n",
      "|   mean|                NULL|2.686635944700461|\n",
      "| stddev|                NULL|3.224968441931372|\n",
      "|    min|                  []|                1|\n",
      "|    max|[{\"numLigne\":\"NBI\"}]|               28|\n",
      "+-------+--------------------+-----------------+\n",
      "\n"
     ]
    },
    {
     "name": "stderr",
     "output_type": "stream",
     "text": [
      "                                                                                \r"
     ]
    }
   ],
   "source": [
    "from pyspark.sql import SparkSession\n",
    "from pyspark.sql.functions import from_json, col, count\n",
    "from pyspark.sql.types import StructType, StructField, StringType, FloatType\n",
    "\n",
    "kafka_broker = \"kafka1:9092\"\n",
    "kafka_topic = \"arrets\"\n",
    "\n",
    "# Définition du schéma pour le topic \"arrets\"\n",
    "schema_arrets = StructType([\n",
    "    StructField(\"codeLieu\", StringType(), True),\n",
    "    StructField(\"libelle\", StringType(), True),\n",
    "    StructField(\"distance\", FloatType(), True),\n",
    "    StructField(\"ligne\", StringType(), True)\n",
    "])\n",
    "\n",
    "# Lecture brute des messages Kafka\n",
    "df_kafka = sql_context.read \\\n",
    "    .format(\"kafka\") \\\n",
    "    .option(\"kafka.bootstrap.servers\", kafka_broker) \\\n",
    "    .option(\"subscribe\", kafka_topic) \\\n",
    "    .option(\"startingOffsets\", \"earliest\") \\\n",
    "    .load()\n",
    "\n",
    "# Conversion du champ \"value\" (encodé en JSON) en colonnes structurées\n",
    "df_arrets = df_kafka.selectExpr(\"CAST(value AS STRING) AS message\") \\\n",
    "    .select(from_json(col(\"message\"), schema_arrets).alias(\"data\")) \\\n",
    "    .select(\"data.*\")\n",
    "\n",
    "# Agrégation : compter le nombre d'arrêts par \"ligne\"\n",
    "result = df_arrets.groupBy(\"ligne\").agg(count(\"*\").alias(\"nb_arrets\"))\n",
    "\n",
    "# Affichage du résultat\n",
    "result.show()\n",
    "result.describe().show()"
   ]
  },
  {
   "cell_type": "markdown",
   "metadata": {},
   "source": [
    "## Requête Batch avec fenêtre\n",
    "\n",
    "Vélos disponibles par contrat sur des fenêtres temporelles à partir du topic « velos ».\n",
    "Malheuresement on a qu'une donnée par station donc ca permet pas de faire de l'aggrégation comme la moyenne de vélo sur la période..... faut essayer de trouver des données plus pertinentes."
   ]
  },
  {
   "cell_type": "code",
   "execution_count": 9,
   "metadata": {},
   "outputs": [
    {
     "name": "stderr",
     "output_type": "stream",
     "text": [
      "25/02/16 17:02:28 WARN AdminClientConfig: These configurations '[key.deserializer, value.deserializer, enable.auto.commit, max.poll.records, auto.offset.reset]' were supplied but are not used yet.\n",
      "[Stage 9:=============================>                             (1 + 1) / 2]\r"
     ]
    },
    {
     "name": "stdout",
     "output_type": "stream",
     "text": [
      "+--------------------+------+-------------+----------+----------------------+\n",
      "|              window|number|contract_name|nb_updates|latest_available_bikes|\n",
      "+--------------------+------+-------------+----------+----------------------+\n",
      "|{2025-02-16 15:30...|    15|       nantes|         1|                    14|\n",
      "|{2025-02-16 15:30...|    20|       nantes|         1|                     9|\n",
      "|{2025-02-16 15:30...|    50|       nantes|         1|                     7|\n",
      "|{2025-02-16 15:30...|     1|       nantes|         1|                    23|\n",
      "|{2025-02-16 15:30...|    44|       nantes|         1|                     9|\n",
      "|{2025-02-16 15:30...|    72|       nantes|         1|                     6|\n",
      "|{2025-02-16 15:30...|    52|       nantes|         1|                     1|\n",
      "|{2025-02-16 15:30...|    96|       nantes|         1|                     6|\n",
      "|{2025-02-16 15:30...|   124|       nantes|         1|                     1|\n",
      "|{2025-02-16 15:30...|    17|       nantes|         1|                     1|\n",
      "|{2025-02-16 15:30...|    51|       nantes|         1|                     4|\n",
      "|{2025-02-16 15:30...|    89|       nantes|         1|                     2|\n",
      "|{2025-02-16 15:30...|    90|       nantes|         1|                    14|\n",
      "|{2025-02-16 15:30...|    68|       nantes|         1|                     5|\n",
      "|{2025-02-16 15:30...|   110|       nantes|         1|                     7|\n",
      "|{2025-02-16 15:30...|    99|       nantes|         1|                     4|\n",
      "|{2025-02-16 15:30...|    54|       nantes|         1|                    11|\n",
      "|{2025-02-16 15:30...|    88|       nantes|         1|                     2|\n",
      "|{2025-02-16 15:30...|    48|       nantes|         1|                     0|\n",
      "|{2025-02-16 15:30...|    10|       nantes|         1|                    17|\n",
      "+--------------------+------+-------------+----------+----------------------+\n",
      "only showing top 20 rows\n",
      "\n"
     ]
    },
    {
     "name": "stderr",
     "output_type": "stream",
     "text": [
      "                                                                                \r"
     ]
    }
   ],
   "source": [
    "from pyspark.sql import SparkSession\n",
    "from pyspark.sql.functions import from_json, col, window, avg, to_timestamp, count, min, max, last\n",
    "from pyspark.sql.types import StructType, StructField, StringType, IntegerType, DoubleType\n",
    "\n",
    "kafka_broker = \"kafka1:9092\"\n",
    "kafka_topic = \"velos\"\n",
    "\n",
    "# Définition du schéma pour le champ \"position\"\n",
    "position_schema = StructType([\n",
    "    StructField(\"lon\", DoubleType(), True),\n",
    "    StructField(\"lat\", DoubleType(), True)\n",
    "])\n",
    "\n",
    "# Définition du schéma pour le topic \"velos\"\n",
    "schema_velos = StructType([\n",
    "    StructField(\"number\", StringType(), True),\n",
    "    StructField(\"name\", StringType(), True),\n",
    "    StructField(\"address\", StringType(), True),\n",
    "    StructField(\"position\", position_schema, True),\n",
    "    StructField(\"banking\", StringType(), True),\n",
    "    StructField(\"bonus\", StringType(), True),\n",
    "    StructField(\"status\", StringType(), True),\n",
    "    StructField(\"contract_name\", StringType(), True),\n",
    "    StructField(\"bike_stands\", IntegerType(), True),\n",
    "    StructField(\"available_bike_stands\", IntegerType(), True),\n",
    "    StructField(\"available_bikes\", IntegerType(), True),\n",
    "    StructField(\"last_update\", StringType(), True)\n",
    "])\n",
    "\n",
    "# Lecture brute des messages Kafka\n",
    "df_kafka = sql_context.read \\\n",
    "    .format(\"kafka\") \\\n",
    "    .option(\"kafka.bootstrap.servers\", kafka_broker) \\\n",
    "    .option(\"subscribe\", kafka_topic) \\\n",
    "    .option(\"startingOffsets\", \"earliest\") \\\n",
    "    .load()\n",
    "\n",
    "# Conversion du champ \"value\" en JSON\n",
    "df_velos = df_kafka.selectExpr(\"CAST(value AS STRING) AS message\") \\\n",
    "    .select(from_json(col(\"message\"), schema_velos).alias(\"data\")) \\\n",
    "    .select(\"data.*\")\n",
    "\n",
    "# Conversion de \"last_update\" en timestamp (format ISO 8601)\n",
    "df_velos = df_velos.withColumn(\"last_update_ts\", \n",
    "                               to_timestamp(col(\"last_update\"), \"yyyy-MM-dd'T'HH:mm:ssXXX\"))\n",
    "\n",
    "# Agrégation par fenêtre (ici, on allonge la fenêtre à 30 minutes pour accumuler plusieurs mises à jour) et par station\n",
    "result_window = df_velos.groupBy(\n",
    "    window(col(\"last_update_ts\"), \"30 minutes\"), \n",
    "    col(\"number\"),\n",
    "    col(\"contract_name\")\n",
    ").agg(\n",
    "    count(\"*\").alias(\"nb_updates\"),\n",
    "    last(\"available_bikes\", ignorenulls=True).alias(\"latest_available_bikes\")\n",
    ")\n",
    "\n",
    "result_window.show()"
   ]
  },
  {
   "cell_type": "markdown",
   "metadata": {},
   "source": [
    "## Requêtes Streaming"
   ]
  },
  {
   "cell_type": "code",
   "execution_count": null,
   "metadata": {},
   "outputs": [
    {
     "name": "stderr",
     "output_type": "stream",
     "text": [
      "25/02/16 17:16:22 WARN ResolveWriteToStream: Temporary checkpoint location created which is deleted normally when the query didn't fail: /tmp/temporary-ac2ee7fe-255a-4280-996c-8f089c4b77ae. If it's required to delete it under any circumstances, please set spark.sql.streaming.forceDeleteTempCheckpointLocation to true. Important to know deleting temp checkpoint folder is best effort.\n",
      "25/02/16 17:16:22 WARN ResolveWriteToStream: spark.sql.adaptive.enabled is not supported in streaming DataFrames/Datasets and will be disabled.\n",
      "25/02/16 17:16:22 WARN AdminClientConfig: These configurations '[key.deserializer, value.deserializer, enable.auto.commit, max.poll.records, auto.offset.reset]' were supplied but are not used yet.\n",
      "                                                                                \r"
     ]
    },
    {
     "name": "stdout",
     "output_type": "stream",
     "text": [
      "-------------------------------------------\n",
      "Batch: 0\n",
      "-------------------------------------------\n",
      "+------------------------------------------+------+-------------+----------+----------------------+\n",
      "|window                                    |number|contract_name|nb_updates|latest_available_bikes|\n",
      "+------------------------------------------+------+-------------+----------+----------------------+\n",
      "|{2025-02-16 15:45:30, 2025-02-16 15:45:40}|73    |nantes       |1         |1                     |\n",
      "|{2025-02-16 15:45:40, 2025-02-16 15:45:50}|114   |nantes       |1         |9                     |\n",
      "|{2025-02-16 15:43:50, 2025-02-16 15:44:00}|97    |nantes       |1         |0                     |\n",
      "|{2025-02-16 15:45:40, 2025-02-16 15:45:50}|6     |nantes       |1         |4                     |\n",
      "|{2025-02-16 15:38:00, 2025-02-16 15:38:10}|40    |nantes       |1         |6                     |\n",
      "|{2025-02-16 15:39:30, 2025-02-16 15:39:40}|80    |nantes       |1         |7                     |\n",
      "|{2025-02-16 15:44:00, 2025-02-16 15:44:10}|61    |nantes       |1         |8                     |\n",
      "|{2025-02-16 15:41:20, 2025-02-16 15:41:30}|55    |nantes       |1         |10                    |\n",
      "|{2025-02-16 15:44:10, 2025-02-16 15:44:20}|125   |nantes       |1         |5                     |\n",
      "|{2025-02-16 15:38:00, 2025-02-16 15:38:10}|15    |nantes       |1         |14                    |\n",
      "|{2025-02-16 15:46:10, 2025-02-16 15:46:20}|2     |nantes       |1         |2                     |\n",
      "|{2025-01-26 05:11:50, 2025-01-26 05:12:00}|28    |nantes       |1         |8                     |\n",
      "|{2025-02-16 15:47:00, 2025-02-16 15:47:10}|120   |nantes       |1         |6                     |\n",
      "|{2025-02-16 15:38:00, 2025-02-16 15:38:10}|10    |nantes       |1         |17                    |\n",
      "|{2025-02-16 15:45:10, 2025-02-16 15:45:20}|13    |nantes       |1         |3                     |\n",
      "|{2025-02-16 15:44:00, 2025-02-16 15:44:10}|76    |nantes       |1         |4                     |\n",
      "|{2025-02-16 15:41:50, 2025-02-16 15:42:00}|115   |nantes       |1         |18                    |\n",
      "|{2025-02-16 15:44:50, 2025-02-16 15:45:00}|71    |nantes       |1         |4                     |\n",
      "|{2025-02-16 15:45:10, 2025-02-16 15:45:20}|3     |nantes       |1         |1                     |\n",
      "|{2025-02-16 15:43:40, 2025-02-16 15:43:50}|43    |nantes       |1         |9                     |\n",
      "+------------------------------------------+------+-------------+----------+----------------------+\n",
      "only showing top 20 rows\n",
      "\n"
     ]
    }
   ],
   "source": [
    "# Lecture en streaming des messages Kafka\n",
    "df_kafka_stream = sql_context.readStream \\\n",
    "    .format(\"kafka\") \\\n",
    "    .option(\"kafka.bootstrap.servers\", kafka_broker) \\\n",
    "    .option(\"subscribe\", kafka_topic) \\\n",
    "    .option(\"startingOffsets\", \"earliest\") \\\n",
    "    .load()\n",
    "\n",
    "# Conversion du champ \"value\" en chaîne et parsing du JSON selon le schéma\n",
    "df_velos_stream = df_kafka_stream.selectExpr(\"CAST(value AS STRING) AS message\") \\\n",
    "    .select(from_json(col(\"message\"), schema_velos).alias(\"data\")) \\\n",
    "    .select(\"data.*\")\n",
    "\n",
    "# Conversion du champ \"last_update\" en timestamp avec le format ISO 8601\n",
    "df_velos_stream = df_velos_stream.withColumn(\"last_update_ts\", \n",
    "                                               to_timestamp(col(\"last_update\"), \"yyyy-MM-dd'T'HH:mm:ssXXX\"))\n",
    "\n",
    "# Agrégation en mode streaming : moyenne des vélos disponibles par contrat sur des fenêtres de 5 minutes\n",
    "streaming_result = df_velos_stream.groupBy(\n",
    "    window(col(\"last_update_ts\"), \"10 seconds\"), \n",
    "    col(\"number\"),\n",
    "    col(\"contract_name\")\n",
    ").agg(\n",
    "    count(\"*\").alias(\"nb_updates\"),\n",
    "    last(\"available_bikes\", ignorenulls=True).alias(\"latest_available_bikes\")\n",
    ")\n",
    "\n",
    "# Ecriture du résultat en console (mode streaming)\n",
    "query = streaming_result.writeStream \\\n",
    "    .outputMode(\"complete\") \\\n",
    "    .format(\"console\") \\\n",
    "    .option(\"truncate\", \"false\") \\\n",
    "    .start()\n",
    "\n",
    "query.awaitTermination()"
   ]
  },
  {
   "cell_type": "code",
   "execution_count": 16,
   "metadata": {},
   "outputs": [],
   "source": [
    "query.stop()"
   ]
  }
 ],
 "metadata": {
  "kernelspec": {
   "display_name": "Python 3 (ipykernel)",
   "language": "python",
   "name": "python3"
  },
  "language_info": {
   "codemirror_mode": {
    "name": "ipython",
    "version": 3
   },
   "file_extension": ".py",
   "mimetype": "text/x-python",
   "name": "python",
   "nbconvert_exporter": "python",
   "pygments_lexer": "ipython3",
   "version": "3.12.8"
  }
 },
 "nbformat": 4,
 "nbformat_minor": 2
}
