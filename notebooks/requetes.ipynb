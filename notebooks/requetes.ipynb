{
 "cells": [
  {
   "cell_type": "markdown",
   "metadata": {},
   "source": [
    "## Configuration Spark"
   ]
  },
  {
   "cell_type": "code",
   "execution_count": 1,
   "metadata": {},
   "outputs": [
    {
     "name": "stdout",
     "output_type": "stream",
     "text": [
      "Connexion réussie à kafka1:9092\n"
     ]
    }
   ],
   "source": [
    "import socket\n",
    "\n",
    "def check_port(host, port):\n",
    "    sock = socket.socket(socket.AF_INET, socket.SOCK_STREAM)\n",
    "    sock.settimeout(5)  # Timeout de 5 secondes\n",
    "    result = sock.connect_ex((host, port))\n",
    "    if result == 0:\n",
    "        print(f\"Connexion réussie à {host}:{port}\")\n",
    "    else:\n",
    "        print(f\"Impossible de se connecter à {host}:{port}\")\n",
    "    sock.close()\n",
    "\n",
    "check_port(\"kafka1\", 9092)\n"
   ]
  },
  {
   "cell_type": "code",
   "execution_count": 2,
   "metadata": {},
   "outputs": [
    {
     "name": "stdout",
     "output_type": "stream",
     "text": [
      ":: loading settings :: url = jar:file:/opt/conda/lib/python3.12/site-packages/pyspark/jars/ivy-2.5.1.jar!/org/apache/ivy/core/settings/ivysettings.xml\n"
     ]
    },
    {
     "name": "stderr",
     "output_type": "stream",
     "text": [
      "Ivy Default Cache set to: /home/jovyan/.ivy2/cache\n",
      "The jars for the packages stored in: /home/jovyan/.ivy2/jars\n",
      "org.apache.hadoop#hadoop-aws added as a dependency\n",
      "org.apache.spark#spark-sql-kafka-0-10_2.12 added as a dependency\n",
      ":: resolving dependencies :: org.apache.spark#spark-submit-parent-7848d4e8-b9ab-46bb-89f6-dbe2085da980;1.0\n",
      "\tconfs: [default]\n",
      "\tfound org.apache.hadoop#hadoop-aws;3.3.4 in central\n",
      "\tfound com.amazonaws#aws-java-sdk-bundle;1.12.262 in central\n",
      "\tfound org.wildfly.openssl#wildfly-openssl;1.0.7.Final in central\n",
      "\tfound org.apache.spark#spark-sql-kafka-0-10_2.12;3.5.3 in central\n",
      "\tfound org.apache.spark#spark-token-provider-kafka-0-10_2.12;3.5.3 in central\n",
      "\tfound org.apache.kafka#kafka-clients;3.4.1 in central\n",
      "\tfound org.lz4#lz4-java;1.8.0 in central\n",
      "\tfound org.xerial.snappy#snappy-java;1.1.10.5 in central\n",
      "\tfound org.slf4j#slf4j-api;2.0.7 in central\n",
      "\tfound org.apache.hadoop#hadoop-client-runtime;3.3.4 in central\n",
      "\tfound org.apache.hadoop#hadoop-client-api;3.3.4 in central\n",
      "\tfound commons-logging#commons-logging;1.1.3 in central\n",
      "\tfound com.google.code.findbugs#jsr305;3.0.0 in central\n",
      "\tfound org.apache.commons#commons-pool2;2.11.1 in central\n",
      ":: resolution report :: resolve 1123ms :: artifacts dl 143ms\n",
      "\t:: modules in use:\n",
      "\tcom.amazonaws#aws-java-sdk-bundle;1.12.262 from central in [default]\n",
      "\tcom.google.code.findbugs#jsr305;3.0.0 from central in [default]\n",
      "\tcommons-logging#commons-logging;1.1.3 from central in [default]\n",
      "\torg.apache.commons#commons-pool2;2.11.1 from central in [default]\n",
      "\torg.apache.hadoop#hadoop-aws;3.3.4 from central in [default]\n",
      "\torg.apache.hadoop#hadoop-client-api;3.3.4 from central in [default]\n",
      "\torg.apache.hadoop#hadoop-client-runtime;3.3.4 from central in [default]\n",
      "\torg.apache.kafka#kafka-clients;3.4.1 from central in [default]\n",
      "\torg.apache.spark#spark-sql-kafka-0-10_2.12;3.5.3 from central in [default]\n",
      "\torg.apache.spark#spark-token-provider-kafka-0-10_2.12;3.5.3 from central in [default]\n",
      "\torg.lz4#lz4-java;1.8.0 from central in [default]\n",
      "\torg.slf4j#slf4j-api;2.0.7 from central in [default]\n",
      "\torg.wildfly.openssl#wildfly-openssl;1.0.7.Final from central in [default]\n",
      "\torg.xerial.snappy#snappy-java;1.1.10.5 from central in [default]\n",
      "\t---------------------------------------------------------------------\n",
      "\t|                  |            modules            ||   artifacts   |\n",
      "\t|       conf       | number| search|dwnlded|evicted|| number|dwnlded|\n",
      "\t---------------------------------------------------------------------\n",
      "\t|      default     |   14  |   0   |   0   |   0   ||   14  |   0   |\n",
      "\t---------------------------------------------------------------------\n",
      ":: retrieving :: org.apache.spark#spark-submit-parent-7848d4e8-b9ab-46bb-89f6-dbe2085da980\n",
      "\tconfs: [default]\n",
      "\t0 artifacts copied, 14 already retrieved (0kB/26ms)\n",
      "25/02/17 12:55:34 WARN NativeCodeLoader: Unable to load native-hadoop library for your platform... using builtin-java classes where applicable\n",
      "Setting default log level to \"WARN\".\n",
      "To adjust logging level use sc.setLogLevel(newLevel). For SparkR, use setLogLevel(newLevel).\n",
      "/opt/conda/lib/python3.12/site-packages/pyspark/sql/context.py:113: FutureWarning: Deprecated in 3.0.0. Use SparkSession.builder.getOrCreate() instead.\n",
      "  warnings.warn(\n"
     ]
    }
   ],
   "source": [
    "from pyspark.sql import SparkSession\n",
    "from pyspark import SparkContext, SparkConf\n",
    "from pyspark.sql import SQLContext\n",
    "\n",
    "conf = SparkConf() \\\n",
    "    .setAppName('SparkApp') \\\n",
    "    .setMaster('spark://spark:7077') \\\n",
    "    .set(\"spark.jars.packages\", \"org.apache.hadoop:hadoop-aws:3.3.4,org.apache.spark:spark-sql-kafka-0-10_2.12:3.5.3\") \\\n",
    "    .set(\"spark.sql.shuffle.partitions\", \"10\")\n",
    " \n",
    "\n",
    "sc = SparkContext.getOrCreate(conf=conf)\n",
    "\n",
    "\n",
    "# Créer un SQLContext pour les opérations SQL\n",
    "sql_context = SQLContext(sc)"
   ]
  },
  {
   "cell_type": "markdown",
   "metadata": {},
   "source": [
    "## Imports"
   ]
  },
  {
   "cell_type": "code",
   "execution_count": 3,
   "metadata": {},
   "outputs": [],
   "source": [
    "from pyspark.sql import SparkSession\n",
    "from pyspark.sql.functions import from_json, col, count, window, avg, to_timestamp, min, max, last, broadcast, current_timestamp\n",
    "from pyspark.sql.functions import sum as spark_sum\n",
    "from pyspark.sql.types import StructType, StructField, StringType, FloatType, IntegerType, DoubleType, BooleanType\n",
    "import pandas as pd\n",
    "import seaborn as sns\n",
    "import matplotlib.pyplot as plt\n",
    "import matplotlib.dates as mdates"
   ]
  },
  {
   "cell_type": "markdown",
   "metadata": {},
   "source": [
    "## Schémas et Topics\n"
   ]
  },
  {
   "cell_type": "code",
   "execution_count": 4,
   "metadata": {},
   "outputs": [],
   "source": [
    "kafka_broker = \"kafka1:9092\"\n",
    "arrets_topic = \"arrets\"\n",
    "velos_topic = \"velos\"\n",
    "relais_topic = \"relais\"\n",
    "\n",
    "# Définition du schéma pour le topic \"arrets\"\n",
    "schema_arrets = StructType([\n",
    "    StructField(\"codeLieu\", StringType()),\n",
    "    StructField(\"libelle\", StringType()),\n",
    "    StructField(\"distance\", FloatType()),\n",
    "    StructField(\"ligne\", StringType())\n",
    "])\n",
    "\n",
    "# Définition du schéma pour le champ \"position\"\n",
    "position_schema = StructType([\n",
    "    StructField(\"lon\", DoubleType()),\n",
    "    StructField(\"lat\", DoubleType())\n",
    "])\n",
    "\n",
    "# Définition du schéma pour le topic \"velos\"\n",
    "schema_velos = StructType([\n",
    "    StructField(\"number\", StringType()),\n",
    "    StructField(\"name\", StringType()),\n",
    "    StructField(\"address\", StringType()),\n",
    "    StructField(\"position\", position_schema),\n",
    "    StructField(\"banking\", StringType()),\n",
    "    StructField(\"bonus\", StringType()),\n",
    "    StructField(\"status\", StringType()),\n",
    "    StructField(\"contract_name\", StringType()),\n",
    "    StructField(\"bike_stands\", IntegerType()),\n",
    "    StructField(\"available_bike_stands\", IntegerType()),\n",
    "    StructField(\"available_bikes\", IntegerType()),\n",
    "    StructField(\"last_update\", StringType())\n",
    "])\n",
    "\n",
    "# Définition du schéma pour le topic \"relais\"\n",
    "schema_relais = StructType([\n",
    "    StructField(\"grp_identifiant\", StringType()),\n",
    "    StructField(\"grp_nom\", StringType()),\n",
    "    StructField(\"grp_statut\", IntegerType()),\n",
    "    StructField(\"grp_disponible\", IntegerType()),\n",
    "    StructField(\"grp_exploitation\", IntegerType()),\n",
    "    StructField(\"grp_complet\", IntegerType()),\n",
    "    StructField(\"grp_horodatage\", StringType()),\n",
    "    StructField(\"idobj\", StringType()),\n",
    "    StructField(\"location\", StructType([\n",
    "        StructField(\"lon\", DoubleType()),\n",
    "        StructField(\"lat\", DoubleType())\n",
    "    ])),\n",
    "    StructField(\"disponibilite\", DoubleType())\n",
    "])\n"
   ]
  },
  {
   "cell_type": "markdown",
   "metadata": {},
   "source": [
    "## Requête Batch sans fenêtre"
   ]
  },
  {
   "cell_type": "markdown",
   "metadata": {},
   "source": [
    "Comptage des arrêts par ligne à partir du topic « arrets »"
   ]
  },
  {
   "cell_type": "code",
   "execution_count": null,
   "metadata": {},
   "outputs": [],
   "source": [
    "# Lecture brute des messages Kafka\n",
    "df_kafka = sql_context.read \\\n",
    "    .format(\"kafka\") \\\n",
    "    .option(\"kafka.bootstrap.servers\", kafka_broker) \\\n",
    "    .option(\"subscribe\", arrets_topic) \\\n",
    "    .option(\"startingOffsets\", \"earliest\") \\\n",
    "    .load()\n",
    "\n",
    "# Conversion du champ \"value\" (encodé en JSON) en colonnes structurées\n",
    "df_arrets = df_kafka.selectExpr(\"CAST(value AS STRING) AS message\") \\\n",
    "    .select(from_json(col(\"message\"), schema_arrets).alias(\"data\")) \\\n",
    "    .select(\"data.*\")\n",
    "\n",
    "# Agrégation : compter le nombre d'arrêts par \"ligne\"\n",
    "result = df_arrets.groupBy(\"ligne\").agg(count(\"*\").alias(\"nb_arrets\"))\n",
    "\n",
    "# Affichage du résultat\n",
    "result.show()\n",
    "result.describe().show()"
   ]
  },
  {
   "cell_type": "markdown",
   "metadata": {},
   "source": [
    "## Requête Batch avec fenêtre\n",
    "\n",
    "Vélos disponibles par contrat sur des fenêtres temporelles à partir du topic « velos ».\n",
    "Malheuresement on a qu'une donnée par station donc ca permet pas de faire de l'aggrégation comme la moyenne de vélo sur la période..... faut essayer de trouver des données plus pertinentes."
   ]
  },
  {
   "cell_type": "code",
   "execution_count": null,
   "metadata": {},
   "outputs": [],
   "source": [
    "# Lecture brute des messages Kafka\n",
    "df_kafka = sql_context.read \\\n",
    "    .format(\"kafka\") \\\n",
    "    .option(\"kafka.bootstrap.servers\", kafka_broker) \\\n",
    "    .option(\"subscribe\", velos_topic) \\\n",
    "    .option(\"startingOffsets\", \"earliest\") \\\n",
    "    .load()\n",
    "\n",
    "# Conversion du champ \"value\" en JSON\n",
    "df_velos = df_kafka.selectExpr(\"CAST(value AS STRING) AS message\") \\\n",
    "    .select(from_json(col(\"message\"), schema_velos).alias(\"data\")) \\\n",
    "    .select(\"data.*\")\n",
    "\n",
    "# Conversion de \"last_update\" en timestamp (format ISO 8601)\n",
    "df_velos = df_velos.withColumn(\"last_update_ts\", \n",
    "                               to_timestamp(col(\"last_update\"), \"yyyy-MM-dd'T'HH:mm:ssXXX\"))\n",
    "\n",
    "# Agrégation par fenêtre (ici, on allonge la fenêtre à 30 minutes pour accumuler plusieurs mises à jour) et par station\n",
    "result_window = df_velos.groupBy(\n",
    "    window(col(\"last_update_ts\"), \"30 minutes\"), \n",
    "    col(\"number\"),\n",
    "    col(\"contract_name\")\n",
    ").agg(\n",
    "    count(\"*\").alias(\"nb_updates\"),\n",
    "    last(\"available_bikes\", ignorenulls=True).alias(\"latest_available_bikes\")\n",
    ")\n",
    "\n",
    "result_window.show()"
   ]
  },
  {
   "cell_type": "markdown",
   "metadata": {},
   "source": [
    "### Batch et visualisation graphique"
   ]
  },
  {
   "cell_type": "code",
   "execution_count": null,
   "metadata": {},
   "outputs": [
    {
     "name": "stderr",
     "output_type": "stream",
     "text": [
      "25/02/17 12:56:28 WARN AdminClientConfig: These configurations '[key.deserializer, value.deserializer, enable.auto.commit, max.poll.records, auto.offset.reset]' were supplied but are not used yet.\n",
      "                                                                                \r"
     ]
    },
    {
     "data": {
      "image/png": "[encoded data removed]",
      "text/plain": [
       "<Figure size 1200x600 with 1 Axes>"
      ]
     },
     "metadata": {},
     "output_type": "display_data"
    }
   ],
   "source": [
    "# Lecture batch depuis Kafka\n",
    "df_kafka = sql_context.read \\\n",
    "    .format(\"kafka\") \\\n",
    "    .option(\"kafka.bootstrap.servers\", kafka_broker) \\\n",
    "    .option(\"subscribe\", relais_topic) \\\n",
    "    .option(\"startingOffsets\", \"earliest\") \\\n",
    "    .load()\n",
    "\n",
    "# Conversion du JSON\n",
    "df_relais = df_kafka.selectExpr(\"CAST(value AS STRING) AS message\") \\\n",
    "    .select(from_json(col(\"message\"), schema_relais).alias(\"data\")) \\\n",
    "    .select(\"data.*\")\n",
    "\n",
    "# Conversion du champ de date en timestamp (format ISO 8601)\n",
    "df_relais = df_relais.withColumn(\"horodatage_ts\", \n",
    "                                  to_timestamp(col(\"grp_horodatage\"), \"yyyy-MM-dd'T'HH:mm:ssXXX\"))\n",
    "\n",
    "# Agrégation : calcul de la disponibilité moyenne par parking sur une fenêtre d'1 jour\n",
    "result = df_relais.groupBy(\n",
    "    window(col(\"horodatage_ts\"), \"1 hour\"),\n",
    "    col(\"grp_identifiant\"),\n",
    "    col(\"grp_nom\")\n",
    ").agg(\n",
    "    avg(\"disponibilite\").alias(\"avg_disponibilite\")\n",
    ")\n",
    "\n",
    "# Extraire la date de début de la fenêtre pour le graphique\n",
    "result = result.withColumn(\"window_start\", col(\"window.start\")).drop(\"window\")\n",
    "\n",
    "# Conversion du résultat en DataFrame Pandas\n",
    "pandas_df = result.toPandas()\n",
    "\n",
    "# Tri des données par date et par parking\n",
    "pandas_df.sort_values(by=[\"window_start\", \"grp_identifiant\"], inplace=True)\n",
    "\n",
    "# Visualisation avec Seaborn : une ligne par parking (grp_nom)\n",
    "plt.figure(figsize=(12, 6))\n",
    "sns.lineplot(data=pandas_df, x=\"window_start\", y=\"avg_disponibilite\", hue=\"grp_nom\", marker=\"o\")\n",
    "plt.title(\"Disponibilité moyenne journalière des parkings relais\")\n",
    "plt.xlabel(\"Date\")\n",
    "plt.ylabel(\"Disponibilité moyenne\")\n",
    "plt.gca().xaxis.set_major_formatter(mdates.DateFormatter('%Y-%m-%d'))\n",
    "plt.xticks(rotation=45)\n",
    "plt.tight_layout()\n",
    "plt.show()\n"
   ]
  },
  {
   "cell_type": "markdown",
   "metadata": {},
   "source": [
    "## Requêtes Streaming"
   ]
  },
  {
   "cell_type": "markdown",
   "metadata": {},
   "source": [
    "### Récuperer la moyenne des disponiblités des parkings relais sur une fenêtre glissante."
   ]
  },
  {
   "cell_type": "code",
   "execution_count": null,
   "metadata": {},
   "outputs": [],
   "source": [
    "# Lecture en streaming depuis Kafka\n",
    "df_kafka = sql_context.readStream \\\n",
    "    .format(\"kafka\") \\\n",
    "    .option(\"kafka.bootstrap.servers\", kafka_broker) \\\n",
    "    .option(\"subscribe\", relais_topic) \\\n",
    "    .option(\"startingOffsets\", \"latest\") \\\n",
    "    .load()\n",
    "\n",
    "# Conversion du champ \"value\" (JSON) en colonnes structurées\n",
    "df_relais = df_kafka.selectExpr(\"CAST(value AS STRING) AS message\") \\\n",
    "    .select(from_json(col(\"message\"), schema_relais).alias(\"data\")) \\\n",
    "    .select(\"data.*\")\n",
    "\n",
    "# Conversion du champ \"grp_horodatage\" en timestamp\n",
    "# Le format ISO 8601 est utilisé : \"yyyy-MM-dd'T'HH:mm:ssXXX\"\n",
    "df_relais = df_relais.withColumn(\"horodatage_ts\", \n",
    "                                  to_timestamp(col(\"grp_horodatage\"), \"yyyy-MM-dd'T'HH:mm:ssXXX\"))\n",
    "\n",
    "# Définition d'un watermark de 5 minutes pour gérer les retards éventuels\n",
    "df_relais = df_relais.withWatermark(\"horodatage_ts\", \"5 minutes\")\n",
    "\n",
    "# Agrégation : calcul de la moyenne des disponibilités sur une fenêtre glissante\n",
    "# Ici, la fenêtre est de 5 minutes et on agrège par \"grp_identifiant\"\n",
    "result_stream = df_relais.groupBy(\n",
    "    window(col(\"horodatage_ts\"), \"5 minutes\"),\n",
    "    col(\"grp_identifiant\"),\n",
    ").agg(\n",
    "    avg(\"disponibilite\").alias(\"avg_disponibilite\")\n",
    ")\n",
    "\n",
    "# Écriture du résultat en streaming vers la console (mode \"update\")\n",
    "query = result_stream.writeStream \\\n",
    "    .outputMode(\"update\") \\\n",
    "    .format(\"console\") \\\n",
    "    .option(\"truncate\", \"false\") \\\n",
    "    .start()\n",
    "\n",
    "query.awaitTermination()"
   ]
  },
  {
   "cell_type": "code",
   "execution_count": null,
   "metadata": {},
   "outputs": [],
   "source": [
    "query.stop()"
   ]
  },
  {
   "cell_type": "markdown",
   "metadata": {},
   "source": [
    "### Récuperer la moyenne des vélos disponibles par parking sur une fenêtre glissante."
   ]
  },
  {
   "cell_type": "code",
   "execution_count": 5,
   "metadata": {},
   "outputs": [
    {
     "name": "stderr",
     "output_type": "stream",
     "text": [
      "25/02/16 19:06:16 WARN ResolveWriteToStream: Temporary checkpoint location created which is deleted normally when the query didn't fail: /tmp/temporary-d8ffd7e7-3c58-4e7f-af15-b15f21c32c6c. If it's required to delete it under any circumstances, please set spark.sql.streaming.forceDeleteTempCheckpointLocation to true. Important to know deleting temp checkpoint folder is best effort.\n",
      "25/02/16 19:06:16 WARN ResolveWriteToStream: spark.sql.adaptive.enabled is not supported in streaming DataFrames/Datasets and will be disabled.\n",
      "25/02/16 19:06:17 WARN AdminClientConfig: These configurations '[key.deserializer, value.deserializer, enable.auto.commit, max.poll.records, auto.offset.reset]' were supplied but are not used yet.\n",
      "                                                                                \r"
     ]
    },
    {
     "name": "stdout",
     "output_type": "stream",
     "text": [
      "-------------------------------------------\n",
      "Batch: 0\n",
      "-------------------------------------------\n",
      "+------+----+-------------------------+\n",
      "|window|name|moyenne_velos_disponibles|\n",
      "+------+----+-------------------------+\n",
      "+------+----+-------------------------+\n",
      "\n"
     ]
    },
    {
     "name": "stderr",
     "output_type": "stream",
     "text": [
      "                                                                                \r"
     ]
    },
    {
     "name": "stdout",
     "output_type": "stream",
     "text": [
      "-------------------------------------------\n",
      "Batch: 1\n",
      "-------------------------------------------\n",
      "+------------------------------------------+----------------------+-------------------------+\n",
      "|window                                    |name                  |moyenne_velos_disponibles|\n",
      "+------------------------------------------+----------------------+-------------------------+\n",
      "|{2025-02-16 18:55:00, 2025-02-16 19:00:00}|114-ATOUTSUD          |8.0                      |\n",
      "|{2025-02-16 19:00:00, 2025-02-16 19:05:00}|075-LAMORICIÈRE       |9.0                      |\n",
      "|{2025-02-16 19:00:00, 2025-02-16 19:05:00}|080-VICTOR HUGO       |10.0                     |\n",
      "|{2025-02-16 19:05:00, 2025-02-16 19:10:00}|002-HÔTEL DE VILLE    |1.0                      |\n",
      "|{2024-09-10 05:20:00, 2024-09-10 05:25:00}|069-MANUFACTURE       |0.0                      |\n",
      "|{2024-09-10 10:00:00, 2024-09-10 10:05:00}|122-MITRIE            |0.0                      |\n",
      "|{2025-02-16 19:05:00, 2025-02-16 19:10:00}|074-CANCLAUX          |15.0                     |\n",
      "|{2025-02-16 19:05:00, 2025-02-16 19:10:00}|103-GRUE JAUNE        |3.0                      |\n",
      "|{2025-02-16 19:05:00, 2025-02-16 19:10:00}|006-PLACE DU CIRQUE   |4.0                      |\n",
      "|{2025-02-16 18:55:00, 2025-02-16 19:00:00}|078-DE GAULLE         |1.0                      |\n",
      "|{2025-02-16 19:00:00, 2025-02-16 19:05:00}|031-BOURSE            |8.0                      |\n",
      "|{2025-02-16 19:00:00, 2025-02-16 19:05:00}|070-GARE DE NANTES SUD|39.0                     |\n",
      "|{2025-02-16 19:05:00, 2025-02-16 19:10:00}|032-FOCH              |1.0                      |\n",
      "|{2025-02-16 19:00:00, 2025-02-16 19:05:00}|115-TRENTEMOULT       |14.0                     |\n",
      "|{2025-02-16 18:55:00, 2025-02-16 19:00:00}|009-GUÉPIN            |4.0                      |\n",
      "|{2025-02-16 18:55:00, 2025-02-16 19:00:00}|089-SAINT-AIGNAN      |3.0                      |\n",
      "|{2025-02-16 18:55:00, 2025-02-16 19:00:00}|123-TRARIEUX          |8.0                      |\n",
      "|{2025-02-16 19:05:00, 2025-02-16 19:10:00}|053-OLIVETTES         |7.0                      |\n",
      "|{2025-02-16 18:55:00, 2025-02-16 19:00:00}|035-JEAN V            |5.0                      |\n",
      "|{2025-02-16 19:00:00, 2025-02-16 19:05:00}|050-CHÂTEAU           |10.0                     |\n",
      "+------------------------------------------+----------------------+-------------------------+\n",
      "only showing top 20 rows\n",
      "\n"
     ]
    },
    {
     "name": "stderr",
     "output_type": "stream",
     "text": [
      "                                                                                \r"
     ]
    },
    {
     "name": "stdout",
     "output_type": "stream",
     "text": [
      "-------------------------------------------\n",
      "Batch: 2\n",
      "-------------------------------------------\n",
      "+------+----+-------------------------+\n",
      "|window|name|moyenne_velos_disponibles|\n",
      "+------+----+-------------------------+\n",
      "+------+----+-------------------------+\n",
      "\n"
     ]
    },
    {
     "name": "stderr",
     "output_type": "stream",
     "text": [
      "                                                                                \r"
     ]
    },
    {
     "name": "stdout",
     "output_type": "stream",
     "text": [
      "-------------------------------------------\n",
      "Batch: 3\n",
      "-------------------------------------------\n",
      "+------------------------------------------+-------------------------+-------------------------+\n",
      "|window                                    |name                     |moyenne_velos_disponibles|\n",
      "+------------------------------------------+-------------------------+-------------------------+\n",
      "|{2025-02-16 19:00:00, 2025-02-16 19:05:00}|075-LAMORICIÈRE          |9.0                      |\n",
      "|{2025-02-16 19:00:00, 2025-02-16 19:05:00}|080-VICTOR HUGO          |10.0                     |\n",
      "|{2025-02-16 19:05:00, 2025-02-16 19:10:00}|103-GRUE JAUNE           |3.0                      |\n",
      "|{2025-02-16 19:05:00, 2025-02-16 19:10:00}|002-HÔTEL DE VILLE       |1.0                      |\n",
      "|{2025-02-16 19:05:00, 2025-02-16 19:10:00}|074-CANCLAUX             |15.0                     |\n",
      "|{2025-02-16 19:00:00, 2025-02-16 19:05:00}|070-GARE DE NANTES SUD   |39.0                     |\n",
      "|{2025-02-16 19:05:00, 2025-02-16 19:10:00}|032-FOCH                 |1.0                      |\n",
      "|{2025-02-16 19:00:00, 2025-02-16 19:05:00}|115-TRENTEMOULT          |14.0                     |\n",
      "|{2025-02-16 19:00:00, 2025-02-16 19:05:00}|031-BOURSE               |8.0                      |\n",
      "|{2025-02-16 19:05:00, 2025-02-16 19:10:00}|051-TABARLY              |6.0                      |\n",
      "|{2025-02-16 19:05:00, 2025-02-16 19:10:00}|085-BEL AIR              |1.0                      |\n",
      "|{2025-02-16 19:05:00, 2025-02-16 19:10:00}|053-OLIVETTES            |7.0                      |\n",
      "|{2025-02-16 19:05:00, 2025-02-16 19:10:00}|048-VERDUN               |4.0                      |\n",
      "|{2025-02-16 19:00:00, 2025-02-16 19:05:00}|062-GARE DE NANTES NORD 2|34.0                     |\n",
      "|{2025-02-16 19:00:00, 2025-02-16 19:05:00}|081-MANGIN               |11.0                     |\n",
      "|{2025-02-16 19:00:00, 2025-02-16 19:05:00}|050-CHÂTEAU              |10.0                     |\n",
      "|{2025-02-16 19:05:00, 2025-02-16 19:10:00}|117-MAIRIE DE CHANTENAY  |14.0                     |\n",
      "|{2025-02-16 19:05:00, 2025-02-16 19:10:00}|017-SAINTE ÉLISABETH     |0.0                      |\n",
      "|{2025-02-16 19:00:00, 2025-02-16 19:05:00}|113-MAIRIE DE REZÉ       |15.0                     |\n",
      "|{2025-02-16 19:00:00, 2025-02-16 19:05:00}|020-BOUFFAY              |14.0                     |\n",
      "+------------------------------------------+-------------------------+-------------------------+\n",
      "only showing top 20 rows\n",
      "\n"
     ]
    },
    {
     "name": "stderr",
     "output_type": "stream",
     "text": [
      "                                                                                \r"
     ]
    },
    {
     "name": "stdout",
     "output_type": "stream",
     "text": [
      "-------------------------------------------\n",
      "Batch: 4\n",
      "-------------------------------------------\n",
      "+------------------------------------------+---------------------+-------------------------+\n",
      "|window                                    |name                 |moyenne_velos_disponibles|\n",
      "+------------------------------------------+---------------------+-------------------------+\n",
      "|{2025-02-16 19:05:00, 2025-02-16 19:10:00}|006-PLACE DU CIRQUE  |4.0                      |\n",
      "|{2025-02-16 19:00:00, 2025-02-16 19:05:00}|119-ZOLA             |20.0                     |\n",
      "|{2025-02-16 19:00:00, 2025-02-16 19:05:00}|100-GRÉNERAIE        |16.0                     |\n",
      "|{2025-02-16 19:00:00, 2025-02-16 19:05:00}|126-GARE DE CHANTENAY|5.0                      |\n",
      "|{2025-02-16 19:00:00, 2025-02-16 19:05:00}|045-PRAIRIE AU DUC   |8.0                      |\n",
      "|{2025-02-16 19:00:00, 2025-02-16 19:05:00}|030-COMMERCE         |29.0                     |\n",
      "|{2025-02-16 19:05:00, 2025-02-16 19:10:00}|082-SÉBILLEAU        |6.0                      |\n",
      "+------------------------------------------+---------------------+-------------------------+\n",
      "\n"
     ]
    },
    {
     "name": "stderr",
     "output_type": "stream",
     "text": [
      "                                                                                \r"
     ]
    },
    {
     "name": "stdout",
     "output_type": "stream",
     "text": [
      "-------------------------------------------\n",
      "Batch: 5\n",
      "-------------------------------------------\n",
      "+------------------------------------------+----------+-------------------------+\n",
      "|window                                    |name      |moyenne_velos_disponibles|\n",
      "+------------------------------------------+----------+-------------------------+\n",
      "|{2025-02-16 19:00:00, 2025-02-16 19:05:00}|031-BOURSE|8.0                      |\n",
      "+------------------------------------------+----------+-------------------------+\n",
      "\n"
     ]
    },
    {
     "name": "stderr",
     "output_type": "stream",
     "text": [
      "                                                                                \r"
     ]
    },
    {
     "name": "stdout",
     "output_type": "stream",
     "text": [
      "-------------------------------------------\n",
      "Batch: 6\n",
      "-------------------------------------------\n",
      "+------------------------------------------+----------------------+-------------------------+\n",
      "|window                                    |name                  |moyenne_velos_disponibles|\n",
      "+------------------------------------------+----------------------+-------------------------+\n",
      "|{2025-02-16 19:00:00, 2025-02-16 19:05:00}|080-VICTOR HUGO       |10.0                     |\n",
      "|{2025-02-16 19:05:00, 2025-02-16 19:10:00}|002-HÔTEL DE VILLE    |1.0                      |\n",
      "|{2025-02-16 19:05:00, 2025-02-16 19:10:00}|103-GRUE JAUNE        |3.0                      |\n",
      "|{2025-02-16 19:00:00, 2025-02-16 19:05:00}|075-LAMORICIÈRE       |9.0                      |\n",
      "|{2025-02-16 19:05:00, 2025-02-16 19:10:00}|006-PLACE DU CIRQUE   |4.0                      |\n",
      "|{2025-02-16 19:05:00, 2025-02-16 19:10:00}|074-CANCLAUX          |15.0                     |\n",
      "|{2025-02-16 19:05:00, 2025-02-16 19:10:00}|095-MICHELET          |2.0                      |\n",
      "|{2025-02-16 19:00:00, 2025-02-16 19:05:00}|097-SAINT DONATIEN    |1.0                      |\n",
      "|{2025-02-16 19:00:00, 2025-02-16 19:05:00}|070-GARE DE NANTES SUD|39.0                     |\n",
      "|{2025-02-16 19:00:00, 2025-02-16 19:05:00}|115-TRENTEMOULT       |14.0                     |\n",
      "|{2025-02-16 19:05:00, 2025-02-16 19:10:00}|083-MILLERAND         |10.0                     |\n",
      "|{2025-02-16 19:05:00, 2025-02-16 19:10:00}|032-FOCH              |1.0                      |\n",
      "|{2025-02-16 19:05:00, 2025-02-16 19:10:00}|116-LIBERTÉ           |4.0                      |\n",
      "|{2025-02-16 19:05:00, 2025-02-16 19:10:00}|085-BEL AIR           |1.0                      |\n",
      "|{2025-02-16 19:05:00, 2025-02-16 19:10:00}|053-OLIVETTES         |7.0                      |\n",
      "|{2025-02-16 19:05:00, 2025-02-16 19:10:00}|048-VERDUN            |4.0                      |\n",
      "|{2025-02-16 19:00:00, 2025-02-16 19:05:00}|081-MANGIN            |11.0                     |\n",
      "|{2025-02-16 19:05:00, 2025-02-16 19:10:00}|123-TRARIEUX          |8.0                      |\n",
      "|{2025-02-16 19:00:00, 2025-02-16 19:05:00}|119-ZOLA              |20.0                     |\n",
      "|{2025-02-16 19:05:00, 2025-02-16 19:10:00}|111-DIDEROT           |7.0                      |\n",
      "+------------------------------------------+----------------------+-------------------------+\n",
      "only showing top 20 rows\n",
      "\n",
      "-------------------------------------------\n",
      "Batch: 7\n",
      "-------------------------------------------\n",
      "+------+----+-------------------------+\n",
      "|window|name|moyenne_velos_disponibles|\n",
      "+------+----+-------------------------+\n",
      "+------+----+-------------------------+\n",
      "\n"
     ]
    },
    {
     "name": "stderr",
     "output_type": "stream",
     "text": [
      "ERROR:root:KeyboardInterrupt while sending command.\n",
      "Traceback (most recent call last):\n",
      "  File \"/opt/conda/lib/python3.12/site-packages/py4j/java_gateway.py\", line 1038, in send_command\n",
      "    response = connection.send_command(command)\n",
      "               ^^^^^^^^^^^^^^^^^^^^^^^^^^^^^^^^\n",
      "  File \"/opt/conda/lib/python3.12/site-packages/py4j/clientserver.py\", line 511, in send_command\n",
      "    answer = smart_decode(self.stream.readline()[:-1])\n",
      "                          ^^^^^^^^^^^^^^^^^^^^^^\n",
      "  File \"/opt/conda/lib/python3.12/socket.py\", line 720, in readinto\n",
      "    return self._sock.recv_into(b)\n",
      "           ^^^^^^^^^^^^^^^^^^^^^^^\n",
      "KeyboardInterrupt\n"
     ]
    },
    {
     "ename": "KeyboardInterrupt",
     "evalue": "",
     "output_type": "error",
     "traceback": [
      "\u001b[0;31m---------------------------------------------------------------------------\u001b[0m",
      "\u001b[0;31mKeyboardInterrupt\u001b[0m                         Traceback (most recent call last)",
      "Cell \u001b[0;32mIn[5], line 36\u001b[0m\n\u001b[1;32m     29\u001b[0m \u001b[38;5;66;03m# Écriture du résultat en streaming vers la console (mode \"update\")\u001b[39;00m\n\u001b[1;32m     30\u001b[0m query_velos \u001b[38;5;241m=\u001b[39m result_velos\u001b[38;5;241m.\u001b[39mwriteStream \\\n\u001b[1;32m     31\u001b[0m     \u001b[38;5;241m.\u001b[39moutputMode(\u001b[38;5;124m\"\u001b[39m\u001b[38;5;124mupdate\u001b[39m\u001b[38;5;124m\"\u001b[39m) \\\n\u001b[1;32m     32\u001b[0m     \u001b[38;5;241m.\u001b[39mformat(\u001b[38;5;124m\"\u001b[39m\u001b[38;5;124mconsole\u001b[39m\u001b[38;5;124m\"\u001b[39m) \\\n\u001b[1;32m     33\u001b[0m     \u001b[38;5;241m.\u001b[39moption(\u001b[38;5;124m\"\u001b[39m\u001b[38;5;124mtruncate\u001b[39m\u001b[38;5;124m\"\u001b[39m, \u001b[38;5;124m\"\u001b[39m\u001b[38;5;124mfalse\u001b[39m\u001b[38;5;124m\"\u001b[39m) \\\n\u001b[1;32m     34\u001b[0m     \u001b[38;5;241m.\u001b[39mstart()\n\u001b[0;32m---> 36\u001b[0m \u001b[43mquery_velos\u001b[49m\u001b[38;5;241;43m.\u001b[39;49m\u001b[43mawaitTermination\u001b[49m\u001b[43m(\u001b[49m\u001b[43m)\u001b[49m\n",
      "File \u001b[0;32m/opt/conda/lib/python3.12/site-packages/pyspark/sql/streaming/query.py:221\u001b[0m, in \u001b[0;36mStreamingQuery.awaitTermination\u001b[0;34m(self, timeout)\u001b[0m\n\u001b[1;32m    219\u001b[0m     \u001b[38;5;28;01mreturn\u001b[39;00m \u001b[38;5;28mself\u001b[39m\u001b[38;5;241m.\u001b[39m_jsq\u001b[38;5;241m.\u001b[39mawaitTermination(\u001b[38;5;28mint\u001b[39m(timeout \u001b[38;5;241m*\u001b[39m \u001b[38;5;241m1000\u001b[39m))\n\u001b[1;32m    220\u001b[0m \u001b[38;5;28;01melse\u001b[39;00m:\n\u001b[0;32m--> 221\u001b[0m     \u001b[38;5;28;01mreturn\u001b[39;00m \u001b[38;5;28;43mself\u001b[39;49m\u001b[38;5;241;43m.\u001b[39;49m\u001b[43m_jsq\u001b[49m\u001b[38;5;241;43m.\u001b[39;49m\u001b[43mawaitTermination\u001b[49m\u001b[43m(\u001b[49m\u001b[43m)\u001b[49m\n",
      "File \u001b[0;32m/opt/conda/lib/python3.12/site-packages/py4j/java_gateway.py:1321\u001b[0m, in \u001b[0;36mJavaMember.__call__\u001b[0;34m(self, *args)\u001b[0m\n\u001b[1;32m   1314\u001b[0m args_command, temp_args \u001b[38;5;241m=\u001b[39m \u001b[38;5;28mself\u001b[39m\u001b[38;5;241m.\u001b[39m_build_args(\u001b[38;5;241m*\u001b[39margs)\n\u001b[1;32m   1316\u001b[0m command \u001b[38;5;241m=\u001b[39m proto\u001b[38;5;241m.\u001b[39mCALL_COMMAND_NAME \u001b[38;5;241m+\u001b[39m\\\n\u001b[1;32m   1317\u001b[0m     \u001b[38;5;28mself\u001b[39m\u001b[38;5;241m.\u001b[39mcommand_header \u001b[38;5;241m+\u001b[39m\\\n\u001b[1;32m   1318\u001b[0m     args_command \u001b[38;5;241m+\u001b[39m\\\n\u001b[1;32m   1319\u001b[0m     proto\u001b[38;5;241m.\u001b[39mEND_COMMAND_PART\n\u001b[0;32m-> 1321\u001b[0m answer \u001b[38;5;241m=\u001b[39m \u001b[38;5;28;43mself\u001b[39;49m\u001b[38;5;241;43m.\u001b[39;49m\u001b[43mgateway_client\u001b[49m\u001b[38;5;241;43m.\u001b[39;49m\u001b[43msend_command\u001b[49m\u001b[43m(\u001b[49m\u001b[43mcommand\u001b[49m\u001b[43m)\u001b[49m\n\u001b[1;32m   1322\u001b[0m return_value \u001b[38;5;241m=\u001b[39m get_return_value(\n\u001b[1;32m   1323\u001b[0m     answer, \u001b[38;5;28mself\u001b[39m\u001b[38;5;241m.\u001b[39mgateway_client, \u001b[38;5;28mself\u001b[39m\u001b[38;5;241m.\u001b[39mtarget_id, \u001b[38;5;28mself\u001b[39m\u001b[38;5;241m.\u001b[39mname)\n\u001b[1;32m   1325\u001b[0m \u001b[38;5;28;01mfor\u001b[39;00m temp_arg \u001b[38;5;129;01min\u001b[39;00m temp_args:\n",
      "File \u001b[0;32m/opt/conda/lib/python3.12/site-packages/py4j/java_gateway.py:1038\u001b[0m, in \u001b[0;36mGatewayClient.send_command\u001b[0;34m(self, command, retry, binary)\u001b[0m\n\u001b[1;32m   1036\u001b[0m connection \u001b[38;5;241m=\u001b[39m \u001b[38;5;28mself\u001b[39m\u001b[38;5;241m.\u001b[39m_get_connection()\n\u001b[1;32m   1037\u001b[0m \u001b[38;5;28;01mtry\u001b[39;00m:\n\u001b[0;32m-> 1038\u001b[0m     response \u001b[38;5;241m=\u001b[39m \u001b[43mconnection\u001b[49m\u001b[38;5;241;43m.\u001b[39;49m\u001b[43msend_command\u001b[49m\u001b[43m(\u001b[49m\u001b[43mcommand\u001b[49m\u001b[43m)\u001b[49m\n\u001b[1;32m   1039\u001b[0m     \u001b[38;5;28;01mif\u001b[39;00m binary:\n\u001b[1;32m   1040\u001b[0m         \u001b[38;5;28;01mreturn\u001b[39;00m response, \u001b[38;5;28mself\u001b[39m\u001b[38;5;241m.\u001b[39m_create_connection_guard(connection)\n",
      "File \u001b[0;32m/opt/conda/lib/python3.12/site-packages/py4j/clientserver.py:511\u001b[0m, in \u001b[0;36mClientServerConnection.send_command\u001b[0;34m(self, command)\u001b[0m\n\u001b[1;32m    509\u001b[0m \u001b[38;5;28;01mtry\u001b[39;00m:\n\u001b[1;32m    510\u001b[0m     \u001b[38;5;28;01mwhile\u001b[39;00m \u001b[38;5;28;01mTrue\u001b[39;00m:\n\u001b[0;32m--> 511\u001b[0m         answer \u001b[38;5;241m=\u001b[39m smart_decode(\u001b[38;5;28;43mself\u001b[39;49m\u001b[38;5;241;43m.\u001b[39;49m\u001b[43mstream\u001b[49m\u001b[38;5;241;43m.\u001b[39;49m\u001b[43mreadline\u001b[49m\u001b[43m(\u001b[49m\u001b[43m)\u001b[49m[:\u001b[38;5;241m-\u001b[39m\u001b[38;5;241m1\u001b[39m])\n\u001b[1;32m    512\u001b[0m         logger\u001b[38;5;241m.\u001b[39mdebug(\u001b[38;5;124m\"\u001b[39m\u001b[38;5;124mAnswer received: \u001b[39m\u001b[38;5;132;01m{0}\u001b[39;00m\u001b[38;5;124m\"\u001b[39m\u001b[38;5;241m.\u001b[39mformat(answer))\n\u001b[1;32m    513\u001b[0m         \u001b[38;5;66;03m# Happens when a the other end is dead. There might be an empty\u001b[39;00m\n\u001b[1;32m    514\u001b[0m         \u001b[38;5;66;03m# answer before the socket raises an error.\u001b[39;00m\n",
      "File \u001b[0;32m/opt/conda/lib/python3.12/socket.py:720\u001b[0m, in \u001b[0;36mSocketIO.readinto\u001b[0;34m(self, b)\u001b[0m\n\u001b[1;32m    718\u001b[0m \u001b[38;5;28;01mwhile\u001b[39;00m \u001b[38;5;28;01mTrue\u001b[39;00m:\n\u001b[1;32m    719\u001b[0m     \u001b[38;5;28;01mtry\u001b[39;00m:\n\u001b[0;32m--> 720\u001b[0m         \u001b[38;5;28;01mreturn\u001b[39;00m \u001b[38;5;28;43mself\u001b[39;49m\u001b[38;5;241;43m.\u001b[39;49m\u001b[43m_sock\u001b[49m\u001b[38;5;241;43m.\u001b[39;49m\u001b[43mrecv_into\u001b[49m\u001b[43m(\u001b[49m\u001b[43mb\u001b[49m\u001b[43m)\u001b[49m\n\u001b[1;32m    721\u001b[0m     \u001b[38;5;28;01mexcept\u001b[39;00m timeout:\n\u001b[1;32m    722\u001b[0m         \u001b[38;5;28mself\u001b[39m\u001b[38;5;241m.\u001b[39m_timeout_occurred \u001b[38;5;241m=\u001b[39m \u001b[38;5;28;01mTrue\u001b[39;00m\n",
      "\u001b[0;31mKeyboardInterrupt\u001b[0m: "
     ]
    }
   ],
   "source": [
    "# Lecture en streaming depuis Kafka\n",
    "df_kafka_velos = sql_context.readStream \\\n",
    "    .format(\"kafka\") \\\n",
    "    .option(\"kafka.bootstrap.servers\", kafka_broker) \\\n",
    "    .option(\"subscribe\", velos_topic) \\\n",
    "    .option(\"startingOffsets\", \"latest\") \\\n",
    "    .load()\n",
    "\n",
    "# Conversion du champ \"value\" (JSON) en colonnes structurées\n",
    "df_velos = df_kafka_velos.selectExpr(\"CAST(value AS STRING) AS message\") \\\n",
    "    .select(from_json(col(\"message\"), schema_velos).alias(\"data\")) \\\n",
    "    .select(\"data.*\")\n",
    "\n",
    "# Conversion du champ \"last_update\" en timestamp (format ISO 8601)\n",
    "df_velos = df_velos.withColumn(\"last_update_ts\", \n",
    "                               to_timestamp(col(\"last_update\"), \"yyyy-MM-dd'T'HH:mm:ssXXX\"))\n",
    "\n",
    "# Application d'un watermark de 5 minutes pour gérer les retards\n",
    "df_velos = df_velos.withWatermark(\"last_update_ts\", \"5 minutes\")\n",
    "\n",
    "# Agrégation sur une fenêtre de 5 minutes : calcul du total des places disponibles\n",
    "result_velos = df_velos.groupBy(\n",
    "    window(col(\"last_update_ts\"), \"5 minutes\"),\n",
    "    col(\"name\")\n",
    ").agg(\n",
    "    avg(\"available_bikes\").alias(\"moyenne_velos_disponibles\")\n",
    ")\n",
    "\n",
    "# Écriture du résultat en streaming vers la console (mode \"update\")\n",
    "query_velos = result_velos.writeStream \\\n",
    "    .outputMode(\"update\") \\\n",
    "    .format(\"console\") \\\n",
    "    .option(\"truncate\", \"false\") \\\n",
    "    .start()\n",
    "\n",
    "query_velos.awaitTermination()"
   ]
  },
  {
   "cell_type": "code",
   "execution_count": 6,
   "metadata": {},
   "outputs": [],
   "source": [
    "query_velos.stop()"
   ]
  }
 ],
 "metadata": {
  "kernelspec": {
   "display_name": "Python 3 (ipykernel)",
   "language": "python",
   "name": "python3"
  },
  "language_info": {
   "codemirror_mode": {
    "name": "ipython",
    "version": 3
   },
   "file_extension": ".py",
   "mimetype": "text/x-python",
   "name": "python",
   "nbconvert_exporter": "python",
   "pygments_lexer": "ipython3",
   "version": "3.12.8"
  }
 },
 "nbformat": 4,
 "nbformat_minor": 2
}
