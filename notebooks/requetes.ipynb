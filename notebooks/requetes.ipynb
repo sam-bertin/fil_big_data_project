{
 "cells": [
  {
   "cell_type": "markdown",
   "metadata": {},
   "source": [
    "## Configuration Spark"
   ]
  },
  {
   "cell_type": "code",
   "execution_count": null,
   "metadata": {},
   "outputs": [
    {
     "name": "stdout",
     "output_type": "stream",
     "text": [
      "Connexion réussie à kafka1:9092\n"
     ]
    }
   ],
   "source": [
    "import socket\n",
    "\n",
    "def check_port(host, port):\n",
    "    sock = socket.socket(socket.AF_INET, socket.SOCK_STREAM)\n",
    "    sock.settimeout(5)  # Timeout de 5 secondes\n",
    "    result = sock.connect_ex((host, port))\n",
    "    if result == 0:\n",
    "        print(f\"Connexion réussie à {host}:{port}\")\n",
    "    else:\n",
    "        print(f\"Impossible de se connecter à {host}:{port}\")\n",
    "    sock.close()\n",
    "\n",
    "check_port(\"kafka1\", 9092)\n"
   ]
  },
  {
   "cell_type": "code",
   "execution_count": 2,
   "metadata": {},
   "outputs": [
    {
     "name": "stdout",
     "output_type": "stream",
     "text": [
      ":: loading settings :: url = jar:file:/opt/conda/lib/python3.12/site-packages/pyspark/jars/ivy-2.5.1.jar!/org/apache/ivy/core/settings/ivysettings.xml\n"
     ]
    },
    {
     "name": "stderr",
     "output_type": "stream",
     "text": [
      "Ivy Default Cache set to: /home/jovyan/.ivy2/cache\n",
      "The jars for the packages stored in: /home/jovyan/.ivy2/jars\n",
      "org.apache.hadoop#hadoop-aws added as a dependency\n",
      "org.apache.spark#spark-sql-kafka-0-10_2.12 added as a dependency\n",
      ":: resolving dependencies :: org.apache.spark#spark-submit-parent-3a73fb42-2da9-4843-9113-83d2ac2e758d;1.0\n",
      "\tconfs: [default]\n",
      "\tfound org.apache.hadoop#hadoop-aws;3.3.4 in central\n",
      "\tfound com.amazonaws#aws-java-sdk-bundle;1.12.262 in central\n",
      "\tfound org.wildfly.openssl#wildfly-openssl;1.0.7.Final in central\n",
      "\tfound org.apache.spark#spark-sql-kafka-0-10_2.12;3.5.3 in central\n",
      "\tfound org.apache.spark#spark-token-provider-kafka-0-10_2.12;3.5.3 in central\n",
      "\tfound org.apache.kafka#kafka-clients;3.4.1 in central\n",
      "\tfound org.lz4#lz4-java;1.8.0 in central\n",
      "\tfound org.xerial.snappy#snappy-java;1.1.10.5 in central\n",
      "\tfound org.slf4j#slf4j-api;2.0.7 in central\n",
      "\tfound org.apache.hadoop#hadoop-client-runtime;3.3.4 in central\n",
      "\tfound org.apache.hadoop#hadoop-client-api;3.3.4 in central\n",
      "\tfound commons-logging#commons-logging;1.1.3 in central\n",
      "\tfound com.google.code.findbugs#jsr305;3.0.0 in central\n",
      "\tfound org.apache.commons#commons-pool2;2.11.1 in central\n",
      "downloading https://repo1.maven.org/maven2/org/apache/hadoop/hadoop-aws/3.3.4/hadoop-aws-3.3.4.jar ...\n",
      "\t[SUCCESSFUL ] org.apache.hadoop#hadoop-aws;3.3.4!hadoop-aws.jar (426ms)\n",
      "downloading https://repo1.maven.org/maven2/org/apache/spark/spark-sql-kafka-0-10_2.12/3.5.3/spark-sql-kafka-0-10_2.12-3.5.3.jar ...\n",
      "\t[SUCCESSFUL ] org.apache.spark#spark-sql-kafka-0-10_2.12;3.5.3!spark-sql-kafka-0-10_2.12.jar (547ms)\n",
      "downloading https://repo1.maven.org/maven2/com/amazonaws/aws-java-sdk-bundle/1.12.262/aws-java-sdk-bundle-1.12.262.jar ...\n",
      "\t[SUCCESSFUL ] com.amazonaws#aws-java-sdk-bundle;1.12.262!aws-java-sdk-bundle.jar (92126ms)\n",
      "downloading https://repo1.maven.org/maven2/org/wildfly/openssl/wildfly-openssl/1.0.7.Final/wildfly-openssl-1.0.7.Final.jar ...\n",
      "\t[SUCCESSFUL ] org.wildfly.openssl#wildfly-openssl;1.0.7.Final!wildfly-openssl.jar (250ms)\n",
      "downloading https://repo1.maven.org/maven2/org/apache/spark/spark-token-provider-kafka-0-10_2.12/3.5.3/spark-token-provider-kafka-0-10_2.12-3.5.3.jar ...\n",
      "\t[SUCCESSFUL ] org.apache.spark#spark-token-provider-kafka-0-10_2.12;3.5.3!spark-token-provider-kafka-0-10_2.12.jar (71ms)\n",
      "downloading https://repo1.maven.org/maven2/org/apache/kafka/kafka-clients/3.4.1/kafka-clients-3.4.1.jar ...\n",
      "\t[SUCCESSFUL ] org.apache.kafka#kafka-clients;3.4.1!kafka-clients.jar (2468ms)\n",
      "downloading https://repo1.maven.org/maven2/com/google/code/findbugs/jsr305/3.0.0/jsr305-3.0.0.jar ...\n",
      "\t[SUCCESSFUL ] com.google.code.findbugs#jsr305;3.0.0!jsr305.jar (63ms)\n",
      "downloading https://repo1.maven.org/maven2/org/apache/commons/commons-pool2/2.11.1/commons-pool2-2.11.1.jar ...\n",
      "\t[SUCCESSFUL ] org.apache.commons#commons-pool2;2.11.1!commons-pool2.jar (122ms)\n",
      "downloading https://repo1.maven.org/maven2/org/apache/hadoop/hadoop-client-runtime/3.3.4/hadoop-client-runtime-3.3.4.jar ...\n",
      "\t[SUCCESSFUL ] org.apache.hadoop#hadoop-client-runtime;3.3.4!hadoop-client-runtime.jar (11718ms)\n",
      "downloading https://repo1.maven.org/maven2/org/lz4/lz4-java/1.8.0/lz4-java-1.8.0.jar ...\n",
      "\t[SUCCESSFUL ] org.lz4#lz4-java;1.8.0!lz4-java.jar (269ms)\n",
      "downloading https://repo1.maven.org/maven2/org/xerial/snappy/snappy-java/1.1.10.5/snappy-java-1.1.10.5.jar ...\n",
      "\t[SUCCESSFUL ] org.xerial.snappy#snappy-java;1.1.10.5!snappy-java.jar(bundle) (767ms)\n",
      "downloading https://repo1.maven.org/maven2/org/slf4j/slf4j-api/2.0.7/slf4j-api-2.0.7.jar ...\n",
      "\t[SUCCESSFUL ] org.slf4j#slf4j-api;2.0.7!slf4j-api.jar (72ms)\n",
      "downloading https://repo1.maven.org/maven2/org/apache/hadoop/hadoop-client-api/3.3.4/hadoop-client-api-3.3.4.jar ...\n",
      "\t[SUCCESSFUL ] org.apache.hadoop#hadoop-client-api;3.3.4!hadoop-client-api.jar (4956ms)\n",
      "downloading https://repo1.maven.org/maven2/commons-logging/commons-logging/1.1.3/commons-logging-1.1.3.jar ...\n",
      "\t[SUCCESSFUL ] commons-logging#commons-logging;1.1.3!commons-logging.jar (54ms)\n",
      ":: resolution report :: resolve 9743ms :: artifacts dl 113932ms\n",
      "\t:: modules in use:\n",
      "\tcom.amazonaws#aws-java-sdk-bundle;1.12.262 from central in [default]\n",
      "\tcom.google.code.findbugs#jsr305;3.0.0 from central in [default]\n",
      "\tcommons-logging#commons-logging;1.1.3 from central in [default]\n",
      "\torg.apache.commons#commons-pool2;2.11.1 from central in [default]\n",
      "\torg.apache.hadoop#hadoop-aws;3.3.4 from central in [default]\n",
      "\torg.apache.hadoop#hadoop-client-api;3.3.4 from central in [default]\n",
      "\torg.apache.hadoop#hadoop-client-runtime;3.3.4 from central in [default]\n",
      "\torg.apache.kafka#kafka-clients;3.4.1 from central in [default]\n",
      "\torg.apache.spark#spark-sql-kafka-0-10_2.12;3.5.3 from central in [default]\n",
      "\torg.apache.spark#spark-token-provider-kafka-0-10_2.12;3.5.3 from central in [default]\n",
      "\torg.lz4#lz4-java;1.8.0 from central in [default]\n",
      "\torg.slf4j#slf4j-api;2.0.7 from central in [default]\n",
      "\torg.wildfly.openssl#wildfly-openssl;1.0.7.Final from central in [default]\n",
      "\torg.xerial.snappy#snappy-java;1.1.10.5 from central in [default]\n",
      "\t---------------------------------------------------------------------\n",
      "\t|                  |            modules            ||   artifacts   |\n",
      "\t|       conf       | number| search|dwnlded|evicted|| number|dwnlded|\n",
      "\t---------------------------------------------------------------------\n",
      "\t|      default     |   14  |   14  |   14  |   0   ||   14  |   14  |\n",
      "\t---------------------------------------------------------------------\n",
      ":: retrieving :: org.apache.spark#spark-submit-parent-3a73fb42-2da9-4843-9113-83d2ac2e758d\n",
      "\tconfs: [default]\n",
      "\t14 artifacts copied, 0 already retrieved (332424kB/178ms)\n",
      "25/02/19 18:43:34 WARN NativeCodeLoader: Unable to load native-hadoop library for your platform... using builtin-java classes where applicable\n",
      "Setting default log level to \"WARN\".\n",
      "To adjust logging level use sc.setLogLevel(newLevel). For SparkR, use setLogLevel(newLevel).\n",
      "/opt/conda/lib/python3.12/site-packages/pyspark/sql/context.py:113: FutureWarning: Deprecated in 3.0.0. Use SparkSession.builder.getOrCreate() instead.\n",
      "  warnings.warn(\n"
     ]
    }
   ],
   "source": [
    "from pyspark.sql import SparkSession\n",
    "from pyspark import SparkContext, SparkConf\n",
    "from pyspark.sql import SQLContext\n",
    "\n",
    "conf = SparkConf() \\\n",
    "    .setAppName('SparkApp') \\\n",
    "    .setMaster('spark://spark:7077') \\\n",
    "    .set(\"spark.jars.packages\", \"org.apache.hadoop:hadoop-aws:3.3.4,org.apache.spark:spark-sql-kafka-0-10_2.12:3.5.3\") \\\n",
    "    .set(\"spark.sql.shuffle.partitions\", \"10\")\n",
    " \n",
    "\n",
    "sc = SparkContext.getOrCreate(conf=conf)\n",
    "\n",
    "\n",
    "# Créer un SQLContext pour les opérations SQL\n",
    "sql_context = SQLContext(sc)"
   ]
  },
  {
   "cell_type": "markdown",
   "metadata": {},
   "source": [
    "## Imports"
   ]
  },
  {
   "cell_type": "code",
   "execution_count": 3,
   "metadata": {},
   "outputs": [],
   "source": [
    "from pyspark.sql import SparkSession\n",
    "from pyspark.sql.functions import from_json, col, count, window, avg, to_timestamp, min, max, last, broadcast, current_timestamp\n",
    "from pyspark.sql.functions import sum as spark_sum\n",
    "from pyspark.sql.types import StructType, StructField, StringType, FloatType, IntegerType, DoubleType, BooleanType"
   ]
  },
  {
   "cell_type": "markdown",
   "metadata": {},
   "source": [
    "## Schémas et Topics\n"
   ]
  },
  {
   "cell_type": "code",
   "execution_count": 4,
   "metadata": {},
   "outputs": [],
   "source": [
    "kafka_broker = \"kafka1:9092\"\n",
    "arrets_topic = \"arrets\"\n",
    "velos_topic = \"velos\"\n",
    "relais_topic = \"relais\"\n",
    "\n",
    "# Définition du schéma pour le topic \"arrets\"\n",
    "schema_arrets = StructType([\n",
    "    StructField(\"codeLieu\", StringType()),\n",
    "    StructField(\"libelle\", StringType()),\n",
    "    StructField(\"distance\", FloatType()),\n",
    "    StructField(\"ligne\", StringType())\n",
    "])\n",
    "\n",
    "# Définition du schéma pour le champ \"position\"\n",
    "position_schema = StructType([\n",
    "    StructField(\"lon\", DoubleType()),\n",
    "    StructField(\"lat\", DoubleType())\n",
    "])\n",
    "\n",
    "# Définition du schéma pour le topic \"velos\"\n",
    "schema_velos = StructType([\n",
    "    StructField(\"number\", StringType()),\n",
    "    StructField(\"name\", StringType()),\n",
    "    StructField(\"address\", StringType()),\n",
    "    StructField(\"position\", position_schema),\n",
    "    StructField(\"banking\", StringType()),\n",
    "    StructField(\"bonus\", StringType()),\n",
    "    StructField(\"status\", StringType()),\n",
    "    StructField(\"contract_name\", StringType()),\n",
    "    StructField(\"bike_stands\", IntegerType()),\n",
    "    StructField(\"available_bike_stands\", IntegerType()),\n",
    "    StructField(\"available_bikes\", IntegerType()),\n",
    "    StructField(\"last_update\", StringType())\n",
    "])\n",
    "\n",
    "# Définition du schéma pour le topic \"relais\"\n",
    "schema_relais = StructType([\n",
    "    StructField(\"grp_identifiant\", StringType()),\n",
    "    StructField(\"grp_nom\", StringType()),\n",
    "    StructField(\"grp_statut\", IntegerType()),\n",
    "    StructField(\"grp_disponible\", IntegerType()),\n",
    "    StructField(\"grp_exploitation\", IntegerType()),\n",
    "    StructField(\"grp_complet\", IntegerType()),\n",
    "    StructField(\"grp_horodatage\", StringType()),\n",
    "    StructField(\"idobj\", StringType()),\n",
    "    StructField(\"location\", StructType([\n",
    "        StructField(\"lon\", DoubleType()),\n",
    "        StructField(\"lat\", DoubleType())\n",
    "    ])),\n",
    "    StructField(\"disponibilite\", DoubleType())\n",
    "])\n",
    "\n",
    "# Définition du schéma pour le topic \"relais\"\n",
    "schema_parking_public = StructType([\n",
    "    StructField(\"grp_identifiant\", StringType(), True),\n",
    "    StructField(\"grp_nom\", StringType(), True),\n",
    "    StructField(\"grp_statut\", StringType(), True),\n",
    "    StructField(\"grp_disponible\", IntegerType(), True),\n",
    "    StructField(\"grp_exploitation\", IntegerType(), True),\n",
    "    StructField(\"grp_complet\", IntegerType(), True),\n",
    "    StructField(\"grp_horodatage\", StringType(), True),\n",
    "    StructField(\"idobj\", StringType(), True),\n",
    "    StructField(\"location\", StructType([\n",
    "         StructField(\"lon\", DoubleType(), True),\n",
    "         StructField(\"lat\", DoubleType(), True)\n",
    "    ]), True)\n",
    "])"
   ]
  },
  {
   "cell_type": "markdown",
   "metadata": {},
   "source": [
    "## Requête Batch sans fenêtre"
   ]
  },
  {
   "cell_type": "markdown",
   "metadata": {},
   "source": [
    "Comptage des arrêts par ligne à partir du topic « arrets »"
   ]
  },
  {
   "cell_type": "code",
   "execution_count": 5,
   "metadata": {},
   "outputs": [
    {
     "name": "stderr",
     "output_type": "stream",
     "text": [
      "25/02/19 18:44:04 WARN AdminClientConfig: These configurations '[key.deserializer, value.deserializer, enable.auto.commit, max.poll.records, auto.offset.reset]' were supplied but are not used yet.\n",
      "                                                                                \r"
     ]
    },
    {
     "name": "stdout",
     "output_type": "stream",
     "text": [
      "+--------------------+---------+\n",
      "|               ligne|nb_arrets|\n",
      "+--------------------+---------+\n",
      "|[{\"numLigne\":\"105...|        4|\n",
      "| [{\"numLigne\":\"30\"}]|       12|\n",
      "|[{\"numLigne\":\"127...|        2|\n",
      "|[{\"numLigne\":\"10\"...|        1|\n",
      "|[{\"numLigne\":\"119...|        7|\n",
      "|[{\"numLigne\":\"50\"...|        4|\n",
      "| [{\"numLigne\":\"91\"}]|       14|\n",
      "|[{\"numLigne\":\"11\"...|        4|\n",
      "|[{\"numLigne\":\"101...|        2|\n",
      "| [{\"numLigne\":\"80\"}]|       10|\n",
      "|[{\"numLigne\":\"2B\"...|        1|\n",
      "|[{\"numLigne\":\"152...|        1|\n",
      "|[{\"numLigne\":\"59\"...|        3|\n",
      "| [{\"numLigne\":\"C3\"}]|       12|\n",
      "|[{\"numLigne\":\"28\"...|        1|\n",
      "|[{\"numLigne\":\"30\"...|        7|\n",
      "|[{\"numLigne\":\"109...|        1|\n",
      "|[{\"numLigne\":\"104...|        1|\n",
      "| [{\"numLigne\":\"79\"}]|        6|\n",
      "|[{\"numLigne\":\"102...|        3|\n",
      "+--------------------+---------+\n",
      "only showing top 20 rows\n",
      "\n"
     ]
    },
    {
     "name": "stderr",
     "output_type": "stream",
     "text": [
      "25/02/19 18:44:09 WARN AdminClientConfig: These configurations '[key.deserializer, value.deserializer, enable.auto.commit, max.poll.records, auto.offset.reset]' were supplied but are not used yet.\n",
      "[Stage 5:>                                                          (0 + 1) / 1]\r"
     ]
    },
    {
     "name": "stdout",
     "output_type": "stream",
     "text": [
      "+-------+--------------------+-----------------+\n",
      "|summary|               ligne|        nb_arrets|\n",
      "+-------+--------------------+-----------------+\n",
      "|  count|                 434|              434|\n",
      "|   mean|                NULL|2.686635944700461|\n",
      "| stddev|                NULL|3.224968441931372|\n",
      "|    min|                  []|                1|\n",
      "|    max|[{\"numLigne\":\"NBI\"}]|               28|\n",
      "+-------+--------------------+-----------------+\n",
      "\n"
     ]
    },
    {
     "name": "stderr",
     "output_type": "stream",
     "text": [
      "                                                                                \r"
     ]
    }
   ],
   "source": [
    "# Lecture brute des messages Kafka\n",
    "df_kafka = sql_context.read \\\n",
    "    .format(\"kafka\") \\\n",
    "    .option(\"kafka.bootstrap.servers\", kafka_broker) \\\n",
    "    .option(\"subscribe\", arrets_topic) \\\n",
    "    .option(\"startingOffsets\", \"earliest\") \\\n",
    "    .load()\n",
    "\n",
    "# Conversion du champ \"value\" (encodé en JSON) en colonnes structurées\n",
    "df_arrets = df_kafka.selectExpr(\"CAST(value AS STRING) AS message\") \\\n",
    "    .select(from_json(col(\"message\"), schema_arrets).alias(\"data\")) \\\n",
    "    .select(\"data.*\")\n",
    "\n",
    "# Agrégation : compter le nombre d'arrêts par \"ligne\"\n",
    "result = df_arrets.groupBy(\"ligne\").agg(count(\"*\").alias(\"nb_arrets\"))\n",
    "\n",
    "# Affichage du résultat\n",
    "result.show()\n",
    "result.describe().show()"
   ]
  },
  {
   "cell_type": "markdown",
   "metadata": {},
   "source": [
    "Analyse des stations de vélo par statut historique"
   ]
  },
  {
   "cell_type": "code",
   "execution_count": 6,
   "metadata": {},
   "outputs": [
    {
     "name": "stderr",
     "output_type": "stream",
     "text": [
      "25/02/19 18:44:14 WARN SparkSession: Using an existing Spark session; only runtime SQL configurations will take effect.\n",
      "25/02/19 18:44:15 WARN AdminClientConfig: These configurations '[key.deserializer, value.deserializer, enable.auto.commit, max.poll.records, auto.offset.reset]' were supplied but are not used yet.\n",
      "25/02/19 18:44:15 WARN WindowExec: No Partition Defined for Window operation! Moving all data to a single partition, this can cause serious performance degradation.\n",
      "25/02/19 18:44:15 WARN WindowExec: No Partition Defined for Window operation! Moving all data to a single partition, this can cause serious performance degradation.\n",
      "25/02/19 18:44:15 WARN WindowExec: No Partition Defined for Window operation! Moving all data to a single partition, this can cause serious performance degradation.\n",
      "25/02/19 18:44:16 WARN WindowExec: No Partition Defined for Window operation! Moving all data to a single partition, this can cause serious performance degradation.\n",
      "25/02/19 18:44:16 WARN WindowExec: No Partition Defined for Window operation! Moving all data to a single partition, this can cause serious performance degradation.\n",
      "25/02/19 18:44:16 WARN WindowExec: No Partition Defined for Window operation! Moving all data to a single partition, this can cause serious performance degradation.\n",
      "25/02/19 18:44:16 WARN WindowExec: No Partition Defined for Window operation! Moving all data to a single partition, this can cause serious performance degradation.\n"
     ]
    },
    {
     "name": "stdout",
     "output_type": "stream",
     "text": [
      "+------+--------------+--------------------+-----------------+-----------+\n",
      "|status|total_stations|moyenne_velos_dispos| ecart_type_velos|pourcentage|\n",
      "+------+--------------+--------------------+-----------------+-----------+\n",
      "|  OPEN|          1764|    8.28061224489796|6.202029608458418|       0.98|\n",
      "|CLOSED|            36|                 0.0|              0.0|       0.02|\n",
      "+------+--------------+--------------------+-----------------+-----------+\n",
      "\n"
     ]
    },
    {
     "name": "stderr",
     "output_type": "stream",
     "text": [
      "                                                                                \r"
     ]
    }
   ],
   "source": [
    "from pyspark.sql import SparkSession\n",
    "import pyspark.sql.functions as F\n",
    "from pyspark.sql import Window\n",
    "\n",
    "spark = SparkSession.builder.appName(\"BikeHistory\").getOrCreate()\n",
    "\n",
    "# --- Helper function: read_kafka_stream ---\n",
    "def read_kafka_stream(topic, schema, is_streaming=True):\n",
    "    if is_streaming:\n",
    "        df = spark.readStream.format(\"kafka\") \\\n",
    "            .option(\"kafka.bootstrap.servers\", kafka_broker) \\\n",
    "            .option(\"subscribe\", topic) \\\n",
    "            .option(\"startingOffsets\", \"earliest\") \\\n",
    "            .load()\n",
    "    else:\n",
    "        df = spark.read.format(\"kafka\") \\\n",
    "            .option(\"kafka.bootstrap.servers\", kafka_broker) \\\n",
    "            .option(\"subscribe\", topic) \\\n",
    "            .option(\"startingOffsets\", \"earliest\") \\\n",
    "            .load()\n",
    "    # Convert the binary \"value\" column to string and parse JSON using the provided schema.\n",
    "    df = df.selectExpr(\"CAST(value AS STRING) as json_string\")\n",
    "    df = df.select(F.from_json(F.col(\"json_string\"), schema).alias(\"data\")).select(\"data.*\")\n",
    "    return df\n",
    "\n",
    "# Read batch data from the \"velos\" topic (is_streaming=False)\n",
    "df_velos = read_kafka_stream(\"velos\", schema_velos, is_streaming=False).where(F.col(\"status\").isNotNull())\n",
    "\n",
    "# Perform aggregation by 'status'\n",
    "result_batch1 = df_velos.groupBy(\"status\") \\\n",
    "    .agg(\n",
    "        F.count(\"*\").alias(\"total_stations\"),\n",
    "        F.avg(\"available_bikes\").alias(\"moyenne_velos_dispos\"),\n",
    "        F.stddev(\"available_bikes\").alias(\"ecart_type_velos\")\n",
    "    ) \\\n",
    "    .withColumn(\"pourcentage\", F.col(\"total_stations\") / F.sum(\"total_stations\").over(Window.partitionBy())) \\\n",
    "    .orderBy(F.desc(\"total_stations\"))\n",
    "\n",
    "result_batch1.show()\n"
   ]
  },
  {
   "cell_type": "markdown",
   "metadata": {},
   "source": [
    "## Requête Batch avec fenêtre\n",
    "\n",
    "Vélos disponibles par contrat sur des fenêtres temporelles à partir du topic « velos ».\n",
    "Malheuresement on a qu'une donnée par station donc ca permet pas de faire de l'aggrégation comme la moyenne de vélo sur la période..... faut essayer de trouver des données plus pertinentes."
   ]
  },
  {
   "cell_type": "code",
   "execution_count": 7,
   "metadata": {},
   "outputs": [],
   "source": [
    "# Lecture brute des messages Kafka\n",
    "df_kafka = sql_context.read \\\n",
    "    .format(\"kafka\") \\\n",
    "    .option(\"kafka.bootstrap.servers\", kafka_broker) \\\n",
    "    .option(\"subscribe\", velos_topic) \\\n",
    "    .option(\"startingOffsets\", \"earliest\") \\\n",
    "    .load()\n",
    "\n",
    "# Conversion du champ \"value\" en JSON\n",
    "df_velos = df_kafka.selectExpr(\"CAST(value AS STRING) AS message\") \\\n",
    "    .select(from_json(col(\"message\"), schema_velos).alias(\"data\")) \\\n",
    "    .select(\"data.*\")\n",
    "\n",
    "# Conversion de \"last_update\" en timestamp (format ISO 8601)\n",
    "df_velos = df_velos.withColumn(\"last_update_ts\", \n",
    "                               to_timestamp(col(\"last_update\"), \"yyyy-MM-dd'T'HH:mm:ssXXX\"))\n",
    "\n",
    "# Agrégation par fenêtre (ici, on allonge la fenêtre à 30 minutes pour accumuler plusieurs mises à jour) et par station\n",
    "result_window = df_velos.groupBy(\n",
    "    window(col(\"last_update_ts\"), \"30 minutes\"), \n",
    "    col(\"number\"),\n",
    "    col(\"contract_name\")\n",
    ").agg(\n",
    "    count(\"*\").alias(\"nb_updates\"),\n",
    "    last(\"available_bikes\", ignorenulls=True).alias(\"latest_available_bikes\")\n",
    ")\n",
    "\n",
    "result_window.show()"
   ]
  },
  {
   "cell_type": "markdown",
   "metadata": {},
   "source": [
    "## Requête Batch avec visualisation"
   ]
  },
  {
   "cell_type": "markdown",
   "metadata": {},
   "source": [
    "Graphique des totaux de stations par statut avec Pandas et Seaborn"
   ]
  },
  {
   "cell_type": "code",
   "execution_count": null,
   "metadata": {},
   "outputs": [],
   "source": [
    "import pandas as pd\n",
    "import seaborn as sns\n",
    "import matplotlib.pyplot as plt\n",
    "\n",
    "# Convert the Spark DataFrame to Pandas for visualization\n",
    "pdf = result_batch1.toPandas()\n",
    "\n",
    "plt.figure(figsize=(10,6))\n",
    "sns.barplot(data=pdf, x=\"status\", y=\"total_stations\", palette=\"viridis\")\n",
    "plt.title(\"Total des stations de vélo par statut\")\n",
    "plt.xlabel(\"Statut\")\n",
    "plt.ylabel(\"Nombre total de stations\")\n",
    "plt.show()\n"
   ]
  },
  {
   "cell_type": "markdown",
   "metadata": {},
   "source": [
    "## Requêtes Streaming"
   ]
  },
  {
   "cell_type": "markdown",
   "metadata": {},
   "source": [
    "### Récuperer la moyenne des disponiblités des parkings relais sur une fenêtre glissante."
   ]
  },
  {
   "cell_type": "code",
   "execution_count": null,
   "metadata": {},
   "outputs": [],
   "source": [
    "# Lecture en streaming depuis Kafka\n",
    "df_kafka = sql_context.readStream \\\n",
    "    .format(\"kafka\") \\\n",
    "    .option(\"kafka.bootstrap.servers\", kafka_broker) \\\n",
    "    .option(\"subscribe\", relais_topic) \\\n",
    "    .option(\"startingOffsets\", \"latest\") \\\n",
    "    .load()\n",
    "\n",
    "# Conversion du champ \"value\" (JSON) en colonnes structurées\n",
    "df_relais = df_kafka.selectExpr(\"CAST(value AS STRING) AS message\") \\\n",
    "    .select(from_json(col(\"message\"), schema_relais).alias(\"data\")) \\\n",
    "    .select(\"data.*\")\n",
    "\n",
    "# Conversion du champ \"grp_horodatage\" en timestamp\n",
    "# Le format ISO 8601 est utilisé : \"yyyy-MM-dd'T'HH:mm:ssXXX\"\n",
    "df_relais = df_relais.withColumn(\"horodatage_ts\", \n",
    "                                  to_timestamp(col(\"grp_horodatage\"), \"yyyy-MM-dd'T'HH:mm:ssXXX\"))\n",
    "\n",
    "# Définition d'un watermark de 5 minutes pour gérer les retards éventuels\n",
    "df_relais = df_relais.withWatermark(\"horodatage_ts\", \"5 minutes\")\n",
    "\n",
    "# Agrégation : calcul de la moyenne des disponibilités sur une fenêtre glissante\n",
    "# Ici, la fenêtre est de 5 minutes et on agrège par \"grp_identifiant\"\n",
    "result_stream = df_relais.groupBy(\n",
    "    window(col(\"horodatage_ts\"), \"5 minutes\"),\n",
    "    col(\"grp_identifiant\"),\n",
    ").agg(\n",
    "    avg(\"disponibilite\").alias(\"avg_disponibilite\")\n",
    ")\n",
    "\n",
    "# Écriture du résultat en streaming vers la console (mode \"update\")\n",
    "query = result_stream.writeStream \\\n",
    "    .outputMode(\"update\") \\\n",
    "    .format(\"console\") \\\n",
    "    .option(\"truncate\", \"false\") \\\n",
    "    .start()\n",
    "\n",
    "query.awaitTermination()"
   ]
  },
  {
   "cell_type": "code",
   "execution_count": null,
   "metadata": {},
   "outputs": [],
   "source": [
    "query.stop()"
   ]
  },
  {
   "cell_type": "markdown",
   "metadata": {},
   "source": [
    "### Récuperer la moyenne des vélos disponibles par parking sur une fenêtre glissante."
   ]
  },
  {
   "cell_type": "code",
   "execution_count": null,
   "metadata": {},
   "outputs": [],
   "source": [
    "# Lecture en streaming depuis Kafka\n",
    "df_kafka_velos = sql_context.readStream \\\n",
    "    .format(\"kafka\") \\\n",
    "    .option(\"kafka.bootstrap.servers\", kafka_broker) \\\n",
    "    .option(\"subscribe\", velos_topic) \\\n",
    "    .option(\"startingOffsets\", \"latest\") \\\n",
    "    .load()\n",
    "\n",
    "# Conversion du champ \"value\" (JSON) en colonnes structurées\n",
    "df_velos = df_kafka_velos.selectExpr(\"CAST(value AS STRING) AS message\") \\\n",
    "    .select(from_json(col(\"message\"), schema_velos).alias(\"data\")) \\\n",
    "    .select(\"data.*\")\n",
    "\n",
    "# Conversion du champ \"last_update\" en timestamp (format ISO 8601)\n",
    "df_velos = df_velos.withColumn(\"last_update_ts\", \n",
    "                               to_timestamp(col(\"last_update\"), \"yyyy-MM-dd'T'HH:mm:ssXXX\"))\n",
    "\n",
    "# Application d'un watermark de 5 minutes pour gérer les retards\n",
    "df_velos = df_velos.withWatermark(\"last_update_ts\", \"5 minutes\")\n",
    "\n",
    "# Agrégation sur une fenêtre de 5 minutes : calcul du total des places disponibles\n",
    "result_velos = df_velos.groupBy(\n",
    "    window(col(\"last_update_ts\"), \"5 minutes\"),\n",
    "    col(\"name\")\n",
    ").agg(\n",
    "    avg(\"available_bikes\").alias(\"moyenne_velos_disponibles\")\n",
    ")\n",
    "\n",
    "# Écriture du résultat en streaming vers la console (mode \"update\")\n",
    "query_velos = result_velos.writeStream \\\n",
    "    .outputMode(\"update\") \\\n",
    "    .format(\"console\") \\\n",
    "    .option(\"truncate\", \"false\") \\\n",
    "    .start()\n",
    "\n",
    "query_velos.awaitTermination()"
   ]
  },
  {
   "cell_type": "code",
   "execution_count": null,
   "metadata": {},
   "outputs": [],
   "source": [
    "query_velos.stop()"
   ]
  },
  {
   "cell_type": "markdown",
   "metadata": {},
   "source": [
    "## Multimodal query"
   ]
  },
  {
   "cell_type": "markdown",
   "metadata": {},
   "source": [
    "Define the Haversine Function and UDF"
   ]
  },
  {
   "cell_type": "code",
   "execution_count": 7,
   "metadata": {},
   "outputs": [
    {
     "data": {
      "text/plain": [
       "<pyspark.sql.udf.UserDefinedFunction at 0x7b3d475c1610>"
      ]
     },
     "execution_count": 7,
     "metadata": {},
     "output_type": "execute_result"
    }
   ],
   "source": [
    "from pyspark.sql import functions as F\n",
    "from math import radians, sin, cos, sqrt, atan2\n",
    "\n",
    "# 1. Define Python function\n",
    "def haversine(lon1, lat1, lon2, lat2):\n",
    "    lon1, lat1, lon2, lat2 = map(radians, [lon1, lat1, lon2, lat2])\n",
    "    dlon = lon2 - lon1\n",
    "    dlat = lat2 - lat1\n",
    "    a = sin(dlat/2)**2 + cos(lat1) * cos(lat2) * sin(dlon/2)**2\n",
    "    return 6371 * 2 * atan2(sqrt(a), sqrt(1-a))  # Earth radius in km\n",
    "\n",
    "# 2. Create Spark UDF\n",
    "haversine_udf = F.udf(haversine, DoubleType())\n",
    "\n",
    "# 3. Register for SparkSQL\n",
    "spark.udf.register(\"haversine\", haversine_udf)"
   ]
  },
  {
   "cell_type": "code",
   "execution_count": 8,
   "metadata": {},
   "outputs": [],
   "source": [
    "# 1. Read data and create temporary views\n",
    "df_arrets = read_kafka_stream(arrets_topic, schema_arrets, is_streaming=False)\n",
    "df_velos = read_kafka_stream(velos_topic, schema_velos, is_streaming=False)\n",
    "df_relais = read_kafka_stream(relais_topic, schema_relais, is_streaming=False)\n",
    "df_parking = read_kafka_stream(\"parking_public\", schema_parking_public, is_streaming=False)"
   ]
  },
  {
   "cell_type": "code",
   "execution_count": 9,
   "metadata": {},
   "outputs": [
    {
     "name": "stderr",
     "output_type": "stream",
     "text": [
      "25/02/19 18:44:55 WARN AdminClientConfig: These configurations '[key.deserializer, value.deserializer, enable.auto.commit, max.poll.records, auto.offset.reset]' were supplied but are not used yet.\n",
      "                                                                                \r"
     ]
    },
    {
     "name": "stdout",
     "output_type": "stream",
     "text": [
      "Parking Count: 522\n"
     ]
    },
    {
     "name": "stderr",
     "output_type": "stream",
     "text": [
      "25/02/19 18:44:55 WARN AdminClientConfig: These configurations '[key.deserializer, value.deserializer, enable.auto.commit, max.poll.records, auto.offset.reset]' were supplied but are not used yet.\n",
      "25/02/19 18:44:56 WARN AdminClientConfig: These configurations '[key.deserializer, value.deserializer, enable.auto.commit, max.poll.records, auto.offset.reset]' were supplied but are not used yet.\n"
     ]
    },
    {
     "name": "stdout",
     "output_type": "stream",
     "text": [
      "Velos Count: 1800\n"
     ]
    },
    {
     "name": "stderr",
     "output_type": "stream",
     "text": [
      "25/02/19 18:44:57 WARN AdminClientConfig: These configurations '[key.deserializer, value.deserializer, enable.auto.commit, max.poll.records, auto.offset.reset]' were supplied but are not used yet.\n"
     ]
    },
    {
     "name": "stdout",
     "output_type": "stream",
     "text": [
      "Relais Count: 342\n",
      "Non-Full Parkings: 522\n"
     ]
    },
    {
     "name": "stderr",
     "output_type": "stream",
     "text": [
      "                                                                                \r"
     ]
    }
   ],
   "source": [
    "# Check record counts at each stage\n",
    "print(\"Parking Count:\", df_parking.count())  # Should be >0\n",
    "print(\"Velos Count:\", df_velos.count())      # Should be >0\n",
    "print(\"Relais Count:\", df_relais.count())    # Should be >0\n",
    "\n",
    "# Check non-full parkings\n",
    "non_full = df_parking.filter(F.col(\"grp_complet\") != 1)\n",
    "print(\"Non-Full Parkings:\", non_full.count())"
   ]
  },
  {
   "cell_type": "markdown",
   "metadata": {},
   "source": [
    "Section 1: Batch Query – Aggregated Multimodal Connectivity Hubs"
   ]
  },
  {
   "cell_type": "code",
   "execution_count": 10,
   "metadata": {},
   "outputs": [
    {
     "name": "stderr",
     "output_type": "stream",
     "text": [
      "25/02/19 18:45:11 WARN AdminClientConfig: These configurations '[key.deserializer, value.deserializer, enable.auto.commit, max.poll.records, auto.offset.reset]' were supplied but are not used yet.\n",
      "25/02/19 18:45:11 WARN AdminClientConfig: These configurations '[key.deserializer, value.deserializer, enable.auto.commit, max.poll.records, auto.offset.reset]' were supplied but are not used yet.\n",
      "25/02/19 18:45:11 WARN AdminClientConfig: These configurations '[key.deserializer, value.deserializer, enable.auto.commit, max.poll.records, auto.offset.reset]' were supplied but are not used yet.\n",
      "                                                                                \r"
     ]
    },
    {
     "name": "stdout",
     "output_type": "stream",
     "text": [
      "+----------------------+------------------+---------------+-------------------+------------------+\n",
      "|location_name         |avg_bikes         |nearby_stations|lon                |lat               |\n",
      "+----------------------+------------------+---------------+-------------------+------------------+\n",
      "|Feydeau               |7.150442477876106 |15             |-1.552558781000016 |47.21407529499999 |\n",
      "|Decré-Bouffay         |6.845117845117845 |17             |-1.5540046290000191|47.21666261299998 |\n",
      "|Tour Bretagne         |8.508361204013378 |18             |-1.5582500169999776|47.21784288800001 |\n",
      "|Graslin               |9.959537572254336 |12             |-1.562571814000023 |47.214310205000004|\n",
      "|Aristide Briand       |9.956284153005464 |12             |-1.5629364160000137|47.21709359800002 |\n",
      "|Médiathèque           |8.752             |9              |-1.56233817399999  |47.210870821000015|\n",
      "|Commerce              |8.536585365853659 |15             |-1.557713217000014 |47.21312028       |\n",
      "|Talensac              |8.527777777777779 |14             |-1.5583572969999864|47.220255974      |\n",
      "|Cité des Congrès      |12.963503649635037|9              |-1.5439712740000004|47.212901665000004|\n",
      "|Cathédrale            |7.139784946236559 |11             |-1.5510561649999772|47.22081334400002 |\n",
      "|Les machines          |3.7254901960784315|4              |-1.5627277899999967|47.20590061600001 |\n",
      "|Descartes             |9.891472868217054 |9              |-1.5643645260000199|47.21718884799998 |\n",
      "|Gloriette 1           |6.3768115942028984|11             |-1.5584387270000093|47.21117964899997 |\n",
      "|Hôtel Dieu            |5.297872340425532 |10             |-1.5519831099999806|47.21105707999999 |\n",
      "|Gare Sud 2 : Limité 1h|14.920634920634921|7              |-1.5405805820000182|47.21370471099999 |\n",
      "|CHU 1                 |5.88135593220339  |9              |-1.5572502320000012|47.20936196600002 |\n",
      "|Gare Nord             |12.354037267080745|11             |-1.5449843310000233|47.21668903400001 |\n",
      "|Gare Sud 3            |15.808695652173913|7              |-1.539256308000006 |47.21491533400001 |\n",
      "|Bellamy               |8.822222222222223 |10             |-1.5576936900000078|47.222360408999975|\n",
      "|Gare Sud 4            |14.634782608695652|7              |-1.5379338930000017|47.21510336       |\n",
      "+----------------------+------------------+---------------+-------------------+------------------+\n",
      "only showing top 20 rows\n",
      "\n"
     ]
    }
   ],
   "source": [
    "# Final Corrected Batch Request with Proper Syntax and Names\n",
    "parking_bike_analysis = (\n",
    "    df_parking.alias(\"parking\")\n",
    "    .filter(F.col(\"parking.grp_complet\") != 1)\n",
    "    .join(\n",
    "        df_velos.alias(\"velo\"),\n",
    "        [\n",
    "            (F.abs(F.col(\"parking.location.lon\") - F.col(\"velo.position.lon\")) <= 0.01),\n",
    "            (F.abs(F.col(\"parking.location.lat\") - F.col(\"velo.position.lat\")) <= 0.01)\n",
    "        ]\n",
    "    )\n",
    "    .withColumn(\"distance_km\", haversine_udf(\n",
    "        F.col(\"parking.location.lon\"), \n",
    "        F.col(\"parking.location.lat\"),\n",
    "        F.col(\"velo.position.lon\"),\n",
    "        F.col(\"velo.position.lat\")\n",
    "    ))\n",
    "    .filter(F.col(\"distance_km\") <= 0.5)\n",
    "    .groupBy(\"parking.grp_identifiant\")\n",
    "    .agg(\n",
    "        F.avg(\"velo.available_bikes\").alias(\"avg_bikes\"),\n",
    "        F.count_distinct(\"velo.number\").alias(\"nearby_stations\"),\n",
    "        F.first(\"parking.location.lon\").alias(\"parking_lon\"),\n",
    "        F.first(\"parking.location.lat\").alias(\"parking_lat\"),\n",
    "        F.first(\"parking.grp_nom\").alias(\"parking_grp_nom\")  # Get parking's own name\n",
    "    )\n",
    "    .join(\n",
    "        df_relais.alias(\"relais\"), \n",
    "        \"grp_identifiant\", \n",
    "        \"left\"\n",
    "    )\n",
    "    .select(\n",
    "        F.coalesce(\n",
    "            \"relais.grp_nom\", \n",
    "            \"parking_grp_nom\", \n",
    "            F.concat(F.lit(\"Parking \"), \"grp_identifiant\")\n",
    "        ).alias(\"location_name\"),  # Fixed parenthesis and alias position\n",
    "        \"avg_bikes\",\n",
    "        \"nearby_stations\",\n",
    "        F.coalesce(\"relais.location.lon\", \"parking_lon\").alias(\"lon\"),\n",
    "        F.coalesce(\"relais.location.lat\", \"parking_lat\").alias(\"lat\")\n",
    "    )\n",
    ")\n",
    "\n",
    "parking_bike_analysis.show(truncate=False)"
   ]
  },
  {
   "cell_type": "code",
   "execution_count": 11,
   "metadata": {},
   "outputs": [
    {
     "name": "stderr",
     "output_type": "stream",
     "text": [
      "25/02/19 18:45:27 WARN ExtractPythonUDFFromJoinCondition: The join condition:(haversine(location#1148.lon, location#1148.lat, position#1181.lon, position#1181.lat)#1224 <= 0.5) of the join plan contains PythonUDF only, it will be moved out and the join plan will be turned to cross join.\n",
      "25/02/19 18:45:27 WARN AdminClientConfig: These configurations '[key.deserializer, value.deserializer, enable.auto.commit, max.poll.records, auto.offset.reset]' were supplied but are not used yet.\n",
      "25/02/19 18:45:27 WARN AdminClientConfig: These configurations '[key.deserializer, value.deserializer, enable.auto.commit, max.poll.records, auto.offset.reset]' were supplied but are not used yet.\n",
      "25/02/19 18:45:27 WARN WindowExec: No Partition Defined for Window operation! Moving all data to a single partition, this can cause serious performance degradation.\n",
      "25/02/19 18:45:27 WARN WindowExec: No Partition Defined for Window operation! Moving all data to a single partition, this can cause serious performance degradation.\n",
      "25/02/19 18:45:27 WARN WindowExec: No Partition Defined for Window operation! Moving all data to a single partition, this can cause serious performance degradation.\n",
      "25/02/19 18:45:30 WARN WindowExec: No Partition Defined for Window operation! Moving all data to a single partition, this can cause serious performance degradation.\n",
      "25/02/19 18:45:30 WARN WindowExec: No Partition Defined for Window operation! Moving all data to a single partition, this can cause serious performance degradation.\n",
      "25/02/19 18:45:30 WARN WindowExec: No Partition Defined for Window operation! Moving all data to a single partition, this can cause serious performance degradation.\n",
      "25/02/19 18:45:30 WARN WindowExec: No Partition Defined for Window operation! Moving all data to a single partition, this can cause serious performance degradation.\n",
      "25/02/19 18:45:31 WARN WindowExec: No Partition Defined for Window operation! Moving all data to a single partition, this can cause serious performance degradation.\n",
      "25/02/19 18:45:31 WARN WindowExec: No Partition Defined for Window operation! Moving all data to a single partition, this can cause serious performance degradation.\n"
     ]
    },
    {
     "name": "stdout",
     "output_type": "stream",
     "text": [
      "+---------------+-------------+------------------+------------+----+\n",
      "|grp_identifiant|grp_nom      |avg_bikes         |num_stations|rank|\n",
      "+---------------+-------------+------------------+------------+----+\n",
      "|140            |P+R Huit Mai |14.692307692307692|2           |1   |\n",
      "|144            |P+R Gréneraie|7.6               |2           |2   |\n",
      "+---------------+-------------+------------------+------------+----+\n",
      "\n"
     ]
    },
    {
     "name": "stderr",
     "output_type": "stream",
     "text": [
      "                                                                                \r"
     ]
    }
   ],
   "source": [
    "# Rank parking relays by nearby bike availability\n",
    "parking_ranking = (\n",
    "    read_kafka_stream(relais_topic, schema_relais, False).alias(\"relais\")\n",
    "    .crossJoin(read_kafka_stream(velos_topic, schema_velos, False).alias(\"velo\"))\n",
    "    .withColumn(\"distance_km\", haversine_udf(\n",
    "        F.col(\"relais.location.lon\"),\n",
    "        F.col(\"relais.location.lat\"),\n",
    "        F.col(\"velo.position.lon\"),\n",
    "        F.col(\"velo.position.lat\")\n",
    "    ))\n",
    "    .filter(F.col(\"distance_km\") <= 0.5)\n",
    "    .groupBy(\"relais.grp_identifiant\", \"relais.grp_nom\")\n",
    "    .agg(\n",
    "        F.avg(\"velo.available_bikes\").alias(\"avg_bikes\"),\n",
    "        F.count_distinct(\"velo.number\").alias(\"num_stations\")\n",
    "    )\n",
    "    .withColumn(\"rank\", \n",
    "               F.dense_rank().over(Window.orderBy(F.desc(\"avg_bikes\")))\n",
    "    )\n",
    "    .orderBy(\"rank\")\n",
    ")\n",
    "\n",
    "parking_ranking.show(truncate=False)"
   ]
  },
  {
   "cell_type": "code",
   "execution_count": 12,
   "metadata": {},
   "outputs": [
    {
     "name": "stderr",
     "output_type": "stream",
     "text": [
      "25/02/19 18:45:42 WARN ExtractPythonUDFFromJoinCondition: The join condition:(haversine(location#628.lon, location#628.lat, position#581.lon, position#581.lat)#1393 <= 1.0) of the join plan contains PythonUDF only, it will be moved out and the join plan will be turned to cross join.\n",
      "25/02/19 18:45:42 WARN AdminClientConfig: These configurations '[key.deserializer, value.deserializer, enable.auto.commit, max.poll.records, auto.offset.reset]' were supplied but are not used yet.\n",
      "25/02/19 18:45:42 WARN AdminClientConfig: These configurations '[key.deserializer, value.deserializer, enable.auto.commit, max.poll.records, auto.offset.reset]' were supplied but are not used yet.\n",
      "25/02/19 18:45:42 WARN WindowExec: No Partition Defined for Window operation! Moving all data to a single partition, this can cause serious performance degradation.\n",
      "25/02/19 18:45:42 WARN WindowExec: No Partition Defined for Window operation! Moving all data to a single partition, this can cause serious performance degradation.\n",
      "25/02/19 18:45:42 WARN WindowExec: No Partition Defined for Window operation! Moving all data to a single partition, this can cause serious performance degradation.\n",
      "[Stage 46:=============================>                            (2 + 2) / 4]\r"
     ]
    },
    {
     "name": "stdout",
     "output_type": "stream",
     "text": [
      "+---------------+--------------------+-------------------+---------------+----+\n",
      "|grp_identifiant|grp_nom             |avg_available_bikes|nearby_stations|rank|\n",
      "+---------------+--------------------+-------------------+---------------+----+\n",
      "|152            |P+R Prairie de Mauve|12.0               |324            |1   |\n",
      "|144            |P+R Gréneraie       |7.17816091954023   |3132           |2   |\n",
      "|140            |P+R Huit Mai        |6.575              |1440           |3   |\n",
      "|139            |P+R Recteur Schmitt |6.225806451612903  |558            |4   |\n",
      "+---------------+--------------------+-------------------+---------------+----+\n",
      "\n"
     ]
    },
    {
     "name": "stderr",
     "output_type": "stream",
     "text": [
      "25/02/19 18:45:45 WARN WindowExec: No Partition Defined for Window operation! Moving all data to a single partition, this can cause serious performance degradation.\n",
      "25/02/19 18:45:45 WARN WindowExec: No Partition Defined for Window operation! Moving all data to a single partition, this can cause serious performance degradation.\n",
      "25/02/19 18:45:45 WARN WindowExec: No Partition Defined for Window operation! Moving all data to a single partition, this can cause serious performance degradation.\n",
      "                                                                                \r"
     ]
    }
   ],
   "source": [
    "from pyspark.sql.window import Window\n",
    "\n",
    "# Assume df_velos and df_relais are loaded in batch mode (is_streaming=False)\n",
    "\n",
    "relays_velos = (\n",
    "    df_relais.alias(\"rel\")\n",
    "    .join(\n",
    "        df_velos.alias(\"vel\"),\n",
    "        haversine_udf(\n",
    "            F.col(\"rel.location.lon\"),\n",
    "            F.col(\"rel.location.lat\"),\n",
    "            F.col(\"vel.position.lon\"),\n",
    "            F.col(\"vel.position.lat\")\n",
    "        ) <= 1.0  # 1 km threshold\n",
    "    )\n",
    "    .groupBy(\"rel.grp_identifiant\", \"rel.grp_nom\")\n",
    "    .agg(\n",
    "         F.avg(\"vel.available_bikes\").alias(\"avg_available_bikes\"),\n",
    "         F.count(\"vel.number\").alias(\"nearby_stations\")\n",
    "    )\n",
    ")\n",
    "\n",
    "window_spec = Window.orderBy(F.desc(\"avg_available_bikes\"))\n",
    "relays_ranked = relays_velos.withColumn(\"rank\", F.dense_rank().over(window_spec))\n",
    "\n",
    "relays_ranked.show(truncate=False)\n"
   ]
  },
  {
   "cell_type": "code",
   "execution_count": 13,
   "metadata": {},
   "outputs": [
    {
     "name": "stderr",
     "output_type": "stream",
     "text": [
      "25/02/19 18:45:53 WARN AdminClientConfig: These configurations '[key.deserializer, value.deserializer, enable.auto.commit, max.poll.records, auto.offset.reset]' were supplied but are not used yet.\n",
      "25/02/19 18:45:53 WARN AdminClientConfig: These configurations '[key.deserializer, value.deserializer, enable.auto.commit, max.poll.records, auto.offset.reset]' were supplied but are not used yet.\n",
      "[Stage 49:=============================>                            (2 + 2) / 4]\r"
     ]
    },
    {
     "name": "stdout",
     "output_type": "stream",
     "text": [
      "+---------------+----------------------+------------------+---------------------+\n",
      "|grp_identifiant|grp_nom               |avg_bike_deficit  |total_available_bikes|\n",
      "+---------------+----------------------+------------------+---------------------+\n",
      "|006            |Médiathèque           |13.26607142857143 |81414                |\n",
      "|001            |Feydeau               |14.123475609756097|98694                |\n",
      "|009            |Cité des Congrès      |14.265934065934067|66168                |\n",
      "|040            |Fonderies             |14.082781456953642|34434                |\n",
      "|021            |Gare Nord             |14.294845360824743|69552                |\n",
      "|016            |Gare Sud 2 : Limité 1h|15.966197183098592|48060                |\n",
      "|005            |Aristide Briand       |11.406091370558375|87912                |\n",
      "|008            |Talensac              |10.468454258675079|94536                |\n",
      "|002            |Decré-Bouffay         |12.823099415204679|87930                |\n",
      "|044            |Gare Sud 2            |16.502262443438916|42696                |\n",
      "|042            |CHU 2                 |15.19267822736031 |61920                |\n",
      "|012            |Descartes             |10.46927374301676 |83754                |\n",
      "|027            |Gare Sud 3            |15.5              |51444                |\n",
      "|004            |Graslin               |11.967051070840197|92862                |\n",
      "|047            |Les Nefs              |13.847352024922118|40752                |\n",
      "|003            |Tour Bretagne         |11.229385307346327|95706                |\n",
      "|017            |CHU 1                 |13.722021660649819|68688                |\n",
      "|034            |Gare Sud 4            |15.289473684210526|49032                |\n",
      "|029            |Bellamy               |9.207792207792208 |81414                |\n",
      "|036            |Baco-LU 2             |14.189228529839884|103230               |\n",
      "+---------------+----------------------+------------------+---------------------+\n",
      "only showing top 20 rows\n",
      "\n"
     ]
    },
    {
     "name": "stderr",
     "output_type": "stream",
     "text": [
      "                                                                                \r"
     ]
    }
   ],
   "source": [
    "parking_velos_deficit = (\n",
    "    df_parking.alias(\"parking\")\n",
    "    .filter(F.col(\"grp_complet\") != 1)\n",
    "    .join(\n",
    "         df_velos.alias(\"velo\"),\n",
    "         (F.abs(F.col(\"parking.location.lon\") - F.col(\"velo.position.lon\")) <= 0.01) &\n",
    "         (F.abs(F.col(\"parking.location.lat\") - F.col(\"velo.position.lat\")) <= 0.01)\n",
    "    )\n",
    "    .withColumn(\"bike_deficit\", F.col(\"velo.bike_stands\") - F.col(\"velo.available_bikes\"))\n",
    "    .groupBy(\"parking.grp_identifiant\", \"parking.grp_nom\")\n",
    "    .agg(\n",
    "         F.avg(\"bike_deficit\").alias(\"avg_bike_deficit\"),\n",
    "         F.sum(\"velo.available_bikes\").alias(\"total_available_bikes\")\n",
    "    )\n",
    ")\n",
    "\n",
    "parking_velos_deficit.show(truncate=False)\n"
   ]
  },
  {
   "cell_type": "code",
   "execution_count": 14,
   "metadata": {},
   "outputs": [
    {
     "name": "stderr",
     "output_type": "stream",
     "text": [
      "25/02/19 18:46:37 WARN AdminClientConfig: These configurations '[key.deserializer, value.deserializer, enable.auto.commit, max.poll.records, auto.offset.reset]' were supplied but are not used yet.\n",
      "25/02/19 18:46:37 WARN AdminClientConfig: These configurations '[key.deserializer, value.deserializer, enable.auto.commit, max.poll.records, auto.offset.reset]' were supplied but are not used yet.\n",
      "                                                                                \r"
     ]
    },
    {
     "data": {
      "image/png": "[encoded data removed]",
      "text/plain": [
       "<Figure size 1000x600 with 1 Axes>"
      ]
     },
     "metadata": {},
     "output_type": "display_data"
    }
   ],
   "source": [
    "relays_efficiency = (\n",
    "    df_relais.alias(\"rel\")\n",
    "    .join(\n",
    "         df_velos.alias(\"velo\"),\n",
    "         (F.abs(F.col(\"rel.location.lon\") - F.col(\"velo.position.lon\")) <= 0.01) &\n",
    "         (F.abs(F.col(\"rel.location.lat\") - F.col(\"velo.position.lat\")) <= 0.01)\n",
    "    )\n",
    "    .withColumn(\"bike_efficiency\", F.col(\"velo.available_bikes\") / F.col(\"velo.bike_stands\"))\n",
    "    .groupBy(\"rel.grp_nom\")\n",
    "    .agg(F.avg(\"bike_efficiency\").alias(\"avg_bike_efficiency\"))\n",
    ")\n",
    "\n",
    "# Convert to Pandas for plotting\n",
    "relays_efficiency_pd = relays_efficiency.toPandas()\n",
    "\n",
    "# Example visualization using seaborn and matplotlib\n",
    "import seaborn as sns\n",
    "import matplotlib.pyplot as plt\n",
    "\n",
    "plt.figure(figsize=(10, 6))\n",
    "sns.barplot(data=relays_efficiency_pd, x=\"grp_nom\", y=\"avg_bike_efficiency\")\n",
    "plt.title(\"Average Bike Efficiency by Relais Station\")\n",
    "plt.xlabel(\"Relais Station Name\")\n",
    "plt.ylabel(\"Average Bike Efficiency (Available/Bike Stands)\")\n",
    "plt.xticks(rotation=45)\n",
    "plt.tight_layout()\n",
    "plt.show()\n"
   ]
  },
  {
   "cell_type": "code",
   "execution_count": 15,
   "metadata": {},
   "outputs": [
    {
     "name": "stderr",
     "output_type": "stream",
     "text": [
      "25/02/19 18:46:48 WARN AdminClientConfig: These configurations '[key.deserializer, value.deserializer, enable.auto.commit, max.poll.records, auto.offset.reset]' were supplied but are not used yet.\n",
      "25/02/19 18:46:49 WARN AdminClientConfig: These configurations '[key.deserializer, value.deserializer, enable.auto.commit, max.poll.records, auto.offset.reset]' were supplied but are not used yet.\n",
      "[Stage 55:=============================>                            (2 + 2) / 4]\r"
     ]
    },
    {
     "name": "stdout",
     "output_type": "stream",
     "text": [
      "+---------------+----------------------+--------------------+-------------------+\n",
      "|grp_identifiant|grp_nom               |nearby_bike_stations|avg_available_bikes|\n",
      "+---------------+----------------------+--------------------+-------------------+\n",
      "|044            |Gare Sud 2            |17                  |10.733031674208144 |\n",
      "|010            |Cathédrale            |41                  |9.169407894736842  |\n",
      "|034            |Gare Sud 4            |23                  |8.960526315789474  |\n",
      "|012            |Descartes             |35                  |8.664804469273744  |\n",
      "|004            |Graslin               |40                  |8.499176276771005  |\n",
      "|037            |Gloriette 2           |37                  |8.432188065099458  |\n",
      "|027            |Gare Sud 3            |25                  |8.405882352941177  |\n",
      "|029            |Bellamy               |35                  |8.391465677179962  |\n",
      "|035            |Baco-LU 1             |41                  |8.371475953565506  |\n",
      "|001            |Feydeau               |44                  |8.358231707317072  |\n",
      "|036            |Baco-LU 2             |45                  |8.347889374090247  |\n",
      "|008            |Talensac              |39                  |8.28391167192429   |\n",
      "|005            |Aristide Briand       |38                  |8.263959390862944  |\n",
      "|009            |Cité des Congrès      |29                  |8.079120879120879  |\n",
      "|006            |Médiathèque           |37                  |8.076785714285714  |\n",
      "|015            |Hôtel Dieu            |41                  |8.058536585365854  |\n",
      "|003            |Tour Bretagne         |42                  |7.971514242878561  |\n",
      "|021            |Gare Nord             |32                  |7.967010309278351  |\n",
      "|007            |Commerce              |43                  |7.657228017883756  |\n",
      "|016            |Gare Sud 2 : Limité 1h|25                  |7.52112676056338   |\n",
      "+---------------+----------------------+--------------------+-------------------+\n",
      "only showing top 20 rows\n",
      "\n"
     ]
    },
    {
     "name": "stderr",
     "output_type": "stream",
     "text": [
      "                                                                                \r"
     ]
    }
   ],
   "source": [
    "# Register DataFrames as temporary views if not already registered\n",
    "df_parking.createOrReplaceTempView(\"parking\")\n",
    "df_velos.createOrReplaceTempView(\"velos\")\n",
    "\n",
    "# Execute the SparkSQL query\n",
    "result = spark.sql(\"\"\"\n",
    "SELECT \n",
    "    p.grp_identifiant,\n",
    "    p.grp_nom,\n",
    "    COUNT(DISTINCT v.number) AS nearby_bike_stations,\n",
    "    AVG(v.available_bikes) AS avg_available_bikes\n",
    "FROM parking p\n",
    "JOIN velos v\n",
    "  ON ABS(p.location.lon - v.position.lon) <= 0.01\n",
    "     AND ABS(p.location.lat - v.position.lat) <= 0.01\n",
    "WHERE p.grp_complet <> 1\n",
    "GROUP BY p.grp_identifiant, p.grp_nom\n",
    "ORDER BY avg_available_bikes DESC\n",
    "\"\"\")\n",
    "\n",
    "# Display the results\n",
    "result.show(truncate=False)\n"
   ]
  },
  {
   "cell_type": "code",
   "execution_count": null,
   "metadata": {},
   "outputs": [
    {
     "name": "stderr",
     "output_type": "stream",
     "text": [
      "25/02/19 19:14:42 WARN ResolveWriteToStream: Temporary checkpoint location created which is deleted normally when the query didn't fail: /tmp/temporary-96a1f6cb-6c08-4919-bea6-b77f72d5d46c. If it's required to delete it under any circumstances, please set spark.sql.streaming.forceDeleteTempCheckpointLocation to true. Important to know deleting temp checkpoint folder is best effort.\n",
      "25/02/19 19:14:42 WARN ResolveWriteToStream: spark.sql.adaptive.enabled is not supported in streaming DataFrames/Datasets and will be disabled.\n"
     ]
    },
    {
     "data": {
      "text/plain": [
       "<pyspark.sql.streaming.query.StreamingQuery at 0x7b3c7ccb83e0>"
      ]
     },
     "execution_count": 20,
     "metadata": {},
     "output_type": "execute_result"
    },
    {
     "name": "stderr",
     "output_type": "stream",
     "text": [
      "25/02/19 19:14:42 WARN AdminClientConfig: These configurations '[key.deserializer, value.deserializer, enable.auto.commit, max.poll.records, auto.offset.reset]' were supplied but are not used yet.\n",
      "25/02/19 19:14:42 WARN AdminClientConfig: These configurations '[key.deserializer, value.deserializer, enable.auto.commit, max.poll.records, auto.offset.reset]' were supplied but are not used yet.\n",
      "25/02/19 19:14:42 WARN AdminClientConfig: These configurations '[key.deserializer, value.deserializer, enable.auto.commit, max.poll.records, auto.offset.reset]' were supplied but are not used yet.\n",
      "25/02/19 19:14:42 WARN AdminClientConfig: These configurations '[key.deserializer, value.deserializer, enable.auto.commit, max.poll.records, auto.offset.reset]' were supplied but are not used yet.\n",
      "                                                                                \r"
     ]
    },
    {
     "name": "stdout",
     "output_type": "stream",
     "text": [
      "-------------------------------------------\n",
      "Batch: 0\n",
      "-------------------------------------------\n",
      "+---------+-------------+------------+---------------+\n",
      "|relais_id|  relais_name|velo_station|available_bikes|\n",
      "+---------+-------------+------------+---------------+\n",
      "|      144|P+R Gréneraie|          56|              1|\n",
      "|      144|P+R Gréneraie|          56|              1|\n",
      "|      144|P+R Gréneraie|          56|              1|\n",
      "|      144|P+R Gréneraie|          56|              1|\n",
      "|      144|P+R Gréneraie|          56|              1|\n",
      "|      144|P+R Gréneraie|          56|              1|\n",
      "|      144|P+R Gréneraie|          56|              1|\n",
      "|      140| P+R Huit Mai|        1011|              0|\n",
      "|      140| P+R Huit Mai|        1011|              0|\n",
      "|      140| P+R Huit Mai|        1011|              0|\n",
      "|      140| P+R Huit Mai|        1011|              0|\n",
      "|      140| P+R Huit Mai|        1011|              0|\n",
      "|      140| P+R Huit Mai|        1011|              0|\n",
      "|      140| P+R Huit Mai|        1011|              0|\n",
      "|      140| P+R Huit Mai|        1011|              0|\n",
      "|      140| P+R Huit Mai|        1011|              0|\n",
      "|      140| P+R Huit Mai|        1011|              0|\n",
      "|      140| P+R Huit Mai|        1011|              0|\n",
      "|      140| P+R Huit Mai|        1011|              0|\n",
      "|      140| P+R Huit Mai|        1012|              0|\n",
      "+---------+-------------+------------+---------------+\n",
      "only showing top 20 rows\n",
      "\n"
     ]
    },
    {
     "name": "stderr",
     "output_type": "stream",
     "text": [
      "25/02/19 19:15:09 WARN AdminClientConfig: These configurations '[key.deserializer, value.deserializer, enable.auto.commit, max.poll.records, auto.offset.reset]' were supplied but are not used yet.\n",
      "25/02/19 19:15:09 WARN AdminClientConfig: These configurations '[key.deserializer, value.deserializer, enable.auto.commit, max.poll.records, auto.offset.reset]' were supplied but are not used yet.\n",
      "25/02/19 19:15:09 WARN AdminClientConfig: These configurations '[key.deserializer, value.deserializer, enable.auto.commit, max.poll.records, auto.offset.reset]' were supplied but are not used yet.\n",
      "25/02/19 19:15:09 WARN AdminClientConfig: These configurations '[key.deserializer, value.deserializer, enable.auto.commit, max.poll.records, auto.offset.reset]' were supplied but are not used yet.\n",
      "25/02/19 19:15:09 WARN AdminClientConfig: These configurations '[key.deserializer, value.deserializer, enable.auto.commit, max.poll.records, auto.offset.reset]' were supplied but are not used yet.\n",
      "25/02/19 19:15:09 WARN AdminClientConfig: These configurations '[key.deserializer, value.deserializer, enable.auto.commit, max.poll.records, auto.offset.reset]' were supplied but are not used yet.\n",
      "25/02/19 19:15:09 WARN AdminClientConfig: These configurations '[key.deserializer, value.deserializer, enable.auto.commit, max.poll.records, auto.offset.reset]' were supplied but are not used yet.\n",
      "25/02/19 19:15:09 WARN AdminClientConfig: These configurations '[key.deserializer, value.deserializer, enable.auto.commit, max.poll.records, auto.offset.reset]' were supplied but are not used yet.\n",
      "25/02/19 19:15:09 WARN AdminClientConfig: These configurations '[key.deserializer, value.deserializer, enable.auto.commit, max.poll.records, auto.offset.reset]' were supplied but are not used yet.\n",
      "25/02/19 19:15:10 WARN AdminClientConfig: These configurations '[key.deserializer, value.deserializer, enable.auto.commit, max.poll.records, auto.offset.reset]' were supplied but are not used yet.\n",
      "25/02/19 19:15:10 WARN AdminClientConfig: These configurations '[key.deserializer, value.deserializer, enable.auto.commit, max.poll.records, auto.offset.reset]' were supplied but are not used yet.\n",
      "25/02/19 19:15:10 WARN AdminClientConfig: These configurations '[key.deserializer, value.deserializer, enable.auto.commit, max.poll.records, auto.offset.reset]' were supplied but are not used yet.\n"
     ]
    },
    {
     "name": "stdout",
     "output_type": "stream",
     "text": [
      "-------------------------------------------\n",
      "Batch: 3\n",
      "-------------------------------------------\n",
      "+---------+-----------+------------+---------------+\n",
      "|relais_id|relais_name|velo_station|available_bikes|\n",
      "+---------+-----------+------------+---------------+\n",
      "+---------+-----------+------------+---------------+\n",
      "\n"
     ]
    },
    {
     "name": "stderr",
     "output_type": "stream",
     "text": [
      "25/02/19 19:15:13 WARN AdminClientConfig: These configurations '[key.deserializer, value.deserializer, enable.auto.commit, max.poll.records, auto.offset.reset]' were supplied but are not used yet.\n",
      "25/02/19 19:15:13 WARN AdminClientConfig: These configurations '[key.deserializer, value.deserializer, enable.auto.commit, max.poll.records, auto.offset.reset]' were supplied but are not used yet.\n",
      "25/02/19 19:15:13 WARN AdminClientConfig: These configurations '[key.deserializer, value.deserializer, enable.auto.commit, max.poll.records, auto.offset.reset]' were supplied but are not used yet.\n"
     ]
    },
    {
     "name": "stdout",
     "output_type": "stream",
     "text": [
      "-------------------------------------------\n",
      "Batch: 1\n",
      "-------------------------------------------\n",
      "+---------+-----------+------------+---------------+\n",
      "|relais_id|relais_name|velo_station|available_bikes|\n",
      "+---------+-----------+------------+---------------+\n",
      "+---------+-----------+------------+---------------+\n",
      "\n"
     ]
    },
    {
     "name": "stderr",
     "output_type": "stream",
     "text": [
      "25/02/19 19:15:15 WARN AdminClientConfig: These configurations '[key.deserializer, value.deserializer, enable.auto.commit, max.poll.records, auto.offset.reset]' were supplied but are not used yet.\n",
      "25/02/19 19:15:15 WARN AdminClientConfig: These configurations '[key.deserializer, value.deserializer, enable.auto.commit, max.poll.records, auto.offset.reset]' were supplied but are not used yet.\n",
      "25/02/19 19:15:15 WARN AdminClientConfig: These configurations '[key.deserializer, value.deserializer, enable.auto.commit, max.poll.records, auto.offset.reset]' were supplied but are not used yet.\n"
     ]
    },
    {
     "name": "stdout",
     "output_type": "stream",
     "text": [
      "-------------------------------------------\n",
      "Batch: 3\n",
      "-------------------------------------------\n",
      "+---------+-----------+------------+---------------+\n",
      "|relais_id|relais_name|velo_station|available_bikes|\n",
      "+---------+-----------+------------+---------------+\n",
      "+---------+-----------+------------+---------------+\n",
      "\n"
     ]
    },
    {
     "name": "stderr",
     "output_type": "stream",
     "text": [
      "                                                                                \r"
     ]
    },
    {
     "name": "stdout",
     "output_type": "stream",
     "text": [
      "-------------------------------------------\n",
      "Batch: 4\n",
      "-------------------------------------------\n",
      "+---------+-------------+------------+---------------+\n",
      "|relais_id|  relais_name|velo_station|available_bikes|\n",
      "+---------+-------------+------------+---------------+\n",
      "|      140| P+R Huit Mai|         102|             21|\n",
      "|      140| P+R Huit Mai|         102|             21|\n",
      "|      140| P+R Huit Mai|         102|             21|\n",
      "|      140| P+R Huit Mai|         102|             21|\n",
      "|      140| P+R Huit Mai|         102|             21|\n",
      "|      140| P+R Huit Mai|         102|             21|\n",
      "|      140| P+R Huit Mai|         102|             21|\n",
      "|      140| P+R Huit Mai|         102|             21|\n",
      "|      140| P+R Huit Mai|         102|             21|\n",
      "|      140| P+R Huit Mai|         102|             21|\n",
      "|      140| P+R Huit Mai|         102|             21|\n",
      "|      140| P+R Huit Mai|         102|             21|\n",
      "|      144|P+R Gréneraie|          57|              1|\n",
      "|      144|P+R Gréneraie|          57|              1|\n",
      "|      144|P+R Gréneraie|          57|              1|\n",
      "|      144|P+R Gréneraie|          57|              1|\n",
      "|      144|P+R Gréneraie|          57|              1|\n",
      "|      144|P+R Gréneraie|          57|              1|\n",
      "|      144|P+R Gréneraie|          57|              1|\n",
      "|      144|P+R Gréneraie|          57|              1|\n",
      "+---------+-------------+------------+---------------+\n",
      "only showing top 20 rows\n",
      "\n"
     ]
    },
    {
     "name": "stderr",
     "output_type": "stream",
     "text": [
      "                                                                                \r"
     ]
    },
    {
     "name": "stdout",
     "output_type": "stream",
     "text": [
      "-------------------------------------------\n",
      "Batch: 2\n",
      "-------------------------------------------\n",
      "+---------+-------------+------------+---------------+\n",
      "|relais_id|  relais_name|velo_station|available_bikes|\n",
      "+---------+-------------+------------+---------------+\n",
      "|      140| P+R Huit Mai|         102|             21|\n",
      "|      140| P+R Huit Mai|         102|             21|\n",
      "|      140| P+R Huit Mai|         102|             21|\n",
      "|      140| P+R Huit Mai|         102|             21|\n",
      "|      140| P+R Huit Mai|         102|             21|\n",
      "|      140| P+R Huit Mai|         102|             21|\n",
      "|      140| P+R Huit Mai|         102|             21|\n",
      "|      140| P+R Huit Mai|         102|             21|\n",
      "|      140| P+R Huit Mai|         102|             21|\n",
      "|      140| P+R Huit Mai|         102|             21|\n",
      "|      140| P+R Huit Mai|         102|             21|\n",
      "|      140| P+R Huit Mai|         102|             21|\n",
      "|      144|P+R Gréneraie|          57|              1|\n",
      "|      144|P+R Gréneraie|          57|              1|\n",
      "|      144|P+R Gréneraie|          57|              1|\n",
      "|      144|P+R Gréneraie|          57|              1|\n",
      "|      144|P+R Gréneraie|          57|              1|\n",
      "|      144|P+R Gréneraie|          57|              1|\n",
      "|      144|P+R Gréneraie|          57|              1|\n",
      "|      144|P+R Gréneraie|          57|              1|\n",
      "+---------+-------------+------------+---------------+\n",
      "only showing top 20 rows\n",
      "\n"
     ]
    },
    {
     "name": "stderr",
     "output_type": "stream",
     "text": [
      "                                                                                \r"
     ]
    },
    {
     "name": "stdout",
     "output_type": "stream",
     "text": [
      "-------------------------------------------\n",
      "Batch: 4\n",
      "-------------------------------------------\n",
      "+---------+-------------+------------+---------------+\n",
      "|relais_id|  relais_name|velo_station|available_bikes|\n",
      "+---------+-------------+------------+---------------+\n",
      "|      140| P+R Huit Mai|         102|             21|\n",
      "|      140| P+R Huit Mai|         102|             21|\n",
      "|      140| P+R Huit Mai|         102|             21|\n",
      "|      140| P+R Huit Mai|         102|             21|\n",
      "|      140| P+R Huit Mai|         102|             21|\n",
      "|      140| P+R Huit Mai|         102|             21|\n",
      "|      140| P+R Huit Mai|         102|             21|\n",
      "|      140| P+R Huit Mai|         102|             21|\n",
      "|      140| P+R Huit Mai|         102|             21|\n",
      "|      140| P+R Huit Mai|         102|             21|\n",
      "|      140| P+R Huit Mai|         102|             21|\n",
      "|      140| P+R Huit Mai|         102|             21|\n",
      "|      144|P+R Gréneraie|          57|              1|\n",
      "|      144|P+R Gréneraie|          57|              1|\n",
      "|      144|P+R Gréneraie|          57|              1|\n",
      "|      144|P+R Gréneraie|          57|              1|\n",
      "|      144|P+R Gréneraie|          57|              1|\n",
      "|      144|P+R Gréneraie|          57|              1|\n",
      "|      144|P+R Gréneraie|          57|              1|\n",
      "|      144|P+R Gréneraie|          57|              1|\n",
      "+---------+-------------+------------+---------------+\n",
      "only showing top 20 rows\n",
      "\n"
     ]
    },
    {
     "name": "stderr",
     "output_type": "stream",
     "text": [
      "25/02/19 19:16:21 WARN AdminClientConfig: These configurations '[key.deserializer, value.deserializer, enable.auto.commit, max.poll.records, auto.offset.reset]' were supplied but are not used yet.\n",
      "25/02/19 19:16:21 WARN AdminClientConfig: These configurations '[key.deserializer, value.deserializer, enable.auto.commit, max.poll.records, auto.offset.reset]' were supplied but are not used yet.\n",
      "25/02/19 19:16:21 WARN AdminClientConfig: These configurations '[key.deserializer, value.deserializer, enable.auto.commit, max.poll.records, auto.offset.reset]' were supplied but are not used yet.\n",
      "25/02/19 19:16:21 WARN AdminClientConfig: These configurations '[key.deserializer, value.deserializer, enable.auto.commit, max.poll.records, auto.offset.reset]' were supplied but are not used yet.\n",
      "25/02/19 19:16:21 WARN AdminClientConfig: These configurations '[key.deserializer, value.deserializer, enable.auto.commit, max.poll.records, auto.offset.reset]' were supplied but are not used yet.\n",
      "25/02/19 19:16:21 WARN AdminClientConfig: These configurations '[key.deserializer, value.deserializer, enable.auto.commit, max.poll.records, auto.offset.reset]' were supplied but are not used yet.\n",
      "25/02/19 19:16:21 WARN AdminClientConfig: These configurations '[key.deserializer, value.deserializer, enable.auto.commit, max.poll.records, auto.offset.reset]' were supplied but are not used yet.\n",
      "25/02/19 19:16:21 WARN AdminClientConfig: These configurations '[key.deserializer, value.deserializer, enable.auto.commit, max.poll.records, auto.offset.reset]' were supplied but are not used yet.\n",
      "25/02/19 19:16:21 WARN AdminClientConfig: These configurations '[key.deserializer, value.deserializer, enable.auto.commit, max.poll.records, auto.offset.reset]' were supplied but are not used yet.\n",
      "25/02/19 19:16:24 WARN AdminClientConfig: These configurations '[key.deserializer, value.deserializer, enable.auto.commit, max.poll.records, auto.offset.reset]' were supplied but are not used yet.\n",
      "25/02/19 19:16:24 WARN AdminClientConfig: These configurations '[key.deserializer, value.deserializer, enable.auto.commit, max.poll.records, auto.offset.reset]' were supplied but are not used yet.\n"
     ]
    },
    {
     "name": "stdout",
     "output_type": "stream",
     "text": [
      "-------------------------------------------\n",
      "Batch: 5\n",
      "-------------------------------------------\n",
      "+---------+------------+------------+---------------+\n",
      "|relais_id| relais_name|velo_station|available_bikes|\n",
      "+---------+------------+------------+---------------+\n",
      "|      140|P+R Huit Mai|        1011|              0|\n",
      "|      140|P+R Huit Mai|        1011|              0|\n",
      "|      140|P+R Huit Mai|        1011|              0|\n",
      "|      140|P+R Huit Mai|        1011|              0|\n",
      "|      140|P+R Huit Mai|        1011|              0|\n",
      "|      140|P+R Huit Mai|        1011|              0|\n",
      "|      140|P+R Huit Mai|        1011|              0|\n",
      "|      140|P+R Huit Mai|        1011|              0|\n",
      "|      140|P+R Huit Mai|        1011|              0|\n",
      "|      140|P+R Huit Mai|        1011|              0|\n",
      "|      140|P+R Huit Mai|        1011|              0|\n",
      "|      140|P+R Huit Mai|        1011|              0|\n",
      "|      140|P+R Huit Mai|        1011|              0|\n",
      "|      140|P+R Huit Mai|        1012|              0|\n",
      "|      140|P+R Huit Mai|        1012|              0|\n",
      "|      140|P+R Huit Mai|        1012|              0|\n",
      "|      140|P+R Huit Mai|        1012|              0|\n",
      "|      140|P+R Huit Mai|        1012|              0|\n",
      "|      140|P+R Huit Mai|        1012|              0|\n",
      "|      140|P+R Huit Mai|        1012|              0|\n",
      "+---------+------------+------------+---------------+\n",
      "only showing top 20 rows\n",
      "\n"
     ]
    },
    {
     "name": "stderr",
     "output_type": "stream",
     "text": [
      "25/02/19 19:16:24 WARN AdminClientConfig: These configurations '[key.deserializer, value.deserializer, enable.auto.commit, max.poll.records, auto.offset.reset]' were supplied but are not used yet.\n",
      "25/02/19 19:16:26 WARN AdminClientConfig: These configurations '[key.deserializer, value.deserializer, enable.auto.commit, max.poll.records, auto.offset.reset]' were supplied but are not used yet.\n",
      "25/02/19 19:16:26 WARN AdminClientConfig: These configurations '[key.deserializer, value.deserializer, enable.auto.commit, max.poll.records, auto.offset.reset]' were supplied but are not used yet.\n"
     ]
    },
    {
     "name": "stdout",
     "output_type": "stream",
     "text": [
      "-------------------------------------------\n",
      "Batch: 3\n",
      "-------------------------------------------\n",
      "+---------+------------+------------+---------------+\n",
      "|relais_id| relais_name|velo_station|available_bikes|\n",
      "+---------+------------+------------+---------------+\n",
      "|      140|P+R Huit Mai|        1011|              0|\n",
      "|      140|P+R Huit Mai|        1011|              0|\n",
      "|      140|P+R Huit Mai|        1011|              0|\n",
      "|      140|P+R Huit Mai|        1011|              0|\n",
      "|      140|P+R Huit Mai|        1011|              0|\n",
      "|      140|P+R Huit Mai|        1011|              0|\n",
      "|      140|P+R Huit Mai|        1011|              0|\n",
      "|      140|P+R Huit Mai|        1011|              0|\n",
      "|      140|P+R Huit Mai|        1011|              0|\n",
      "|      140|P+R Huit Mai|        1011|              0|\n",
      "|      140|P+R Huit Mai|        1011|              0|\n",
      "|      140|P+R Huit Mai|        1011|              0|\n",
      "|      140|P+R Huit Mai|        1011|              0|\n",
      "|      140|P+R Huit Mai|        1012|              0|\n",
      "|      140|P+R Huit Mai|        1012|              0|\n",
      "|      140|P+R Huit Mai|        1012|              0|\n",
      "|      140|P+R Huit Mai|        1012|              0|\n",
      "|      140|P+R Huit Mai|        1012|              0|\n",
      "|      140|P+R Huit Mai|        1012|              0|\n",
      "|      140|P+R Huit Mai|        1012|              0|\n",
      "+---------+------------+------------+---------------+\n",
      "only showing top 20 rows\n",
      "\n"
     ]
    },
    {
     "name": "stderr",
     "output_type": "stream",
     "text": [
      "25/02/19 19:16:26 WARN AdminClientConfig: These configurations '[key.deserializer, value.deserializer, enable.auto.commit, max.poll.records, auto.offset.reset]' were supplied but are not used yet.\n",
      "25/02/19 19:16:28 WARN AdminClientConfig: These configurations '[key.deserializer, value.deserializer, enable.auto.commit, max.poll.records, auto.offset.reset]' were supplied but are not used yet.\n",
      "25/02/19 19:16:28 WARN AdminClientConfig: These configurations '[key.deserializer, value.deserializer, enable.auto.commit, max.poll.records, auto.offset.reset]' were supplied but are not used yet.\n"
     ]
    },
    {
     "name": "stdout",
     "output_type": "stream",
     "text": [
      "-------------------------------------------\n",
      "Batch: 5\n",
      "-------------------------------------------\n",
      "+---------+------------+------------+---------------+\n",
      "|relais_id| relais_name|velo_station|available_bikes|\n",
      "+---------+------------+------------+---------------+\n",
      "|      140|P+R Huit Mai|        1011|              0|\n",
      "|      140|P+R Huit Mai|        1011|              0|\n",
      "|      140|P+R Huit Mai|        1011|              0|\n",
      "|      140|P+R Huit Mai|        1011|              0|\n",
      "|      140|P+R Huit Mai|        1011|              0|\n",
      "|      140|P+R Huit Mai|        1011|              0|\n",
      "|      140|P+R Huit Mai|        1011|              0|\n",
      "|      140|P+R Huit Mai|        1011|              0|\n",
      "|      140|P+R Huit Mai|        1011|              0|\n",
      "|      140|P+R Huit Mai|        1011|              0|\n",
      "|      140|P+R Huit Mai|        1011|              0|\n",
      "|      140|P+R Huit Mai|        1011|              0|\n",
      "|      140|P+R Huit Mai|        1011|              0|\n",
      "|      140|P+R Huit Mai|        1012|              0|\n",
      "|      140|P+R Huit Mai|        1012|              0|\n",
      "|      140|P+R Huit Mai|        1012|              0|\n",
      "|      140|P+R Huit Mai|        1012|              0|\n",
      "|      140|P+R Huit Mai|        1012|              0|\n",
      "|      140|P+R Huit Mai|        1012|              0|\n",
      "|      140|P+R Huit Mai|        1012|              0|\n",
      "+---------+------------+------------+---------------+\n",
      "only showing top 20 rows\n",
      "\n"
     ]
    },
    {
     "name": "stderr",
     "output_type": "stream",
     "text": [
      "25/02/19 19:16:28 WARN AdminClientConfig: These configurations '[key.deserializer, value.deserializer, enable.auto.commit, max.poll.records, auto.offset.reset]' were supplied but are not used yet.\n",
      "                                                                                \r"
     ]
    },
    {
     "name": "stdout",
     "output_type": "stream",
     "text": [
      "-------------------------------------------\n",
      "Batch: 6\n",
      "-------------------------------------------\n",
      "+---------+-------------+------------+---------------+\n",
      "|relais_id|  relais_name|velo_station|available_bikes|\n",
      "+---------+-------------+------------+---------------+\n",
      "|      144|P+R Gréneraie|          56|              1|\n",
      "|      144|P+R Gréneraie|          56|              1|\n",
      "|      144|P+R Gréneraie|          56|              1|\n",
      "|      144|P+R Gréneraie|          56|              1|\n",
      "|      144|P+R Gréneraie|          56|              1|\n",
      "|      144|P+R Gréneraie|          56|              1|\n",
      "|      144|P+R Gréneraie|          56|              1|\n",
      "|      144|P+R Gréneraie|          56|              1|\n",
      "|      144|P+R Gréneraie|          83|              7|\n",
      "|      144|P+R Gréneraie|          83|              7|\n",
      "|      144|P+R Gréneraie|          83|              7|\n",
      "|      144|P+R Gréneraie|          83|              7|\n",
      "|      144|P+R Gréneraie|          83|              7|\n",
      "|      144|P+R Gréneraie|          83|              7|\n",
      "|      144|P+R Gréneraie|          83|              7|\n",
      "|      144|P+R Gréneraie|          83|              7|\n",
      "|      144|P+R Gréneraie|          56|              1|\n",
      "|      144|P+R Gréneraie|          56|              1|\n",
      "|      144|P+R Gréneraie|          56|              1|\n",
      "|      144|P+R Gréneraie|          56|              1|\n",
      "+---------+-------------+------------+---------------+\n",
      "only showing top 20 rows\n",
      "\n"
     ]
    },
    {
     "name": "stderr",
     "output_type": "stream",
     "text": [
      "[Stage 78:=========>        (2 + 2) / 4][Stage 79:>                 (0 + 0) / 4]\r"
     ]
    }
   ],
   "source": [
    "# Read velos as streaming and relais as static\n",
    "df_velos_stream = read_kafka_stream(velos_topic, schema_velos, is_streaming=True)\n",
    "df_relais_static = read_kafka_stream(relais_topic, schema_relais, is_streaming=False)\n",
    "\n",
    "# Perform the join using the spatial condition\n",
    "streaming_velos_relais = (\n",
    "    df_velos_stream.alias(\"velo\")\n",
    "    .join(\n",
    "         df_relais_static.alias(\"rel\"),\n",
    "         (F.abs(F.col(\"velo.position.lon\") - F.col(\"rel.location.lon\")) <= 0.01) &\n",
    "         (F.abs(F.col(\"velo.position.lat\") - F.col(\"rel.location.lat\")) <= 0.01)\n",
    "    )\n",
    "    .select(\n",
    "         F.col(\"rel.grp_identifiant\").alias(\"relais_id\"),\n",
    "         F.col(\"rel.grp_nom\").alias(\"relais_name\"),\n",
    "         F.col(\"velo.number\").alias(\"velo_station\"),\n",
    "         F.col(\"velo.available_bikes\")\n",
    "    )\n",
    ")\n",
    "\n",
    "streaming_velos_relais.writeStream \\\n",
    "    .outputMode(\"append\") \\\n",
    "    .format(\"console\") \\\n",
    "    .start()\n"
   ]
  },
  {
   "cell_type": "code",
   "execution_count": null,
   "metadata": {},
   "outputs": [
    {
     "name": "stdout",
     "output_type": "stream",
     "text": [
      "-------------------------------------------\n",
      "Batch: 4\n",
      "-------------------------------------------\n",
      "+---------+-------------+------------+---------------+\n",
      "|relais_id|  relais_name|velo_station|available_bikes|\n",
      "+---------+-------------+------------+---------------+\n",
      "|      144|P+R Gréneraie|          56|              1|\n",
      "|      144|P+R Gréneraie|          56|              1|\n",
      "|      144|P+R Gréneraie|          56|              1|\n",
      "|      144|P+R Gréneraie|          56|              1|\n",
      "|      144|P+R Gréneraie|          56|              1|\n",
      "|      144|P+R Gréneraie|          56|              1|\n",
      "|      144|P+R Gréneraie|          56|              1|\n",
      "|      144|P+R Gréneraie|          56|              1|\n",
      "|      144|P+R Gréneraie|          83|              7|\n",
      "|      144|P+R Gréneraie|          83|              7|\n",
      "|      144|P+R Gréneraie|          83|              7|\n",
      "|      144|P+R Gréneraie|          83|              7|\n",
      "|      144|P+R Gréneraie|          83|              7|\n",
      "|      144|P+R Gréneraie|          83|              7|\n",
      "|      144|P+R Gréneraie|          83|              7|\n",
      "|      144|P+R Gréneraie|          83|              7|\n",
      "|      144|P+R Gréneraie|          56|              1|\n",
      "|      144|P+R Gréneraie|          56|              1|\n",
      "|      144|P+R Gréneraie|          56|              1|\n",
      "|      144|P+R Gréneraie|          56|              1|\n",
      "+---------+-------------+------------+---------------+\n",
      "only showing top 20 rows\n",
      "\n"
     ]
    },
    {
     "name": "stderr",
     "output_type": "stream",
     "text": [
      "25/02/19 19:16:30 WARN ResolveWriteToStream: Temporary checkpoint location created which is deleted normally when the query didn't fail: /tmp/temporary-f23a9a15-68c1-4aa3-a638-39f8624acb71. If it's required to delete it under any circumstances, please set spark.sql.streaming.forceDeleteTempCheckpointLocation to true. Important to know deleting temp checkpoint folder is best effort.\n",
      "25/02/19 19:16:30 WARN ResolveWriteToStream: spark.sql.adaptive.enabled is not supported in streaming DataFrames/Datasets and will be disabled.\n"
     ]
    },
    {
     "data": {
      "text/plain": [
       "<pyspark.sql.streaming.query.StreamingQuery at 0x7b3c7ccb9580>"
      ]
     },
     "execution_count": 21,
     "metadata": {},
     "output_type": "execute_result"
    },
    {
     "name": "stderr",
     "output_type": "stream",
     "text": [
      "25/02/19 19:16:30 WARN AdminClientConfig: These configurations '[key.deserializer, value.deserializer, enable.auto.commit, max.poll.records, auto.offset.reset]' were supplied but are not used yet.\n",
      "25/02/19 19:16:30 WARN AdminClientConfig: These configurations '[key.deserializer, value.deserializer, enable.auto.commit, max.poll.records, auto.offset.reset]' were supplied but are not used yet.\n",
      "                                                                                \r"
     ]
    },
    {
     "name": "stdout",
     "output_type": "stream",
     "text": [
      "-------------------------------------------\n",
      "Batch: 6\n",
      "-------------------------------------------\n",
      "+---------+-------------+------------+---------------+\n",
      "|relais_id|  relais_name|velo_station|available_bikes|\n",
      "+---------+-------------+------------+---------------+\n",
      "|      144|P+R Gréneraie|          56|              1|\n",
      "|      144|P+R Gréneraie|          56|              1|\n",
      "|      144|P+R Gréneraie|          56|              1|\n",
      "|      144|P+R Gréneraie|          56|              1|\n",
      "|      144|P+R Gréneraie|          56|              1|\n",
      "|      144|P+R Gréneraie|          56|              1|\n",
      "|      144|P+R Gréneraie|          56|              1|\n",
      "|      144|P+R Gréneraie|          56|              1|\n",
      "|      144|P+R Gréneraie|          83|              7|\n",
      "|      144|P+R Gréneraie|          83|              7|\n",
      "|      144|P+R Gréneraie|          83|              7|\n",
      "|      144|P+R Gréneraie|          83|              7|\n",
      "|      144|P+R Gréneraie|          83|              7|\n",
      "|      144|P+R Gréneraie|          83|              7|\n",
      "|      144|P+R Gréneraie|          83|              7|\n",
      "|      144|P+R Gréneraie|          83|              7|\n",
      "|      144|P+R Gréneraie|          56|              1|\n",
      "|      144|P+R Gréneraie|          56|              1|\n",
      "|      144|P+R Gréneraie|          56|              1|\n",
      "|      144|P+R Gréneraie|          56|              1|\n",
      "+---------+-------------+------------+---------------+\n",
      "only showing top 20 rows\n",
      "\n"
     ]
    },
    {
     "name": "stderr",
     "output_type": "stream",
     "text": [
      "                                                                                \r"
     ]
    },
    {
     "name": "stdout",
     "output_type": "stream",
     "text": [
      "-------------------------------------------\n",
      "Batch: 0\n",
      "-------------------------------------------\n",
      "+---------+--------------------+------------+---------------+\n",
      "|relais_id|         relais_name|velo_station|available_bikes|\n",
      "+---------+--------------------+------------+---------------+\n",
      "|      147| P+R Bourdonnières 1|         109|              9|\n",
      "|      147| P+R Bourdonnières 1|         109|              9|\n",
      "|      147| P+R Bourdonnières 1|         109|              9|\n",
      "|      147| P+R Bourdonnières 1|         109|              9|\n",
      "|      147| P+R Bourdonnières 1|         109|              9|\n",
      "|      147| P+R Bourdonnières 1|         109|              9|\n",
      "|      147| P+R Bourdonnières 1|         109|              9|\n",
      "|      147| P+R Bourdonnières 1|         109|              8|\n",
      "|      147| P+R Bourdonnières 1|         109|              9|\n",
      "|      147| P+R Bourdonnières 1|         109|              9|\n",
      "|      147| P+R Bourdonnières 1|         109|              9|\n",
      "|      147| P+R Bourdonnières 1|         109|              9|\n",
      "|      147| P+R Bourdonnières 1|         109|              9|\n",
      "|      147| P+R Bourdonnières 1|         109|              9|\n",
      "|      152|P+R Prairie de Mauve|         123|             12|\n",
      "|      152|P+R Prairie de Mauve|         123|             12|\n",
      "|      152|P+R Prairie de Mauve|         123|             12|\n",
      "|      152|P+R Prairie de Mauve|         123|             12|\n",
      "|      152|P+R Prairie de Mauve|         123|             12|\n",
      "|      152|P+R Prairie de Mauve|         123|             12|\n",
      "+---------+--------------------+------------+---------------+\n",
      "only showing top 20 rows\n",
      "\n"
     ]
    },
    {
     "name": "stderr",
     "output_type": "stream",
     "text": [
      "25/02/19 19:17:23 WARN AdminClientConfig: These configurations '[key.deserializer, value.deserializer, enable.auto.commit, max.poll.records, auto.offset.reset]' were supplied but are not used yet.\n",
      "25/02/19 19:17:23 WARN AdminClientConfig: These configurations '[key.deserializer, value.deserializer, enable.auto.commit, max.poll.records, auto.offset.reset]' were supplied but are not used yet.\n",
      "25/02/19 19:17:23 WARN AdminClientConfig: These configurations '[key.deserializer, value.deserializer, enable.auto.commit, max.poll.records, auto.offset.reset]' were supplied but are not used yet.\n",
      "25/02/19 19:17:23 WARN AdminClientConfig: These configurations '[key.deserializer, value.deserializer, enable.auto.commit, max.poll.records, auto.offset.reset]' were supplied but are not used yet.\n",
      "25/02/19 19:17:23 WARN AdminClientConfig: These configurations '[key.deserializer, value.deserializer, enable.auto.commit, max.poll.records, auto.offset.reset]' were supplied but are not used yet.\n",
      "25/02/19 19:17:23 WARN AdminClientConfig: These configurations '[key.deserializer, value.deserializer, enable.auto.commit, max.poll.records, auto.offset.reset]' were supplied but are not used yet.\n",
      "25/02/19 19:17:23 WARN AdminClientConfig: These configurations '[key.deserializer, value.deserializer, enable.auto.commit, max.poll.records, auto.offset.reset]' were supplied but are not used yet.\n",
      "25/02/19 19:17:23 WARN AdminClientConfig: These configurations '[key.deserializer, value.deserializer, enable.auto.commit, max.poll.records, auto.offset.reset]' were supplied but are not used yet.\n",
      "25/02/19 19:17:23 WARN AdminClientConfig: These configurations '[key.deserializer, value.deserializer, enable.auto.commit, max.poll.records, auto.offset.reset]' were supplied but are not used yet.\n",
      "                                                                                \r"
     ]
    },
    {
     "name": "stdout",
     "output_type": "stream",
     "text": [
      "-------------------------------------------\n",
      "Batch: 1\n",
      "-------------------------------------------\n",
      "+---------+-------------------+------------+---------------+\n",
      "|relais_id|        relais_name|velo_station|available_bikes|\n",
      "+---------+-------------------+------------+---------------+\n",
      "|      139|P+R Recteur Schmitt|          94|              8|\n",
      "|      139|P+R Recteur Schmitt|          93|              5|\n",
      "|      139|P+R Recteur Schmitt|          94|              8|\n",
      "|      139|P+R Recteur Schmitt|          93|              5|\n",
      "|      139|P+R Recteur Schmitt|          94|              8|\n",
      "|      139|P+R Recteur Schmitt|          94|              8|\n",
      "|      139|P+R Recteur Schmitt|          93|              5|\n",
      "|      139|P+R Recteur Schmitt|          93|              5|\n",
      "|      139|P+R Recteur Schmitt|          94|              8|\n",
      "|      139|P+R Recteur Schmitt|          93|              5|\n",
      "|      139|P+R Recteur Schmitt|          94|              8|\n",
      "|      139|P+R Recteur Schmitt|          93|              5|\n",
      "|      139|P+R Recteur Schmitt|          94|              8|\n",
      "|      139|P+R Recteur Schmitt|          93|              5|\n",
      "|      139|P+R Recteur Schmitt|          94|              8|\n",
      "|      139|P+R Recteur Schmitt|          93|              5|\n",
      "|      139|P+R Recteur Schmitt|          94|              8|\n",
      "|      139|P+R Recteur Schmitt|          93|              5|\n",
      "|      139|P+R Recteur Schmitt|          93|              5|\n",
      "|      139|P+R Recteur Schmitt|          93|              5|\n",
      "+---------+-------------------+------------+---------------+\n",
      "only showing top 20 rows\n",
      "\n"
     ]
    },
    {
     "name": "stderr",
     "output_type": "stream",
     "text": [
      "25/02/19 19:17:26 WARN AdminClientConfig: These configurations '[key.deserializer, value.deserializer, enable.auto.commit, max.poll.records, auto.offset.reset]' were supplied but are not used yet.\n",
      "25/02/19 19:17:26 WARN AdminClientConfig: These configurations '[key.deserializer, value.deserializer, enable.auto.commit, max.poll.records, auto.offset.reset]' were supplied but are not used yet.\n"
     ]
    },
    {
     "name": "stdout",
     "output_type": "stream",
     "text": [
      "-------------------------------------------\n",
      "Batch: 5\n",
      "-------------------------------------------\n",
      "+---------+------------+------------+---------------+\n",
      "|relais_id| relais_name|velo_station|available_bikes|\n",
      "+---------+------------+------------+---------------+\n",
      "|      140|P+R Huit Mai|        1011|              0|\n",
      "|      140|P+R Huit Mai|        1011|              0|\n",
      "|      140|P+R Huit Mai|        1011|              0|\n",
      "|      140|P+R Huit Mai|        1011|              0|\n",
      "|      140|P+R Huit Mai|        1011|              0|\n",
      "|      140|P+R Huit Mai|        1011|              0|\n",
      "|      140|P+R Huit Mai|        1011|              0|\n",
      "|      140|P+R Huit Mai|        1011|              0|\n",
      "|      140|P+R Huit Mai|        1011|              0|\n",
      "|      140|P+R Huit Mai|        1011|              0|\n",
      "|      140|P+R Huit Mai|        1011|              0|\n",
      "|      140|P+R Huit Mai|        1011|              0|\n",
      "|      140|P+R Huit Mai|        1011|              0|\n",
      "|      140|P+R Huit Mai|        1011|              0|\n",
      "|      140|P+R Huit Mai|        1011|              0|\n",
      "|      140|P+R Huit Mai|        1011|              0|\n",
      "|      140|P+R Huit Mai|        1011|              0|\n",
      "|      140|P+R Huit Mai|        1011|              0|\n",
      "|      140|P+R Huit Mai|        1011|              0|\n",
      "|      140|P+R Huit Mai|        1011|              0|\n",
      "+---------+------------+------------+---------------+\n",
      "only showing top 20 rows\n",
      "\n"
     ]
    },
    {
     "name": "stderr",
     "output_type": "stream",
     "text": [
      "25/02/19 19:17:26 WARN AdminClientConfig: These configurations '[key.deserializer, value.deserializer, enable.auto.commit, max.poll.records, auto.offset.reset]' were supplied but are not used yet.\n",
      "25/02/19 19:17:28 WARN AdminClientConfig: These configurations '[key.deserializer, value.deserializer, enable.auto.commit, max.poll.records, auto.offset.reset]' were supplied but are not used yet.\n",
      "25/02/19 19:17:28 WARN AdminClientConfig: These configurations '[key.deserializer, value.deserializer, enable.auto.commit, max.poll.records, auto.offset.reset]' were supplied but are not used yet.\n"
     ]
    },
    {
     "name": "stdout",
     "output_type": "stream",
     "text": [
      "-------------------------------------------\n",
      "Batch: 7\n",
      "-------------------------------------------\n",
      "+---------+------------+------------+---------------+\n",
      "|relais_id| relais_name|velo_station|available_bikes|\n",
      "+---------+------------+------------+---------------+\n",
      "|      140|P+R Huit Mai|        1011|              0|\n",
      "|      140|P+R Huit Mai|        1011|              0|\n",
      "|      140|P+R Huit Mai|        1011|              0|\n",
      "|      140|P+R Huit Mai|        1011|              0|\n",
      "|      140|P+R Huit Mai|        1011|              0|\n",
      "|      140|P+R Huit Mai|        1011|              0|\n",
      "|      140|P+R Huit Mai|        1011|              0|\n",
      "|      140|P+R Huit Mai|        1011|              0|\n",
      "|      140|P+R Huit Mai|        1011|              0|\n",
      "|      140|P+R Huit Mai|        1011|              0|\n",
      "|      140|P+R Huit Mai|        1011|              0|\n",
      "|      140|P+R Huit Mai|        1011|              0|\n",
      "|      140|P+R Huit Mai|        1011|              0|\n",
      "|      140|P+R Huit Mai|        1011|              0|\n",
      "|      140|P+R Huit Mai|        1011|              0|\n",
      "|      140|P+R Huit Mai|        1011|              0|\n",
      "|      140|P+R Huit Mai|        1011|              0|\n",
      "|      140|P+R Huit Mai|        1011|              0|\n",
      "|      140|P+R Huit Mai|        1011|              0|\n",
      "|      140|P+R Huit Mai|        1011|              0|\n",
      "+---------+------------+------------+---------------+\n",
      "only showing top 20 rows\n",
      "\n"
     ]
    },
    {
     "name": "stderr",
     "output_type": "stream",
     "text": [
      "25/02/19 19:17:28 WARN AdminClientConfig: These configurations '[key.deserializer, value.deserializer, enable.auto.commit, max.poll.records, auto.offset.reset]' were supplied but are not used yet.\n",
      "25/02/19 19:17:30 WARN AdminClientConfig: These configurations '[key.deserializer, value.deserializer, enable.auto.commit, max.poll.records, auto.offset.reset]' were supplied but are not used yet.\n",
      "25/02/19 19:17:30 WARN AdminClientConfig: These configurations '[key.deserializer, value.deserializer, enable.auto.commit, max.poll.records, auto.offset.reset]' were supplied but are not used yet.\n"
     ]
    },
    {
     "name": "stdout",
     "output_type": "stream",
     "text": [
      "-------------------------------------------\n",
      "Batch: 7\n",
      "-------------------------------------------\n",
      "+---------+------------+------------+---------------+\n",
      "|relais_id| relais_name|velo_station|available_bikes|\n",
      "+---------+------------+------------+---------------+\n",
      "|      140|P+R Huit Mai|        1011|              0|\n",
      "|      140|P+R Huit Mai|        1011|              0|\n",
      "|      140|P+R Huit Mai|        1011|              0|\n",
      "|      140|P+R Huit Mai|        1011|              0|\n",
      "|      140|P+R Huit Mai|        1011|              0|\n",
      "|      140|P+R Huit Mai|        1011|              0|\n",
      "|      140|P+R Huit Mai|        1011|              0|\n",
      "|      140|P+R Huit Mai|        1011|              0|\n",
      "|      140|P+R Huit Mai|        1011|              0|\n",
      "|      140|P+R Huit Mai|        1011|              0|\n",
      "|      140|P+R Huit Mai|        1011|              0|\n",
      "|      140|P+R Huit Mai|        1011|              0|\n",
      "|      140|P+R Huit Mai|        1011|              0|\n",
      "|      140|P+R Huit Mai|        1011|              0|\n",
      "|      140|P+R Huit Mai|        1011|              0|\n",
      "|      140|P+R Huit Mai|        1011|              0|\n",
      "|      140|P+R Huit Mai|        1011|              0|\n",
      "|      140|P+R Huit Mai|        1011|              0|\n",
      "|      140|P+R Huit Mai|        1011|              0|\n",
      "|      140|P+R Huit Mai|        1011|              0|\n",
      "+---------+------------+------------+---------------+\n",
      "only showing top 20 rows\n",
      "\n"
     ]
    },
    {
     "name": "stderr",
     "output_type": "stream",
     "text": [
      "25/02/19 19:17:30 WARN AdminClientConfig: These configurations '[key.deserializer, value.deserializer, enable.auto.commit, max.poll.records, auto.offset.reset]' were supplied but are not used yet.\n",
      "                                                                                \r"
     ]
    },
    {
     "name": "stdout",
     "output_type": "stream",
     "text": [
      "-------------------------------------------\n",
      "Batch: 2\n",
      "-------------------------------------------\n",
      "+---------+------------+------------+---------------+\n",
      "|relais_id| relais_name|velo_station|available_bikes|\n",
      "+---------+------------+------------+---------------+\n",
      "|      140|P+R Huit Mai|        1011|              0|\n",
      "|      140|P+R Huit Mai|        1011|              0|\n",
      "|      140|P+R Huit Mai|        1011|              0|\n",
      "|      140|P+R Huit Mai|        1011|              0|\n",
      "|      140|P+R Huit Mai|        1011|              0|\n",
      "|      140|P+R Huit Mai|        1011|              0|\n",
      "|      140|P+R Huit Mai|        1011|              0|\n",
      "|      140|P+R Huit Mai|        1011|              0|\n",
      "|      140|P+R Huit Mai|        1011|              0|\n",
      "|      140|P+R Huit Mai|        1011|              0|\n",
      "|      140|P+R Huit Mai|        1011|              0|\n",
      "|      140|P+R Huit Mai|        1011|              0|\n",
      "|      140|P+R Huit Mai|        1011|              0|\n",
      "|      140|P+R Huit Mai|        1011|              0|\n",
      "|      140|P+R Huit Mai|        1011|              0|\n",
      "|      140|P+R Huit Mai|        1011|              0|\n",
      "|      140|P+R Huit Mai|        1011|              0|\n",
      "|      140|P+R Huit Mai|        1011|              0|\n",
      "|      140|P+R Huit Mai|        1011|              0|\n",
      "|      140|P+R Huit Mai|        1011|              0|\n",
      "+---------+------------+------------+---------------+\n",
      "only showing top 20 rows\n",
      "\n"
     ]
    },
    {
     "name": "stderr",
     "output_type": "stream",
     "text": [
      "                                                                                \r"
     ]
    },
    {
     "name": "stdout",
     "output_type": "stream",
     "text": [
      "-------------------------------------------\n",
      "Batch: 6\n",
      "-------------------------------------------\n",
      "+---------+-------------+------------+---------------+\n",
      "|relais_id|  relais_name|velo_station|available_bikes|\n",
      "+---------+-------------+------------+---------------+\n",
      "|      140| P+R Huit Mai|         101|             14|\n",
      "|      140| P+R Huit Mai|         101|             14|\n",
      "|      140| P+R Huit Mai|         101|             14|\n",
      "|      144|P+R Gréneraie|         101|             14|\n",
      "|      140| P+R Huit Mai|         101|             14|\n",
      "|      144|P+R Gréneraie|         101|             14|\n",
      "|      144|P+R Gréneraie|         101|             14|\n",
      "|      140| P+R Huit Mai|         101|             14|\n",
      "|      140| P+R Huit Mai|         101|             14|\n",
      "|      144|P+R Gréneraie|         101|             14|\n",
      "|      140| P+R Huit Mai|         101|             14|\n",
      "|      144|P+R Gréneraie|         101|             14|\n",
      "|      140| P+R Huit Mai|         101|             14|\n",
      "|      140| P+R Huit Mai|         101|             14|\n",
      "|      144|P+R Gréneraie|         101|             14|\n",
      "|      140| P+R Huit Mai|         101|             14|\n",
      "|      140| P+R Huit Mai|         101|             14|\n",
      "|      144|P+R Gréneraie|         101|             14|\n",
      "|      140| P+R Huit Mai|         101|             14|\n",
      "|      144|P+R Gréneraie|         101|             14|\n",
      "+---------+-------------+------------+---------------+\n",
      "only showing top 20 rows\n",
      "\n"
     ]
    },
    {
     "name": "stderr",
     "output_type": "stream",
     "text": [
      "                                                                                \r"
     ]
    },
    {
     "name": "stdout",
     "output_type": "stream",
     "text": [
      "-------------------------------------------\n",
      "Batch: 8\n",
      "-------------------------------------------\n",
      "+---------+-------------+------------+---------------+\n",
      "|relais_id|  relais_name|velo_station|available_bikes|\n",
      "+---------+-------------+------------+---------------+\n",
      "|      140| P+R Huit Mai|         101|             14|\n",
      "|      140| P+R Huit Mai|         101|             14|\n",
      "|      140| P+R Huit Mai|         101|             14|\n",
      "|      144|P+R Gréneraie|         101|             14|\n",
      "|      140| P+R Huit Mai|         101|             14|\n",
      "|      144|P+R Gréneraie|         101|             14|\n",
      "|      144|P+R Gréneraie|         101|             14|\n",
      "|      140| P+R Huit Mai|         101|             14|\n",
      "|      140| P+R Huit Mai|         101|             14|\n",
      "|      144|P+R Gréneraie|         101|             14|\n",
      "|      140| P+R Huit Mai|         101|             14|\n",
      "|      144|P+R Gréneraie|         101|             14|\n",
      "|      140| P+R Huit Mai|         101|             14|\n",
      "|      140| P+R Huit Mai|         101|             14|\n",
      "|      144|P+R Gréneraie|         101|             14|\n",
      "|      140| P+R Huit Mai|         101|             14|\n",
      "|      140| P+R Huit Mai|         101|             14|\n",
      "|      144|P+R Gréneraie|         101|             14|\n",
      "|      140| P+R Huit Mai|         101|             14|\n",
      "|      144|P+R Gréneraie|         101|             14|\n",
      "+---------+-------------+------------+---------------+\n",
      "only showing top 20 rows\n",
      "\n"
     ]
    },
    {
     "name": "stderr",
     "output_type": "stream",
     "text": [
      "                                                                                \r"
     ]
    },
    {
     "name": "stdout",
     "output_type": "stream",
     "text": [
      "-------------------------------------------\n",
      "Batch: 8\n",
      "-------------------------------------------\n",
      "+---------+-------------+------------+---------------+\n",
      "|relais_id|  relais_name|velo_station|available_bikes|\n",
      "+---------+-------------+------------+---------------+\n",
      "|      140| P+R Huit Mai|         101|             14|\n",
      "|      140| P+R Huit Mai|         101|             14|\n",
      "|      140| P+R Huit Mai|         101|             14|\n",
      "|      144|P+R Gréneraie|         101|             14|\n",
      "|      140| P+R Huit Mai|         101|             14|\n",
      "|      144|P+R Gréneraie|         101|             14|\n",
      "|      144|P+R Gréneraie|         101|             14|\n",
      "|      140| P+R Huit Mai|         101|             14|\n",
      "|      140| P+R Huit Mai|         101|             14|\n",
      "|      144|P+R Gréneraie|         101|             14|\n",
      "|      140| P+R Huit Mai|         101|             14|\n",
      "|      144|P+R Gréneraie|         101|             14|\n",
      "|      140| P+R Huit Mai|         101|             14|\n",
      "|      140| P+R Huit Mai|         101|             14|\n",
      "|      144|P+R Gréneraie|         101|             14|\n",
      "|      140| P+R Huit Mai|         101|             14|\n",
      "|      140| P+R Huit Mai|         101|             14|\n",
      "|      144|P+R Gréneraie|         101|             14|\n",
      "|      140| P+R Huit Mai|         101|             14|\n",
      "|      144|P+R Gréneraie|         101|             14|\n",
      "+---------+-------------+------------+---------------+\n",
      "only showing top 20 rows\n",
      "\n"
     ]
    },
    {
     "name": "stderr",
     "output_type": "stream",
     "text": [
      "25/02/19 19:18:24 WARN AdminClientConfig: These configurations '[key.deserializer, value.deserializer, enable.auto.commit, max.poll.records, auto.offset.reset]' were supplied but are not used yet.\n",
      "25/02/19 19:18:24 WARN AdminClientConfig: These configurations '[key.deserializer, value.deserializer, enable.auto.commit, max.poll.records, auto.offset.reset]' were supplied but are not used yet.\n",
      "25/02/19 19:18:24 WARN AdminClientConfig: These configurations '[key.deserializer, value.deserializer, enable.auto.commit, max.poll.records, auto.offset.reset]' were supplied but are not used yet.\n",
      "25/02/19 19:18:24 WARN AdminClientConfig: These configurations '[key.deserializer, value.deserializer, enable.auto.commit, max.poll.records, auto.offset.reset]' were supplied but are not used yet.\n",
      "25/02/19 19:18:24 WARN AdminClientConfig: These configurations '[key.deserializer, value.deserializer, enable.auto.commit, max.poll.records, auto.offset.reset]' were supplied but are not used yet.\n",
      "25/02/19 19:18:24 WARN AdminClientConfig: These configurations '[key.deserializer, value.deserializer, enable.auto.commit, max.poll.records, auto.offset.reset]' were supplied but are not used yet.\n",
      "25/02/19 19:18:24 WARN AdminClientConfig: These configurations '[key.deserializer, value.deserializer, enable.auto.commit, max.poll.records, auto.offset.reset]' were supplied but are not used yet.\n",
      "25/02/19 19:18:24 WARN AdminClientConfig: These configurations '[key.deserializer, value.deserializer, enable.auto.commit, max.poll.records, auto.offset.reset]' were supplied but are not used yet.\n",
      "25/02/19 19:18:24 WARN AdminClientConfig: These configurations '[key.deserializer, value.deserializer, enable.auto.commit, max.poll.records, auto.offset.reset]' were supplied but are not used yet.\n",
      "25/02/19 19:18:25 WARN AdminClientConfig: These configurations '[key.deserializer, value.deserializer, enable.auto.commit, max.poll.records, auto.offset.reset]' were supplied but are not used yet.\n",
      "25/02/19 19:18:25 WARN AdminClientConfig: These configurations '[key.deserializer, value.deserializer, enable.auto.commit, max.poll.records, auto.offset.reset]' were supplied but are not used yet.\n",
      "25/02/19 19:18:25 WARN AdminClientConfig: These configurations '[key.deserializer, value.deserializer, enable.auto.commit, max.poll.records, auto.offset.reset]' were supplied but are not used yet.\n"
     ]
    },
    {
     "name": "stdout",
     "output_type": "stream",
     "text": [
      "-------------------------------------------\n",
      "Batch: 7\n",
      "-------------------------------------------\n",
      "+---------+------------+------------+---------------+\n",
      "|relais_id| relais_name|velo_station|available_bikes|\n",
      "+---------+------------+------------+---------------+\n",
      "|      140|P+R Huit Mai|        1011|              0|\n",
      "|      140|P+R Huit Mai|        1011|              0|\n",
      "|      140|P+R Huit Mai|        1011|              0|\n",
      "|      140|P+R Huit Mai|        1011|              0|\n",
      "|      140|P+R Huit Mai|        1011|              0|\n",
      "|      140|P+R Huit Mai|        1011|              0|\n",
      "|      140|P+R Huit Mai|        1011|              0|\n",
      "|      140|P+R Huit Mai|        1011|              0|\n",
      "|      140|P+R Huit Mai|        1011|              0|\n",
      "|      140|P+R Huit Mai|        1011|              0|\n",
      "|      140|P+R Huit Mai|        1011|              0|\n",
      "|      140|P+R Huit Mai|        1011|              0|\n",
      "|      140|P+R Huit Mai|        1011|              0|\n",
      "|      140|P+R Huit Mai|        1011|              0|\n",
      "|      140|P+R Huit Mai|        1011|              0|\n",
      "|      140|P+R Huit Mai|        1011|              0|\n",
      "|      140|P+R Huit Mai|        1011|              0|\n",
      "|      140|P+R Huit Mai|        1011|              0|\n",
      "|      140|P+R Huit Mai|        1011|              0|\n",
      "|      140|P+R Huit Mai|        1011|              0|\n",
      "+---------+------------+------------+---------------+\n",
      "only showing top 20 rows\n",
      "\n"
     ]
    },
    {
     "name": "stderr",
     "output_type": "stream",
     "text": [
      "                                                                                \r"
     ]
    },
    {
     "name": "stdout",
     "output_type": "stream",
     "text": [
      "-------------------------------------------\n",
      "Batch: 3\n",
      "-------------------------------------------\n",
      "+---------+-------------------+------------+---------------+\n",
      "|relais_id|        relais_name|velo_station|available_bikes|\n",
      "+---------+-------------------+------------+---------------+\n",
      "|      139|P+R Recteur Schmitt|          94|              8|\n",
      "|      139|P+R Recteur Schmitt|          93|              5|\n",
      "|      139|P+R Recteur Schmitt|          94|              8|\n",
      "|      139|P+R Recteur Schmitt|          93|              5|\n",
      "|      139|P+R Recteur Schmitt|          94|              8|\n",
      "|      139|P+R Recteur Schmitt|          94|              8|\n",
      "|      139|P+R Recteur Schmitt|          93|              5|\n",
      "|      139|P+R Recteur Schmitt|          93|              5|\n",
      "|      139|P+R Recteur Schmitt|          94|              8|\n",
      "|      139|P+R Recteur Schmitt|          93|              5|\n",
      "|      139|P+R Recteur Schmitt|          94|              8|\n",
      "|      139|P+R Recteur Schmitt|          93|              5|\n",
      "|      139|P+R Recteur Schmitt|          94|              8|\n",
      "|      139|P+R Recteur Schmitt|          93|              5|\n",
      "|      139|P+R Recteur Schmitt|          94|              8|\n",
      "|      139|P+R Recteur Schmitt|          93|              5|\n",
      "|      139|P+R Recteur Schmitt|          94|              8|\n",
      "|      139|P+R Recteur Schmitt|          93|              5|\n",
      "|      139|P+R Recteur Schmitt|          93|              5|\n",
      "|      139|P+R Recteur Schmitt|          93|              5|\n",
      "+---------+-------------------+------------+---------------+\n",
      "only showing top 20 rows\n",
      "\n"
     ]
    },
    {
     "name": "stderr",
     "output_type": "stream",
     "text": [
      "25/02/19 19:18:27 WARN AdminClientConfig: These configurations '[key.deserializer, value.deserializer, enable.auto.commit, max.poll.records, auto.offset.reset]' were supplied but are not used yet.\n",
      "25/02/19 19:18:27 WARN AdminClientConfig: These configurations '[key.deserializer, value.deserializer, enable.auto.commit, max.poll.records, auto.offset.reset]' were supplied but are not used yet.\n",
      "25/02/19 19:18:27 WARN AdminClientConfig: These configurations '[key.deserializer, value.deserializer, enable.auto.commit, max.poll.records, auto.offset.reset]' were supplied but are not used yet.\n"
     ]
    },
    {
     "name": "stdout",
     "output_type": "stream",
     "text": [
      "-------------------------------------------\n",
      "Batch: 9\n",
      "-------------------------------------------\n",
      "+---------+------------+------------+---------------+\n",
      "|relais_id| relais_name|velo_station|available_bikes|\n",
      "+---------+------------+------------+---------------+\n",
      "|      140|P+R Huit Mai|        1011|              0|\n",
      "|      140|P+R Huit Mai|        1011|              0|\n",
      "|      140|P+R Huit Mai|        1011|              0|\n",
      "|      140|P+R Huit Mai|        1011|              0|\n",
      "|      140|P+R Huit Mai|        1011|              0|\n",
      "|      140|P+R Huit Mai|        1011|              0|\n",
      "|      140|P+R Huit Mai|        1011|              0|\n",
      "|      140|P+R Huit Mai|        1011|              0|\n",
      "|      140|P+R Huit Mai|        1011|              0|\n",
      "|      140|P+R Huit Mai|        1011|              0|\n",
      "|      140|P+R Huit Mai|        1011|              0|\n",
      "|      140|P+R Huit Mai|        1011|              0|\n",
      "|      140|P+R Huit Mai|        1011|              0|\n",
      "|      140|P+R Huit Mai|        1011|              0|\n",
      "|      140|P+R Huit Mai|        1011|              0|\n",
      "|      140|P+R Huit Mai|        1011|              0|\n",
      "|      140|P+R Huit Mai|        1011|              0|\n",
      "|      140|P+R Huit Mai|        1011|              0|\n",
      "|      140|P+R Huit Mai|        1011|              0|\n",
      "|      140|P+R Huit Mai|        1011|              0|\n",
      "+---------+------------+------------+---------------+\n",
      "only showing top 20 rows\n",
      "\n"
     ]
    },
    {
     "name": "stderr",
     "output_type": "stream",
     "text": [
      "25/02/19 19:18:28 WARN AdminClientConfig: These configurations '[key.deserializer, value.deserializer, enable.auto.commit, max.poll.records, auto.offset.reset]' were supplied but are not used yet.\n",
      "25/02/19 19:18:28 WARN AdminClientConfig: These configurations '[key.deserializer, value.deserializer, enable.auto.commit, max.poll.records, auto.offset.reset]' were supplied but are not used yet.\n",
      "25/02/19 19:18:28 WARN AdminClientConfig: These configurations '[key.deserializer, value.deserializer, enable.auto.commit, max.poll.records, auto.offset.reset]' were supplied but are not used yet.\n"
     ]
    },
    {
     "name": "stdout",
     "output_type": "stream",
     "text": [
      "-------------------------------------------\n",
      "Batch: 9\n",
      "-------------------------------------------\n",
      "+---------+------------+------------+---------------+\n",
      "|relais_id| relais_name|velo_station|available_bikes|\n",
      "+---------+------------+------------+---------------+\n",
      "|      140|P+R Huit Mai|        1011|              0|\n",
      "|      140|P+R Huit Mai|        1011|              0|\n",
      "|      140|P+R Huit Mai|        1011|              0|\n",
      "|      140|P+R Huit Mai|        1011|              0|\n",
      "|      140|P+R Huit Mai|        1011|              0|\n",
      "|      140|P+R Huit Mai|        1011|              0|\n",
      "|      140|P+R Huit Mai|        1011|              0|\n",
      "|      140|P+R Huit Mai|        1011|              0|\n",
      "|      140|P+R Huit Mai|        1011|              0|\n",
      "|      140|P+R Huit Mai|        1011|              0|\n",
      "|      140|P+R Huit Mai|        1011|              0|\n",
      "|      140|P+R Huit Mai|        1011|              0|\n",
      "|      140|P+R Huit Mai|        1011|              0|\n",
      "|      140|P+R Huit Mai|        1011|              0|\n",
      "|      140|P+R Huit Mai|        1011|              0|\n",
      "|      140|P+R Huit Mai|        1011|              0|\n",
      "|      140|P+R Huit Mai|        1011|              0|\n",
      "|      140|P+R Huit Mai|        1011|              0|\n",
      "|      140|P+R Huit Mai|        1011|              0|\n",
      "|      140|P+R Huit Mai|        1011|              0|\n",
      "+---------+------------+------------+---------------+\n",
      "only showing top 20 rows\n",
      "\n"
     ]
    },
    {
     "name": "stderr",
     "output_type": "stream",
     "text": [
      "                                                                                \r"
     ]
    },
    {
     "name": "stdout",
     "output_type": "stream",
     "text": [
      "-------------------------------------------\n",
      "Batch: 8\n",
      "-------------------------------------------\n",
      "+---------+-------------------+------------+---------------+\n",
      "|relais_id|        relais_name|velo_station|available_bikes|\n",
      "+---------+-------------------+------------+---------------+\n",
      "|      140|       P+R Huit Mai|         110|              8|\n",
      "|      140|       P+R Huit Mai|         110|              8|\n",
      "|      140|       P+R Huit Mai|         110|              8|\n",
      "|      140|       P+R Huit Mai|         110|              8|\n",
      "|      140|       P+R Huit Mai|         110|              8|\n",
      "|      140|       P+R Huit Mai|         110|              8|\n",
      "|      140|       P+R Huit Mai|         110|              8|\n",
      "|      140|       P+R Huit Mai|         110|              8|\n",
      "|      140|       P+R Huit Mai|         110|              8|\n",
      "|      140|       P+R Huit Mai|         110|              8|\n",
      "|      140|       P+R Huit Mai|         110|              8|\n",
      "|      140|       P+R Huit Mai|         110|              8|\n",
      "|      140|       P+R Huit Mai|         110|              8|\n",
      "|      140|       P+R Huit Mai|         110|              8|\n",
      "|      139|P+R Recteur Schmitt|          93|              5|\n",
      "|      139|P+R Recteur Schmitt|          93|              5|\n",
      "|      139|P+R Recteur Schmitt|          93|              5|\n",
      "|      139|P+R Recteur Schmitt|          93|              5|\n",
      "|      139|P+R Recteur Schmitt|          93|              5|\n",
      "|      140|       P+R Huit Mai|         110|              8|\n",
      "+---------+-------------------+------------+---------------+\n",
      "only showing top 20 rows\n",
      "\n"
     ]
    },
    {
     "name": "stderr",
     "output_type": "stream",
     "text": [
      "                                                                                \r"
     ]
    },
    {
     "name": "stdout",
     "output_type": "stream",
     "text": [
      "-------------------------------------------\n",
      "Batch: 4\n",
      "-------------------------------------------\n",
      "+---------+------------+------------+---------------+\n",
      "|relais_id| relais_name|velo_station|available_bikes|\n",
      "+---------+------------+------------+---------------+\n",
      "|      140|P+R Huit Mai|        1011|              0|\n",
      "|      140|P+R Huit Mai|        1011|              0|\n",
      "|      140|P+R Huit Mai|        1011|              0|\n",
      "|      140|P+R Huit Mai|        1011|              0|\n",
      "|      140|P+R Huit Mai|        1011|              0|\n",
      "|      140|P+R Huit Mai|        1011|              0|\n",
      "|      140|P+R Huit Mai|        1011|              0|\n",
      "|      140|P+R Huit Mai|        1011|              0|\n",
      "|      140|P+R Huit Mai|        1011|              0|\n",
      "|      140|P+R Huit Mai|        1011|              0|\n",
      "|      140|P+R Huit Mai|        1011|              0|\n",
      "|      140|P+R Huit Mai|        1011|              0|\n",
      "|      140|P+R Huit Mai|        1011|              0|\n",
      "|      140|P+R Huit Mai|        1011|              0|\n",
      "|      140|P+R Huit Mai|        1011|              0|\n",
      "|      140|P+R Huit Mai|        1011|              0|\n",
      "|      140|P+R Huit Mai|        1011|              0|\n",
      "|      140|P+R Huit Mai|        1011|              0|\n",
      "|      140|P+R Huit Mai|        1011|              0|\n",
      "|      140|P+R Huit Mai|        1011|              0|\n",
      "+---------+------------+------------+---------------+\n",
      "only showing top 20 rows\n",
      "\n"
     ]
    },
    {
     "name": "stderr",
     "output_type": "stream",
     "text": [
      "                                                                                \r"
     ]
    },
    {
     "name": "stdout",
     "output_type": "stream",
     "text": [
      "-------------------------------------------\n",
      "Batch: 10\n",
      "-------------------------------------------\n",
      "+---------+-------------------+------------+---------------+\n",
      "|relais_id|        relais_name|velo_station|available_bikes|\n",
      "+---------+-------------------+------------+---------------+\n",
      "|      140|       P+R Huit Mai|         110|              8|\n",
      "|      140|       P+R Huit Mai|         110|              8|\n",
      "|      140|       P+R Huit Mai|         110|              8|\n",
      "|      140|       P+R Huit Mai|         110|              8|\n",
      "|      140|       P+R Huit Mai|         110|              8|\n",
      "|      140|       P+R Huit Mai|         110|              8|\n",
      "|      140|       P+R Huit Mai|         110|              8|\n",
      "|      140|       P+R Huit Mai|         110|              8|\n",
      "|      140|       P+R Huit Mai|         110|              8|\n",
      "|      140|       P+R Huit Mai|         110|              8|\n",
      "|      140|       P+R Huit Mai|         110|              8|\n",
      "|      140|       P+R Huit Mai|         110|              8|\n",
      "|      140|       P+R Huit Mai|         110|              8|\n",
      "|      140|       P+R Huit Mai|         110|              8|\n",
      "|      139|P+R Recteur Schmitt|          93|              5|\n",
      "|      139|P+R Recteur Schmitt|          93|              5|\n",
      "|      139|P+R Recteur Schmitt|          93|              5|\n",
      "|      139|P+R Recteur Schmitt|          93|              5|\n",
      "|      139|P+R Recteur Schmitt|          93|              5|\n",
      "|      140|       P+R Huit Mai|         110|              8|\n",
      "+---------+-------------------+------------+---------------+\n",
      "only showing top 20 rows\n",
      "\n"
     ]
    },
    {
     "name": "stderr",
     "output_type": "stream",
     "text": [
      "                                                                                \r"
     ]
    },
    {
     "name": "stdout",
     "output_type": "stream",
     "text": [
      "-------------------------------------------\n",
      "Batch: 10\n",
      "-------------------------------------------\n",
      "+---------+-------------------+------------+---------------+\n",
      "|relais_id|        relais_name|velo_station|available_bikes|\n",
      "+---------+-------------------+------------+---------------+\n",
      "|      140|       P+R Huit Mai|         110|              8|\n",
      "|      140|       P+R Huit Mai|         110|              8|\n",
      "|      140|       P+R Huit Mai|         110|              8|\n",
      "|      140|       P+R Huit Mai|         110|              8|\n",
      "|      140|       P+R Huit Mai|         110|              8|\n",
      "|      140|       P+R Huit Mai|         110|              8|\n",
      "|      140|       P+R Huit Mai|         110|              8|\n",
      "|      140|       P+R Huit Mai|         110|              8|\n",
      "|      140|       P+R Huit Mai|         110|              8|\n",
      "|      140|       P+R Huit Mai|         110|              8|\n",
      "|      140|       P+R Huit Mai|         110|              8|\n",
      "|      140|       P+R Huit Mai|         110|              8|\n",
      "|      140|       P+R Huit Mai|         110|              8|\n",
      "|      140|       P+R Huit Mai|         110|              8|\n",
      "|      139|P+R Recteur Schmitt|          93|              5|\n",
      "|      139|P+R Recteur Schmitt|          93|              5|\n",
      "|      139|P+R Recteur Schmitt|          93|              5|\n",
      "|      139|P+R Recteur Schmitt|          93|              5|\n",
      "|      139|P+R Recteur Schmitt|          93|              5|\n",
      "|      140|       P+R Huit Mai|         110|              8|\n",
      "+---------+-------------------+------------+---------------+\n",
      "only showing top 20 rows\n",
      "\n"
     ]
    },
    {
     "name": "stderr",
     "output_type": "stream",
     "text": [
      "25/02/19 19:25:46 WARN AdminClientConfig: These configurations '[key.deserializer, value.deserializer, enable.auto.commit, max.poll.records, auto.offset.reset]' were supplied but are not used yet.\n",
      "25/02/19 19:25:46 WARN AdminClientConfig: These configurations '[key.deserializer, value.deserializer, enable.auto.commit, max.poll.records, auto.offset.reset]' were supplied but are not used yet.\n",
      "25/02/19 19:25:46 WARN AdminClientConfig: These configurations '[key.deserializer, value.deserializer, enable.auto.commit, max.poll.records, auto.offset.reset]' were supplied but are not used yet.\n",
      "25/02/19 19:25:46 WARN AdminClientConfig: These configurations '[key.deserializer, value.deserializer, enable.auto.commit, max.poll.records, auto.offset.reset]' were supplied but are not used yet.\n",
      "25/02/19 19:25:46 WARN AdminClientConfig: These configurations '[key.deserializer, value.deserializer, enable.auto.commit, max.poll.records, auto.offset.reset]' were supplied but are not used yet.\n",
      "25/02/19 19:25:46 WARN AdminClientConfig: These configurations '[key.deserializer, value.deserializer, enable.auto.commit, max.poll.records, auto.offset.reset]' were supplied but are not used yet.\n",
      "25/02/19 19:25:46 WARN AdminClientConfig: These configurations '[key.deserializer, value.deserializer, enable.auto.commit, max.poll.records, auto.offset.reset]' were supplied but are not used yet.\n",
      "25/02/19 19:25:46 WARN AdminClientConfig: These configurations '[key.deserializer, value.deserializer, enable.auto.commit, max.poll.records, auto.offset.reset]' were supplied but are not used yet.\n",
      "25/02/19 19:25:46 WARN AdminClientConfig: These configurations '[key.deserializer, value.deserializer, enable.auto.commit, max.poll.records, auto.offset.reset]' were supplied but are not used yet.\n",
      "25/02/19 19:25:47 WARN AdminClientConfig: These configurations '[key.deserializer, value.deserializer, enable.auto.commit, max.poll.records, auto.offset.reset]' were supplied but are not used yet.\n",
      "25/02/19 19:25:47 WARN AdminClientConfig: These configurations '[key.deserializer, value.deserializer, enable.auto.commit, max.poll.records, auto.offset.reset]' were supplied but are not used yet.\n",
      "25/02/19 19:25:48 WARN AdminClientConfig: These configurations '[key.deserializer, value.deserializer, enable.auto.commit, max.poll.records, auto.offset.reset]' were supplied but are not used yet.\n"
     ]
    },
    {
     "name": "stdout",
     "output_type": "stream",
     "text": [
      "-------------------------------------------\n",
      "Batch: 9\n",
      "-------------------------------------------\n",
      "+---------+-----------+------------+---------------+\n",
      "|relais_id|relais_name|velo_station|available_bikes|\n",
      "+---------+-----------+------------+---------------+\n",
      "+---------+-----------+------------+---------------+\n",
      "\n"
     ]
    },
    {
     "name": "stderr",
     "output_type": "stream",
     "text": [
      "                                                                                \r"
     ]
    },
    {
     "name": "stdout",
     "output_type": "stream",
     "text": [
      "-------------------------------------------\n",
      "Batch: 5\n",
      "-------------------------------------------\n",
      "+---------+-------------+------------+---------------+\n",
      "|relais_id|  relais_name|velo_station|available_bikes|\n",
      "+---------+-------------+------------+---------------+\n",
      "|      144|P+R Gréneraie|          56|              1|\n",
      "|      144|P+R Gréneraie|         101|             16|\n",
      "|      144|P+R Gréneraie|          82|              3|\n",
      "|      144|P+R Gréneraie|          56|              1|\n",
      "|      144|P+R Gréneraie|         101|             16|\n",
      "|      144|P+R Gréneraie|          57|              6|\n",
      "|      144|P+R Gréneraie|          56|              1|\n",
      "|      144|P+R Gréneraie|         101|             16|\n",
      "|      144|P+R Gréneraie|          57|              6|\n",
      "|      144|P+R Gréneraie|          82|              3|\n",
      "|      144|P+R Gréneraie|          99|             10|\n",
      "|      144|P+R Gréneraie|         109|              9|\n",
      "|      144|P+R Gréneraie|          58|              2|\n",
      "|      144|P+R Gréneraie|          83|              4|\n",
      "|      144|P+R Gréneraie|          57|              6|\n",
      "|      144|P+R Gréneraie|          99|             10|\n",
      "|      144|P+R Gréneraie|          82|              3|\n",
      "|      144|P+R Gréneraie|          56|              1|\n",
      "|      144|P+R Gréneraie|         109|              9|\n",
      "|      144|P+R Gréneraie|          57|              6|\n",
      "+---------+-------------+------------+---------------+\n",
      "only showing top 20 rows\n",
      "\n"
     ]
    },
    {
     "name": "stderr",
     "output_type": "stream",
     "text": [
      "25/02/19 19:25:49 WARN AdminClientConfig: These configurations '[key.deserializer, value.deserializer, enable.auto.commit, max.poll.records, auto.offset.reset]' were supplied but are not used yet.\n",
      "25/02/19 19:25:49 WARN AdminClientConfig: These configurations '[key.deserializer, value.deserializer, enable.auto.commit, max.poll.records, auto.offset.reset]' were supplied but are not used yet.\n",
      "25/02/19 19:25:49 WARN AdminClientConfig: These configurations '[key.deserializer, value.deserializer, enable.auto.commit, max.poll.records, auto.offset.reset]' were supplied but are not used yet.\n"
     ]
    },
    {
     "name": "stdout",
     "output_type": "stream",
     "text": [
      "-------------------------------------------\n",
      "Batch: 11\n",
      "-------------------------------------------\n",
      "+---------+-----------+------------+---------------+\n",
      "|relais_id|relais_name|velo_station|available_bikes|\n",
      "+---------+-----------+------------+---------------+\n",
      "+---------+-----------+------------+---------------+\n",
      "\n"
     ]
    },
    {
     "name": "stderr",
     "output_type": "stream",
     "text": [
      "25/02/19 19:25:50 WARN AdminClientConfig: These configurations '[key.deserializer, value.deserializer, enable.auto.commit, max.poll.records, auto.offset.reset]' were supplied but are not used yet.\n",
      "25/02/19 19:25:50 WARN AdminClientConfig: These configurations '[key.deserializer, value.deserializer, enable.auto.commit, max.poll.records, auto.offset.reset]' were supplied but are not used yet.\n",
      "25/02/19 19:25:50 WARN AdminClientConfig: These configurations '[key.deserializer, value.deserializer, enable.auto.commit, max.poll.records, auto.offset.reset]' were supplied but are not used yet.\n"
     ]
    },
    {
     "name": "stdout",
     "output_type": "stream",
     "text": [
      "-------------------------------------------\n",
      "Batch: 11\n",
      "-------------------------------------------\n",
      "+---------+-----------+------------+---------------+\n",
      "|relais_id|relais_name|velo_station|available_bikes|\n",
      "+---------+-----------+------------+---------------+\n",
      "+---------+-----------+------------+---------------+\n",
      "\n"
     ]
    },
    {
     "name": "stderr",
     "output_type": "stream",
     "text": [
      "                                                                                \r"
     ]
    },
    {
     "name": "stdout",
     "output_type": "stream",
     "text": [
      "-------------------------------------------\n",
      "Batch: 10\n",
      "-------------------------------------------\n",
      "+---------+------------+------------+---------------+\n",
      "|relais_id| relais_name|velo_station|available_bikes|\n",
      "+---------+------------+------------+---------------+\n",
      "|      140|P+R Huit Mai|        1011|              0|\n",
      "|      140|P+R Huit Mai|        1011|              0|\n",
      "|      140|P+R Huit Mai|        1011|              0|\n",
      "|      140|P+R Huit Mai|        1011|              0|\n",
      "|      140|P+R Huit Mai|        1011|              0|\n",
      "|      140|P+R Huit Mai|        1011|              0|\n",
      "|      140|P+R Huit Mai|        1011|              0|\n",
      "|      140|P+R Huit Mai|        1011|              0|\n",
      "|      140|P+R Huit Mai|        1011|              0|\n",
      "|      140|P+R Huit Mai|        1011|              0|\n",
      "|      140|P+R Huit Mai|        1011|              0|\n",
      "|      140|P+R Huit Mai|        1011|              0|\n",
      "|      140|P+R Huit Mai|        1011|              0|\n",
      "|      140|P+R Huit Mai|        1011|              0|\n",
      "|      140|P+R Huit Mai|        1011|              0|\n",
      "|      140|P+R Huit Mai|        1012|              0|\n",
      "|      140|P+R Huit Mai|        1012|              0|\n",
      "|      140|P+R Huit Mai|        1012|              0|\n",
      "|      140|P+R Huit Mai|        1012|              0|\n",
      "|      140|P+R Huit Mai|        1012|              0|\n",
      "+---------+------------+------------+---------------+\n",
      "only showing top 20 rows\n",
      "\n"
     ]
    },
    {
     "name": "stderr",
     "output_type": "stream",
     "text": [
      "                                                                                \r"
     ]
    },
    {
     "name": "stdout",
     "output_type": "stream",
     "text": [
      "-------------------------------------------\n",
      "Batch: 6\n",
      "-------------------------------------------\n",
      "+---------+------------+------------+---------------+\n",
      "|relais_id| relais_name|velo_station|available_bikes|\n",
      "+---------+------------+------------+---------------+\n",
      "|      140|P+R Huit Mai|        1011|              0|\n",
      "|      140|P+R Huit Mai|        1011|              0|\n",
      "|      140|P+R Huit Mai|        1011|              0|\n",
      "|      140|P+R Huit Mai|        1011|              0|\n",
      "|      140|P+R Huit Mai|        1011|              0|\n",
      "|      140|P+R Huit Mai|        1011|              0|\n",
      "|      140|P+R Huit Mai|        1011|              0|\n",
      "|      140|P+R Huit Mai|        1011|              0|\n",
      "|      140|P+R Huit Mai|        1011|              0|\n",
      "|      140|P+R Huit Mai|        1011|              0|\n",
      "|      140|P+R Huit Mai|        1011|              0|\n",
      "|      140|P+R Huit Mai|        1011|              0|\n",
      "|      140|P+R Huit Mai|        1011|              0|\n",
      "|      140|P+R Huit Mai|        1011|              0|\n",
      "|      140|P+R Huit Mai|        1011|              0|\n",
      "|      140|P+R Huit Mai|        1011|              0|\n",
      "|      140|P+R Huit Mai|        1011|              0|\n",
      "|      140|P+R Huit Mai|        1011|              0|\n",
      "|      140|P+R Huit Mai|        1011|              0|\n",
      "|      140|P+R Huit Mai|        1011|              0|\n",
      "+---------+------------+------------+---------------+\n",
      "only showing top 20 rows\n",
      "\n"
     ]
    },
    {
     "name": "stderr",
     "output_type": "stream",
     "text": [
      "                                                                                \r"
     ]
    },
    {
     "name": "stdout",
     "output_type": "stream",
     "text": [
      "-------------------------------------------\n",
      "Batch: 12\n",
      "-------------------------------------------\n",
      "+---------+------------+------------+---------------+\n",
      "|relais_id| relais_name|velo_station|available_bikes|\n",
      "+---------+------------+------------+---------------+\n",
      "|      140|P+R Huit Mai|        1011|              0|\n",
      "|      140|P+R Huit Mai|        1011|              0|\n",
      "|      140|P+R Huit Mai|        1011|              0|\n",
      "|      140|P+R Huit Mai|        1011|              0|\n",
      "|      140|P+R Huit Mai|        1011|              0|\n",
      "|      140|P+R Huit Mai|        1011|              0|\n",
      "|      140|P+R Huit Mai|        1011|              0|\n",
      "|      140|P+R Huit Mai|        1011|              0|\n",
      "|      140|P+R Huit Mai|        1011|              0|\n",
      "|      140|P+R Huit Mai|        1011|              0|\n",
      "|      140|P+R Huit Mai|        1011|              0|\n",
      "|      140|P+R Huit Mai|        1011|              0|\n",
      "|      140|P+R Huit Mai|        1011|              0|\n",
      "|      140|P+R Huit Mai|        1011|              0|\n",
      "|      140|P+R Huit Mai|        1011|              0|\n",
      "|      140|P+R Huit Mai|        1012|              0|\n",
      "|      140|P+R Huit Mai|        1012|              0|\n",
      "|      140|P+R Huit Mai|        1012|              0|\n",
      "|      140|P+R Huit Mai|        1012|              0|\n",
      "|      140|P+R Huit Mai|        1012|              0|\n",
      "+---------+------------+------------+---------------+\n",
      "only showing top 20 rows\n",
      "\n"
     ]
    },
    {
     "name": "stderr",
     "output_type": "stream",
     "text": [
      "                                                                                \r"
     ]
    },
    {
     "name": "stdout",
     "output_type": "stream",
     "text": [
      "-------------------------------------------\n",
      "Batch: 12\n",
      "-------------------------------------------\n",
      "+---------+------------+------------+---------------+\n",
      "|relais_id| relais_name|velo_station|available_bikes|\n",
      "+---------+------------+------------+---------------+\n",
      "|      140|P+R Huit Mai|        1011|              0|\n",
      "|      140|P+R Huit Mai|        1011|              0|\n",
      "|      140|P+R Huit Mai|        1011|              0|\n",
      "|      140|P+R Huit Mai|        1011|              0|\n",
      "|      140|P+R Huit Mai|        1011|              0|\n",
      "|      140|P+R Huit Mai|        1011|              0|\n",
      "|      140|P+R Huit Mai|        1011|              0|\n",
      "|      140|P+R Huit Mai|        1011|              0|\n",
      "|      140|P+R Huit Mai|        1011|              0|\n",
      "|      140|P+R Huit Mai|        1011|              0|\n",
      "|      140|P+R Huit Mai|        1011|              0|\n",
      "|      140|P+R Huit Mai|        1011|              0|\n",
      "|      140|P+R Huit Mai|        1011|              0|\n",
      "|      140|P+R Huit Mai|        1011|              0|\n",
      "|      140|P+R Huit Mai|        1011|              0|\n",
      "|      140|P+R Huit Mai|        1012|              0|\n",
      "|      140|P+R Huit Mai|        1012|              0|\n",
      "|      140|P+R Huit Mai|        1012|              0|\n",
      "|      140|P+R Huit Mai|        1012|              0|\n",
      "|      140|P+R Huit Mai|        1012|              0|\n",
      "+---------+------------+------------+---------------+\n",
      "only showing top 20 rows\n",
      "\n"
     ]
    }
   ],
   "source": [
    "# Add a constant column to both streaming DataFrames\n",
    "df_velos_stream = read_kafka_stream(velos_topic, schema_velos, is_streaming=True).withColumn(\"dummy\", F.lit(1))\n",
    "df_relais_stream = read_kafka_stream(relais_topic, schema_relais, is_streaming=True).withColumn(\"dummy\", F.lit(1))\n",
    "\n",
    "streaming_velos_relais = (\n",
    "    df_velos_stream.alias(\"velo\")\n",
    "    .join(\n",
    "         df_relais_stream.alias(\"rel\"),\n",
    "         on=\"dummy\"  # This is the required equality predicate\n",
    "    )\n",
    "    .filter(\n",
    "         (F.abs(F.col(\"velo.position.lon\") - F.col(\"rel.location.lon\")) <= 0.01) &\n",
    "         (F.abs(F.col(\"velo.position.lat\") - F.col(\"rel.location.lat\")) <= 0.01)\n",
    "    )\n",
    "    .select(\n",
    "         F.col(\"rel.grp_identifiant\").alias(\"relais_id\"),\n",
    "         F.col(\"rel.grp_nom\").alias(\"relais_name\"),\n",
    "         F.col(\"velo.number\").alias(\"velo_station\"),\n",
    "         F.col(\"velo.available_bikes\")\n",
    "    )\n",
    ")\n",
    "\n",
    "streaming_velos_relais.writeStream \\\n",
    "    .outputMode(\"append\") \\\n",
    "    .format(\"console\") \\\n",
    "    .start()\n"
   ]
  },
  {
   "cell_type": "code",
   "execution_count": null,
   "metadata": {},
   "outputs": [
    {
     "name": "stderr",
     "output_type": "stream",
     "text": [
      "25/02/19 19:26:05 WARN ResolveWriteToStream: Temporary checkpoint location created which is deleted normally when the query didn't fail: /tmp/temporary-0b5a2295-7bb7-40fd-81c6-50eeb29966ce. If it's required to delete it under any circumstances, please set spark.sql.streaming.forceDeleteTempCheckpointLocation to true. Important to know deleting temp checkpoint folder is best effort.\n",
      "25/02/19 19:26:05 WARN ResolveWriteToStream: spark.sql.adaptive.enabled is not supported in streaming DataFrames/Datasets and will be disabled.\n"
     ]
    },
    {
     "data": {
      "text/plain": [
       "<pyspark.sql.streaming.query.StreamingQuery at 0x7b3c7d185340>"
      ]
     },
     "execution_count": 22,
     "metadata": {},
     "output_type": "execute_result"
    },
    {
     "name": "stderr",
     "output_type": "stream",
     "text": [
      "25/02/19 19:26:05 WARN AdminClientConfig: These configurations '[key.deserializer, value.deserializer, enable.auto.commit, max.poll.records, auto.offset.reset]' were supplied but are not used yet.\n",
      "25/02/19 19:26:05 WARN AdminClientConfig: These configurations '[key.deserializer, value.deserializer, enable.auto.commit, max.poll.records, auto.offset.reset]' were supplied but are not used yet.\n",
      "25/02/19 19:26:05 WARN AdminClientConfig: These configurations '[key.deserializer, value.deserializer, enable.auto.commit, max.poll.records, auto.offset.reset]' were supplied but are not used yet.\n",
      "25/02/19 19:26:05 WARN AdminClientConfig: These configurations '[key.deserializer, value.deserializer, enable.auto.commit, max.poll.records, auto.offset.reset]' were supplied but are not used yet.\n",
      "25/02/19 19:26:12 WARN AdminClientConfig: These configurations '[key.deserializer, value.deserializer, enable.auto.commit, max.poll.records, auto.offset.reset]' were supplied but are not used yet.\n",
      "25/02/19 19:26:13 WARN AdminClientConfig: These configurations '[key.deserializer, value.deserializer, enable.auto.commit, max.poll.records, auto.offset.reset]' were supplied but are not used yet.\n"
     ]
    },
    {
     "name": "stdout",
     "output_type": "stream",
     "text": [
      "-------------------------------------------\n",
      "Batch: 0\n",
      "-------------------------------------------\n",
      "+--------------------+-------------+-------------------+-----------+------------+\n",
      "|              window|contract_name|avg_available_bikes|event_count|parking_name|\n",
      "+--------------------+-------------+-------------------+-----------+------------+\n",
      "|{2024-05-03 10:00...|       nantes|                0.0|         26|    Les Nefs|\n",
      "|{2024-05-03 10:00...|       nantes|                0.0|         26|    Les Nefs|\n",
      "|{2024-05-03 10:00...|       nantes|                0.0|         26|    Les Nefs|\n",
      "|{2024-05-03 10:00...|       nantes|                0.0|         26|    Les Nefs|\n",
      "|{2024-05-03 10:00...|       nantes|                0.0|         26|    Les Nefs|\n",
      "|{2024-05-03 10:00...|       nantes|                0.0|         26|    Les Nefs|\n",
      "|{2024-05-03 10:00...|       nantes|                0.0|         26|    Les Nefs|\n",
      "|{2024-05-03 10:00...|       nantes|                0.0|         26|    Les Nefs|\n",
      "|{2024-05-03 10:00...|       nantes|                0.0|         26|    Les Nefs|\n",
      "|{2024-05-03 10:00...|       nantes|                0.0|         26|    Les Nefs|\n",
      "|{2024-05-03 10:00...|       nantes|                0.0|         26|    Les Nefs|\n",
      "|{2024-05-03 10:00...|       nantes|                0.0|         26|    Les Nefs|\n",
      "|{2024-05-03 10:00...|       nantes|                0.0|         26|    Les Nefs|\n",
      "|{2024-05-03 10:00...|       nantes|                0.0|         26|    Les Nefs|\n",
      "|{2024-05-03 10:00...|       nantes|                0.0|         26|    Les Nefs|\n",
      "|{2024-05-03 10:00...|       nantes|                0.0|         26|    Les Nefs|\n",
      "|{2024-05-03 10:00...|       nantes|                0.0|         26|    Les Nefs|\n",
      "|{2024-05-03 10:00...|       nantes|                0.0|         26|    Les Nefs|\n",
      "|{2024-05-03 10:00...|       nantes|                0.0|         26|    Les Nefs|\n",
      "|{2024-05-03 10:00...|       nantes|                0.0|         26|    Les Nefs|\n",
      "+--------------------+-------------+-------------------+-----------+------------+\n",
      "only showing top 20 rows\n",
      "\n"
     ]
    },
    {
     "name": "stderr",
     "output_type": "stream",
     "text": [
      "25/02/19 19:26:13 WARN AdminClientConfig: These configurations '[key.deserializer, value.deserializer, enable.auto.commit, max.poll.records, auto.offset.reset]' were supplied but are not used yet.\n"
     ]
    },
    {
     "name": "stdout",
     "output_type": "stream",
     "text": [
      "-------------------------------------------\n",
      "Batch: 1\n",
      "-------------------------------------------\n",
      "+------+-------------+-------------------+-----------+------------+\n",
      "|window|contract_name|avg_available_bikes|event_count|parking_name|\n",
      "+------+-------------+-------------------+-----------+------------+\n",
      "+------+-------------+-------------------+-----------+------------+\n",
      "\n"
     ]
    },
    {
     "name": "stderr",
     "output_type": "stream",
     "text": [
      "25/02/19 19:26:47 WARN AdminClientConfig: These configurations '[key.deserializer, value.deserializer, enable.auto.commit, max.poll.records, auto.offset.reset]' were supplied but are not used yet.\n",
      "25/02/19 19:26:47 WARN AdminClientConfig: These configurations '[key.deserializer, value.deserializer, enable.auto.commit, max.poll.records, auto.offset.reset]' were supplied but are not used yet.\n",
      "25/02/19 19:26:47 WARN AdminClientConfig: These configurations '[key.deserializer, value.deserializer, enable.auto.commit, max.poll.records, auto.offset.reset]' were supplied but are not used yet.\n",
      "25/02/19 19:26:47 WARN AdminClientConfig: These configurations '[key.deserializer, value.deserializer, enable.auto.commit, max.poll.records, auto.offset.reset]' were supplied but are not used yet.\n",
      "25/02/19 19:26:47 WARN AdminClientConfig: These configurations '[key.deserializer, value.deserializer, enable.auto.commit, max.poll.records, auto.offset.reset]' were supplied but are not used yet.\n",
      "25/02/19 19:26:47 WARN AdminClientConfig: These configurations '[key.deserializer, value.deserializer, enable.auto.commit, max.poll.records, auto.offset.reset]' were supplied but are not used yet.\n",
      "25/02/19 19:26:47 WARN AdminClientConfig: These configurations '[key.deserializer, value.deserializer, enable.auto.commit, max.poll.records, auto.offset.reset]' were supplied but are not used yet.\n",
      "25/02/19 19:26:47 WARN AdminClientConfig: These configurations '[key.deserializer, value.deserializer, enable.auto.commit, max.poll.records, auto.offset.reset]' were supplied but are not used yet.\n",
      "25/02/19 19:26:47 WARN AdminClientConfig: These configurations '[key.deserializer, value.deserializer, enable.auto.commit, max.poll.records, auto.offset.reset]' were supplied but are not used yet.\n",
      "25/02/19 19:26:47 WARN AdminClientConfig: These configurations '[key.deserializer, value.deserializer, enable.auto.commit, max.poll.records, auto.offset.reset]' were supplied but are not used yet.\n",
      "25/02/19 19:26:47 WARN AdminClientConfig: These configurations '[key.deserializer, value.deserializer, enable.auto.commit, max.poll.records, auto.offset.reset]' were supplied but are not used yet.\n",
      "25/02/19 19:26:47 WARN AdminClientConfig: These configurations '[key.deserializer, value.deserializer, enable.auto.commit, max.poll.records, auto.offset.reset]' were supplied but are not used yet.\n",
      "                                                                                \r"
     ]
    },
    {
     "name": "stdout",
     "output_type": "stream",
     "text": [
      "-------------------------------------------\n",
      "Batch: 7\n",
      "-------------------------------------------\n",
      "+---------+-----------+------------+---------------+\n",
      "|relais_id|relais_name|velo_station|available_bikes|\n",
      "+---------+-----------+------------+---------------+\n",
      "+---------+-----------+------------+---------------+\n",
      "\n"
     ]
    },
    {
     "name": "stderr",
     "output_type": "stream",
     "text": [
      "25/02/19 19:26:50 WARN AdminClientConfig: These configurations '[key.deserializer, value.deserializer, enable.auto.commit, max.poll.records, auto.offset.reset]' were supplied but are not used yet.\n",
      "25/02/19 19:26:50 WARN AdminClientConfig: These configurations '[key.deserializer, value.deserializer, enable.auto.commit, max.poll.records, auto.offset.reset]' were supplied but are not used yet.\n",
      "25/02/19 19:26:50 WARN AdminClientConfig: These configurations '[key.deserializer, value.deserializer, enable.auto.commit, max.poll.records, auto.offset.reset]' were supplied but are not used yet.\n"
     ]
    },
    {
     "name": "stdout",
     "output_type": "stream",
     "text": [
      "-------------------------------------------\n",
      "Batch: 13\n",
      "-------------------------------------------\n",
      "+---------+-----------+------------+---------------+\n",
      "|relais_id|relais_name|velo_station|available_bikes|\n",
      "+---------+-----------+------------+---------------+\n",
      "+---------+-----------+------------+---------------+\n",
      "\n"
     ]
    },
    {
     "name": "stderr",
     "output_type": "stream",
     "text": [
      "25/02/19 19:26:52 WARN AdminClientConfig: These configurations '[key.deserializer, value.deserializer, enable.auto.commit, max.poll.records, auto.offset.reset]' were supplied but are not used yet.\n",
      "25/02/19 19:26:52 WARN AdminClientConfig: These configurations '[key.deserializer, value.deserializer, enable.auto.commit, max.poll.records, auto.offset.reset]' were supplied but are not used yet.\n",
      "25/02/19 19:26:52 WARN AdminClientConfig: These configurations '[key.deserializer, value.deserializer, enable.auto.commit, max.poll.records, auto.offset.reset]' were supplied but are not used yet.\n"
     ]
    },
    {
     "name": "stdout",
     "output_type": "stream",
     "text": [
      "-------------------------------------------\n",
      "Batch: 11\n",
      "-------------------------------------------\n",
      "+---------+-----------+------------+---------------+\n",
      "|relais_id|relais_name|velo_station|available_bikes|\n",
      "+---------+-----------+------------+---------------+\n",
      "+---------+-----------+------------+---------------+\n",
      "\n"
     ]
    },
    {
     "name": "stderr",
     "output_type": "stream",
     "text": [
      "25/02/19 19:26:54 WARN AdminClientConfig: These configurations '[key.deserializer, value.deserializer, enable.auto.commit, max.poll.records, auto.offset.reset]' were supplied but are not used yet.\n",
      "25/02/19 19:26:54 WARN AdminClientConfig: These configurations '[key.deserializer, value.deserializer, enable.auto.commit, max.poll.records, auto.offset.reset]' were supplied but are not used yet.\n",
      "25/02/19 19:26:54 WARN AdminClientConfig: These configurations '[key.deserializer, value.deserializer, enable.auto.commit, max.poll.records, auto.offset.reset]' were supplied but are not used yet.\n"
     ]
    },
    {
     "name": "stdout",
     "output_type": "stream",
     "text": [
      "-------------------------------------------\n",
      "Batch: 13\n",
      "-------------------------------------------\n",
      "+---------+-----------+------------+---------------+\n",
      "|relais_id|relais_name|velo_station|available_bikes|\n",
      "+---------+-----------+------------+---------------+\n",
      "+---------+-----------+------------+---------------+\n",
      "\n"
     ]
    },
    {
     "name": "stderr",
     "output_type": "stream",
     "text": [
      "25/02/19 19:27:01 WARN AdminClientConfig: These configurations '[key.deserializer, value.deserializer, enable.auto.commit, max.poll.records, auto.offset.reset]' were supplied but are not used yet.\n",
      "25/02/19 19:27:01 WARN AdminClientConfig: These configurations '[key.deserializer, value.deserializer, enable.auto.commit, max.poll.records, auto.offset.reset]' were supplied but are not used yet.\n",
      "25/02/19 19:27:01 WARN AdminClientConfig: These configurations '[key.deserializer, value.deserializer, enable.auto.commit, max.poll.records, auto.offset.reset]' were supplied but are not used yet.\n"
     ]
    },
    {
     "name": "stdout",
     "output_type": "stream",
     "text": [
      "-------------------------------------------\n",
      "Batch: 2\n",
      "-------------------------------------------\n",
      "+--------------------+-------------+-------------------+-----------+---------------+\n",
      "|              window|contract_name|avg_available_bikes|event_count|   parking_name|\n",
      "+--------------------+-------------+-------------------+-----------+---------------+\n",
      "|{2025-02-19 19:10...|       nantes|  8.891975308641975|        324|  Tour Bretagne|\n",
      "|{2025-02-19 19:10...|       nantes|  8.891975308641975|        324|    Médiathèque|\n",
      "|{2025-02-19 19:10...|       nantes|  8.891975308641975|        324|   Les machines|\n",
      "|{2025-02-19 19:10...|       nantes|  8.891975308641975|        324|          CHU 1|\n",
      "|{2025-02-19 19:10...|       nantes|  8.891975308641975|        324|          CHU 2|\n",
      "|{2025-02-19 19:10...|       nantes|  8.891975308641975|        324|  Decré-Bouffay|\n",
      "|{2025-02-19 19:10...|       nantes|  8.891975308641975|        324|     Hôtel Dieu|\n",
      "|{2025-02-19 19:10...|       nantes|  8.891975308641975|        324|      Baco-LU 2|\n",
      "|{2025-02-19 19:10...|       nantes|  8.891975308641975|        324|        Feydeau|\n",
      "|{2025-02-19 19:10...|       nantes|  8.891975308641975|        324|Aristide Briand|\n",
      "|{2025-02-19 19:10...|       nantes|  8.891975308641975|        324|       Commerce|\n",
      "|{2025-02-19 19:10...|       nantes|  8.891975308641975|        324|       Talensac|\n",
      "|{2025-02-19 19:10...|       nantes|  8.891975308641975|        324|     Cathédrale|\n",
      "|{2025-02-19 19:10...|       nantes|  8.891975308641975|        324|   Les machines|\n",
      "|{2025-02-19 19:10...|       nantes|  8.891975308641975|        324|    Gloriette 1|\n",
      "|{2025-02-19 19:10...|       nantes|  8.891975308641975|        324|        Bellamy|\n",
      "|{2025-02-19 19:10...|       nantes|  8.891975308641975|        324|    Gloriette 2|\n",
      "|{2025-02-19 19:10...|       nantes|  8.891975308641975|        324|          CHU 2|\n",
      "|{2025-02-19 19:10...|       nantes|  8.891975308641975|        324|      Baco-LU 2|\n",
      "|{2025-02-19 19:10...|       nantes|  8.891975308641975|        324|        Graslin|\n",
      "+--------------------+-------------+-------------------+-----------+---------------+\n",
      "only showing top 20 rows\n",
      "\n"
     ]
    },
    {
     "name": "stderr",
     "output_type": "stream",
     "text": [
      "                                                                                \r"
     ]
    },
    {
     "name": "stdout",
     "output_type": "stream",
     "text": [
      "-------------------------------------------\n",
      "Batch: 8\n",
      "-------------------------------------------\n",
      "+---------+-------------------+------------+---------------+\n",
      "|relais_id|        relais_name|velo_station|available_bikes|\n",
      "+---------+-------------------+------------+---------------+\n",
      "|      139|P+R Recteur Schmitt|          93|              5|\n",
      "|      139|P+R Recteur Schmitt|          93|              5|\n",
      "|      139|P+R Recteur Schmitt|          93|              5|\n",
      "|      139|P+R Recteur Schmitt|          93|              5|\n",
      "|      139|P+R Recteur Schmitt|          93|              5|\n",
      "|      139|P+R Recteur Schmitt|          93|              5|\n",
      "|      139|P+R Recteur Schmitt|          93|              5|\n",
      "|      139|P+R Recteur Schmitt|          93|              5|\n",
      "|      139|P+R Recteur Schmitt|          93|              5|\n",
      "|      139|P+R Recteur Schmitt|          93|              5|\n",
      "|      139|P+R Recteur Schmitt|          93|              5|\n",
      "|      139|P+R Recteur Schmitt|          93|              5|\n",
      "|      139|P+R Recteur Schmitt|          93|              5|\n",
      "|      139|P+R Recteur Schmitt|          93|              5|\n",
      "|      139|P+R Recteur Schmitt|          93|              5|\n",
      "|      139|P+R Recteur Schmitt|          93|              5|\n",
      "|      139|P+R Recteur Schmitt|          93|              5|\n",
      "|      139|P+R Recteur Schmitt|          93|              5|\n",
      "|      139|P+R Recteur Schmitt|          93|              5|\n",
      "|      139|P+R Recteur Schmitt|          93|              5|\n",
      "+---------+-------------------+------------+---------------+\n",
      "only showing top 20 rows\n",
      "\n",
      "-------------------------------------------\n",
      "Batch: 14\n",
      "-------------------------------------------\n",
      "+---------+-------------------+------------+---------------+\n",
      "|relais_id|        relais_name|velo_station|available_bikes|\n",
      "+---------+-------------------+------------+---------------+\n",
      "|      139|P+R Recteur Schmitt|          93|              5|\n",
      "|      139|P+R Recteur Schmitt|          93|              5|\n",
      "|      139|P+R Recteur Schmitt|          93|              5|\n",
      "|      139|P+R Recteur Schmitt|          93|              5|\n",
      "|      139|P+R Recteur Schmitt|          93|              5|\n",
      "|      140|       P+R Huit Mai|         102|             19|\n",
      "|      140|       P+R Huit Mai|         102|             19|\n",
      "|      140|       P+R Huit Mai|         102|             19|\n",
      "|      140|       P+R Huit Mai|         102|             19|\n",
      "|      140|       P+R Huit Mai|         102|             19|\n",
      "|      140|       P+R Huit Mai|         102|             19|\n",
      "|      140|       P+R Huit Mai|         102|             19|\n",
      "|      140|       P+R Huit Mai|         102|             19|\n",
      "|      140|       P+R Huit Mai|         102|             19|\n",
      "|      140|       P+R Huit Mai|         102|             19|\n",
      "|      140|       P+R Huit Mai|         102|             19|\n",
      "|      140|       P+R Huit Mai|         102|             19|\n",
      "|      140|       P+R Huit Mai|         102|             19|\n",
      "|      140|       P+R Huit Mai|         102|             19|\n",
      "|      140|       P+R Huit Mai|         102|             19|\n",
      "+---------+-------------------+------------+---------------+\n",
      "only showing top 20 rows\n",
      "\n"
     ]
    },
    {
     "name": "stderr",
     "output_type": "stream",
     "text": [
      "                                                                                \r"
     ]
    },
    {
     "name": "stdout",
     "output_type": "stream",
     "text": [
      "-------------------------------------------\n",
      "Batch: 12\n",
      "-------------------------------------------\n",
      "+---------+-------------------+------------+---------------+\n",
      "|relais_id|        relais_name|velo_station|available_bikes|\n",
      "+---------+-------------------+------------+---------------+\n",
      "|      139|P+R Recteur Schmitt|          93|              5|\n",
      "|      139|P+R Recteur Schmitt|          93|              5|\n",
      "|      139|P+R Recteur Schmitt|          93|              5|\n",
      "|      139|P+R Recteur Schmitt|          93|              5|\n",
      "|      139|P+R Recteur Schmitt|          93|              5|\n",
      "|      140|       P+R Huit Mai|         102|             19|\n",
      "|      140|       P+R Huit Mai|         102|             19|\n",
      "|      140|       P+R Huit Mai|         102|             19|\n",
      "|      140|       P+R Huit Mai|         102|             19|\n",
      "|      140|       P+R Huit Mai|         102|             19|\n",
      "|      140|       P+R Huit Mai|         102|             19|\n",
      "|      140|       P+R Huit Mai|         102|             19|\n",
      "|      140|       P+R Huit Mai|         102|             19|\n",
      "|      140|       P+R Huit Mai|         102|             19|\n",
      "|      140|       P+R Huit Mai|         102|             19|\n",
      "|      140|       P+R Huit Mai|         102|             19|\n",
      "|      140|       P+R Huit Mai|         102|             19|\n",
      "|      140|       P+R Huit Mai|         102|             19|\n",
      "|      140|       P+R Huit Mai|         102|             19|\n",
      "|      140|       P+R Huit Mai|         102|             19|\n",
      "+---------+-------------------+------------+---------------+\n",
      "only showing top 20 rows\n",
      "\n"
     ]
    },
    {
     "name": "stderr",
     "output_type": "stream",
     "text": [
      "                                                                                \r"
     ]
    },
    {
     "name": "stdout",
     "output_type": "stream",
     "text": [
      "-------------------------------------------\n",
      "Batch: 14\n",
      "-------------------------------------------\n",
      "+---------+-------------------+------------+---------------+\n",
      "|relais_id|        relais_name|velo_station|available_bikes|\n",
      "+---------+-------------------+------------+---------------+\n",
      "|      139|P+R Recteur Schmitt|          93|              5|\n",
      "|      139|P+R Recteur Schmitt|          93|              5|\n",
      "|      139|P+R Recteur Schmitt|          93|              5|\n",
      "|      139|P+R Recteur Schmitt|          93|              5|\n",
      "|      139|P+R Recteur Schmitt|          93|              5|\n",
      "|      140|       P+R Huit Mai|         102|             19|\n",
      "|      140|       P+R Huit Mai|         102|             19|\n",
      "|      140|       P+R Huit Mai|         102|             19|\n",
      "|      140|       P+R Huit Mai|         102|             19|\n",
      "|      140|       P+R Huit Mai|         102|             19|\n",
      "|      140|       P+R Huit Mai|         102|             19|\n",
      "|      140|       P+R Huit Mai|         102|             19|\n",
      "|      140|       P+R Huit Mai|         102|             19|\n",
      "|      140|       P+R Huit Mai|         102|             19|\n",
      "|      140|       P+R Huit Mai|         102|             19|\n",
      "|      140|       P+R Huit Mai|         102|             19|\n",
      "|      140|       P+R Huit Mai|         102|             19|\n",
      "|      140|       P+R Huit Mai|         102|             19|\n",
      "|      140|       P+R Huit Mai|         102|             19|\n",
      "|      140|       P+R Huit Mai|         102|             19|\n",
      "+---------+-------------------+------------+---------------+\n",
      "only showing top 20 rows\n",
      "\n"
     ]
    },
    {
     "name": "stderr",
     "output_type": "stream",
     "text": [
      "[Stage 139:============================================>          (16 + 2) / 20]\r"
     ]
    }
   ],
   "source": [
    "# Read streaming velos data and use static parking data\n",
    "df_velos_stream = read_kafka_stream(velos_topic, schema_velos, is_streaming=True)\n",
    "df_parking_static = read_kafka_stream(\"parking_public\", schema_parking_public, is_streaming=False)\n",
    "\n",
    "# Aggregate the streaming velos data using a time window and watermark\n",
    "velos_windowed = (\n",
    "    df_velos_stream\n",
    "    .withColumn(\"event_time\", F.col(\"last_update\").cast(\"timestamp\"))\n",
    "    .withWatermark(\"event_time\", \"5 minutes\")\n",
    "    .groupBy(\n",
    "         F.window(\"event_time\", \"10 minutes\"),\n",
    "         \"contract_name\"\n",
    "    )\n",
    "    .agg(\n",
    "         F.avg(\"available_bikes\").alias(\"avg_available_bikes\"),\n",
    "         F.avg(\"position.lon\").alias(\"avg_lon\"),\n",
    "         F.avg(\"position.lat\").alias(\"avg_lat\"),\n",
    "         F.count(\"number\").alias(\"event_count\")\n",
    "    )\n",
    ")\n",
    "\n",
    "# Join the windowed streaming data with the static parking data\n",
    "aggregated_with_parking = (\n",
    "    velos_windowed.alias(\"vel\")\n",
    "    .join(\n",
    "         df_parking_static.alias(\"parking\"),\n",
    "         (F.abs(F.col(\"vel.avg_lon\") - F.col(\"parking.location.lon\")) <= 0.01) &\n",
    "         (F.abs(F.col(\"vel.avg_lat\") - F.col(\"parking.location.lat\")) <= 0.01)\n",
    "    )\n",
    "    .select(\n",
    "         \"window\",\n",
    "         \"contract_name\",\n",
    "         \"avg_available_bikes\",\n",
    "         \"event_count\",\n",
    "         F.col(\"parking.grp_nom\").alias(\"parking_name\")\n",
    "    )\n",
    ")\n",
    "\n",
    "# Write the streaming output to the console\n",
    "aggregated_with_parking.writeStream \\\n",
    "    .outputMode(\"update\") \\\n",
    "    .format(\"console\") \\\n",
    "    .start()\n"
   ]
  },
  {
   "cell_type": "code",
   "execution_count": 23,
   "metadata": {},
   "outputs": [
    {
     "name": "stderr",
     "output_type": "stream",
     "text": [
      "25/02/19 19:27:10 ERROR WriteToDataSourceV2Exec: Data source write support MicroBatchWrite[epoch: 3, writer: ConsoleWriter[numRows=20, truncate=true]] is aborting.\n",
      "25/02/19 19:27:10 ERROR WriteToDataSourceV2Exec: Data source write support MicroBatchWrite[epoch: 3, writer: ConsoleWriter[numRows=20, truncate=true]] aborted.\n"
     ]
    },
    {
     "name": "stderr",
     "output_type": "stream",
     "text": [
      "25/02/19 19:27:10 WARN TaskSetManager: Lost task 16.0 in stage 139.0 (TID 408) (172.25.0.4 executor 0): TaskKilled (Stage cancelled: Job 90 cancelled part of cancelled job group a09a3eba-c81c-4dff-8c77-451977de3688)\n",
      "25/02/19 19:27:10 WARN TaskSetManager: Lost task 17.0 in stage 139.0 (TID 409) (172.25.0.4 executor 0): TaskKilled (Stage cancelled: Job 90 cancelled part of cancelled job group a09a3eba-c81c-4dff-8c77-451977de3688)\n"
     ]
    }
   ],
   "source": [
    "for q in spark.streams.active:\n",
    "    q.stop()"
   ]
  }
 ],
 "metadata": {
  "kernelspec": {
   "display_name": "Python 3 (ipykernel)",
   "language": "python",
   "name": "python3"
  }
 },
 "nbformat": 4,
 "nbformat_minor": 2
}
