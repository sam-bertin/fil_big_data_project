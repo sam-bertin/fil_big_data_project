{
 "cells": [
  {
   "cell_type": "markdown",
   "metadata": {},
   "source": [
    "## Imports"
   ]
  },
  {
   "cell_type": "code",
   "execution_count": 1,
   "metadata": {},
   "outputs": [],
   "source": [
    "from pyspark import SparkContext, SparkConf\n",
    "from pyspark.sql import SQLContext\n",
    "from pyspark.sql.functions import from_json, col, count, window, avg, to_timestamp, min, max, last, to_json, struct\n",
    "from pyspark.sql.types import StructType, StructField, StringType, FloatType, IntegerType, DoubleType\n",
    "import seaborn as sns\n",
    "import matplotlib.pyplot as plt\n",
    "import matplotlib.dates as mdates\n",
    "import socket"
   ]
  },
  {
   "cell_type": "markdown",
   "metadata": {},
   "source": [
    "## Configuration Spark"
   ]
  },
  {
   "cell_type": "code",
   "execution_count": 2,
   "metadata": {},
   "outputs": [
    {
     "name": "stdout",
     "output_type": "stream",
     "text": [
      "Connexion réussie à kafka1:9092\n"
     ]
    }
   ],
   "source": [
    "def check_port(host, port):\n",
    "    sock = socket.socket(socket.AF_INET, socket.SOCK_STREAM)\n",
    "    sock.settimeout(5)  # Timeout de 5 secondes\n",
    "    result = sock.connect_ex((host, port))\n",
    "    if result == 0:\n",
    "        print(f\"Connexion réussie à {host}:{port}\")\n",
    "    else:\n",
    "        print(f\"Impossible de se connecter à {host}:{port}\")\n",
    "    sock.close()\n",
    "\n",
    "check_port(\"kafka1\", 9092)\n"
   ]
  },
  {
   "cell_type": "code",
   "execution_count": 3,
   "metadata": {},
   "outputs": [
    {
     "name": "stdout",
     "output_type": "stream",
     "text": [
      ":: loading settings :: url = jar:file:/opt/conda/lib/python3.12/site-packages/pyspark/jars/ivy-2.5.1.jar!/org/apache/ivy/core/settings/ivysettings.xml\n"
     ]
    },
    {
     "name": "stderr",
     "output_type": "stream",
     "text": [
      "Ivy Default Cache set to: /home/jovyan/.ivy2/cache\n",
      "The jars for the packages stored in: /home/jovyan/.ivy2/jars\n",
      "org.apache.hadoop#hadoop-aws added as a dependency\n",
      "org.apache.spark#spark-sql-kafka-0-10_2.12 added as a dependency\n",
      ":: resolving dependencies :: org.apache.spark#spark-submit-parent-f07c0dbd-6a45-4dcd-8a5b-64c06fc7b165;1.0\n",
      "\tconfs: [default]\n",
      "\tfound org.apache.hadoop#hadoop-aws;3.3.4 in central\n",
      "\tfound com.amazonaws#aws-java-sdk-bundle;1.12.262 in central\n",
      "\tfound org.wildfly.openssl#wildfly-openssl;1.0.7.Final in central\n",
      "\tfound org.apache.spark#spark-sql-kafka-0-10_2.12;3.5.3 in central\n",
      "\tfound org.apache.spark#spark-token-provider-kafka-0-10_2.12;3.5.3 in central\n",
      "\tfound org.apache.kafka#kafka-clients;3.4.1 in central\n",
      "\tfound org.lz4#lz4-java;1.8.0 in central\n",
      "\tfound org.xerial.snappy#snappy-java;1.1.10.5 in central\n",
      "\tfound org.slf4j#slf4j-api;2.0.7 in central\n",
      "\tfound org.apache.hadoop#hadoop-client-runtime;3.3.4 in central\n",
      "\tfound org.apache.hadoop#hadoop-client-api;3.3.4 in central\n",
      "\tfound commons-logging#commons-logging;1.1.3 in central\n",
      "\tfound com.google.code.findbugs#jsr305;3.0.0 in central\n",
      "\tfound org.apache.commons#commons-pool2;2.11.1 in central\n",
      ":: resolution report :: resolve 850ms :: artifacts dl 34ms\n",
      "\t:: modules in use:\n",
      "\tcom.amazonaws#aws-java-sdk-bundle;1.12.262 from central in [default]\n",
      "\tcom.google.code.findbugs#jsr305;3.0.0 from central in [default]\n",
      "\tcommons-logging#commons-logging;1.1.3 from central in [default]\n",
      "\torg.apache.commons#commons-pool2;2.11.1 from central in [default]\n",
      "\torg.apache.hadoop#hadoop-aws;3.3.4 from central in [default]\n",
      "\torg.apache.hadoop#hadoop-client-api;3.3.4 from central in [default]\n",
      "\torg.apache.hadoop#hadoop-client-runtime;3.3.4 from central in [default]\n",
      "\torg.apache.kafka#kafka-clients;3.4.1 from central in [default]\n",
      "\torg.apache.spark#spark-sql-kafka-0-10_2.12;3.5.3 from central in [default]\n",
      "\torg.apache.spark#spark-token-provider-kafka-0-10_2.12;3.5.3 from central in [default]\n",
      "\torg.lz4#lz4-java;1.8.0 from central in [default]\n",
      "\torg.slf4j#slf4j-api;2.0.7 from central in [default]\n",
      "\torg.wildfly.openssl#wildfly-openssl;1.0.7.Final from central in [default]\n",
      "\torg.xerial.snappy#snappy-java;1.1.10.5 from central in [default]\n",
      "\t---------------------------------------------------------------------\n",
      "\t|                  |            modules            ||   artifacts   |\n",
      "\t|       conf       | number| search|dwnlded|evicted|| number|dwnlded|\n",
      "\t---------------------------------------------------------------------\n",
      "\t|      default     |   14  |   0   |   0   |   0   ||   14  |   0   |\n",
      "\t---------------------------------------------------------------------\n",
      ":: retrieving :: org.apache.spark#spark-submit-parent-f07c0dbd-6a45-4dcd-8a5b-64c06fc7b165\n",
      "\tconfs: [default]\n",
      "\t0 artifacts copied, 14 already retrieved (0kB/20ms)\n",
      "25/02/21 09:41:54 WARN NativeCodeLoader: Unable to load native-hadoop library for your platform... using builtin-java classes where applicable\n",
      "Setting default log level to \"WARN\".\n",
      "To adjust logging level use sc.setLogLevel(newLevel). For SparkR, use setLogLevel(newLevel).\n",
      "/opt/conda/lib/python3.12/site-packages/pyspark/sql/context.py:113: FutureWarning: Deprecated in 3.0.0. Use SparkSession.builder.getOrCreate() instead.\n",
      "  warnings.warn(\n"
     ]
    }
   ],
   "source": [
    "conf = SparkConf() \\\n",
    "    .setAppName('SparkApp') \\\n",
    "    .setMaster('spark://spark:7077') \\\n",
    "    .set(\"spark.jars.packages\", \"org.apache.hadoop:hadoop-aws:3.3.4,org.apache.spark:spark-sql-kafka-0-10_2.12:3.5.3\") \\\n",
    "    .set(\"spark.sql.shuffle.partitions\", \"10\")\n",
    " \n",
    "\n",
    "sc = SparkContext.getOrCreate(conf=conf)\n",
    "\n",
    "\n",
    "# Créer un SQLContext pour les opérations SQL\n",
    "sql_context = SQLContext(sc)"
   ]
  },
  {
   "cell_type": "markdown",
   "metadata": {},
   "source": [
    "## Schémas et Topics\n"
   ]
  },
  {
   "cell_type": "code",
   "execution_count": 4,
   "metadata": {},
   "outputs": [],
   "source": [
    "kafka_broker = \"kafka1:9092\"\n",
    "arrets_topic = \"arrets\"\n",
    "velos_topic = \"velos\"\n",
    "relais_topic = \"relais\"\n",
    "\n",
    "# Définition du schéma pour le topic \"arrets\"\n",
    "schema_arrets = StructType([\n",
    "    StructField(\"codeLieu\", StringType()),\n",
    "    StructField(\"libelle\", StringType()),\n",
    "    StructField(\"distance\", FloatType()),\n",
    "    StructField(\"ligne\", StringType())\n",
    "])\n",
    "\n",
    "# Définition du schéma pour le champ \"position\"\n",
    "position_schema = StructType([\n",
    "    StructField(\"lon\", DoubleType()),\n",
    "    StructField(\"lat\", DoubleType())\n",
    "])\n",
    "\n",
    "# Définition du schéma pour le topic \"velos\"\n",
    "schema_velos = StructType([\n",
    "    StructField(\"number\", StringType()),\n",
    "    StructField(\"name\", StringType()),\n",
    "    StructField(\"address\", StringType()),\n",
    "    StructField(\"position\", position_schema),\n",
    "    StructField(\"banking\", StringType()),\n",
    "    StructField(\"bonus\", StringType()),\n",
    "    StructField(\"status\", StringType()),\n",
    "    StructField(\"contract_name\", StringType()),\n",
    "    StructField(\"bike_stands\", IntegerType()),\n",
    "    StructField(\"available_bike_stands\", IntegerType()),\n",
    "    StructField(\"available_bikes\", IntegerType()),\n",
    "    StructField(\"last_update\", StringType())\n",
    "])\n",
    "\n",
    "# Définition du schéma pour le topic \"relais\"\n",
    "schema_relais = StructType([\n",
    "    StructField(\"grp_identifiant\", StringType()),\n",
    "    StructField(\"grp_nom\", StringType()),\n",
    "    StructField(\"grp_statut\", IntegerType()),\n",
    "    StructField(\"grp_disponible\", IntegerType()),\n",
    "    StructField(\"grp_exploitation\", IntegerType()),\n",
    "    StructField(\"grp_complet\", IntegerType()),\n",
    "    StructField(\"grp_horodatage\", StringType()),\n",
    "    StructField(\"idobj\", StringType()),\n",
    "    StructField(\"location\", StructType([\n",
    "        StructField(\"lon\", DoubleType()),\n",
    "        StructField(\"lat\", DoubleType())\n",
    "    ])),\n",
    "    StructField(\"disponibilite\", DoubleType())\n",
    "])\n",
    "\n",
    "# Définition du schéma pour le topic \"parking_public\"\n",
    "schema_parking_public = StructType([\n",
    "    StructField(\"grp_identifiant\", StringType(), True),\n",
    "    StructField(\"grp_nom\", StringType(), True),\n",
    "    StructField(\"grp_statut\", StringType(), True),\n",
    "    StructField(\"grp_disponible\", IntegerType(), True),\n",
    "    StructField(\"grp_exploitation\", IntegerType(), True),\n",
    "    StructField(\"grp_complet\", IntegerType(), True),\n",
    "    StructField(\"grp_horodatage\", StringType(), True),\n",
    "    StructField(\"idobj\", StringType(), True),\n",
    "    StructField(\"location\", StructType([\n",
    "         StructField(\"lon\", DoubleType(), True),\n",
    "         StructField(\"lat\", DoubleType(), True)\n",
    "    ]), True)\n",
    "])"
   ]
  },
  {
   "cell_type": "markdown",
   "metadata": {},
   "source": [
    "## Requête Batch sans fenêtre"
   ]
  },
  {
   "cell_type": "markdown",
   "metadata": {},
   "source": [
    "Comptage des arrêts par ligne à partir du topic « arrets »"
   ]
  },
  {
   "cell_type": "code",
   "execution_count": 9,
   "metadata": {},
   "outputs": [
    {
     "name": "stderr",
     "output_type": "stream",
     "text": [
      "25/02/21 17:23:09 WARN AdminClientConfig: These configurations '[key.deserializer, value.deserializer, enable.auto.commit, max.poll.records, auto.offset.reset]' were supplied but are not used yet.\n",
      "25/02/21 17:23:11 WARN AdminClientConfig: These configurations '[key.deserializer, value.deserializer, enable.auto.commit, max.poll.records, auto.offset.reset]' were supplied but are not used yet.\n"
     ]
    },
    {
     "name": "stdout",
     "output_type": "stream",
     "text": [
      "+-----+---------+\n",
      "|ligne|nb_arrets|\n",
      "+-----+---------+\n",
      "|   NC|       32|\n",
      "|  147|       33|\n",
      "|   12|       50|\n",
      "|  137|       38|\n",
      "|  107|       15|\n",
      "|   78|       37|\n",
      "|  116|       43|\n",
      "|   C7|       35|\n",
      "|   11|       78|\n",
      "|  LCE|       20|\n",
      "|  148|        6|\n",
      "|  192|       14|\n",
      "|   NN|       34|\n",
      "|  101|       14|\n",
      "|  NGG|        2|\n",
      "|  141|        3|\n",
      "|  126|       25|\n",
      "|  159|       18|\n",
      "|  189|       18|\n",
      "|   80|       28|\n",
      "+-----+---------+\n",
      "only showing top 20 rows\n",
      "\n"
     ]
    },
    {
     "name": "stderr",
     "output_type": "stream",
     "text": [
      "[Stage 15:>                                                         (0 + 2) / 2]\r"
     ]
    },
    {
     "name": "stdout",
     "output_type": "stream",
     "text": [
      "+-------+-----------------+------------------+\n",
      "|summary|            ligne|         nb_arrets|\n",
      "+-------+-----------------+------------------+\n",
      "|  count|              114|               114|\n",
      "|   mean|94.30588235294118| 27.19298245614035|\n",
      "| stddev|50.78737739912579|15.821950246739782|\n",
      "|    min|                1|                 2|\n",
      "|    max|               NS|                79|\n",
      "+-------+-----------------+------------------+\n",
      "\n"
     ]
    },
    {
     "name": "stderr",
     "output_type": "stream",
     "text": [
      "                                                                                \r"
     ]
    }
   ],
   "source": [
    "from pyspark.sql.functions import explode, col, from_json, count\n",
    "from pyspark.sql.types import StructType, StructField, StringType, ArrayType\n",
    "\n",
    "# Définition correcte du schéma de \"ligne\" (c'est un tableau d'objets contenant \"numLigne\")\n",
    "schema_ligne = ArrayType(StructType([StructField(\"numLigne\", StringType())]))\n",
    "\n",
    "# Lecture brute des messages Kafka\n",
    "df_kafka = sql_context.read \\\n",
    "    .format(\"kafka\") \\\n",
    "    .option(\"kafka.bootstrap.servers\", kafka_broker) \\\n",
    "    .option(\"subscribe\", arrets_topic) \\\n",
    "    .option(\"startingOffsets\", \"earliest\") \\\n",
    "    .load()\n",
    "\n",
    "# Conversion du champ \"value\" (JSON) en colonnes structurées\n",
    "df_arrets = df_kafka.selectExpr(\"CAST(value AS STRING) AS message\") \\\n",
    "    .select(from_json(col(\"message\"), schema_arrets).alias(\"data\")) \\\n",
    "    .select(\"data.*\")\n",
    "\n",
    "# Correction : Parser explicitement la colonne \"ligne\" en tableau d'objets\n",
    "df_arrets = df_arrets.withColumn(\"ligne\", from_json(col(\"ligne\"), schema_ligne))\n",
    "\n",
    "# Explosion du champ \"ligne\" pour extraire chaque ligne individuelle\n",
    "df_arrets_exploded = df_arrets.withColumn(\"ligne\", explode(col(\"ligne.numLigne\")))\n",
    "\n",
    "# Agrégation : compter le nombre d'arrêts par ligne\n",
    "result = df_arrets_exploded.groupBy(\"ligne\").agg(count(\"*\").alias(\"nb_arrets\"))\n",
    "\n",
    "# Affichage du résultat\n",
    "result.show()\n",
    "result.describe().show()"
   ]
  },
  {
   "cell_type": "markdown",
   "metadata": {},
   "source": [
    "## Requête Batch avec fenêtre\n",
    "\n",
    "Vélos disponibles par station sur des fenêtres temporelles à partir du topic « velos »."
   ]
  },
  {
   "cell_type": "code",
   "execution_count": 12,
   "metadata": {},
   "outputs": [
    {
     "name": "stderr",
     "output_type": "stream",
     "text": [
      "25/02/21 17:28:41 WARN AdminClientConfig: These configurations '[key.deserializer, value.deserializer, enable.auto.commit, max.poll.records, auto.offset.reset]' were supplied but are not used yet.\n",
      "25/02/21 17:28:43 WARN AdminClientConfig: These configurations '[key.deserializer, value.deserializer, enable.auto.commit, max.poll.records, auto.offset.reset]' were supplied but are not used yet.\n"
     ]
    },
    {
     "name": "stdout",
     "output_type": "stream",
     "text": [
      "+----------+------+-------------------+----------+\n",
      "|      date|number|avg_available_bikes|nb_updates|\n",
      "+----------+------+-------------------+----------+\n",
      "|2025-02-19|    54|  9.595744680851064|        94|\n",
      "|2025-02-19|    86| 11.372340425531915|        94|\n",
      "|2025-02-19|    94|                8.0|        48|\n",
      "|2025-02-19|    55|  5.170212765957447|        94|\n",
      "|2024-05-03|  1012|                0.0|       266|\n",
      "|2025-02-19|    59|  7.193548387096774|        93|\n",
      "|2024-09-10|    69|                0.0|       258|\n",
      "|2025-02-11|    25|                0.0|       258|\n",
      "|2025-02-19|   115|   6.98936170212766|        94|\n",
      "|2025-02-19|   114| 15.957446808510639|        94|\n",
      "|2025-02-19|    99|  12.35483870967742|        93|\n",
      "|2025-02-19|     8| 13.365591397849462|        93|\n",
      "|2025-02-19|   116|  4.648936170212766|        94|\n",
      "|2025-02-19|   120| 10.117021276595745|        94|\n",
      "|2025-02-19|    10| 15.763157894736842|        38|\n",
      "|2025-02-19|   108| 0.9069767441860465|        43|\n",
      "|2025-02-20|    73|               12.0|        25|\n",
      "|2025-02-20|    59|               11.0|        25|\n",
      "|2025-02-20|     3|                4.0|        25|\n",
      "|2025-02-20|    86|                9.0|        25|\n",
      "+----------+------+-------------------+----------+\n",
      "only showing top 20 rows\n",
      "\n"
     ]
    },
    {
     "name": "stderr",
     "output_type": "stream",
     "text": [
      "25/02/21 17:28:44 WARN SparkStringUtils: Truncated the string representation of a plan since it was too large. This behavior can be adjusted by setting 'spark.sql.debug.maxToStringFields'.\n",
      "[Stage 30:>                                                         (0 + 2) / 2]\r"
     ]
    },
    {
     "name": "stdout",
     "output_type": "stream",
     "text": [
      "+-------+----------+-----------------+-------------------+-----------------+\n",
      "|summary|      date|           number|avg_available_bikes|       nb_updates|\n",
      "+-------+----------+-----------------+-------------------+-----------------+\n",
      "|  count|       370|              370|                370|              370|\n",
      "|   mean|      NULL| 68.9027027027027|  8.338149082046323|71.89189189189189|\n",
      "| stddev|      NULL|78.44761594822464|  5.325006807738194|54.45456761448412|\n",
      "|    min|2022-05-23|                1|                0.0|                2|\n",
      "|    max|2025-02-21|               99| 48.191489361702125|              266|\n",
      "+-------+----------+-----------------+-------------------+-----------------+\n",
      "\n"
     ]
    },
    {
     "name": "stderr",
     "output_type": "stream",
     "text": [
      "                                                                                \r"
     ]
    }
   ],
   "source": [
    "from pyspark.sql.functions import col, from_json, to_timestamp, avg, count, date_format\n",
    "\n",
    "# Lecture brute des messages Kafka\n",
    "df_kafka = sql_context.read \\\n",
    "    .format(\"kafka\") \\\n",
    "    .option(\"kafka.bootstrap.servers\", kafka_broker) \\\n",
    "    .option(\"subscribe\", velos_topic) \\\n",
    "    .option(\"startingOffsets\", \"earliest\") \\\n",
    "    .load()\n",
    "\n",
    "# Conversion du champ \"value\" en JSON\n",
    "df_velos = df_kafka.selectExpr(\"CAST(value AS STRING) AS message\") \\\n",
    "    .select(from_json(col(\"message\"), schema_velos).alias(\"data\")) \\\n",
    "    .select(\"data.*\")\n",
    "\n",
    "# Conversion de \"last_update\" en timestamp\n",
    "df_velos = df_velos.withColumn(\"last_update_ts\", \n",
    "                               to_timestamp(col(\"last_update\"), \"yyyy-MM-dd'T'HH:mm:ssXXX\"))\n",
    "\n",
    "# Extraction de la date uniquement (année-mois-jour) pour grouper par jour\n",
    "df_velos = df_velos.withColumn(\"date\", date_format(col(\"last_update_ts\"), \"yyyy-MM-dd\"))\n",
    "\n",
    "# Agrégation : moyenne du nombre de vélos par station et par jour\n",
    "result = df_velos.groupBy(\"date\", \"number\").agg(\n",
    "    avg(\"available_bikes\").alias(\"avg_available_bikes\"),\n",
    "    count(\"*\").alias(\"nb_updates\")  # Nombre de mises à jour dans la journée\n",
    ")\n",
    "\n",
    "# Affichage des résultats\n",
    "result.show()\n",
    "result.describe().show()"
   ]
  },
  {
   "cell_type": "code",
   "execution_count": 13,
   "metadata": {},
   "outputs": [
    {
     "name": "stderr",
     "output_type": "stream",
     "text": [
      "25/02/21 17:32:36 WARN AdminClientConfig: These configurations '[key.deserializer, value.deserializer, enable.auto.commit, max.poll.records, auto.offset.reset]' were supplied but are not used yet.\n",
      "[Stage 36:>                                                         (0 + 2) / 2]\r"
     ]
    },
    {
     "name": "stdout",
     "output_type": "stream",
     "text": [
      "+----------+------+-------------------+----------+\n",
      "|      date|number|avg_available_bikes|nb_updates|\n",
      "+----------+------+-------------------+----------+\n",
      "|2025-02-19|    52|  7.989247311827957|        93|\n",
      "|2025-02-20|    52|               10.0|        25|\n",
      "|2025-02-21|    52|  9.735099337748345|       151|\n",
      "+----------+------+-------------------+----------+\n",
      "\n"
     ]
    },
    {
     "name": "stderr",
     "output_type": "stream",
     "text": [
      "                                                                                \r"
     ]
    }
   ],
   "source": [
    "from pyspark.sql.functions import col, from_json, to_timestamp, avg, count, date_format\n",
    "\n",
    "# Lecture brute des messages Kafka\n",
    "df_kafka = sql_context.read \\\n",
    "    .format(\"kafka\") \\\n",
    "    .option(\"kafka.bootstrap.servers\", kafka_broker) \\\n",
    "    .option(\"subscribe\", velos_topic) \\\n",
    "    .option(\"startingOffsets\", \"earliest\") \\\n",
    "    .load()\n",
    "\n",
    "# Conversion du champ \"value\" en JSON\n",
    "df_velos = df_kafka.selectExpr(\"CAST(value AS STRING) AS message\") \\\n",
    "    .select(from_json(col(\"message\"), schema_velos).alias(\"data\")) \\\n",
    "    .select(\"data.*\")\n",
    "\n",
    "# Conversion de \"last_update\" en timestamp\n",
    "df_velos = df_velos.withColumn(\"last_update_ts\", \n",
    "                               to_timestamp(col(\"last_update\"), \"yyyy-MM-dd'T'HH:mm:ssXXX\"))\n",
    "\n",
    "# Extraction de la date uniquement (année-mois-jour)\n",
    "df_velos = df_velos.withColumn(\"date\", date_format(col(\"last_update_ts\"), \"yyyy-MM-dd\"))\n",
    "\n",
    "# Agrégation : moyenne des vélos disponibles par station et par jour\n",
    "result = df_velos.groupBy(\"date\", \"number\").agg(\n",
    "    avg(\"available_bikes\").alias(\"avg_available_bikes\"),\n",
    "    count(\"*\").alias(\"nb_updates\")\n",
    ")\n",
    "\n",
    "# Filtrer pour une station spécifique (ex: station numéro 52)\n",
    "station_number = 52  # Remplace par une autre valeur si besoin\n",
    "result_filtered = result.filter(col(\"number\") == station_number).orderBy(\"date\")\n",
    "\n",
    "# Affichage des résultats\n",
    "result_filtered.show()\n"
   ]
  },
  {
   "cell_type": "markdown",
   "metadata": {},
   "source": [
    "### Batch et visualisation graphique"
   ]
  },
  {
   "cell_type": "code",
   "execution_count": 18,
   "metadata": {},
   "outputs": [
    {
     "name": "stderr",
     "output_type": "stream",
     "text": [
      "25/02/21 17:34:58 WARN AdminClientConfig: These configurations '[key.deserializer, value.deserializer, enable.auto.commit, max.poll.records, auto.offset.reset]' were supplied but are not used yet.\n",
      "                                                                                \r"
     ]
    },
    {
     "data": {
      "image/png": "[encoded data removed]",
      "text/plain": [
       "<Figure size 1200x600 with 1 Axes>"
      ]
     },
     "metadata": {},
     "output_type": "display_data"
    }
   ],
   "source": [
    "# Lecture batch depuis Kafka\n",
    "df_kafka = sql_context.read \\\n",
    "    .format(\"kafka\") \\\n",
    "    .option(\"kafka.bootstrap.servers\", kafka_broker) \\\n",
    "    .option(\"subscribe\", relais_topic) \\\n",
    "    .option(\"startingOffsets\", \"earliest\") \\\n",
    "    .load()\n",
    "\n",
    "# Conversion du JSON\n",
    "df_relais = df_kafka.selectExpr(\"CAST(value AS STRING) AS message\") \\\n",
    "    .select(from_json(col(\"message\"), schema_relais).alias(\"data\")) \\\n",
    "    .select(\"data.*\")\n",
    "\n",
    "# Conversion du champ de date en timestamp (format ISO 8601)\n",
    "df_relais = df_relais.withColumn(\"horodatage_ts\", \n",
    "                                  to_timestamp(col(\"grp_horodatage\"), \"yyyy-MM-dd'T'HH:mm:ssXXX\"))\n",
    "\n",
    "# Agrégation : calcul de la disponibilité moyenne par parking sur une fenêtre d'1 jour\n",
    "result = df_relais.groupBy(\n",
    "    window(col(\"horodatage_ts\"), \"1 hour\"),\n",
    "    col(\"grp_identifiant\"),\n",
    "    col(\"grp_nom\")\n",
    ").agg(\n",
    "    avg(\"disponibilite\").alias(\"avg_disponibilite\")\n",
    ")\n",
    "\n",
    "# Extraire la date de début de la fenêtre pour le graphique\n",
    "result = result.withColumn(\"window_start\", col(\"window.start\")).drop(\"window\")\n",
    "\n",
    "# Conversion du résultat en DataFrame Pandas\n",
    "pandas_df = result.toPandas()\n",
    "\n",
    "# Tri des données par date et par parking\n",
    "pandas_df.sort_values(by=[\"window_start\", \"grp_identifiant\"], inplace=True)\n",
    "\n",
    "# Visualisation avec Seaborn : une ligne par parking (grp_nom)\n",
    "plt.figure(figsize=(12, 6))\n",
    "sns.lineplot(data=pandas_df, x=\"window_start\", y=\"avg_disponibilite\", hue=\"grp_nom\", marker=\"o\")\n",
    "plt.title(\"Disponibilité moyenne journalière des parkings relais\")\n",
    "plt.xlabel(\"Date\")\n",
    "plt.ylabel(\"Disponibilité moyenne\")\n",
    "plt.gca().xaxis.set_major_formatter(mdates.DateFormatter('%Y-%m-%d %H:%M'))\n",
    "plt.xticks(rotation=90)\n",
    "plt.show()"
   ]
  },
  {
   "cell_type": "markdown",
   "metadata": {},
   "source": [
    "## Requêtes Streaming"
   ]
  },
  {
   "cell_type": "markdown",
   "metadata": {},
   "source": [
    "### Récuperer la moyenne des disponiblités des parkings relais sur une fenêtre glissante."
   ]
  },
  {
   "cell_type": "code",
   "execution_count": null,
   "metadata": {},
   "outputs": [],
   "source": [
    "# Lecture en streaming depuis Kafka\n",
    "df_kafka = sql_context.readStream \\\n",
    "    .format(\"kafka\") \\\n",
    "    .option(\"kafka.bootstrap.servers\", kafka_broker) \\\n",
    "    .option(\"subscribe\", relais_topic) \\\n",
    "    .option(\"startingOffsets\", \"latest\") \\\n",
    "    .load()\n",
    "\n",
    "# Conversion du champ \"value\" (JSON) en colonnes structurées\n",
    "df_relais = df_kafka.selectExpr(\"CAST(value AS STRING) AS message\") \\\n",
    "    .select(from_json(col(\"message\"), schema_relais).alias(\"data\")) \\\n",
    "    .select(\"data.*\")\n",
    "\n",
    "# Conversion du champ \"grp_horodatage\" en timestamp\n",
    "# Le format ISO 8601 est utilisé : \"yyyy-MM-dd'T'HH:mm:ssXXX\"\n",
    "df_relais = df_relais.withColumn(\"horodatage_ts\", \n",
    "                                  to_timestamp(col(\"grp_horodatage\"), \"yyyy-MM-dd'T'HH:mm:ssXXX\"))\n",
    "\n",
    "# Définition d'un watermark de 5 minutes pour gérer les retards éventuels\n",
    "df_relais = df_relais.withWatermark(\"horodatage_ts\", \"5 minutes\")\n",
    "\n",
    "# Agrégation : calcul de la moyenne des disponibilités sur une fenêtre glissante\n",
    "# Ici, la fenêtre est de 5 minutes et on agrège par \"grp_identifiant\"\n",
    "result_stream = df_relais.groupBy(\n",
    "    window(col(\"horodatage_ts\"), \"5 minutes\"),\n",
    "    col(\"grp_identifiant\"),\n",
    ").agg(\n",
    "    avg(\"disponibilite\").alias(\"avg_disponibilite\")\n",
    ")\n",
    "\n",
    "# Écriture du résultat en streaming vers la console (mode \"update\")\n",
    "query = result_stream.writeStream \\\n",
    "    .outputMode(\"update\") \\\n",
    "    .format(\"console\") \\\n",
    "    .option(\"truncate\", \"false\") \\\n",
    "    .start()\n",
    "\n",
    "query.awaitTermination()"
   ]
  },
  {
   "cell_type": "code",
   "execution_count": null,
   "metadata": {},
   "outputs": [],
   "source": [
    "query.stop()"
   ]
  },
  {
   "cell_type": "markdown",
   "metadata": {},
   "source": [
    "### Récuperer la moyenne des vélos disponibles par parking sur une fenêtre glissante."
   ]
  },
  {
   "cell_type": "code",
   "execution_count": null,
   "metadata": {},
   "outputs": [],
   "source": [
    "# Lecture en streaming depuis Kafka\n",
    "df_kafka_velos = sql_context.readStream \\\n",
    "    .format(\"kafka\") \\\n",
    "    .option(\"kafka.bootstrap.servers\", kafka_broker) \\\n",
    "    .option(\"subscribe\", velos_topic) \\\n",
    "    .option(\"startingOffsets\", \"latest\") \\\n",
    "    .load()\n",
    "\n",
    "# Conversion du champ \"value\" (JSON) en colonnes structurées\n",
    "df_velos = df_kafka_velos.selectExpr(\"CAST(value AS STRING) AS message\") \\\n",
    "    .select(from_json(col(\"message\"), schema_velos).alias(\"data\")) \\\n",
    "    .select(\"data.*\")\n",
    "\n",
    "# Conversion du champ \"last_update\" en timestamp (format ISO 8601)\n",
    "df_velos = df_velos.withColumn(\"last_update_ts\", \n",
    "                               to_timestamp(col(\"last_update\"), \"yyyy-MM-dd'T'HH:mm:ssXXX\"))\n",
    "\n",
    "# Application d'un watermark de 5 minutes pour gérer les retards\n",
    "df_velos = df_velos.withWatermark(\"last_update_ts\", \"5 minutes\")\n",
    "\n",
    "# Agrégation sur une fenêtre de 5 minutes : calcul du total des places disponibles\n",
    "result_velos = df_velos.groupBy(\n",
    "    window(col(\"last_update_ts\"), \"5 minutes\"),\n",
    "    col(\"name\")\n",
    ").agg(\n",
    "    avg(\"available_bikes\").alias(\"moyenne_velos_disponibles\")\n",
    ")\n",
    "\n",
    "# Écriture du résultat en streaming vers la console (mode \"update\")\n",
    "query_velos = result_velos.writeStream \\\n",
    "    .outputMode(\"update\") \\\n",
    "    .format(\"console\") \\\n",
    "    .option(\"truncate\", \"false\") \\\n",
    "    .start()\n",
    "\n",
    "query_velos.awaitTermination()"
   ]
  },
  {
   "cell_type": "code",
   "execution_count": null,
   "metadata": {},
   "outputs": [],
   "source": [
    "query_velos.stop()"
   ]
  },
  {
   "cell_type": "markdown",
   "metadata": {},
   "source": [
    "## Streaming vers le dashboard"
   ]
  },
  {
   "cell_type": "markdown",
   "metadata": {},
   "source": [
    "### Velos disponibles"
   ]
  },
  {
   "cell_type": "code",
   "execution_count": null,
   "metadata": {},
   "outputs": [],
   "source": [
    "# Lecture en streaming depuis Kafka\n",
    "df_kafka_velos = sql_context.readStream \\\n",
    "    .format(\"kafka\") \\\n",
    "    .option(\"kafka.bootstrap.servers\", kafka_broker) \\\n",
    "    .option(\"subscribe\", velos_topic) \\\n",
    "    .option(\"startingOffsets\", \"latest\") \\\n",
    "    .load()\n",
    "\n",
    "# Conversion du champ \"value\" (JSON) en colonnes structurées\n",
    "df_velos = df_kafka_velos.selectExpr(\"CAST(value AS STRING) AS message\") \\\n",
    "    .select(from_json(col(\"message\"), schema_velos).alias(\"data\")) \\\n",
    "    .select(\"data.*\")\n",
    "\n",
    "# Conversion du champ \"last_update\" en timestamp (format ISO 8601)\n",
    "df_velos = df_velos.withColumn(\"last_update_ts\", \n",
    "                               to_timestamp(col(\"last_update\"), \"yyyy-MM-dd'T'HH:mm:ssXXX\"))\n",
    "\n",
    "# Application d'un watermark de 5 minutes pour gérer les retards\n",
    "df_velos = df_velos.withWatermark(\"last_update_ts\", \"5 minutes\")\n",
    "\n",
    "# Agrégation sur une fenêtre de 5 minutes : calcul du total des places disponibles\n",
    "result_velos = df_velos.groupBy(\n",
    "    window(col(\"last_update_ts\"), \"5 minutes\"),\n",
    "    col(\"name\")\n",
    ").agg(\n",
    "    avg(\"available_bikes\").alias(\"moyenne_velos_disponibles\")\n",
    ")\n",
    "\n",
    "# Préparation des données pour l'écriture dans Kafka\n",
    "dashboard_df = result_velos.select(\n",
    "    col(\"name\").cast(\"string\").alias(\"key\"),\n",
    "    to_json(struct(\n",
    "        col(\"window.start\").alias(\"window_start\"),\n",
    "        col(\"window.end\").alias(\"window_end\"),\n",
    "        col(\"name\"),\n",
    "        col(\"moyenne_velos_disponibles\")\n",
    "    )).alias(\"value\")\n",
    ")\n",
    "\n",
    "# Écriture du résultat en streaming vers le topic Kafka \"velos_dashboard\"\n",
    "query_velos = dashboard_df.writeStream \\\n",
    "    .format(\"kafka\") \\\n",
    "    .option(\"kafka.bootstrap.servers\", kafka_broker) \\\n",
    "    .option(\"topic\", \"dashvelos\") \\\n",
    "    .option(\"checkpointLocation\", \"/tmp/checkpoint_velos\") \\\n",
    "    .outputMode(\"update\") \\\n",
    "    .start()\n",
    "\n",
    "query_velos.awaitTermination()"
   ]
  },
  {
   "cell_type": "code",
   "execution_count": null,
   "metadata": {},
   "outputs": [],
   "source": [
    "query_velos.stop()"
   ]
  },
  {
   "cell_type": "markdown",
   "metadata": {},
   "source": [
    "### Relais"
   ]
  },
  {
   "cell_type": "code",
   "execution_count": 5,
   "metadata": {},
   "outputs": [
    {
     "name": "stderr",
     "output_type": "stream",
     "text": [
      "25/02/20 14:08:51 WARN ResolveWriteToStream: spark.sql.adaptive.enabled is not supported in streaming DataFrames/Datasets and will be disabled.\n",
      "25/02/20 14:08:52 WARN AdminClientConfig: These configurations '[key.deserializer, value.deserializer, enable.auto.commit, max.poll.records, auto.offset.reset]' were supplied but are not used yet.\n",
      "ERROR:root:KeyboardInterrupt while sending command.                             \n",
      "Traceback (most recent call last):\n",
      "  File \"/opt/conda/lib/python3.12/site-packages/py4j/java_gateway.py\", line 1038, in send_command\n",
      "    response = connection.send_command(command)\n",
      "               ^^^^^^^^^^^^^^^^^^^^^^^^^^^^^^^^\n",
      "  File \"/opt/conda/lib/python3.12/site-packages/py4j/clientserver.py\", line 511, in send_command\n",
      "    answer = smart_decode(self.stream.readline()[:-1])\n",
      "                          ^^^^^^^^^^^^^^^^^^^^^^\n",
      "  File \"/opt/conda/lib/python3.12/socket.py\", line 720, in readinto\n",
      "    return self._sock.recv_into(b)\n",
      "           ^^^^^^^^^^^^^^^^^^^^^^^\n",
      "KeyboardInterrupt\n"
     ]
    },
    {
     "ename": "KeyboardInterrupt",
     "evalue": "",
     "output_type": "error",
     "traceback": [
      "\u001b[0;31m---------------------------------------------------------------------------\u001b[0m",
      "\u001b[0;31mKeyboardInterrupt\u001b[0m                         Traceback (most recent call last)",
      "Cell \u001b[0;32mIn[5], line 50\u001b[0m\n\u001b[1;32m     41\u001b[0m \u001b[38;5;66;03m# Écriture du résultat en streaming vers le topic Kafka \"dashrelais\"\u001b[39;00m\n\u001b[1;32m     42\u001b[0m query_relais \u001b[38;5;241m=\u001b[39m dashboard_relais_df\u001b[38;5;241m.\u001b[39mwriteStream \\\n\u001b[1;32m     43\u001b[0m     \u001b[38;5;241m.\u001b[39mformat(\u001b[38;5;124m\"\u001b[39m\u001b[38;5;124mkafka\u001b[39m\u001b[38;5;124m\"\u001b[39m) \\\n\u001b[1;32m     44\u001b[0m     \u001b[38;5;241m.\u001b[39moption(\u001b[38;5;124m\"\u001b[39m\u001b[38;5;124mkafka.bootstrap.servers\u001b[39m\u001b[38;5;124m\"\u001b[39m, kafka_broker) \\\n\u001b[0;32m   (...)\u001b[0m\n\u001b[1;32m     47\u001b[0m     \u001b[38;5;241m.\u001b[39moutputMode(\u001b[38;5;124m\"\u001b[39m\u001b[38;5;124mupdate\u001b[39m\u001b[38;5;124m\"\u001b[39m) \\\n\u001b[1;32m     48\u001b[0m     \u001b[38;5;241m.\u001b[39mstart()\n\u001b[0;32m---> 50\u001b[0m \u001b[43mquery_relais\u001b[49m\u001b[38;5;241;43m.\u001b[39;49m\u001b[43mawaitTermination\u001b[49m\u001b[43m(\u001b[49m\u001b[43m)\u001b[49m\n",
      "File \u001b[0;32m/opt/conda/lib/python3.12/site-packages/pyspark/sql/streaming/query.py:221\u001b[0m, in \u001b[0;36mStreamingQuery.awaitTermination\u001b[0;34m(self, timeout)\u001b[0m\n\u001b[1;32m    219\u001b[0m     \u001b[38;5;28;01mreturn\u001b[39;00m \u001b[38;5;28mself\u001b[39m\u001b[38;5;241m.\u001b[39m_jsq\u001b[38;5;241m.\u001b[39mawaitTermination(\u001b[38;5;28mint\u001b[39m(timeout \u001b[38;5;241m*\u001b[39m \u001b[38;5;241m1000\u001b[39m))\n\u001b[1;32m    220\u001b[0m \u001b[38;5;28;01melse\u001b[39;00m:\n\u001b[0;32m--> 221\u001b[0m     \u001b[38;5;28;01mreturn\u001b[39;00m \u001b[38;5;28;43mself\u001b[39;49m\u001b[38;5;241;43m.\u001b[39;49m\u001b[43m_jsq\u001b[49m\u001b[38;5;241;43m.\u001b[39;49m\u001b[43mawaitTermination\u001b[49m\u001b[43m(\u001b[49m\u001b[43m)\u001b[49m\n",
      "File \u001b[0;32m/opt/conda/lib/python3.12/site-packages/py4j/java_gateway.py:1321\u001b[0m, in \u001b[0;36mJavaMember.__call__\u001b[0;34m(self, *args)\u001b[0m\n\u001b[1;32m   1314\u001b[0m args_command, temp_args \u001b[38;5;241m=\u001b[39m \u001b[38;5;28mself\u001b[39m\u001b[38;5;241m.\u001b[39m_build_args(\u001b[38;5;241m*\u001b[39margs)\n\u001b[1;32m   1316\u001b[0m command \u001b[38;5;241m=\u001b[39m proto\u001b[38;5;241m.\u001b[39mCALL_COMMAND_NAME \u001b[38;5;241m+\u001b[39m\\\n\u001b[1;32m   1317\u001b[0m     \u001b[38;5;28mself\u001b[39m\u001b[38;5;241m.\u001b[39mcommand_header \u001b[38;5;241m+\u001b[39m\\\n\u001b[1;32m   1318\u001b[0m     args_command \u001b[38;5;241m+\u001b[39m\\\n\u001b[1;32m   1319\u001b[0m     proto\u001b[38;5;241m.\u001b[39mEND_COMMAND_PART\n\u001b[0;32m-> 1321\u001b[0m answer \u001b[38;5;241m=\u001b[39m \u001b[38;5;28;43mself\u001b[39;49m\u001b[38;5;241;43m.\u001b[39;49m\u001b[43mgateway_client\u001b[49m\u001b[38;5;241;43m.\u001b[39;49m\u001b[43msend_command\u001b[49m\u001b[43m(\u001b[49m\u001b[43mcommand\u001b[49m\u001b[43m)\u001b[49m\n\u001b[1;32m   1322\u001b[0m return_value \u001b[38;5;241m=\u001b[39m get_return_value(\n\u001b[1;32m   1323\u001b[0m     answer, \u001b[38;5;28mself\u001b[39m\u001b[38;5;241m.\u001b[39mgateway_client, \u001b[38;5;28mself\u001b[39m\u001b[38;5;241m.\u001b[39mtarget_id, \u001b[38;5;28mself\u001b[39m\u001b[38;5;241m.\u001b[39mname)\n\u001b[1;32m   1325\u001b[0m \u001b[38;5;28;01mfor\u001b[39;00m temp_arg \u001b[38;5;129;01min\u001b[39;00m temp_args:\n",
      "File \u001b[0;32m/opt/conda/lib/python3.12/site-packages/py4j/java_gateway.py:1038\u001b[0m, in \u001b[0;36mGatewayClient.send_command\u001b[0;34m(self, command, retry, binary)\u001b[0m\n\u001b[1;32m   1036\u001b[0m connection \u001b[38;5;241m=\u001b[39m \u001b[38;5;28mself\u001b[39m\u001b[38;5;241m.\u001b[39m_get_connection()\n\u001b[1;32m   1037\u001b[0m \u001b[38;5;28;01mtry\u001b[39;00m:\n\u001b[0;32m-> 1038\u001b[0m     response \u001b[38;5;241m=\u001b[39m \u001b[43mconnection\u001b[49m\u001b[38;5;241;43m.\u001b[39;49m\u001b[43msend_command\u001b[49m\u001b[43m(\u001b[49m\u001b[43mcommand\u001b[49m\u001b[43m)\u001b[49m\n\u001b[1;32m   1039\u001b[0m     \u001b[38;5;28;01mif\u001b[39;00m binary:\n\u001b[1;32m   1040\u001b[0m         \u001b[38;5;28;01mreturn\u001b[39;00m response, \u001b[38;5;28mself\u001b[39m\u001b[38;5;241m.\u001b[39m_create_connection_guard(connection)\n",
      "File \u001b[0;32m/opt/conda/lib/python3.12/site-packages/py4j/clientserver.py:511\u001b[0m, in \u001b[0;36mClientServerConnection.send_command\u001b[0;34m(self, command)\u001b[0m\n\u001b[1;32m    509\u001b[0m \u001b[38;5;28;01mtry\u001b[39;00m:\n\u001b[1;32m    510\u001b[0m     \u001b[38;5;28;01mwhile\u001b[39;00m \u001b[38;5;28;01mTrue\u001b[39;00m:\n\u001b[0;32m--> 511\u001b[0m         answer \u001b[38;5;241m=\u001b[39m smart_decode(\u001b[38;5;28;43mself\u001b[39;49m\u001b[38;5;241;43m.\u001b[39;49m\u001b[43mstream\u001b[49m\u001b[38;5;241;43m.\u001b[39;49m\u001b[43mreadline\u001b[49m\u001b[43m(\u001b[49m\u001b[43m)\u001b[49m[:\u001b[38;5;241m-\u001b[39m\u001b[38;5;241m1\u001b[39m])\n\u001b[1;32m    512\u001b[0m         logger\u001b[38;5;241m.\u001b[39mdebug(\u001b[38;5;124m\"\u001b[39m\u001b[38;5;124mAnswer received: \u001b[39m\u001b[38;5;132;01m{0}\u001b[39;00m\u001b[38;5;124m\"\u001b[39m\u001b[38;5;241m.\u001b[39mformat(answer))\n\u001b[1;32m    513\u001b[0m         \u001b[38;5;66;03m# Happens when a the other end is dead. There might be an empty\u001b[39;00m\n\u001b[1;32m    514\u001b[0m         \u001b[38;5;66;03m# answer before the socket raises an error.\u001b[39;00m\n",
      "File \u001b[0;32m/opt/conda/lib/python3.12/socket.py:720\u001b[0m, in \u001b[0;36mSocketIO.readinto\u001b[0;34m(self, b)\u001b[0m\n\u001b[1;32m    718\u001b[0m \u001b[38;5;28;01mwhile\u001b[39;00m \u001b[38;5;28;01mTrue\u001b[39;00m:\n\u001b[1;32m    719\u001b[0m     \u001b[38;5;28;01mtry\u001b[39;00m:\n\u001b[0;32m--> 720\u001b[0m         \u001b[38;5;28;01mreturn\u001b[39;00m \u001b[38;5;28;43mself\u001b[39;49m\u001b[38;5;241;43m.\u001b[39;49m\u001b[43m_sock\u001b[49m\u001b[38;5;241;43m.\u001b[39;49m\u001b[43mrecv_into\u001b[49m\u001b[43m(\u001b[49m\u001b[43mb\u001b[49m\u001b[43m)\u001b[49m\n\u001b[1;32m    721\u001b[0m     \u001b[38;5;28;01mexcept\u001b[39;00m timeout:\n\u001b[1;32m    722\u001b[0m         \u001b[38;5;28mself\u001b[39m\u001b[38;5;241m.\u001b[39m_timeout_occurred \u001b[38;5;241m=\u001b[39m \u001b[38;5;28;01mTrue\u001b[39;00m\n",
      "\u001b[0;31mKeyboardInterrupt\u001b[0m: "
     ]
    },
    {
     "name": "stderr",
     "output_type": "stream",
     "text": [
      "25/02/20 17:29:20 WARN KafkaOffsetReaderAdmin: Error in attempt 1 getting Kafka offsets: \n",
      "java.util.concurrent.ExecutionException: org.apache.kafka.common.errors.TimeoutException: Timed out waiting for a node assignment. Call: listOffsets on broker 1\n",
      "\tat java.base/java.util.concurrent.CompletableFuture.reportGet(CompletableFuture.java:396)\n",
      "\tat java.base/java.util.concurrent.CompletableFuture.get(CompletableFuture.java:2073)\n",
      "\tat org.apache.kafka.common.internals.KafkaFutureImpl.get(KafkaFutureImpl.java:165)\n",
      "\tat org.apache.spark.sql.kafka010.KafkaOffsetReaderAdmin.listOffsets(KafkaOffsetReaderAdmin.scala:88)\n",
      "\tat org.apache.spark.sql.kafka010.KafkaOffsetReaderAdmin.$anonfun$fetchLatestOffsets$1(KafkaOffsetReaderAdmin.scala:332)\n",
      "\tat org.apache.spark.sql.kafka010.KafkaOffsetReaderAdmin.$anonfun$partitionsAssignedToAdmin$1(KafkaOffsetReaderAdmin.scala:501)\n",
      "\tat org.apache.spark.sql.kafka010.KafkaOffsetReaderAdmin.withRetries(KafkaOffsetReaderAdmin.scala:518)\n",
      "\tat org.apache.spark.sql.kafka010.KafkaOffsetReaderAdmin.partitionsAssignedToAdmin(KafkaOffsetReaderAdmin.scala:498)\n",
      "\tat org.apache.spark.sql.kafka010.KafkaOffsetReaderAdmin.fetchLatestOffsets(KafkaOffsetReaderAdmin.scala:297)\n",
      "\tat org.apache.spark.sql.kafka010.KafkaMicroBatchStream.latestOffset(KafkaMicroBatchStream.scala:130)\n",
      "\tat org.apache.spark.sql.execution.streaming.MicroBatchExecution.$anonfun$constructNextBatch$4(MicroBatchExecution.scala:491)\n",
      "\tat org.apache.spark.sql.execution.streaming.ProgressReporter.reportTimeTaken(ProgressReporter.scala:427)\n",
      "\tat org.apache.spark.sql.execution.streaming.ProgressReporter.reportTimeTaken$(ProgressReporter.scala:425)\n",
      "\tat org.apache.spark.sql.execution.streaming.StreamExecution.reportTimeTaken(StreamExecution.scala:67)\n",
      "\tat org.apache.spark.sql.execution.streaming.MicroBatchExecution.$anonfun$constructNextBatch$2(MicroBatchExecution.scala:490)\n",
      "\tat scala.collection.TraversableLike.$anonfun$map$1(TraversableLike.scala:286)\n",
      "\tat scala.collection.Iterator.foreach(Iterator.scala:943)\n",
      "\tat scala.collection.Iterator.foreach$(Iterator.scala:943)\n",
      "\tat scala.collection.AbstractIterator.foreach(Iterator.scala:1431)\n",
      "\tat scala.collection.IterableLike.foreach(IterableLike.scala:74)\n",
      "\tat scala.collection.IterableLike.foreach$(IterableLike.scala:73)\n",
      "\tat scala.collection.AbstractIterable.foreach(Iterable.scala:56)\n",
      "\tat scala.collection.TraversableLike.map(TraversableLike.scala:286)\n",
      "\tat scala.collection.TraversableLike.map$(TraversableLike.scala:279)\n",
      "\tat scala.collection.AbstractTraversable.map(Traversable.scala:108)\n",
      "\tat org.apache.spark.sql.execution.streaming.MicroBatchExecution.$anonfun$constructNextBatch$1(MicroBatchExecution.scala:479)\n",
      "\tat scala.runtime.java8.JFunction0$mcZ$sp.apply(JFunction0$mcZ$sp.java:23)\n",
      "\tat org.apache.spark.sql.execution.streaming.MicroBatchExecution.withProgressLocked(MicroBatchExecution.scala:810)\n",
      "\tat org.apache.spark.sql.execution.streaming.MicroBatchExecution.constructNextBatch(MicroBatchExecution.scala:475)\n",
      "\tat org.apache.spark.sql.execution.streaming.MicroBatchExecution.$anonfun$runActivatedStream$2(MicroBatchExecution.scala:268)\n",
      "\tat scala.runtime.java8.JFunction0$mcV$sp.apply(JFunction0$mcV$sp.java:23)\n",
      "\tat org.apache.spark.sql.execution.streaming.ProgressReporter.reportTimeTaken(ProgressReporter.scala:427)\n",
      "\tat org.apache.spark.sql.execution.streaming.ProgressReporter.reportTimeTaken$(ProgressReporter.scala:425)\n",
      "\tat org.apache.spark.sql.execution.streaming.StreamExecution.reportTimeTaken(StreamExecution.scala:67)\n",
      "\tat org.apache.spark.sql.execution.streaming.MicroBatchExecution.$anonfun$runActivatedStream$1(MicroBatchExecution.scala:249)\n",
      "\tat org.apache.spark.sql.execution.streaming.ProcessingTimeExecutor.execute(TriggerExecutor.scala:67)\n",
      "\tat org.apache.spark.sql.execution.streaming.MicroBatchExecution.runActivatedStream(MicroBatchExecution.scala:239)\n",
      "\tat org.apache.spark.sql.execution.streaming.StreamExecution.$anonfun$runStream$1(StreamExecution.scala:311)\n",
      "\tat scala.runtime.java8.JFunction0$mcV$sp.apply(JFunction0$mcV$sp.java:23)\n",
      "\tat org.apache.spark.sql.SparkSession.withActive(SparkSession.scala:900)\n",
      "\tat org.apache.spark.sql.execution.streaming.StreamExecution.org$apache$spark$sql$execution$streaming$StreamExecution$$runStream(StreamExecution.scala:289)\n",
      "\tat org.apache.spark.sql.execution.streaming.StreamExecution$$anon$1.$anonfun$run$1(StreamExecution.scala:211)\n",
      "\tat scala.runtime.java8.JFunction0$mcV$sp.apply(JFunction0$mcV$sp.java:23)\n",
      "\tat org.apache.spark.JobArtifactSet$.withActiveJobArtifactState(JobArtifactSet.scala:94)\n",
      "\tat org.apache.spark.sql.execution.streaming.StreamExecution$$anon$1.run(StreamExecution.scala:211)\n",
      "Caused by: org.apache.kafka.common.errors.TimeoutException: Timed out waiting for a node assignment. Call: listOffsets on broker 1\n",
      "25/02/20 17:29:21 WARN AdminClientConfig: These configurations '[key.deserializer, value.deserializer, enable.auto.commit, max.poll.records, auto.offset.reset]' were supplied but are not used yet.\n"
     ]
    }
   ],
   "source": [
    "# Lecture en streaming depuis Kafka pour le topic relais\n",
    "df_kafka = sql_context.readStream \\\n",
    "    .format(\"kafka\") \\\n",
    "    .option(\"kafka.bootstrap.servers\", kafka_broker) \\\n",
    "    .option(\"subscribe\", relais_topic) \\\n",
    "    .option(\"startingOffsets\", \"latest\") \\\n",
    "    .load()\n",
    "\n",
    "# Conversion du champ \"value\" (JSON) en colonnes structurées\n",
    "df_relais = df_kafka.selectExpr(\"CAST(value AS STRING) AS message\") \\\n",
    "    .select(from_json(col(\"message\"), schema_relais).alias(\"data\")) \\\n",
    "    .select(\"data.*\")\n",
    "\n",
    "# Conversion du champ \"grp_horodatage\" en timestamp\n",
    "df_relais = df_relais.withColumn(\"horodatage_ts\", \n",
    "                                  to_timestamp(col(\"grp_horodatage\"), \"yyyy-MM-dd'T'HH:mm:ssXXX\"))\n",
    "\n",
    "# Définition d'un watermark de 5 minutes pour gérer les retards éventuels\n",
    "df_relais = df_relais.withWatermark(\"horodatage_ts\", \"5 minutes\")\n",
    "\n",
    "# Agrégation sur une fenêtre de 5 minutes par identifiant : calcul de la moyenne des disponibilités\n",
    "result_stream = df_relais.groupBy(\n",
    "    window(col(\"horodatage_ts\"), \"5 minutes\"),\n",
    "    col(\"grp_identifiant\")\n",
    ").agg(\n",
    "    avg(\"disponibilite\").alias(\"avg_disponibilite\")\n",
    ")\n",
    "\n",
    "# Préparation des données pour l'écriture dans Kafka :\n",
    "# On crée une colonne \"key\" avec grp_identifiant et une colonne \"value\" contenant un JSON.\n",
    "dashboard_relais_df = result_stream.select(\n",
    "    col(\"grp_identifiant\").cast(\"string\").alias(\"key\"),\n",
    "    to_json(struct(\n",
    "        col(\"window.start\").alias(\"window_start\"),\n",
    "        col(\"window.end\").alias(\"window_end\"),\n",
    "        col(\"grp_identifiant\"),\n",
    "        col(\"avg_disponibilite\")\n",
    "    )).alias(\"value\")\n",
    ")\n",
    "\n",
    "# Écriture du résultat en streaming vers le topic Kafka \"dashrelais\"\n",
    "query_relais = dashboard_relais_df.writeStream \\\n",
    "    .format(\"kafka\") \\\n",
    "    .option(\"kafka.bootstrap.servers\", kafka_broker) \\\n",
    "    .option(\"topic\", \"dashrelais\") \\\n",
    "    .option(\"checkpointLocation\", \"/tmp/checkpoint_relais\") \\\n",
    "    .outputMode(\"update\") \\\n",
    "    .start()\n",
    "\n",
    "query_relais.awaitTermination()"
   ]
  },
  {
   "cell_type": "code",
   "execution_count": null,
   "metadata": {},
   "outputs": [],
   "source": [
    "query_relais.stop()"
   ]
  },
  {
   "cell_type": "markdown",
   "metadata": {},
   "source": [
    "## MultiTopic Query"
   ]
  },
  {
   "cell_type": "code",
   "execution_count": 8,
   "metadata": {},
   "outputs": [
    {
     "name": "stderr",
     "output_type": "stream",
     "text": [
      "25/02/21 09:44:15 WARN SparkSession: Using an existing Spark session; only runtime SQL configurations will take effect.\n"
     ]
    }
   ],
   "source": [
    "from pyspark.sql import SparkSession\n",
    "import pyspark.sql.functions as F\n",
    "\n",
    "spark = SparkSession.builder \\\n",
    "    .appName(\"SparkApp2\") \\\n",
    "    .config(\"spark.jars.packages\", \"org.apache.spark:spark-sql-kafka-0-10_2.12:3.5.3\") \\\n",
    "    .getOrCreate()\n",
    "\n",
    "def read_kafka_stream(topic, schema, is_streaming=True):\n",
    "    if is_streaming:\n",
    "        df = spark.readStream.format(\"kafka\") \\\n",
    "            .option(\"kafka.bootstrap.servers\", kafka_broker) \\\n",
    "            .option(\"subscribe\", topic) \\\n",
    "            .option(\"startingOffsets\", \"earliest\") \\\n",
    "            .load()\n",
    "    else:\n",
    "        df = spark.read.format(\"kafka\") \\\n",
    "            .option(\"kafka.bootstrap.servers\", kafka_broker) \\\n",
    "            .option(\"subscribe\", topic) \\\n",
    "            .option(\"startingOffsets\", \"earliest\") \\\n",
    "            .load()\n",
    "    # Convert the binary \"value\" column to string and parse JSON using the provided schema.\n",
    "    df = df.selectExpr(\"CAST(value AS STRING) as json_string\")\n",
    "    df = df.select(F.from_json(F.col(\"json_string\"), schema).alias(\"data\")).select(\"data.*\")\n",
    "    return df\n"
   ]
  },
  {
   "cell_type": "code",
   "execution_count": 12,
   "metadata": {},
   "outputs": [
    {
     "name": "stdout",
     "output_type": "stream",
     "text": [
      ":: loading settings :: url = jar:file:/opt/conda/lib/python3.12/site-packages/pyspark/jars/ivy-2.5.1.jar!/org/apache/ivy/core/settings/ivysettings.xml\n",
      "Ivy Default Cache set to: /home/jovyan/.ivy2/cache\n",
      "The jars for the packages stored in: /home/jovyan/.ivy2/jars\n",
      "org.apache.spark#spark-sql-kafka-0-10_2.12 added as a dependency\n",
      ":: resolving dependencies :: org.apache.spark#spark-submit-parent-8be827f5-bff1-493f-a732-6212ad8a56d6;1.0\n",
      "\tconfs: [default]\n",
      "\tfound org.apache.spark#spark-sql-kafka-0-10_2.12;3.2.1 in central\n",
      "\tfound org.apache.spark#spark-token-provider-kafka-0-10_2.12;3.2.1 in central\n",
      "\tfound org.apache.kafka#kafka-clients;2.8.0 in central\n",
      "\tfound org.lz4#lz4-java;1.7.1 in central\n",
      "\tfound org.xerial.snappy#snappy-java;1.1.8.4 in central\n",
      "\tfound org.slf4j#slf4j-api;1.7.30 in central\n",
      "\tfound org.apache.hadoop#hadoop-client-runtime;3.3.1 in central\n",
      "\tfound org.spark-project.spark#unused;1.0.0 in central\n",
      "\tfound org.apache.hadoop#hadoop-client-api;3.3.1 in central\n",
      "\tfound org.apache.htrace#htrace-core4;4.1.0-incubating in central\n",
      "\tfound commons-logging#commons-logging;1.1.3 in central\n",
      "\tfound com.google.code.findbugs#jsr305;3.0.0 in central\n",
      "\tfound org.apache.commons#commons-pool2;2.6.2 in central\n",
      "downloading https://repo1.maven.org/maven2/org/apache/spark/spark-sql-kafka-0-10_2.12/3.2.1/spark-sql-kafka-0-10_2.12-3.2.1.jar ...\n",
      "\t[SUCCESSFUL ] org.apache.spark#spark-sql-kafka-0-10_2.12;3.2.1!spark-sql-kafka-0-10_2.12.jar (222ms)\n",
      "downloading https://repo1.maven.org/maven2/org/apache/spark/spark-token-provider-kafka-0-10_2.12/3.2.1/spark-token-provider-kafka-0-10_2.12-3.2.1.jar ...\n",
      "\t[SUCCESSFUL ] org.apache.spark#spark-token-provider-kafka-0-10_2.12;3.2.1!spark-token-provider-kafka-0-10_2.12.jar (109ms)\n",
      "downloading https://repo1.maven.org/maven2/org/apache/kafka/kafka-clients/2.8.0/kafka-clients-2.8.0.jar ...\n",
      "\t[SUCCESSFUL ] org.apache.kafka#kafka-clients;2.8.0!kafka-clients.jar (1826ms)\n",
      "downloading https://repo1.maven.org/maven2/org/apache/commons/commons-pool2/2.6.2/commons-pool2-2.6.2.jar ...\n",
      "\t[SUCCESSFUL ] org.apache.commons#commons-pool2;2.6.2!commons-pool2.jar (102ms)\n",
      "downloading https://repo1.maven.org/maven2/org/spark-project/spark/unused/1.0.0/unused-1.0.0.jar ...\n",
      "\t[SUCCESSFUL ] org.spark-project.spark#unused;1.0.0!unused.jar (60ms)\n",
      "downloading https://repo1.maven.org/maven2/org/apache/hadoop/hadoop-client-runtime/3.3.1/hadoop-client-runtime-3.3.1.jar ...\n",
      "\t[SUCCESSFUL ] org.apache.hadoop#hadoop-client-runtime;3.3.1!hadoop-client-runtime.jar (9513ms)\n",
      "downloading https://repo1.maven.org/maven2/org/lz4/lz4-java/1.7.1/lz4-java-1.7.1.jar ...\n",
      "\t[SUCCESSFUL ] org.lz4#lz4-java;1.7.1!lz4-java.jar (253ms)\n",
      "downloading https://repo1.maven.org/maven2/org/xerial/snappy/snappy-java/1.1.8.4/snappy-java-1.1.8.4.jar ...\n",
      "\t[SUCCESSFUL ] org.xerial.snappy#snappy-java;1.1.8.4!snappy-java.jar(bundle) (644ms)\n",
      "downloading https://repo1.maven.org/maven2/org/slf4j/slf4j-api/1.7.30/slf4j-api-1.7.30.jar ...\n",
      "\t[SUCCESSFUL ] org.slf4j#slf4j-api;1.7.30!slf4j-api.jar (57ms)\n",
      "downloading https://repo1.maven.org/maven2/org/apache/hadoop/hadoop-client-api/3.3.1/hadoop-client-api-3.3.1.jar ...\n",
      "\t[SUCCESSFUL ] org.apache.hadoop#hadoop-client-api;3.3.1!hadoop-client-api.jar (6716ms)\n",
      "downloading https://repo1.maven.org/maven2/org/apache/htrace/htrace-core4/4.1.0-incubating/htrace-core4-4.1.0-incubating.jar ...\n",
      "\t[SUCCESSFUL ] org.apache.htrace#htrace-core4;4.1.0-incubating!htrace-core4.jar (608ms)\n",
      ":: resolution report :: resolve 9353ms :: artifacts dl 20132ms\n",
      "\t:: modules in use:\n",
      "\tcom.google.code.findbugs#jsr305;3.0.0 from central in [default]\n",
      "\tcommons-logging#commons-logging;1.1.3 from central in [default]\n",
      "\torg.apache.commons#commons-pool2;2.6.2 from central in [default]\n",
      "\torg.apache.hadoop#hadoop-client-api;3.3.1 from central in [default]\n",
      "\torg.apache.hadoop#hadoop-client-runtime;3.3.1 from central in [default]\n",
      "\torg.apache.htrace#htrace-core4;4.1.0-incubating from central in [default]\n",
      "\torg.apache.kafka#kafka-clients;2.8.0 from central in [default]\n",
      "\torg.apache.spark#spark-sql-kafka-0-10_2.12;3.2.1 from central in [default]\n",
      "\torg.apache.spark#spark-token-provider-kafka-0-10_2.12;3.2.1 from central in [default]\n",
      "\torg.lz4#lz4-java;1.7.1 from central in [default]\n",
      "\torg.slf4j#slf4j-api;1.7.30 from central in [default]\n",
      "\torg.spark-project.spark#unused;1.0.0 from central in [default]\n",
      "\torg.xerial.snappy#snappy-java;1.1.8.4 from central in [default]\n",
      "\t---------------------------------------------------------------------\n",
      "\t|                  |            modules            ||   artifacts   |\n",
      "\t|       conf       | number| search|dwnlded|evicted|| number|dwnlded|\n",
      "\t---------------------------------------------------------------------\n",
      "\t|      default     |   13  |   11  |   11  |   0   ||   13  |   11  |\n",
      "\t---------------------------------------------------------------------\n",
      ":: retrieving :: org.apache.spark#spark-submit-parent-8be827f5-bff1-493f-a732-6212ad8a56d6\n",
      "\tconfs: [default]\n",
      "\t11 artifacts copied, 2 already retrieved (59088kB/1320ms)\n",
      "25/02/21 09:36:42 WARN NativeCodeLoader: Unable to load native-hadoop library for your platform... using builtin-java classes where applicable\n",
      "python3: can't open file '/home/jovyan/your_script.py': [Errno 2] No such file or directory\n",
      "25/02/21 09:36:43 INFO ShutdownHookManager: Shutdown hook called\n",
      "25/02/21 09:36:43 INFO ShutdownHookManager: Deleting directory /tmp/spark-0b44641f-57df-478f-8f48-9a8139ab341a\n"
     ]
    }
   ],
   "source": [
    "!spark-submit --packages org.apache.spark:spark-sql-kafka-0-10_2.12:3.2.1 your_script.py"
   ]
  },
  {
   "cell_type": "code",
   "execution_count": 9,
   "metadata": {},
   "outputs": [],
   "source": [
    "df_arrets = read_kafka_stream(arrets_topic, schema_arrets, is_streaming=False)\n",
    "df_velos = read_kafka_stream(velos_topic, schema_velos, is_streaming=False)\n",
    "df_relais = read_kafka_stream(relais_topic, schema_relais, is_streaming=False)\n",
    "df_parking = read_kafka_stream(\"parking_public\", schema_parking_public, is_streaming=False)"
   ]
  },
  {
   "cell_type": "code",
   "execution_count": 14,
   "metadata": {},
   "outputs": [
    {
     "name": "stderr",
     "output_type": "stream",
     "text": [
      "25/02/21 09:48:07 WARN SimpleFunctionRegistry: The function haversine replaced a previously registered function.\n"
     ]
    },
    {
     "data": {
      "text/plain": [
       "<pyspark.sql.udf.UserDefinedFunction at 0x7fd5859e9190>"
      ]
     },
     "execution_count": 14,
     "metadata": {},
     "output_type": "execute_result"
    }
   ],
   "source": [
    "from pyspark.sql import functions as F\n",
    "from math import radians, sin, cos, sqrt, atan2\n",
    "\n",
    "\n",
    "# Define Python function\n",
    "def haversine(lon1, lat1, lon2, lat2):\n",
    "    lon1, lat1, lon2, lat2 = map(radians, [lon1, lat1, lon2, lat2])\n",
    "    dlon = lon2 - lon1\n",
    "    dlat = lat2 - lat1\n",
    "    a = sin(dlat/2)**2 + cos(lat1) * cos(lat2) * sin(dlon/2)**2\n",
    "    return 6371 * 2 * atan2(sqrt(a), sqrt(1-a))  # Earth radius in km\n",
    "\n",
    "# Create Spark UDF\n",
    "haversine_udf = F.udf(haversine, DoubleType())\n",
    "\n",
    "# Register for SparkSQL\n",
    "spark.udf.register(\"haversine\", haversine_udf)"
   ]
  },
  {
   "cell_type": "code",
   "execution_count": 15,
   "metadata": {},
   "outputs": [
    {
     "name": "stderr",
     "output_type": "stream",
     "text": [
      "25/02/21 09:48:11 WARN AdminClientConfig: These configurations '[key.deserializer, value.deserializer, enable.auto.commit, max.poll.records, auto.offset.reset]' were supplied but are not used yet.\n",
      "25/02/21 09:48:11 WARN AdminClientConfig: These configurations '[key.deserializer, value.deserializer, enable.auto.commit, max.poll.records, auto.offset.reset]' were supplied but are not used yet.\n",
      "25/02/21 09:48:11 WARN AdminClientConfig: These configurations '[key.deserializer, value.deserializer, enable.auto.commit, max.poll.records, auto.offset.reset]' were supplied but are not used yet.\n",
      "                                                                                \r"
     ]
    },
    {
     "name": "stdout",
     "output_type": "stream",
     "text": [
      "+----------------------+------------------+---------------+-------------------+------------------+\n",
      "|location_name         |avg_bikes         |nearby_stations|lon                |lat               |\n",
      "+----------------------+------------------+---------------+-------------------+------------------+\n",
      "|Feydeau               |7.957361758827449 |15             |-1.552558781000016 |47.21407529499999 |\n",
      "|Decré-Bouffay         |7.809766022380468 |17             |-1.5540046290000191|47.21666261299998 |\n",
      "|Tour Bretagne         |9.498575498575498 |20             |-1.5582500169999776|47.21784288800001 |\n",
      "|Graslin               |10.693508627773213|13             |-1.562571814000023 |47.214310205000004|\n",
      "|Aristide Briand       |11.393553223388306|14             |-1.5629364160000137|47.21709359800002 |\n",
      "|Médiathèque           |8.078271028037383 |10             |-1.56233817399999  |47.210870821000015|\n",
      "|Commerce              |9.235294117647058 |15             |-1.557713217000014 |47.21312028       |\n",
      "|Talensac              |9.678206583427922 |16             |-1.5583572969999864|47.220255974      |\n",
      "|Cité des Congrès      |11.292656587473003|9              |-1.5439712740000004|47.212901665000004|\n",
      "|Cathédrale            |6.735433070866142 |12             |-1.5510561649999772|47.22081334400002 |\n",
      "|Les machines          |4.112852664576803 |4              |-1.5627277899999967|47.20590061600001 |\n",
      "|Descartes             |11.266666666666667|11             |-1.5643645260000199|47.21718884799998 |\n",
      "|Gloriette 1           |8.03076923076923  |11             |-1.5584387270000093|47.21117964899997 |\n",
      "|Hôtel Dieu            |6.327886710239651 |10             |-1.5519831099999806|47.21105707999999 |\n",
      "|Gare Sud 2 : Limité 1h|11.97016706443914 |7              |-1.5405805820000182|47.21370471099999 |\n",
      "|CHU 1                 |7.284153005464481 |9              |-1.5572502320000012|47.20936196600002 |\n",
      "|Gare Nord             |10.960637300843487|11             |-1.5449843310000233|47.21668903400001 |\n",
      "|Gare Sud 3            |13.14526588845655 |7              |-1.539256308000006 |47.21491533400001 |\n",
      "|Bellamy               |8.165998396150762 |11             |-1.5576936900000078|47.222360408999975|\n",
      "|Gare Sud 4            |11.929226736566186|7              |-1.5379338930000017|47.21510336       |\n",
      "+----------------------+------------------+---------------+-------------------+------------------+\n",
      "only showing top 20 rows\n",
      "\n"
     ]
    }
   ],
   "source": [
    "parking_bike_analysis = (\n",
    "    df_parking.alias(\"parking\")\n",
    "    .filter(F.col(\"parking.grp_complet\") != 1)\n",
    "    .join(\n",
    "        df_velos.alias(\"velo\"),\n",
    "        [\n",
    "            (F.abs(F.col(\"parking.location.lon\") - F.col(\"velo.position.lon\")) <= 0.01),\n",
    "            (F.abs(F.col(\"parking.location.lat\") - F.col(\"velo.position.lat\")) <= 0.01)\n",
    "        ]\n",
    "    )\n",
    "    .withColumn(\"distance_km\", haversine_udf(\n",
    "        F.col(\"parking.location.lon\"), \n",
    "        F.col(\"parking.location.lat\"),\n",
    "        F.col(\"velo.position.lon\"),\n",
    "        F.col(\"velo.position.lat\")\n",
    "    ))\n",
    "    .filter(F.col(\"distance_km\") <= 0.5)\n",
    "    .groupBy(\"parking.grp_identifiant\")\n",
    "    .agg(\n",
    "        F.avg(\"velo.available_bikes\").alias(\"avg_bikes\"),\n",
    "        F.count_distinct(\"velo.number\").alias(\"nearby_stations\"),\n",
    "        F.first(\"parking.location.lon\").alias(\"parking_lon\"),\n",
    "        F.first(\"parking.location.lat\").alias(\"parking_lat\"),\n",
    "        F.first(\"parking.grp_nom\").alias(\"parking_grp_nom\")  # Get parking's own name\n",
    "    )\n",
    "    .join(\n",
    "        df_relais.alias(\"relais\"), \n",
    "        \"grp_identifiant\", \n",
    "        \"left\"\n",
    "    )\n",
    "    .select(\n",
    "        F.coalesce(\n",
    "            \"relais.grp_nom\", \n",
    "            \"parking_grp_nom\", \n",
    "            F.concat(F.lit(\"Parking \"), \"grp_identifiant\")\n",
    "        ).alias(\"location_name\"),  # Fixed parenthesis and alias position\n",
    "        \"avg_bikes\",\n",
    "        \"nearby_stations\",\n",
    "        F.coalesce(\"relais.location.lon\", \"parking_lon\").alias(\"lon\"),\n",
    "        F.coalesce(\"relais.location.lat\", \"parking_lat\").alias(\"lat\")\n",
    "    )\n",
    ")\n",
    "\n",
    "parking_bike_analysis.show(truncate=False)"
   ]
  },
  {
   "cell_type": "code",
   "execution_count": 16,
   "metadata": {},
   "outputs": [
    {
     "name": "stderr",
     "output_type": "stream",
     "text": [
      "25/02/21 09:49:54 WARN AdminClientConfig: These configurations '[key.deserializer, value.deserializer, enable.auto.commit, max.poll.records, auto.offset.reset]' were supplied but are not used yet.\n",
      "25/02/21 09:49:54 WARN AdminClientConfig: These configurations '[key.deserializer, value.deserializer, enable.auto.commit, max.poll.records, auto.offset.reset]' were supplied but are not used yet.\n",
      "[Stage 26:=============================>                            (2 + 2) / 4]\r"
     ]
    },
    {
     "name": "stdout",
     "output_type": "stream",
     "text": [
      "+---------------+----------------------+------------------+---------------------+\n",
      "|grp_identifiant|grp_nom               |avg_bike_deficit  |total_available_bikes|\n",
      "+---------------+----------------------+------------------+---------------------+\n",
      "|040            |Fonderies             |13.435897435897436|366158               |\n",
      "|009            |Cité des Congrès      |14.66044029352902 |607022               |\n",
      "|006            |Médiathèque           |12.215535524920467|868244               |\n",
      "|001            |Feydeau               |13.697695642254164|976170               |\n",
      "|021            |Gare Nord             |14.528272414870353|650676               |\n",
      "|008            |Talensac              |9.853158137390503 |987142               |\n",
      "|005            |Aristide Briand       |10.329298418972332|958412               |\n",
      "|016            |Gare Sud 2 : Limité 1h|16.054361567635905|462696               |\n",
      "|002            |Decré-Bouffay         |11.756201881950386|970398               |\n",
      "|044            |Gare Sud 2            |17.863574351978173|367042               |\n",
      "|012            |Descartes             |9.64272160477094  |887198               |\n",
      "|027            |Gare Sud 3            |15.858652575957727|481494               |\n",
      "|042            |CHU 2                 |14.124563445867288|668460               |\n",
      "|047            |Les Nefs              |13.316626506024097|391664               |\n",
      "|004            |Graslin               |11.056187938968273|979446               |\n",
      "|034            |Gare Sud 4            |16.169291338582678|432978               |\n",
      "|003            |Tour Bretagne         |10.562115891132573|1004536              |\n",
      "|029            |Bellamy               |8.555945945945947 |857480               |\n",
      "|017            |CHU 1                 |12.194422097076965|790374               |\n",
      "|037            |Gloriette 2           |11.71647406611126 |876382               |\n",
      "+---------------+----------------------+------------------+---------------------+\n",
      "only showing top 20 rows\n",
      "\n"
     ]
    },
    {
     "name": "stderr",
     "output_type": "stream",
     "text": [
      "                                                                                \r"
     ]
    }
   ],
   "source": [
    "parking_velos_deficit = (\n",
    "    df_parking.alias(\"parking\")\n",
    "    .filter(F.col(\"grp_complet\") != 1)\n",
    "    .join(\n",
    "         df_velos.alias(\"velo\"),\n",
    "         (F.abs(F.col(\"parking.location.lon\") - F.col(\"velo.position.lon\")) <= 0.01) &\n",
    "         (F.abs(F.col(\"parking.location.lat\") - F.col(\"velo.position.lat\")) <= 0.01)\n",
    "    )\n",
    "    .withColumn(\"bike_deficit\", F.col(\"velo.bike_stands\") - F.col(\"velo.available_bikes\"))\n",
    "    .groupBy(\"parking.grp_identifiant\", \"parking.grp_nom\")\n",
    "    .agg(\n",
    "         F.avg(\"bike_deficit\").alias(\"avg_bike_deficit\"),\n",
    "         F.sum(\"velo.available_bikes\").alias(\"total_available_bikes\")\n",
    "    )\n",
    ")\n",
    "\n",
    "parking_velos_deficit.show(truncate=False)"
   ]
  },
  {
   "cell_type": "code",
   "execution_count": 19,
   "metadata": {},
   "outputs": [
    {
     "name": "stderr",
     "output_type": "stream",
     "text": [
      "25/02/21 09:53:26 WARN ExtractPythonUDFFromJoinCondition: The join condition:(haversine(location#1598.lon, location#1598.lat, position#1631.lon, position#1631.lat)#1674 <= 0.5) of the join plan contains PythonUDF only, it will be moved out and the join plan will be turned to cross join.\n",
      "25/02/21 09:53:26 WARN AdminClientConfig: These configurations '[key.deserializer, value.deserializer, enable.auto.commit, max.poll.records, auto.offset.reset]' were supplied but are not used yet.\n",
      "25/02/21 09:53:27 WARN AdminClientConfig: These configurations '[key.deserializer, value.deserializer, enable.auto.commit, max.poll.records, auto.offset.reset]' were supplied but are not used yet.\n",
      "25/02/21 09:53:27 WARN WindowExec: No Partition Defined for Window operation! Moving all data to a single partition, this can cause serious performance degradation.\n",
      "25/02/21 09:53:27 WARN WindowExec: No Partition Defined for Window operation! Moving all data to a single partition, this can cause serious performance degradation.\n",
      "25/02/21 09:53:27 WARN WindowExec: No Partition Defined for Window operation! Moving all data to a single partition, this can cause serious performance degradation.\n",
      "25/02/21 09:54:42 WARN WindowExec: No Partition Defined for Window operation! Moving all data to a single partition, this can cause serious performance degradation.\n",
      "25/02/21 09:54:42 WARN WindowExec: No Partition Defined for Window operation! Moving all data to a single partition, this can cause serious performance degradation.\n",
      "25/02/21 09:54:42 WARN WindowExec: No Partition Defined for Window operation! Moving all data to a single partition, this can cause serious performance degradation.\n",
      "25/02/21 09:54:42 WARN WindowExec: No Partition Defined for Window operation! Moving all data to a single partition, this can cause serious performance degradation.\n",
      "25/02/21 09:54:42 WARN WindowExec: No Partition Defined for Window operation! Moving all data to a single partition, this can cause serious performance degradation.\n",
      "25/02/21 09:54:42 WARN WindowExec: No Partition Defined for Window operation! Moving all data to a single partition, this can cause serious performance degradation.\n"
     ]
    },
    {
     "name": "stdout",
     "output_type": "stream",
     "text": [
      "+---------------+-------------+------------------+------------+----+\n",
      "|grp_identifiant|grp_nom      |avg_bikes         |num_stations|rank|\n",
      "+---------------+-------------+------------------+------------+----+\n",
      "|140            |P+R Huit Mai |14.157303370786517|2           |1   |\n",
      "|144            |P+R Gréneraie|6.155963302752293 |2           |2   |\n",
      "+---------------+-------------+------------------+------------+----+\n",
      "\n"
     ]
    },
    {
     "name": "stderr",
     "output_type": "stream",
     "text": [
      "                                                                                \r"
     ]
    }
   ],
   "source": [
    "from pyspark.sql.window import Window\n",
    "\n",
    "parking_ranking = (\n",
    "    read_kafka_stream(relais_topic, schema_relais, False).alias(\"relais\")\n",
    "    .crossJoin(read_kafka_stream(velos_topic, schema_velos, False).alias(\"velo\"))\n",
    "    .withColumn(\"distance_km\", haversine_udf(\n",
    "        F.col(\"relais.location.lon\"),\n",
    "        F.col(\"relais.location.lat\"),\n",
    "        F.col(\"velo.position.lon\"),\n",
    "        F.col(\"velo.position.lat\")\n",
    "    ))\n",
    "    .filter(F.col(\"distance_km\") <= 0.5)\n",
    "    .groupBy(\"relais.grp_identifiant\", \"relais.grp_nom\")\n",
    "    .agg(\n",
    "        F.avg(\"velo.available_bikes\").alias(\"avg_bikes\"),\n",
    "        F.count_distinct(\"velo.number\").alias(\"num_stations\")\n",
    "    )\n",
    "    .withColumn(\"rank\", \n",
    "               F.dense_rank().over(Window.orderBy(F.desc(\"avg_bikes\")))\n",
    "    )\n",
    "    .orderBy(\"rank\")\n",
    ")\n",
    "\n",
    "parking_ranking.show(truncate=False)"
   ]
  },
  {
   "cell_type": "markdown",
   "metadata": {},
   "source": [
    "### Avec affichage graphique"
   ]
  },
  {
   "cell_type": "code",
   "execution_count": 20,
   "metadata": {},
   "outputs": [
    {
     "name": "stderr",
     "output_type": "stream",
     "text": [
      "25/02/21 09:56:45 WARN AdminClientConfig: These configurations '[key.deserializer, value.deserializer, enable.auto.commit, max.poll.records, auto.offset.reset]' were supplied but are not used yet.\n",
      "25/02/21 09:56:45 WARN AdminClientConfig: These configurations '[key.deserializer, value.deserializer, enable.auto.commit, max.poll.records, auto.offset.reset]' were supplied but are not used yet.\n",
      "                                                                                \r"
     ]
    },
    {
     "data": {
      "image/png": "[encoded data removed]",
      "text/plain": [
       "<Figure size 1000x600 with 1 Axes>"
      ]
     },
     "metadata": {},
     "output_type": "display_data"
    }
   ],
   "source": [
    "relays_efficiency = (\n",
    "    df_relais.alias(\"rel\")\n",
    "    .join(\n",
    "         df_velos.alias(\"velo\"),\n",
    "         (F.abs(F.col(\"rel.location.lon\") - F.col(\"velo.position.lon\")) <= 0.01) &\n",
    "         (F.abs(F.col(\"rel.location.lat\") - F.col(\"velo.position.lat\")) <= 0.01)\n",
    "    )\n",
    "    .withColumn(\"bike_efficiency\", F.col(\"velo.available_bikes\") / F.col(\"velo.bike_stands\"))\n",
    "    .groupBy(\"rel.grp_nom\")\n",
    "    .agg(F.avg(\"bike_efficiency\").alias(\"avg_bike_efficiency\"))\n",
    ")\n",
    "\n",
    "relays_efficiency_pd = relays_efficiency.toPandas()\n",
    "\n",
    "plt.figure(figsize=(10, 6))\n",
    "sns.barplot(data=relays_efficiency_pd, x=\"grp_nom\", y=\"avg_bike_efficiency\")\n",
    "plt.title(\"Average Bike Efficiency by Relais Station\")\n",
    "plt.xlabel(\"Relais Station Name\")\n",
    "plt.ylabel(\"Average Bike Efficiency (Available/Bike Stands)\")\n",
    "plt.xticks(rotation=45)\n",
    "plt.tight_layout()\n",
    "plt.show()\n"
   ]
  },
  {
   "cell_type": "markdown",
   "metadata": {},
   "source": [
    "## Spark SQL"
   ]
  },
  {
   "cell_type": "code",
   "execution_count": 17,
   "metadata": {},
   "outputs": [
    {
     "name": "stderr",
     "output_type": "stream",
     "text": [
      "25/02/21 09:51:29 WARN AdminClientConfig: These configurations '[key.deserializer, value.deserializer, enable.auto.commit, max.poll.records, auto.offset.reset]' were supplied but are not used yet.\n",
      "25/02/21 09:51:29 WARN AdminClientConfig: These configurations '[key.deserializer, value.deserializer, enable.auto.commit, max.poll.records, auto.offset.reset]' were supplied but are not used yet.\n",
      "[Stage 29:=============================>                            (2 + 2) / 4]\r"
     ]
    },
    {
     "name": "stdout",
     "output_type": "stream",
     "text": [
      "+---------------+---------------+--------------------+-------------------+\n",
      "|grp_identifiant|grp_nom        |nearby_bike_stations|avg_available_bikes|\n",
      "+---------------+---------------+--------------------+-------------------+\n",
      "|044            |Gare Sud 2     |17                  |9.629604365620736  |\n",
      "|012            |Descartes      |38                  |9.2499322309569    |\n",
      "|004            |Graslin        |43                  |9.12351658997336   |\n",
      "|005            |Aristide Briand|41                  |9.106225296442688  |\n",
      "|037            |Gloriette 2    |39                  |9.058586401504972  |\n",
      "|029            |Bellamy        |38                  |8.913513513513514  |\n",
      "|006            |Médiathèque    |39                  |8.853128313891835  |\n",
      "|010            |Cathédrale     |42                  |8.799610894941635  |\n",
      "|008            |Talensac       |42                  |8.752189949285386  |\n",
      "|015            |Hôtel Dieu     |41                  |8.567834237789837  |\n",
      "|001            |Feydeau        |45                  |8.566050650239562  |\n",
      "|036            |Baco-LU 2      |46                  |8.540658382385     |\n",
      "|003            |Tour Bretagne  |45                  |8.480245829675154  |\n",
      "|035            |Baco-LU 1      |42                  |8.47961213326703   |\n",
      "|007            |Commerce       |46                  |8.408064869603331  |\n",
      "|014            |Gloriette 1    |43                  |8.24243158149673   |\n",
      "|034            |Gare Sud 4     |23                  |8.195374015748031  |\n",
      "|027            |Gare Sud 3     |25                  |8.154557463672392  |\n",
      "|017            |CHU 1          |39                  |8.152051488334674  |\n",
      "|002            |Decré-Bouffay  |49                  |7.981822070145423  |\n",
      "+---------------+---------------+--------------------+-------------------+\n",
      "only showing top 20 rows\n",
      "\n"
     ]
    },
    {
     "name": "stderr",
     "output_type": "stream",
     "text": [
      "                                                                                \r"
     ]
    }
   ],
   "source": [
    "df_parking.createOrReplaceTempView(\"parking\")\n",
    "df_velos.createOrReplaceTempView(\"velos\")\n",
    "\n",
    "result = spark.sql(\"\"\"\n",
    "SELECT \n",
    "    p.grp_identifiant,\n",
    "    p.grp_nom,\n",
    "    COUNT(DISTINCT v.number) AS nearby_bike_stations,\n",
    "    AVG(v.available_bikes) AS avg_available_bikes\n",
    "FROM parking p\n",
    "JOIN velos v\n",
    "  ON ABS(p.location.lon - v.position.lon) <= 0.01\n",
    "     AND ABS(p.location.lat - v.position.lat) <= 0.01\n",
    "WHERE p.grp_complet <> 1\n",
    "GROUP BY p.grp_identifiant, p.grp_nom\n",
    "ORDER BY avg_available_bikes DESC\n",
    "\"\"\")\n",
    "\n",
    "result.show(truncate=False)\n"
   ]
  }
 ],
 "metadata": {
  "kernelspec": {
   "display_name": "Python 3 (ipykernel)",
   "language": "python",
   "name": "python3"
  },
  "language_info": {
   "codemirror_mode": {
    "name": "ipython",
    "version": 3
   },
   "file_extension": ".py",
   "mimetype": "text/x-python",
   "name": "python",
   "nbconvert_exporter": "python",
   "pygments_lexer": "ipython3",
   "version": "3.12.8"
  }
 },
 "nbformat": 4,
 "nbformat_minor": 2
}
