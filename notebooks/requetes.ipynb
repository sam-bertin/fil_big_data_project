{
 "cells": [
  {
   "cell_type": "markdown",
   "metadata": {},
   "source": [
    "## Configuration Spark"
   ]
  },
  {
   "cell_type": "code",
   "execution_count": 1,
   "metadata": {},
   "outputs": [
    {
     "name": "stdout",
     "output_type": "stream",
     "text": [
      "Connexion réussie à kafka1:9092\n"
     ]
    }
   ],
   "source": [
    "import socket\n",
    "\n",
    "def check_port(host, port):\n",
    "    sock = socket.socket(socket.AF_INET, socket.SOCK_STREAM)\n",
    "    sock.settimeout(5)  # Timeout de 5 secondes\n",
    "    result = sock.connect_ex((host, port))\n",
    "    if result == 0:\n",
    "        print(f\"Connexion réussie à {host}:{port}\")\n",
    "    else:\n",
    "        print(f\"Impossible de se connecter à {host}:{port}\")\n",
    "    sock.close()\n",
    "\n",
    "check_port(\"kafka1\", 9092)\n"
   ]
  },
  {
   "cell_type": "code",
   "execution_count": null,
   "metadata": {},
   "outputs": [
    {
     "name": "stdout",
     "output_type": "stream",
     "text": [
      ":: loading settings :: url = jar:file:/opt/conda/lib/python3.12/site-packages/pyspark/jars/ivy-2.5.1.jar!/org/apache/ivy/core/settings/ivysettings.xml\n"
     ]
    },
    {
     "name": "stderr",
     "output_type": "stream",
     "text": [
      "Ivy Default Cache set to: /home/jovyan/.ivy2/cache\n",
      "The jars for the packages stored in: /home/jovyan/.ivy2/jars\n",
      "org.apache.hadoop#hadoop-aws added as a dependency\n",
      "org.apache.spark#spark-sql-kafka-0-10_2.12 added as a dependency\n",
      ":: resolving dependencies :: org.apache.spark#spark-submit-parent-6dfb1719-6399-4645-af4b-f6998bdcb3a3;1.0\n",
      "\tconfs: [default]\n",
      "\tfound org.apache.hadoop#hadoop-aws;3.3.4 in central\n",
      "\tfound com.amazonaws#aws-java-sdk-bundle;1.12.262 in central\n",
      "\tfound org.wildfly.openssl#wildfly-openssl;1.0.7.Final in central\n",
      "\tfound org.apache.spark#spark-sql-kafka-0-10_2.12;3.5.3 in central\n",
      "\tfound org.apache.spark#spark-token-provider-kafka-0-10_2.12;3.5.3 in central\n",
      "\tfound org.apache.kafka#kafka-clients;3.4.1 in central\n",
      "\tfound org.lz4#lz4-java;1.8.0 in central\n",
      "\tfound org.xerial.snappy#snappy-java;1.1.10.5 in central\n",
      "\tfound org.slf4j#slf4j-api;2.0.7 in central\n",
      "\tfound org.apache.hadoop#hadoop-client-runtime;3.3.4 in central\n",
      "\tfound org.apache.hadoop#hadoop-client-api;3.3.4 in central\n",
      "\tfound commons-logging#commons-logging;1.1.3 in central\n",
      "\tfound com.google.code.findbugs#jsr305;3.0.0 in central\n",
      "\tfound org.apache.commons#commons-pool2;2.11.1 in central\n",
      "downloading https://repo1.maven.org/maven2/org/apache/hadoop/hadoop-aws/3.3.4/hadoop-aws-3.3.4.jar ...\n",
      "\t[SUCCESSFUL ] org.apache.hadoop#hadoop-aws;3.3.4!hadoop-aws.jar (610ms)\n",
      "downloading https://repo1.maven.org/maven2/org/apache/spark/spark-sql-kafka-0-10_2.12/3.5.3/spark-sql-kafka-0-10_2.12-3.5.3.jar ...\n",
      "\t[SUCCESSFUL ] org.apache.spark#spark-sql-kafka-0-10_2.12;3.5.3!spark-sql-kafka-0-10_2.12.jar (327ms)\n",
      "downloading https://repo1.maven.org/maven2/com/amazonaws/aws-java-sdk-bundle/1.12.262/aws-java-sdk-bundle-1.12.262.jar ...\n",
      "\t[SUCCESSFUL ] com.amazonaws#aws-java-sdk-bundle;1.12.262!aws-java-sdk-bundle.jar (149157ms)\n",
      "downloading https://repo1.maven.org/maven2/org/wildfly/openssl/wildfly-openssl/1.0.7.Final/wildfly-openssl-1.0.7.Final.jar ...\n",
      "\t[SUCCESSFUL ] org.wildfly.openssl#wildfly-openssl;1.0.7.Final!wildfly-openssl.jar (845ms)\n",
      "downloading https://repo1.maven.org/maven2/org/apache/spark/spark-token-provider-kafka-0-10_2.12/3.5.3/spark-token-provider-kafka-0-10_2.12-3.5.3.jar ...\n",
      "\t[SUCCESSFUL ] org.apache.spark#spark-token-provider-kafka-0-10_2.12;3.5.3!spark-token-provider-kafka-0-10_2.12.jar (90ms)\n",
      "downloading https://repo1.maven.org/maven2/org/apache/kafka/kafka-clients/3.4.1/kafka-clients-3.4.1.jar ...\n",
      "\t[SUCCESSFUL ] org.apache.kafka#kafka-clients;3.4.1!kafka-clients.jar (4748ms)\n",
      "downloading https://repo1.maven.org/maven2/com/google/code/findbugs/jsr305/3.0.0/jsr305-3.0.0.jar ...\n",
      "\t[SUCCESSFUL ] com.google.code.findbugs#jsr305;3.0.0!jsr305.jar (72ms)\n",
      "downloading https://repo1.maven.org/maven2/org/apache/commons/commons-pool2/2.11.1/commons-pool2-2.11.1.jar ...\n",
      "\t[SUCCESSFUL ] org.apache.commons#commons-pool2;2.11.1!commons-pool2.jar (195ms)\n",
      "downloading https://repo1.maven.org/maven2/org/apache/hadoop/hadoop-client-runtime/3.3.4/hadoop-client-runtime-3.3.4.jar ...\n",
      "\t[SUCCESSFUL ] org.apache.hadoop#hadoop-client-runtime;3.3.4!hadoop-client-runtime.jar (30861ms)\n",
      "downloading https://repo1.maven.org/maven2/org/lz4/lz4-java/1.8.0/lz4-java-1.8.0.jar ...\n",
      "\t[SUCCESSFUL ] org.lz4#lz4-java;1.8.0!lz4-java.jar (491ms)\n",
      "downloading https://repo1.maven.org/maven2/org/xerial/snappy/snappy-java/1.1.10.5/snappy-java-1.1.10.5.jar ...\n",
      "\t[SUCCESSFUL ] org.xerial.snappy#snappy-java;1.1.10.5!snappy-java.jar(bundle) (1005ms)\n",
      "downloading https://repo1.maven.org/maven2/org/slf4j/slf4j-api/2.0.7/slf4j-api-2.0.7.jar ...\n",
      "\t[SUCCESSFUL ] org.slf4j#slf4j-api;2.0.7!slf4j-api.jar (70ms)\n",
      "downloading https://repo1.maven.org/maven2/org/apache/hadoop/hadoop-client-api/3.3.4/hadoop-client-api-3.3.4.jar ...\n",
      "\t[SUCCESSFUL ] org.apache.hadoop#hadoop-client-api;3.3.4!hadoop-client-api.jar (14162ms)\n",
      "downloading https://repo1.maven.org/maven2/commons-logging/commons-logging/1.1.3/commons-logging-1.1.3.jar ...\n",
      "\t[SUCCESSFUL ] commons-logging#commons-logging;1.1.3!commons-logging.jar (99ms)\n",
      ":: resolution report :: resolve 10094ms :: artifacts dl 202760ms\n",
      "\t:: modules in use:\n",
      "\tcom.amazonaws#aws-java-sdk-bundle;1.12.262 from central in [default]\n",
      "\tcom.google.code.findbugs#jsr305;3.0.0 from central in [default]\n",
      "\tcommons-logging#commons-logging;1.1.3 from central in [default]\n",
      "\torg.apache.commons#commons-pool2;2.11.1 from central in [default]\n",
      "\torg.apache.hadoop#hadoop-aws;3.3.4 from central in [default]\n",
      "\torg.apache.hadoop#hadoop-client-api;3.3.4 from central in [default]\n",
      "\torg.apache.hadoop#hadoop-client-runtime;3.3.4 from central in [default]\n",
      "\torg.apache.kafka#kafka-clients;3.4.1 from central in [default]\n",
      "\torg.apache.spark#spark-sql-kafka-0-10_2.12;3.5.3 from central in [default]\n",
      "\torg.apache.spark#spark-token-provider-kafka-0-10_2.12;3.5.3 from central in [default]\n",
      "\torg.lz4#lz4-java;1.8.0 from central in [default]\n",
      "\torg.slf4j#slf4j-api;2.0.7 from central in [default]\n",
      "\torg.wildfly.openssl#wildfly-openssl;1.0.7.Final from central in [default]\n",
      "\torg.xerial.snappy#snappy-java;1.1.10.5 from central in [default]\n",
      "\t---------------------------------------------------------------------\n",
      "\t|                  |            modules            ||   artifacts   |\n",
      "\t|       conf       | number| search|dwnlded|evicted|| number|dwnlded|\n",
      "\t---------------------------------------------------------------------\n",
      "\t|      default     |   14  |   14  |   14  |   0   ||   14  |   14  |\n",
      "\t---------------------------------------------------------------------\n",
      ":: retrieving :: org.apache.spark#spark-submit-parent-6dfb1719-6399-4645-af4b-f6998bdcb3a3\n",
      "\tconfs: [default]\n",
      "\t14 artifacts copied, 0 already retrieved (332424kB/530ms)\n",
      "25/02/18 20:54:34 WARN NativeCodeLoader: Unable to load native-hadoop library for your platform... using builtin-java classes where applicable\n",
      "Setting default log level to \"WARN\".\n",
      "To adjust logging level use sc.setLogLevel(newLevel). For SparkR, use setLogLevel(newLevel).\n",
      "/opt/conda/lib/python3.12/site-packages/pyspark/sql/context.py:113: FutureWarning: Deprecated in 3.0.0. Use SparkSession.builder.getOrCreate() instead.\n",
      "  warnings.warn(\n"
     ]
    },
    {
     "name": "stderr",
     "output_type": "stream",
     "text": [
      "----------------------------------------\n",
      "Exception occurred during processing of request from ('127.0.0.1', 44424)\n",
      "Traceback (most recent call last):\n",
      "  File \"/opt/conda/lib/python3.12/socketserver.py\", line 318, in _handle_request_noblock\n",
      "    self.process_request(request, client_address)\n",
      "  File \"/opt/conda/lib/python3.12/socketserver.py\", line 349, in process_request\n",
      "    self.finish_request(request, client_address)\n",
      "  File \"/opt/conda/lib/python3.12/socketserver.py\", line 362, in finish_request\n",
      "    self.RequestHandlerClass(request, client_address, self)\n",
      "  File \"/opt/conda/lib/python3.12/socketserver.py\", line 761, in __init__\n",
      "    self.handle()\n",
      "  File \"/opt/conda/lib/python3.12/site-packages/pyspark/accumulators.py\", line 295, in handle\n",
      "    poll(accum_updates)\n",
      "  File \"/opt/conda/lib/python3.12/site-packages/pyspark/accumulators.py\", line 267, in poll\n",
      "    if self.rfile in r and func():\n",
      "                           ^^^^^^\n",
      "  File \"/opt/conda/lib/python3.12/site-packages/pyspark/accumulators.py\", line 271, in accum_updates\n",
      "    num_updates = read_int(self.rfile)\n",
      "                  ^^^^^^^^^^^^^^^^^^^^\n",
      "  File \"/opt/conda/lib/python3.12/site-packages/pyspark/serializers.py\", line 596, in read_int\n",
      "    raise EOFError\n",
      "EOFError\n",
      "----------------------------------------\n"
     ]
    }
   ],
   "source": [
    "from pyspark.sql import SparkSession\n",
    "from pyspark import SparkContext, SparkConf\n",
    "from pyspark.sql import SQLContext\n",
    "\n",
    "conf = SparkConf() \\\n",
    "    .setAppName('SparkApp') \\\n",
    "    .setMaster('spark://spark:7077') \\\n",
    "    .set(\"spark.jars.packages\", \"org.apache.hadoop:hadoop-aws:3.3.4,org.apache.spark:spark-sql-kafka-0-10_2.12:3.5.3\") \\\n",
    "    .set(\"spark.sql.shuffle.partitions\", \"10\")\n",
    " \n",
    "\n",
    "sc = SparkContext.getOrCreate(conf=conf)\n",
    "\n",
    "\n",
    "# Créer un SQLContext pour les opérations SQL\n",
    "sql_context = SQLContext(sc)"
   ]
  },
  {
   "cell_type": "markdown",
   "metadata": {},
   "source": [
    "## Imports"
   ]
  },
  {
   "cell_type": "code",
   "execution_count": 3,
   "metadata": {},
   "outputs": [],
   "source": [
    "from pyspark.sql import SparkSession\n",
    "from pyspark.sql.functions import from_json, col, count, window, avg, to_timestamp, min, max, last, broadcast, current_timestamp\n",
    "from pyspark.sql.functions import sum as spark_sum\n",
    "from pyspark.sql.types import StructType, StructField, StringType, FloatType, IntegerType, DoubleType, BooleanType"
   ]
  },
  {
   "cell_type": "markdown",
   "metadata": {},
   "source": [
    "## Schémas et Topics\n"
   ]
  },
  {
   "cell_type": "code",
   "execution_count": 4,
   "metadata": {},
   "outputs": [],
   "source": [
    "kafka_broker = \"kafka1:9092\"\n",
    "arrets_topic = \"arrets\"\n",
    "velos_topic = \"velos\"\n",
    "relais_topic = \"relais\"\n",
    "\n",
    "# Définition du schéma pour le topic \"arrets\"\n",
    "schema_arrets = StructType([\n",
    "    StructField(\"codeLieu\", StringType()),\n",
    "    StructField(\"libelle\", StringType()),\n",
    "    StructField(\"distance\", FloatType()),\n",
    "    StructField(\"ligne\", StringType())\n",
    "])\n",
    "\n",
    "# Définition du schéma pour le champ \"position\"\n",
    "position_schema = StructType([\n",
    "    StructField(\"lon\", DoubleType()),\n",
    "    StructField(\"lat\", DoubleType())\n",
    "])\n",
    "\n",
    "# Définition du schéma pour le topic \"velos\"\n",
    "schema_velos = StructType([\n",
    "    StructField(\"number\", StringType()),\n",
    "    StructField(\"name\", StringType()),\n",
    "    StructField(\"address\", StringType()),\n",
    "    StructField(\"position\", position_schema),\n",
    "    StructField(\"banking\", StringType()),\n",
    "    StructField(\"bonus\", StringType()),\n",
    "    StructField(\"status\", StringType()),\n",
    "    StructField(\"contract_name\", StringType()),\n",
    "    StructField(\"bike_stands\", IntegerType()),\n",
    "    StructField(\"available_bike_stands\", IntegerType()),\n",
    "    StructField(\"available_bikes\", IntegerType()),\n",
    "    StructField(\"last_update\", StringType())\n",
    "])\n",
    "\n",
    "# Définition du schéma pour le topic \"relais\"\n",
    "schema_relais = StructType([\n",
    "    StructField(\"grp_identifiant\", StringType()),\n",
    "    StructField(\"grp_nom\", StringType()),\n",
    "    StructField(\"grp_statut\", IntegerType()),\n",
    "    StructField(\"grp_disponible\", IntegerType()),\n",
    "    StructField(\"grp_exploitation\", IntegerType()),\n",
    "    StructField(\"grp_complet\", IntegerType()),\n",
    "    StructField(\"grp_horodatage\", StringType()),\n",
    "    StructField(\"idobj\", StringType()),\n",
    "    StructField(\"location\", StructType([\n",
    "        StructField(\"lon\", DoubleType()),\n",
    "        StructField(\"lat\", DoubleType())\n",
    "    ])),\n",
    "    StructField(\"disponibilite\", DoubleType())\n",
    "])\n",
    "\n",
    "# Définition du schéma pour le topic \"relais\"\n",
    "schema_parking_public = StructType([\n",
    "    StructField(\"grp_identifiant\", StringType(), True),\n",
    "    StructField(\"grp_nom\", StringType(), True),\n",
    "    StructField(\"grp_statut\", StringType(), True),\n",
    "    StructField(\"grp_disponible\", IntegerType(), True),\n",
    "    StructField(\"grp_exploitation\", IntegerType(), True),\n",
    "    StructField(\"grp_complet\", IntegerType(), True),\n",
    "    StructField(\"grp_horodatage\", StringType(), True),\n",
    "    StructField(\"idobj\", StringType(), True),\n",
    "    StructField(\"location\", StructType([\n",
    "         StructField(\"lon\", DoubleType(), True),\n",
    "         StructField(\"lat\", DoubleType(), True)\n",
    "    ]), True)\n",
    "])"
   ]
  },
  {
   "cell_type": "markdown",
   "metadata": {},
   "source": [
    "## Requête Batch sans fenêtre"
   ]
  },
  {
   "cell_type": "markdown",
   "metadata": {},
   "source": [
    "Comptage des arrêts par ligne à partir du topic « arrets »"
   ]
  },
  {
   "cell_type": "code",
   "execution_count": 5,
   "metadata": {},
   "outputs": [
    {
     "name": "stderr",
     "output_type": "stream",
     "text": [
      "25/02/18 20:57:45 WARN AdminClientConfig: These configurations '[key.deserializer, value.deserializer, enable.auto.commit, max.poll.records, auto.offset.reset]' were supplied but are not used yet.\n",
      "                                                                                \r"
     ]
    },
    {
     "name": "stdout",
     "output_type": "stream",
     "text": [
      "+--------------------+---------+\n",
      "|               ligne|nb_arrets|\n",
      "+--------------------+---------+\n",
      "| [{\"numLigne\":\"79\"}]|        6|\n",
      "| [{\"numLigne\":\"30\"}]|       12|\n",
      "| [{\"numLigne\":\"91\"}]|       14|\n",
      "| [{\"numLigne\":\"80\"}]|       10|\n",
      "|[{\"numLigne\":\"172...|        2|\n",
      "|[{\"numLigne\":\"119...|        7|\n",
      "|[{\"numLigne\":\"75\"...|        6|\n",
      "| [{\"numLigne\":\"C3\"}]|       12|\n",
      "|[{\"numLigne\":\"101...|        2|\n",
      "|[{\"numLigne\":\"152...|        1|\n",
      "|[{\"numLigne\":\"1\"}...|        1|\n",
      "|[{\"numLigne\":\"59\"...|        3|\n",
      "|[{\"numLigne\":\"50\"...|        4|\n",
      "|[{\"numLigne\":\"30\"...|        7|\n",
      "|[{\"numLigne\":\"104...|        1|\n",
      "|[{\"numLigne\":\"107...|        3|\n",
      "|[{\"numLigne\":\"1\"}...|        1|\n",
      "|[{\"numLigne\":\"102...|        3|\n",
      "|[{\"numLigne\":\"127...|        2|\n",
      "|[{\"numLigne\":\"105...|        4|\n",
      "+--------------------+---------+\n",
      "only showing top 20 rows\n",
      "\n"
     ]
    },
    {
     "name": "stderr",
     "output_type": "stream",
     "text": [
      "25/02/18 20:57:53 WARN AdminClientConfig: These configurations '[key.deserializer, value.deserializer, enable.auto.commit, max.poll.records, auto.offset.reset]' were supplied but are not used yet.\n",
      "[Stage 5:>                                                          (0 + 1) / 1]\r"
     ]
    },
    {
     "name": "stdout",
     "output_type": "stream",
     "text": [
      "+-------+--------------------+-----------------+\n",
      "|summary|               ligne|        nb_arrets|\n",
      "+-------+--------------------+-----------------+\n",
      "|  count|                 434|              434|\n",
      "|   mean|                NULL|2.686635944700461|\n",
      "| stddev|                NULL|3.224968441931373|\n",
      "|    min|                  []|                1|\n",
      "|    max|[{\"numLigne\":\"NBI\"}]|               28|\n",
      "+-------+--------------------+-----------------+\n",
      "\n"
     ]
    },
    {
     "name": "stderr",
     "output_type": "stream",
     "text": [
      "                                                                                \r"
     ]
    }
   ],
   "source": [
    "# Lecture brute des messages Kafka\n",
    "df_kafka = sql_context.read \\\n",
    "    .format(\"kafka\") \\\n",
    "    .option(\"kafka.bootstrap.servers\", kafka_broker) \\\n",
    "    .option(\"subscribe\", arrets_topic) \\\n",
    "    .option(\"startingOffsets\", \"earliest\") \\\n",
    "    .load()\n",
    "\n",
    "# Conversion du champ \"value\" (encodé en JSON) en colonnes structurées\n",
    "df_arrets = df_kafka.selectExpr(\"CAST(value AS STRING) AS message\") \\\n",
    "    .select(from_json(col(\"message\"), schema_arrets).alias(\"data\")) \\\n",
    "    .select(\"data.*\")\n",
    "\n",
    "# Agrégation : compter le nombre d'arrêts par \"ligne\"\n",
    "result = df_arrets.groupBy(\"ligne\").agg(count(\"*\").alias(\"nb_arrets\"))\n",
    "\n",
    "# Affichage du résultat\n",
    "result.show()\n",
    "result.describe().show()"
   ]
  },
  {
   "cell_type": "markdown",
   "metadata": {},
   "source": [
    "Analyse des stations de vélo par statut historique"
   ]
  },
  {
   "cell_type": "code",
   "execution_count": 6,
   "metadata": {},
   "outputs": [
    {
     "name": "stderr",
     "output_type": "stream",
     "text": [
      "25/02/18 20:58:37 WARN SparkSession: Using an existing Spark session; only runtime SQL configurations will take effect.\n",
      "25/02/18 20:58:37 WARN AdminClientConfig: These configurations '[key.deserializer, value.deserializer, enable.auto.commit, max.poll.records, auto.offset.reset]' were supplied but are not used yet.\n",
      "25/02/18 20:58:37 WARN WindowExec: No Partition Defined for Window operation! Moving all data to a single partition, this can cause serious performance degradation.\n",
      "25/02/18 20:58:37 WARN WindowExec: No Partition Defined for Window operation! Moving all data to a single partition, this can cause serious performance degradation.\n",
      "25/02/18 20:58:37 WARN WindowExec: No Partition Defined for Window operation! Moving all data to a single partition, this can cause serious performance degradation.\n",
      "25/02/18 20:58:38 WARN WindowExec: No Partition Defined for Window operation! Moving all data to a single partition, this can cause serious performance degradation.\n",
      "25/02/18 20:58:38 WARN WindowExec: No Partition Defined for Window operation! Moving all data to a single partition, this can cause serious performance degradation.\n",
      "25/02/18 20:58:38 WARN WindowExec: No Partition Defined for Window operation! Moving all data to a single partition, this can cause serious performance degradation.\n",
      "25/02/18 20:58:38 WARN WindowExec: No Partition Defined for Window operation! Moving all data to a single partition, this can cause serious performance degradation.\n"
     ]
    },
    {
     "name": "stdout",
     "output_type": "stream",
     "text": [
      "+------+--------------+--------------------+-----------------+-----------+\n",
      "|status|total_stations|moyenne_velos_dispos| ecart_type_velos|pourcentage|\n",
      "+------+--------------+--------------------+-----------------+-----------+\n",
      "|  OPEN|          1372|   8.208454810495628|6.437852023428619|       0.98|\n",
      "|CLOSED|            28|                 0.0|              0.0|       0.02|\n",
      "+------+--------------+--------------------+-----------------+-----------+\n",
      "\n"
     ]
    },
    {
     "name": "stderr",
     "output_type": "stream",
     "text": [
      "                                                                                \r"
     ]
    }
   ],
   "source": [
    "from pyspark.sql import SparkSession\n",
    "import pyspark.sql.functions as F\n",
    "from pyspark.sql import Window\n",
    "\n",
    "spark = SparkSession.builder.appName(\"BikeHistory\").getOrCreate()\n",
    "\n",
    "# --- Helper function: read_kafka_stream ---\n",
    "def read_kafka_stream(topic, schema, is_streaming=True):\n",
    "    if is_streaming:\n",
    "        df = spark.readStream.format(\"kafka\") \\\n",
    "            .option(\"kafka.bootstrap.servers\", kafka_broker) \\\n",
    "            .option(\"subscribe\", topic) \\\n",
    "            .option(\"startingOffsets\", \"earliest\") \\\n",
    "            .load()\n",
    "    else:\n",
    "        df = spark.read.format(\"kafka\") \\\n",
    "            .option(\"kafka.bootstrap.servers\", kafka_broker) \\\n",
    "            .option(\"subscribe\", topic) \\\n",
    "            .option(\"startingOffsets\", \"earliest\") \\\n",
    "            .load()\n",
    "    # Convert the binary \"value\" column to string and parse JSON using the provided schema.\n",
    "    df = df.selectExpr(\"CAST(value AS STRING) as json_string\")\n",
    "    df = df.select(F.from_json(F.col(\"json_string\"), schema).alias(\"data\")).select(\"data.*\")\n",
    "    return df\n",
    "\n",
    "# Read batch data from the \"velos\" topic (is_streaming=False)\n",
    "df_velos = read_kafka_stream(\"velos\", schema_velos, is_streaming=False).where(F.col(\"status\").isNotNull())\n",
    "\n",
    "# Perform aggregation by 'status'\n",
    "result_batch1 = df_velos.groupBy(\"status\") \\\n",
    "    .agg(\n",
    "        F.count(\"*\").alias(\"total_stations\"),\n",
    "        F.avg(\"available_bikes\").alias(\"moyenne_velos_dispos\"),\n",
    "        F.stddev(\"available_bikes\").alias(\"ecart_type_velos\")\n",
    "    ) \\\n",
    "    .withColumn(\"pourcentage\", F.col(\"total_stations\") / F.sum(\"total_stations\").over(Window.partitionBy())) \\\n",
    "    .orderBy(F.desc(\"total_stations\"))\n",
    "\n",
    "result_batch1.show()\n"
   ]
  },
  {
   "cell_type": "markdown",
   "metadata": {},
   "source": [
    "## Requête Batch avec fenêtre\n",
    "\n",
    "Vélos disponibles par contrat sur des fenêtres temporelles à partir du topic « velos ».\n",
    "Malheuresement on a qu'une donnée par station donc ca permet pas de faire de l'aggrégation comme la moyenne de vélo sur la période..... faut essayer de trouver des données plus pertinentes."
   ]
  },
  {
   "cell_type": "code",
   "execution_count": 7,
   "metadata": {},
   "outputs": [],
   "source": [
    "# Lecture brute des messages Kafka\n",
    "df_kafka = sql_context.read \\\n",
    "    .format(\"kafka\") \\\n",
    "    .option(\"kafka.bootstrap.servers\", kafka_broker) \\\n",
    "    .option(\"subscribe\", velos_topic) \\\n",
    "    .option(\"startingOffsets\", \"earliest\") \\\n",
    "    .load()\n",
    "\n",
    "# Conversion du champ \"value\" en JSON\n",
    "df_velos = df_kafka.selectExpr(\"CAST(value AS STRING) AS message\") \\\n",
    "    .select(from_json(col(\"message\"), schema_velos).alias(\"data\")) \\\n",
    "    .select(\"data.*\")\n",
    "\n",
    "# Conversion de \"last_update\" en timestamp (format ISO 8601)\n",
    "df_velos = df_velos.withColumn(\"last_update_ts\", \n",
    "                               to_timestamp(col(\"last_update\"), \"yyyy-MM-dd'T'HH:mm:ssXXX\"))\n",
    "\n",
    "# Agrégation par fenêtre (ici, on allonge la fenêtre à 30 minutes pour accumuler plusieurs mises à jour) et par station\n",
    "result_window = df_velos.groupBy(\n",
    "    window(col(\"last_update_ts\"), \"30 minutes\"), \n",
    "    col(\"number\"),\n",
    "    col(\"contract_name\")\n",
    ").agg(\n",
    "    count(\"*\").alias(\"nb_updates\"),\n",
    "    last(\"available_bikes\", ignorenulls=True).alias(\"latest_available_bikes\")\n",
    ")\n",
    "\n",
    "result_window.show()"
   ]
  },
  {
   "cell_type": "markdown",
   "metadata": {},
   "source": [
    "## Requête Batch avec visualisation"
   ]
  },
  {
   "cell_type": "markdown",
   "metadata": {},
   "source": [
    "Graphique des totaux de stations par statut avec Pandas et Seaborn"
   ]
  },
  {
   "cell_type": "code",
   "execution_count": null,
   "metadata": {},
   "outputs": [],
   "source": [
    "import pandas as pd\n",
    "import seaborn as sns\n",
    "import matplotlib.pyplot as plt\n",
    "\n",
    "# Convert the Spark DataFrame to Pandas for visualization\n",
    "pdf = result_batch1.toPandas()\n",
    "\n",
    "plt.figure(figsize=(10,6))\n",
    "sns.barplot(data=pdf, x=\"status\", y=\"total_stations\", palette=\"viridis\")\n",
    "plt.title(\"Total des stations de vélo par statut\")\n",
    "plt.xlabel(\"Statut\")\n",
    "plt.ylabel(\"Nombre total de stations\")\n",
    "plt.show()\n"
   ]
  },
  {
   "cell_type": "markdown",
   "metadata": {},
   "source": [
    "## Requêtes Streaming"
   ]
  },
  {
   "cell_type": "markdown",
   "metadata": {},
   "source": [
    "### Récuperer la moyenne des disponiblités des parkings relais sur une fenêtre glissante."
   ]
  },
  {
   "cell_type": "code",
   "execution_count": null,
   "metadata": {},
   "outputs": [],
   "source": [
    "# Lecture en streaming depuis Kafka\n",
    "df_kafka = sql_context.readStream \\\n",
    "    .format(\"kafka\") \\\n",
    "    .option(\"kafka.bootstrap.servers\", kafka_broker) \\\n",
    "    .option(\"subscribe\", relais_topic) \\\n",
    "    .option(\"startingOffsets\", \"latest\") \\\n",
    "    .load()\n",
    "\n",
    "# Conversion du champ \"value\" (JSON) en colonnes structurées\n",
    "df_relais = df_kafka.selectExpr(\"CAST(value AS STRING) AS message\") \\\n",
    "    .select(from_json(col(\"message\"), schema_relais).alias(\"data\")) \\\n",
    "    .select(\"data.*\")\n",
    "\n",
    "# Conversion du champ \"grp_horodatage\" en timestamp\n",
    "# Le format ISO 8601 est utilisé : \"yyyy-MM-dd'T'HH:mm:ssXXX\"\n",
    "df_relais = df_relais.withColumn(\"horodatage_ts\", \n",
    "                                  to_timestamp(col(\"grp_horodatage\"), \"yyyy-MM-dd'T'HH:mm:ssXXX\"))\n",
    "\n",
    "# Définition d'un watermark de 5 minutes pour gérer les retards éventuels\n",
    "df_relais = df_relais.withWatermark(\"horodatage_ts\", \"5 minutes\")\n",
    "\n",
    "# Agrégation : calcul de la moyenne des disponibilités sur une fenêtre glissante\n",
    "# Ici, la fenêtre est de 5 minutes et on agrège par \"grp_identifiant\"\n",
    "result_stream = df_relais.groupBy(\n",
    "    window(col(\"horodatage_ts\"), \"5 minutes\"),\n",
    "    col(\"grp_identifiant\"),\n",
    ").agg(\n",
    "    avg(\"disponibilite\").alias(\"avg_disponibilite\")\n",
    ")\n",
    "\n",
    "# Écriture du résultat en streaming vers la console (mode \"update\")\n",
    "query = result_stream.writeStream \\\n",
    "    .outputMode(\"update\") \\\n",
    "    .format(\"console\") \\\n",
    "    .option(\"truncate\", \"false\") \\\n",
    "    .start()\n",
    "\n",
    "query.awaitTermination()"
   ]
  },
  {
   "cell_type": "code",
   "execution_count": null,
   "metadata": {},
   "outputs": [],
   "source": [
    "query.stop()"
   ]
  },
  {
   "cell_type": "markdown",
   "metadata": {},
   "source": [
    "### Récuperer la moyenne des vélos disponibles par parking sur une fenêtre glissante."
   ]
  },
  {
   "cell_type": "code",
   "execution_count": null,
   "metadata": {},
   "outputs": [],
   "source": [
    "# Lecture en streaming depuis Kafka\n",
    "df_kafka_velos = sql_context.readStream \\\n",
    "    .format(\"kafka\") \\\n",
    "    .option(\"kafka.bootstrap.servers\", kafka_broker) \\\n",
    "    .option(\"subscribe\", velos_topic) \\\n",
    "    .option(\"startingOffsets\", \"latest\") \\\n",
    "    .load()\n",
    "\n",
    "# Conversion du champ \"value\" (JSON) en colonnes structurées\n",
    "df_velos = df_kafka_velos.selectExpr(\"CAST(value AS STRING) AS message\") \\\n",
    "    .select(from_json(col(\"message\"), schema_velos).alias(\"data\")) \\\n",
    "    .select(\"data.*\")\n",
    "\n",
    "# Conversion du champ \"last_update\" en timestamp (format ISO 8601)\n",
    "df_velos = df_velos.withColumn(\"last_update_ts\", \n",
    "                               to_timestamp(col(\"last_update\"), \"yyyy-MM-dd'T'HH:mm:ssXXX\"))\n",
    "\n",
    "# Application d'un watermark de 5 minutes pour gérer les retards\n",
    "df_velos = df_velos.withWatermark(\"last_update_ts\", \"5 minutes\")\n",
    "\n",
    "# Agrégation sur une fenêtre de 5 minutes : calcul du total des places disponibles\n",
    "result_velos = df_velos.groupBy(\n",
    "    window(col(\"last_update_ts\"), \"5 minutes\"),\n",
    "    col(\"name\")\n",
    ").agg(\n",
    "    avg(\"available_bikes\").alias(\"moyenne_velos_disponibles\")\n",
    ")\n",
    "\n",
    "# Écriture du résultat en streaming vers la console (mode \"update\")\n",
    "query_velos = result_velos.writeStream \\\n",
    "    .outputMode(\"update\") \\\n",
    "    .format(\"console\") \\\n",
    "    .option(\"truncate\", \"false\") \\\n",
    "    .start()\n",
    "\n",
    "query_velos.awaitTermination()"
   ]
  },
  {
   "cell_type": "code",
   "execution_count": null,
   "metadata": {},
   "outputs": [],
   "source": [
    "query_velos.stop()"
   ]
  },
  {
   "cell_type": "markdown",
   "metadata": {},
   "source": [
    "## Multimodal query"
   ]
  },
  {
   "cell_type": "markdown",
   "metadata": {},
   "source": [
    "Define the Haversine Function and UDF"
   ]
  },
  {
   "cell_type": "code",
   "execution_count": 23,
   "metadata": {},
   "outputs": [
    {
     "name": "stderr",
     "output_type": "stream",
     "text": [
      "25/02/18 21:28:31 WARN SimpleFunctionRegistry: The function haversine replaced a previously registered function.\n"
     ]
    },
    {
     "data": {
      "text/plain": [
       "<pyspark.sql.udf.UserDefinedFunction at 0x70713188ec30>"
      ]
     },
     "execution_count": 23,
     "metadata": {},
     "output_type": "execute_result"
    }
   ],
   "source": [
    "from pyspark.sql import functions as F\n",
    "from math import radians, sin, cos, sqrt, atan2\n",
    "\n",
    "# 1. Define Python function\n",
    "def haversine(lon1, lat1, lon2, lat2):\n",
    "    lon1, lat1, lon2, lat2 = map(radians, [lon1, lat1, lon2, lat2])\n",
    "    dlon = lon2 - lon1\n",
    "    dlat = lat2 - lat1\n",
    "    a = sin(dlat/2)**2 + cos(lat1) * cos(lat2) * sin(dlon/2)**2\n",
    "    return 6371 * 2 * atan2(sqrt(a), sqrt(1-a))  # Earth radius in km\n",
    "\n",
    "# 2. Create Spark UDF\n",
    "haversine_udf = F.udf(haversine, DoubleType())\n",
    "\n",
    "# 3. Register for SparkSQL\n",
    "spark.udf.register(\"haversine\", haversine_udf)"
   ]
  },
  {
   "cell_type": "code",
   "execution_count": 24,
   "metadata": {},
   "outputs": [],
   "source": [
    "# 1. Read data and create temporary views\n",
    "df_arrets = read_kafka_stream(arrets_topic, schema_arrets, is_streaming=False)\n",
    "df_velos = read_kafka_stream(velos_topic, schema_velos, is_streaming=False)\n",
    "df_relais = read_kafka_stream(relais_topic, schema_relais, is_streaming=False)\n",
    "df_parking = read_kafka_stream(\"parking_public\", schema_parking_public, is_streaming=False)"
   ]
  },
  {
   "cell_type": "code",
   "execution_count": 25,
   "metadata": {},
   "outputs": [
    {
     "name": "stderr",
     "output_type": "stream",
     "text": [
      "25/02/18 21:28:41 WARN AdminClientConfig: These configurations '[key.deserializer, value.deserializer, enable.auto.commit, max.poll.records, auto.offset.reset]' were supplied but are not used yet.\n"
     ]
    },
    {
     "name": "stdout",
     "output_type": "stream",
     "text": [
      "Parking Count: 580\n"
     ]
    },
    {
     "name": "stderr",
     "output_type": "stream",
     "text": [
      "25/02/18 21:28:42 WARN AdminClientConfig: These configurations '[key.deserializer, value.deserializer, enable.auto.commit, max.poll.records, auto.offset.reset]' were supplied but are not used yet.\n",
      "25/02/18 21:28:42 WARN AdminClientConfig: These configurations '[key.deserializer, value.deserializer, enable.auto.commit, max.poll.records, auto.offset.reset]' were supplied but are not used yet.\n"
     ]
    },
    {
     "name": "stdout",
     "output_type": "stream",
     "text": [
      "Velos Count: 2000\n",
      "Relais Count: 380\n"
     ]
    },
    {
     "name": "stderr",
     "output_type": "stream",
     "text": [
      "25/02/18 21:28:43 WARN AdminClientConfig: These configurations '[key.deserializer, value.deserializer, enable.auto.commit, max.poll.records, auto.offset.reset]' were supplied but are not used yet.\n"
     ]
    },
    {
     "name": "stdout",
     "output_type": "stream",
     "text": [
      "Non-Full Parkings: 580\n"
     ]
    },
    {
     "name": "stderr",
     "output_type": "stream",
     "text": [
      "                                                                                \r"
     ]
    }
   ],
   "source": [
    "# Check record counts at each stage\n",
    "print(\"Parking Count:\", df_parking.count())  # Should be >0\n",
    "print(\"Velos Count:\", df_velos.count())      # Should be >0\n",
    "print(\"Relais Count:\", df_relais.count())    # Should be >0\n",
    "\n",
    "# Check non-full parkings\n",
    "non_full = df_parking.filter(F.col(\"grp_complet\") != 1)\n",
    "print(\"Non-Full Parkings:\", non_full.count())"
   ]
  },
  {
   "cell_type": "markdown",
   "metadata": {},
   "source": [
    "Section 1: Batch Query – Aggregated Multimodal Connectivity Hubs"
   ]
  },
  {
   "cell_type": "code",
   "execution_count": null,
   "metadata": {},
   "outputs": [
    {
     "name": "stderr",
     "output_type": "stream",
     "text": [
      "25/02/18 21:31:41 WARN AdminClientConfig: These configurations '[key.deserializer, value.deserializer, enable.auto.commit, max.poll.records, auto.offset.reset]' were supplied but are not used yet.\n",
      "25/02/18 21:31:41 WARN AdminClientConfig: These configurations '[key.deserializer, value.deserializer, enable.auto.commit, max.poll.records, auto.offset.reset]' were supplied but are not used yet.\n",
      "25/02/18 21:31:41 WARN AdminClientConfig: These configurations '[key.deserializer, value.deserializer, enable.auto.commit, max.poll.records, auto.offset.reset]' were supplied but are not used yet.\n",
      "[Stage 92:>                                                         (0 + 2) / 2]\r"
     ]
    },
    {
     "name": "stdout",
     "output_type": "stream",
     "text": [
      "+----------------------+------------------+---------------+-------------------+------------------+\n",
      "|location_name         |avg_bikes         |nearby_stations|lon                |lat               |\n",
      "+----------------------+------------------+---------------+-------------------+------------------+\n",
      "|Feydeau               |5.710424710424711 |15             |-1.552558781000016 |47.21407529499999 |\n",
      "|Decré-Bouffay         |8.141975308641975 |17             |-1.5540046290000191|47.21666261299998 |\n",
      "|Tour Bretagne         |9.921282798833818 |20             |-1.5582500169999776|47.21784288800001 |\n",
      "|Graslin               |10.280788177339902|12             |-1.562571814000023 |47.214310205000004|\n",
      "|Aristide Briand       |12.55299539170507 |13             |-1.5629364160000137|47.21709359800002 |\n",
      "|Médiathèque           |6.572463768115942 |9              |-1.56233817399999  |47.210870821000015|\n",
      "|Commerce              |6.587719298245614 |14             |-1.557713217000014 |47.21312028       |\n",
      "|Talensac              |10.562068965517241|16             |-1.5583572969999864|47.220255974      |\n",
      "|Cité des Congrès      |12.626506024096386|9              |-1.5439712740000004|47.212901665000004|\n",
      "|Cathédrale            |7.4766355140186915|12             |-1.5510561649999772|47.22081334400002 |\n",
      "|Les machines          |3.6551724137931036|4              |-1.5627277899999967|47.20590061600001 |\n",
      "|Descartes             |11.73248407643312 |10             |-1.5643645260000199|47.21718884799998 |\n",
      "|Gloriette 1           |4.246666666666667 |10             |-1.5584387270000093|47.21117964899997 |\n",
      "|Hôtel Dieu            |3.5448275862068965|10             |-1.5519831099999806|47.21105707999999 |\n",
      "|Gare Sud 2 : Limité 1h|14.228571428571428|7              |-1.5405805820000182|47.21370471099999 |\n",
      "|CHU 1                 |3.234848484848485 |9              |-1.5572502320000012|47.20936196600002 |\n",
      "|Gare Nord             |12.10880829015544 |11             |-1.5449843310000233|47.21668903400001 |\n",
      "|Gare Sud 3            |15.046153846153846|7              |-1.539256308000006 |47.21491533400001 |\n",
      "|Bellamy               |8.347826086956522 |11             |-1.5576936900000078|47.222360408999975|\n",
      "|Gare Sud 4            |12.669230769230769|7              |-1.5379338930000017|47.21510336       |\n",
      "+----------------------+------------------+---------------+-------------------+------------------+\n",
      "only showing top 20 rows\n",
      "\n"
     ]
    },
    {
     "name": "stderr",
     "output_type": "stream",
     "text": [
      "                                                                                \r"
     ]
    }
   ],
   "source": [
    "# Final Corrected Batch Request with Proper Syntax and Names\n",
    "parking_bike_analysis = (\n",
    "    df_parking.alias(\"parking\")\n",
    "    .filter(F.col(\"parking.grp_complet\") != 1)\n",
    "    .join(\n",
    "        df_velos.alias(\"velo\"),\n",
    "        [\n",
    "            (F.abs(F.col(\"parking.location.lon\") - F.col(\"velo.position.lon\")) <= 0.01),\n",
    "            (F.abs(F.col(\"parking.location.lat\") - F.col(\"velo.position.lat\")) <= 0.01)\n",
    "        ]\n",
    "    )\n",
    "    .withColumn(\"distance_km\", haversine_udf(\n",
    "        F.col(\"parking.location.lon\"), \n",
    "        F.col(\"parking.location.lat\"),\n",
    "        F.col(\"velo.position.lon\"),\n",
    "        F.col(\"velo.position.lat\")\n",
    "    ))\n",
    "    .filter(F.col(\"distance_km\") <= 0.5)\n",
    "    .groupBy(\"parking.grp_identifiant\")\n",
    "    .agg(\n",
    "        F.avg(\"velo.available_bikes\").alias(\"avg_bikes\"),\n",
    "        F.count_distinct(\"velo.number\").alias(\"nearby_stations\"),\n",
    "        F.first(\"parking.location.lon\").alias(\"parking_lon\"),\n",
    "        F.first(\"parking.location.lat\").alias(\"parking_lat\"),\n",
    "        F.first(\"parking.grp_nom\").alias(\"parking_grp_nom\")  # Get parking's own name\n",
    "    )\n",
    "    .join(\n",
    "        df_relais.alias(\"relais\"), \n",
    "        \"grp_identifiant\", \n",
    "        \"left\"\n",
    "    )\n",
    "    .select(\n",
    "        F.coalesce(\n",
    "            \"relais.grp_nom\", \n",
    "            \"parking_grp_nom\", \n",
    "            F.concat(F.lit(\"Parking \"), \"grp_identifiant\")\n",
    "        ).alias(\"location_name\"),  # Fixed parenthesis and alias position\n",
    "        \"avg_bikes\",\n",
    "        \"nearby_stations\",\n",
    "        F.coalesce(\"relais.location.lon\", \"parking_lon\").alias(\"lon\"),\n",
    "        F.coalesce(\"relais.location.lat\", \"parking_lat\").alias(\"lat\")\n",
    "    )\n",
    ")\n",
    "\n",
    "parking_bike_analysis.show(truncate=False)"
   ]
  },
  {
   "cell_type": "code",
   "execution_count": 32,
   "metadata": {},
   "outputs": [
    {
     "name": "stderr",
     "output_type": "stream",
     "text": [
      "25/02/18 21:57:50 WARN ExtractPythonUDFFromJoinCondition: The join condition:(haversine(location#4375.lon, location#4375.lat, position#4408.lon, position#4408.lat)#4451 <= 0.5) of the join plan contains PythonUDF only, it will be moved out and the join plan will be turned to cross join.\n",
      "25/02/18 21:57:50 WARN AdminClientConfig: These configurations '[key.deserializer, value.deserializer, enable.auto.commit, max.poll.records, auto.offset.reset]' were supplied but are not used yet.\n",
      "25/02/18 21:57:50 WARN AdminClientConfig: These configurations '[key.deserializer, value.deserializer, enable.auto.commit, max.poll.records, auto.offset.reset]' were supplied but are not used yet.\n",
      "25/02/18 21:57:50 WARN WindowExec: No Partition Defined for Window operation! Moving all data to a single partition, this can cause serious performance degradation.\n",
      "25/02/18 21:57:50 WARN WindowExec: No Partition Defined for Window operation! Moving all data to a single partition, this can cause serious performance degradation.\n",
      "25/02/18 21:57:50 WARN WindowExec: No Partition Defined for Window operation! Moving all data to a single partition, this can cause serious performance degradation.\n",
      "25/02/18 21:57:53 WARN WindowExec: No Partition Defined for Window operation! Moving all data to a single partition, this can cause serious performance degradation.\n",
      "25/02/18 21:57:53 WARN WindowExec: No Partition Defined for Window operation! Moving all data to a single partition, this can cause serious performance degradation.\n",
      "25/02/18 21:57:53 WARN WindowExec: No Partition Defined for Window operation! Moving all data to a single partition, this can cause serious performance degradation.\n",
      "25/02/18 21:57:53 WARN WindowExec: No Partition Defined for Window operation! Moving all data to a single partition, this can cause serious performance degradation.\n",
      "25/02/18 21:57:53 WARN WindowExec: No Partition Defined for Window operation! Moving all data to a single partition, this can cause serious performance degradation.\n",
      "25/02/18 21:57:53 WARN WindowExec: No Partition Defined for Window operation! Moving all data to a single partition, this can cause serious performance degradation.\n"
     ]
    },
    {
     "name": "stdout",
     "output_type": "stream",
     "text": [
      "+---------------+-------------+------------------+------------+----+\n",
      "|grp_identifiant|grp_nom      |avg_bikes         |num_stations|rank|\n",
      "+---------------+-------------+------------------+------------+----+\n",
      "|140            |P+R Huit Mai |13.551724137931034|2           |1   |\n",
      "|144            |P+R Gréneraie|5.555555555555555 |2           |2   |\n",
      "+---------------+-------------+------------------+------------+----+\n",
      "\n"
     ]
    },
    {
     "name": "stderr",
     "output_type": "stream",
     "text": [
      "                                                                                \r"
     ]
    }
   ],
   "source": [
    "# Rank parking relays by nearby bike availability\n",
    "parking_ranking = (\n",
    "    read_kafka_stream(relais_topic, schema_relais, False).alias(\"relais\")\n",
    "    .crossJoin(read_kafka_stream(velos_topic, schema_velos, False).alias(\"velo\"))\n",
    "    .withColumn(\"distance_km\", haversine_udf(\n",
    "        F.col(\"relais.location.lon\"),\n",
    "        F.col(\"relais.location.lat\"),\n",
    "        F.col(\"velo.position.lon\"),\n",
    "        F.col(\"velo.position.lat\")\n",
    "    ))\n",
    "    .filter(F.col(\"distance_km\") <= 0.5)\n",
    "    .groupBy(\"relais.grp_identifiant\", \"relais.grp_nom\")\n",
    "    .agg(\n",
    "        F.avg(\"velo.available_bikes\").alias(\"avg_bikes\"),\n",
    "        F.count_distinct(\"velo.number\").alias(\"num_stations\")\n",
    "    )\n",
    "    .withColumn(\"rank\", \n",
    "               F.dense_rank().over(Window.orderBy(F.desc(\"avg_bikes\")))\n",
    "    )\n",
    "    .orderBy(\"rank\")\n",
    ")\n",
    "\n",
    "parking_ranking.show(truncate=False)"
   ]
  },
  {
   "cell_type": "code",
   "execution_count": 40,
   "metadata": {},
   "outputs": [
    {
     "name": "stderr",
     "output_type": "stream",
     "text": [
      "25/02/18 22:26:36 WARN ExtractPythonUDFFromJoinCondition: The join condition:(haversine(location#2830.lon, location#2830.lat, position#2783.lon, position#2783.lat)#5638 <= 1.0) of the join plan contains PythonUDF only, it will be moved out and the join plan will be turned to cross join.\n",
      "25/02/18 22:26:36 WARN AdminClientConfig: These configurations '[key.deserializer, value.deserializer, enable.auto.commit, max.poll.records, auto.offset.reset]' were supplied but are not used yet.\n",
      "25/02/18 22:26:36 WARN AdminClientConfig: These configurations '[key.deserializer, value.deserializer, enable.auto.commit, max.poll.records, auto.offset.reset]' were supplied but are not used yet.\n",
      "25/02/18 22:26:36 WARN WindowExec: No Partition Defined for Window operation! Moving all data to a single partition, this can cause serious performance degradation.\n",
      "25/02/18 22:26:36 WARN WindowExec: No Partition Defined for Window operation! Moving all data to a single partition, this can cause serious performance degradation.\n",
      "25/02/18 22:26:36 WARN WindowExec: No Partition Defined for Window operation! Moving all data to a single partition, this can cause serious performance degradation.\n",
      "[Stage 117:============================>                            (2 + 2) / 4]\r"
     ]
    },
    {
     "name": "stdout",
     "output_type": "stream",
     "text": [
      "+---------------+--------------------+-------------------+---------------+----+\n",
      "|grp_identifiant|grp_nom             |avg_available_bikes|nearby_stations|rank|\n",
      "+---------------+--------------------+-------------------+---------------+----+\n",
      "|152            |P+R Prairie de Mauve|12.028571428571428 |1225           |1   |\n",
      "|139            |P+R Recteur Schmitt |7.230769230769231  |1820           |2   |\n",
      "|140            |P+R Huit Mai        |7.117647058823529  |5355           |3   |\n",
      "|144            |P+R Gréneraie       |6.698795180722891  |11620          |4   |\n",
      "+---------------+--------------------+-------------------+---------------+----+\n",
      "\n"
     ]
    },
    {
     "name": "stderr",
     "output_type": "stream",
     "text": [
      "25/02/18 22:26:41 WARN WindowExec: No Partition Defined for Window operation! Moving all data to a single partition, this can cause serious performance degradation.\n",
      "25/02/18 22:26:41 WARN WindowExec: No Partition Defined for Window operation! Moving all data to a single partition, this can cause serious performance degradation.\n",
      "25/02/18 22:26:41 WARN WindowExec: No Partition Defined for Window operation! Moving all data to a single partition, this can cause serious performance degradation.\n",
      "                                                                                \r"
     ]
    }
   ],
   "source": [
    "from pyspark.sql.window import Window\n",
    "\n",
    "# Assume df_velos and df_relais are loaded in batch mode (is_streaming=False)\n",
    "\n",
    "relays_velos = (\n",
    "    df_relais.alias(\"rel\")\n",
    "    .join(\n",
    "        df_velos.alias(\"vel\"),\n",
    "        haversine_udf(\n",
    "            F.col(\"rel.location.lon\"),\n",
    "            F.col(\"rel.location.lat\"),\n",
    "            F.col(\"vel.position.lon\"),\n",
    "            F.col(\"vel.position.lat\")\n",
    "        ) <= 1.0  # 1 km threshold\n",
    "    )\n",
    "    .groupBy(\"rel.grp_identifiant\", \"rel.grp_nom\")\n",
    "    .agg(\n",
    "         F.avg(\"vel.available_bikes\").alias(\"avg_available_bikes\"),\n",
    "         F.count(\"vel.number\").alias(\"nearby_stations\")\n",
    "    )\n",
    ")\n",
    "\n",
    "window_spec = Window.orderBy(F.desc(\"avg_available_bikes\"))\n",
    "relays_ranked = relays_velos.withColumn(\"rank\", F.dense_rank().over(window_spec))\n",
    "\n",
    "relays_ranked.show(truncate=False)\n"
   ]
  },
  {
   "cell_type": "code",
   "execution_count": 41,
   "metadata": {},
   "outputs": [
    {
     "name": "stderr",
     "output_type": "stream",
     "text": [
      "25/02/18 22:27:40 WARN AdminClientConfig: These configurations '[key.deserializer, value.deserializer, enable.auto.commit, max.poll.records, auto.offset.reset]' were supplied but are not used yet.\n",
      "25/02/18 22:27:40 WARN AdminClientConfig: These configurations '[key.deserializer, value.deserializer, enable.auto.commit, max.poll.records, auto.offset.reset]' were supplied but are not used yet.\n",
      "[Stage 120:============================>                            (2 + 2) / 4]\r"
     ]
    },
    {
     "name": "stdout",
     "output_type": "stream",
     "text": [
      "+---------------+----------------------+------------------+---------------------+\n",
      "|grp_identifiant|grp_nom               |avg_bike_deficit  |total_available_bikes|\n",
      "+---------------+----------------------+------------------+---------------------+\n",
      "|009            |Cité des Congrès      |14.693854748603352|236145               |\n",
      "|001            |Feydeau               |13.605828220858896|390530               |\n",
      "|021            |Gare Nord             |14.316718587746625|261835               |\n",
      "|040            |Fonderies             |15.081597222222221|108535               |\n",
      "|006            |Médiathèque           |13.326660600545951|300125               |\n",
      "|005            |Aristide Briand       |10.848252344416027|355565               |\n",
      "|008            |Talensac              |10.047619047619047|376110               |\n",
      "|016            |Gare Sud 2 : Limité 1h|15.580508474576272|191870               |\n",
      "|002            |Decré-Bouffay         |12.278936017253775|360220               |\n",
      "|044            |Gare Sud 2            |17.52262443438914 |147875               |\n",
      "|012            |Descartes             |9.931647940074907 |337820               |\n",
      "|027            |Gare Sud 3            |16.063583815028903|183190               |\n",
      "|042            |CHU 2                 |14.695014662756599|244335               |\n",
      "|004            |Graslin               |11.803511705685619|354025               |\n",
      "|047            |Les Nefs              |14.728314238952537|125370               |\n",
      "|017            |CHU 1                 |13.060329067641682|279160               |\n",
      "|003            |Tour Bretagne         |10.803503427265804|378455               |\n",
      "|034            |Gare Sud 4            |15.884244372990354|175000               |\n",
      "|029            |Bellamy               |8.311460258780038 |344470               |\n",
      "|037            |Gloriette 2           |12.769730733519035|304185               |\n",
      "+---------------+----------------------+------------------+---------------------+\n",
      "only showing top 20 rows\n",
      "\n"
     ]
    },
    {
     "name": "stderr",
     "output_type": "stream",
     "text": [
      "                                                                                \r"
     ]
    }
   ],
   "source": [
    "parking_velos_deficit = (\n",
    "    df_parking.alias(\"parking\")\n",
    "    .filter(F.col(\"grp_complet\") != 1)\n",
    "    .join(\n",
    "         df_velos.alias(\"velo\"),\n",
    "         (F.abs(F.col(\"parking.location.lon\") - F.col(\"velo.position.lon\")) <= 0.01) &\n",
    "         (F.abs(F.col(\"parking.location.lat\") - F.col(\"velo.position.lat\")) <= 0.01)\n",
    "    )\n",
    "    .withColumn(\"bike_deficit\", F.col(\"velo.bike_stands\") - F.col(\"velo.available_bikes\"))\n",
    "    .groupBy(\"parking.grp_identifiant\", \"parking.grp_nom\")\n",
    "    .agg(\n",
    "         F.avg(\"bike_deficit\").alias(\"avg_bike_deficit\"),\n",
    "         F.sum(\"velo.available_bikes\").alias(\"total_available_bikes\")\n",
    "    )\n",
    ")\n",
    "\n",
    "parking_velos_deficit.show(truncate=False)\n"
   ]
  },
  {
   "cell_type": "code",
   "execution_count": null,
   "metadata": {},
   "outputs": [
    {
     "name": "stderr",
     "output_type": "stream",
     "text": [
      "25/02/18 22:29:55 WARN AdminClientConfig: These configurations '[key.deserializer, value.deserializer, enable.auto.commit, max.poll.records, auto.offset.reset]' were supplied but are not used yet.\n",
      "25/02/18 22:29:55 WARN AdminClientConfig: These configurations '[key.deserializer, value.deserializer, enable.auto.commit, max.poll.records, auto.offset.reset]' were supplied but are not used yet.\n",
      "                                                                                \r"
     ]
    },
    {
     "data": {
      "image/png": "[encoded data removed]",
      "text/plain": [
       "<Figure size 1000x600 with 1 Axes>"
      ]
     },
     "metadata": {},
     "output_type": "display_data"
    },
    {
     "name": "stderr",
     "output_type": "stream",
     "text": [
      "25/02/18 22:41:36 WARN JavaUtils: Attempt to delete using native Unix OS command failed for path = /tmp/blockmgr-4b4b86b7-13c2-4219-939d-d80f72d0f1ea. Falling back to Java IO way\n",
      "java.io.IOException: Failed to delete: /tmp/blockmgr-4b4b86b7-13c2-4219-939d-d80f72d0f1ea\n",
      "\tat org.apache.spark.network.util.JavaUtils.deleteRecursivelyUsingUnixNative(JavaUtils.java:174)\n",
      "\tat org.apache.spark.network.util.JavaUtils.deleteRecursively(JavaUtils.java:109)\n",
      "\tat org.apache.spark.network.util.JavaUtils.deleteRecursively(JavaUtils.java:90)\n",
      "\tat org.apache.spark.util.SparkFileUtils.deleteRecursively(SparkFileUtils.scala:121)\n",
      "\tat org.apache.spark.util.SparkFileUtils.deleteRecursively$(SparkFileUtils.scala:120)\n",
      "\tat org.apache.spark.util.Utils$.deleteRecursively(Utils.scala:1126)\n",
      "\tat org.apache.spark.storage.DiskBlockManager.$anonfun$doStop$1(DiskBlockManager.scala:368)\n",
      "\tat org.apache.spark.storage.DiskBlockManager.$anonfun$doStop$1$adapted(DiskBlockManager.scala:364)\n",
      "\tat scala.collection.IndexedSeqOptimized.foreach(IndexedSeqOptimized.scala:36)\n",
      "\tat scala.collection.IndexedSeqOptimized.foreach$(IndexedSeqOptimized.scala:33)\n",
      "\tat scala.collection.mutable.ArrayOps$ofRef.foreach(ArrayOps.scala:198)\n",
      "\tat org.apache.spark.storage.DiskBlockManager.doStop(DiskBlockManager.scala:364)\n",
      "\tat org.apache.spark.storage.DiskBlockManager.stop(DiskBlockManager.scala:359)\n",
      "\tat org.apache.spark.storage.BlockManager.stop(BlockManager.scala:2120)\n",
      "\tat org.apache.spark.SparkEnv.stop(SparkEnv.scala:95)\n",
      "\tat org.apache.spark.SparkContext.$anonfun$stop$25(SparkContext.scala:2305)\n",
      "\tat org.apache.spark.util.Utils$.tryLogNonFatalError(Utils.scala:1375)\n",
      "\tat org.apache.spark.SparkContext.stop(SparkContext.scala:2305)\n",
      "\tat org.apache.spark.SparkContext.stop(SparkContext.scala:2211)\n",
      "\tat org.apache.spark.SparkContext.$anonfun$new$34(SparkContext.scala:681)\n",
      "\tat org.apache.spark.util.SparkShutdownHook.run(ShutdownHookManager.scala:214)\n",
      "\tat org.apache.spark.util.SparkShutdownHookManager.$anonfun$runAll$2(ShutdownHookManager.scala:188)\n",
      "\tat scala.runtime.java8.JFunction0$mcV$sp.apply(JFunction0$mcV$sp.java:23)\n",
      "\tat org.apache.spark.util.Utils$.logUncaughtExceptions(Utils.scala:1928)\n",
      "\tat org.apache.spark.util.SparkShutdownHookManager.$anonfun$runAll$1(ShutdownHookManager.scala:188)\n",
      "\tat scala.runtime.java8.JFunction0$mcV$sp.apply(JFunction0$mcV$sp.java:23)\n",
      "\tat scala.util.Try$.apply(Try.scala:213)\n",
      "\tat org.apache.spark.util.SparkShutdownHookManager.runAll(ShutdownHookManager.scala:188)\n",
      "\tat org.apache.spark.util.SparkShutdownHookManager$$anon$2.run(ShutdownHookManager.scala:178)\n",
      "\tat java.base/java.util.concurrent.Executors$RunnableAdapter.call(Executors.java:539)\n",
      "\tat java.base/java.util.concurrent.FutureTask.run(FutureTask.java:264)\n",
      "\tat java.base/java.util.concurrent.ThreadPoolExecutor.runWorker(ThreadPoolExecutor.java:1136)\n",
      "\tat java.base/java.util.concurrent.ThreadPoolExecutor$Worker.run(ThreadPoolExecutor.java:635)\n",
      "\tat java.base/java.lang.Thread.run(Thread.java:840)\n"
     ]
    }
   ],
   "source": [
    "relays_efficiency = (\n",
    "    df_relais.alias(\"rel\")\n",
    "    .join(\n",
    "         df_velos.alias(\"velo\"),\n",
    "         (F.abs(F.col(\"rel.location.lon\") - F.col(\"velo.position.lon\")) <= 0.01) &\n",
    "         (F.abs(F.col(\"rel.location.lat\") - F.col(\"velo.position.lat\")) <= 0.01)\n",
    "    )\n",
    "    .withColumn(\"bike_efficiency\", F.col(\"velo.available_bikes\") / F.col(\"velo.bike_stands\"))\n",
    "    .groupBy(\"rel.grp_nom\")\n",
    "    .agg(F.avg(\"bike_efficiency\").alias(\"avg_bike_efficiency\"))\n",
    ")\n",
    "\n",
    "# Convert to Pandas for plotting\n",
    "relays_efficiency_pd = relays_efficiency.toPandas()\n",
    "\n",
    "# Example visualization using seaborn and matplotlib\n",
    "import seaborn as sns\n",
    "import matplotlib.pyplot as plt\n",
    "\n",
    "plt.figure(figsize=(10, 6))\n",
    "sns.barplot(data=relays_efficiency_pd, x=\"grp_nom\", y=\"avg_bike_efficiency\")\n",
    "plt.title(\"Average Bike Efficiency by Relais Station\")\n",
    "plt.xlabel(\"Relais Station Name\")\n",
    "plt.ylabel(\"Average Bike Efficiency (Available/Bike Stands)\")\n",
    "plt.xticks(rotation=45)\n",
    "plt.tight_layout()\n",
    "plt.show()\n"
   ]
  }
 ],
 "metadata": {
  "kernelspec": {
   "display_name": "Python 3 (ipykernel)",
   "language": "python",
   "name": "python3"
  },
  "language_info": {
   "codemirror_mode": {
    "name": "ipython",
    "version": 3
   },
   "file_extension": ".py",
   "mimetype": "text/x-python",
   "name": "python",
   "nbconvert_exporter": "python",
   "pygments_lexer": "ipython3",
   "version": "3.12.8"
  }
 },
 "nbformat": 4,
 "nbformat_minor": 2
}
